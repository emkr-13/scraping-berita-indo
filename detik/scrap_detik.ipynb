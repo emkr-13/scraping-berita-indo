{
 "cells": [
  {
   "cell_type": "markdown",
   "metadata": {},
   "source": [
    "## Scraping Detik"
   ]
  },
  {
   "cell_type": "code",
   "execution_count": 1,
   "metadata": {},
   "outputs": [],
   "source": [
    "from bs4 import BeautifulSoup\n",
    "import requests\n",
    "import pandas as pd\n",
    "from datetime import datetime"
   ]
  },
  {
   "cell_type": "code",
   "execution_count": 2,
   "metadata": {},
   "outputs": [
    {
     "data": {
      "text/plain": [
       "<Response [200]>"
      ]
     },
     "execution_count": 2,
     "metadata": {},
     "output_type": "execute_result"
    }
   ],
   "source": [
    "url = \"https://news.detik.com/index\"\n",
    "response = requests.get(url)\n",
    "response\n"
   ]
  },
  {
   "cell_type": "code",
   "execution_count": 3,
   "metadata": {},
   "outputs": [
    {
     "name": "stdout",
     "output_type": "stream",
     "text": [
      "['https://news.detik.com/berita/d-6948368/pria-di-kota-batu-gantung-diri-usai-tusuk-istri-siri', 'https://news.detik.com/berita/d-6948286/kabar-terbaru-kasus-ibu-anak-tinggal-kerangka-di-depok-29-saksi-diperiksa', 'https://news.detik.com/pemilu/d-6948333/psi-gelar-kopdarnas-besok-bahas-usulan-kaesang-jadi-ketum', 'https://news.detik.com/berita/d-6948188/polisi-ungkap-sopir-truk-di-kecelakaan-maut-di-tol-bawen-cuma-punya-sim-a', 'https://news.detik.com/pemilu/d-6948243/grace-natalie-soal-isu-kaesang-ketum-psi-semua-yang-baik-mohon-doanya', 'https://news.detik.com/pemilu/d-6948543/kata-ketua-kpu-soal-usulan-pilkada-dipercepat-jadi-september-2024', 'https://news.detik.com/pemilu/d-6948490/pdip-depok-soal-kaesang-masuk-psi-apalah-arti-nama-besar-jika-tak-kerja', 'https://news.detik.com/berita/d-6948556/tentang-hari-kesadaran-ataksia-internasional-25-september-2023', 'https://news.detik.com/pemilu/d-6948543/kata-ketua-kpu-soal-usulan-pilkada-dipercepat-jadi-september-2024', 'https://news.detik.com/berita/d-6948539/menanti-uji-coba-kereta-cepat-whoosh-tahap-dua', 'https://news.detik.com/berita/d-6948507/ditinggal-di-motor-bocah-di-tangerang-tewas-terlindas-truk-usai-terjatuh', 'https://news.detik.com/berita/d-6948496/ppp-suarakan-pentingnya-keselamatan-berkendara-di-jalan-raya', 'https://news.detik.com/pemilu/d-6948494/ganjar-dan-elite-pdip-menyikapi-kaesang-yang-pilih-gabung-psi', 'https://20.detik.com/detikupdate/20230924-230924092/geger-kotak-suara-pilkades-di-tangerang-keluarkan-asap', 'https://news.detik.com/pemilu/d-6948490/pdip-depok-soal-kaesang-masuk-psi-apalah-arti-nama-besar-jika-tak-kerja', 'https://20.detik.com/detikupdate/20230924-230924090/santri-milenial-pati-dukung-gibran-maju-jadi-bacawapres-di-pilpres-2024', 'https://news.detik.com/berita/d-6948477/terungkap-awal-mula-wni-diculik-hingga-disiksa-di-malaysia', 'https://news.detik.com/internasional/d-6948457/bom-bunuh-diri-terjadi-di-somalia-13-orang-tewas', 'https://news.detik.com/berita/d-6948437/gempa-m-33-guncang-lebong-bengkulu-berpusat-di-darat', 'https://news.detik.com/pemilu/d-6948432/komunikasi-intens-pa-212-ke-habib-rizieq-sebelum-putuskan-arah-2024', 'https://news.detik.com/foto-news/d-6948386/momen-hasyim-asyari-melantik-anggota-kpu', 'https://news.detik.com/pemilu/d-6948423/di-kantor-muhammadiyah-sulsel-cak-imin-ungkap-kisah-dipinang-anies', 'https://news.detik.com/pemilu/d-6948411/ketua-kpu-anggaran-pilpres-2024-rp-766-t-termasuk-putaran-kedua', 'https://news.detik.com/berita/d-6948393/jasa-raharja-jamin-santunan-korban-kecelakaan-truk-di-exit-tol-bawen', 'https://news.detik.com/internasional/d-6948385/gestur-israel-saat-perdamaian-bersejarah-dengan-saudi-kian-dekat', 'https://news.detik.com/berita/d-6948368/pria-di-kota-batu-gantung-diri-usai-tusuk-istri-siri', 'https://20.detik.com/detikupdate/20230924-230924081/kronologi-tewasnya-walpri-kapolda-kaltara-hingga-kapolri-janji-transparan', 'https://news.detik.com/internasional/d-6948353/30-orang-bersenjata-dikepung-usai-satu-polisi-tewas-di-kosovo', 'https://news.detik.com/berita/d-6948341/kemenlu-ungkap-wni-yang-diculik-di-malaysia-masih-dalam-proses-pemulihan', 'https://news.detik.com/berita/d-6948334/genjot-kualitas-sdm-relawan-ganjar-gelar-pelatihan-di-jateng--jabar', 'https://news.detik.com/pemilu/d-6948333/psi-gelar-kopdarnas-besok-bahas-usulan-kaesang-jadi-ketum', 'https://news.detik.com/internasional/d-6948332/as-bakal-jadi-tuan-rumah-pertemuan-negara-kepulauan-pasifik', 'https://news.detik.com/berita/d-6948286/kabar-terbaru-kasus-ibu-anak-tinggal-kerangka-di-depok-29-saksi-diperiksa', 'https://news.detik.com/pemilu/d-6948285/relawan-anies-di-jakut-deklarasi-dukung-anies-maju-capres-2024', 'https://news.detik.com/pemilu/d-6948277/anies-tanggapi-usul-prabowo-soal-makam-diponegoro-gerindra-menjawab', 'https://news.detik.com/berita/d-6948266/polisi-gerebek-6-kelompok-gangster-di-depok-5-orang-diamankan', 'https://news.detik.com/pemilu/d-6948259/ganjar-silaturahmi--dialog-dengan-para-tokoh-lintas-agama-di-tangerang', 'https://news.detik.com/pemilu/d-6948243/grace-natalie-soal-isu-kaesang-ketum-psi-semua-yang-baik-mohon-doanya', 'https://news.detik.com/berita/d-6948233/10-link-twibbon-hari-apoteker-sedunia-25-september-2023', 'https://news.detik.com/berita/d-6948224/imbauan-pj-bupati-flores-timur-soal-tak-makan-nasi-tiap-jumat-tuai-kritik', 'https://news.detik.com/internasional/d-6948192/kelompok-bersenjata-serang-desa-di-kosovo-satu-polisi-tewas', 'https://news.detik.com/foto-news/d-6947928/ldii-dki-gelar-festival-akbar-generus-2023', 'https://news.detik.com/berita/d-6948188/polisi-ungkap-sopir-truk-di-kecelakaan-maut-di-tol-bawen-cuma-punya-sim-a', 'https://news.detik.com/berita/d-6948175/kronologi-perempuan-wni-diculik-hingga-disiksa-10-hari-di-malaysia', 'https://news.detik.com/berita/d-6948166/12-remaja-di-jakbar-diamankan-saat-hendak-tawuran-celurit-golok-disita', 'https://20.detik.com/detikupdate/20230924-230924075/projo-gorontalo-usung-prabowo-gibran-duet-di-pilpres-2024', 'https://news.detik.com/foto-news/d-6948150/foto-udara-olah-tkp-kecelakaan-beruntun-di-bawen', 'https://news.detik.com/pemilu/d-6948159/momen-ultah-cak-imin-dirayakan-di-tengah-warga-makassar-yang-menyemut', 'https://20.detik.com/detikupdate/20230924-230924072/girangnya-bule-di-bali-bisa-bertemu-foto-bareng-jokowi', 'https://news.detik.com/berita/d-6948134/marak-pencurian-modus-geser-tas-di-jaksel-ini-imbauan-polisi', 'https://news.detik.com/pemilu/d-6948119/pa-212-siapkan-ijtima-ulama-ambil-keputusan-pilpres-2024', 'https://news.detik.com/foto-news/d-6947918/pipa-pam-bocor-di-petamburan-diperbaiki-air-sudah-surut', 'https://news.detik.com/berita/d-6948099/warga-banjar-tewas-ditusuk-menantu-bule-asal-amerika', 'https://news.detik.com/internasional/d-6948098/filipina-kutuk-keras-penghalang-apung-china-di-laut-cina-selatan', 'https://news.detik.com/berita/d-6948086/hadiri-silatnas-iv-mta-di-solo-zulhas-menteri-perdagangan-menterinya-mta', 'https://news.detik.com/berita/d-6948055/propam-polri-diturunkan-bantu-usut-kasus-tewasnya-walpri-kapolda-kaltara', 'https://20.detik.com/detikupdate/20230924-230924067/4-fakta-kecelakaan-maut-di-exit-tol-bawen-semarang', 'https://www.detik.com/tag/pilpres-2024', 'https://www.detik.com/tag/detikcom-awards', 'https://www.detik.com/tag/soedirman-awards', 'https://www.detik.com/tag/kaesang-pangarep', 'https://news.detik.com/pemilu/d-6948494/ganjar-dan-elite-pdip-menyikapi-kaesang-yang-pilih-gabung-psi', 'https://news.detik.com/berita/d-6948507/ditinggal-di-motor-bocah-di-tangerang-tewas-terlindas-truk-usai-terjatuh', 'https://news.detik.com/pemilu/d-6948490/pdip-depok-soal-kaesang-masuk-psi-apalah-arti-nama-besar-jika-tak-kerja', 'https://news.detik.com/berita/d-6948477/terungkap-awal-mula-wni-diculik-hingga-disiksa-di-malaysia', 'https://news.detik.com/pemilu/d-6948432/komunikasi-intens-pa-212-ke-habib-rizieq-sebelum-putuskan-arah-2024', 'https://news.detik.com/pemilu/d-6937160/pengamat-sebut-pelan-tapi-pasti-massa-nu-akan-solid-dukung-anies-muhaimin', 'https://news.detik.com/pemilu/d-6937328/ganjar-di-ui-soal-marak-tka-china-kita-usir-tapi-kamu-bisa-gantikan-nggak', 'https://news.detik.com/pemilu/d-6940348/pdip-soal-isu-prabowo-tampar-wamen-di-rapat-tak-ada-asap-tanpa-api']\n"
     ]
    }
   ],
   "source": [
    "links=[]\n",
    "# jumlah Page yang diambil \n",
    "jumlah_index = 1\n",
    "\n",
    "for index in range(jumlah_index):\n",
    "    url = f\"https://news.detik.com/index/{index+1}\"  \n",
    "    response = requests.get(url)\n",
    "    soup = BeautifulSoup(response.text, \"html.parser\")\n",
    "    articles = soup.find_all('article', {\"class\": \"list-content__item\"})\n",
    "    \n",
    "    for article in articles:\n",
    "        link = article.find('a')['href']\n",
    "        links.append(link)\n",
    "    \n",
    "print(links)"
   ]
  },
  {
   "cell_type": "code",
   "execution_count": 4,
   "metadata": {},
   "outputs": [],
   "source": [
    "title = []\n",
    "author = []\n",
    "date = []\n",
    "content = []\n",
    "\n",
    "for link in links:\n",
    "    url = link\n",
    "    response = requests.get(url)\n",
    "    soup = BeautifulSoup(response.text, \"html.parser\")\n",
    "    \n",
    "    title_elem = soup.find('h1', {\"class\": \"detail__title\"})\n",
    "    if title_elem:\n",
    "        title_text = title_elem.text.strip()\n",
    "    else:\n",
    "        title_text = \"Title not found\"\n",
    "    title.append(title_text)\n",
    "    \n",
    "\n",
    "    author_elem = soup.find('div', {\"class\": \"detail__author\"})\n",
    "    if author_elem:\n",
    "        author_text = author_elem.text.strip()\n",
    "    else:\n",
    "        author_text = \"Author not found\"\n",
    "    author.append(author_text)\n",
    "    \n",
    "\n",
    "    date_elem = soup.find('div', {\"class\": \"detail__date\"})\n",
    "    if date_elem:\n",
    "        date_text = date_elem.text.strip()\n",
    "    else:\n",
    "        date_text = \"Date not found\"\n",
    "    date.append(date_text)\n",
    "    \n",
    "    body_elem = soup.find('div', {\"class\": \"detail__body\"})\n",
    "    \n",
    "    if body_elem:\n",
    "        content_elem = body_elem.find_all('p')\n",
    "        content_text = \"\"\n",
    "        for p in content_elem:\n",
    "            content_text += p.text.strip() + \"\\n\"\n",
    "        \n",
    "        if content_text.strip():\n",
    "            content.append(content_text)\n",
    "        else:\n",
    "            content.append(\"Content not found\")\n",
    "    else:\n",
    "        content.append(\"Content not found\")\n",
    "    \n",
    "    "
   ]
  },
  {
   "cell_type": "code",
   "execution_count": 5,
   "metadata": {},
   "outputs": [
    {
     "data": {
      "text/html": [
       "<div>\n",
       "<style scoped>\n",
       "    .dataframe tbody tr th:only-of-type {\n",
       "        vertical-align: middle;\n",
       "    }\n",
       "\n",
       "    .dataframe tbody tr th {\n",
       "        vertical-align: top;\n",
       "    }\n",
       "\n",
       "    .dataframe thead th {\n",
       "        text-align: right;\n",
       "    }\n",
       "</style>\n",
       "<table border=\"1\" class=\"dataframe\">\n",
       "  <thead>\n",
       "    <tr style=\"text-align: right;\">\n",
       "      <th></th>\n",
       "      <th>title</th>\n",
       "      <th>author</th>\n",
       "      <th>date</th>\n",
       "      <th>content</th>\n",
       "      <th>link</th>\n",
       "    </tr>\n",
       "  </thead>\n",
       "  <tbody>\n",
       "    <tr>\n",
       "      <th>0</th>\n",
       "      <td>Pria di Kota Batu Gantung Diri Usai Tusuk Istr...</td>\n",
       "      <td>M Bagus Ibrahim - detikNews</td>\n",
       "      <td>Minggu, 24 Sep 2023 19:41 WIB</td>\n",
       "      <td>Informasi berikut ini tidak ditujukan untuk me...</td>\n",
       "      <td>https://news.detik.com/berita/d-6948368/pria-d...</td>\n",
       "    </tr>\n",
       "    <tr>\n",
       "      <th>1</th>\n",
       "      <td>Kabar Terbaru Kasus Ibu-Anak Tinggal Kerangka ...</td>\n",
       "      <td>Devi Puspitasari - detikNews</td>\n",
       "      <td>Minggu, 24 Sep 2023 18:32 WIB</td>\n",
       "      <td>Polisi masih menyelidiki kasus ibu bernama Gra...</td>\n",
       "      <td>https://news.detik.com/berita/d-6948286/kabar-...</td>\n",
       "    </tr>\n",
       "    <tr>\n",
       "      <th>2</th>\n",
       "      <td>PSI Gelar Kopdarnas Besok, Bahas Usulan Kaesan...</td>\n",
       "      <td>Eva Safitri - detikNews</td>\n",
       "      <td>Minggu, 24 Sep 2023 19:02 WIB</td>\n",
       "      <td>Partai Solidaritas Indonesia (PSI) mengungkap ...</td>\n",
       "      <td>https://news.detik.com/pemilu/d-6948333/psi-ge...</td>\n",
       "    </tr>\n",
       "    <tr>\n",
       "      <th>3</th>\n",
       "      <td>Polisi Ungkap Sopir Truk di Kecelakaan Maut di...</td>\n",
       "      <td>Afzal Nur Iman - detikNews</td>\n",
       "      <td>Minggu, 24 Sep 2023 16:57 WIB</td>\n",
       "      <td>Polisi saat ini tengah memeriksa sopir dan ker...</td>\n",
       "      <td>https://news.detik.com/berita/d-6948188/polisi...</td>\n",
       "    </tr>\n",
       "    <tr>\n",
       "      <th>4</th>\n",
       "      <td>Grace Natalie soal Isu Kaesang Ketum PSI: Semu...</td>\n",
       "      <td>Eva Safitri - detikNews</td>\n",
       "      <td>Minggu, 24 Sep 2023 17:42 WIB</td>\n",
       "      <td>Mencuat kabar putra bungsu Presiden Joko Widod...</td>\n",
       "      <td>https://news.detik.com/pemilu/d-6948243/grace-...</td>\n",
       "    </tr>\n",
       "  </tbody>\n",
       "</table>\n",
       "</div>"
      ],
      "text/plain": [
       "                                               title  \\\n",
       "0  Pria di Kota Batu Gantung Diri Usai Tusuk Istr...   \n",
       "1  Kabar Terbaru Kasus Ibu-Anak Tinggal Kerangka ...   \n",
       "2  PSI Gelar Kopdarnas Besok, Bahas Usulan Kaesan...   \n",
       "3  Polisi Ungkap Sopir Truk di Kecelakaan Maut di...   \n",
       "4  Grace Natalie soal Isu Kaesang Ketum PSI: Semu...   \n",
       "\n",
       "                         author                           date  \\\n",
       "0   M Bagus Ibrahim - detikNews  Minggu, 24 Sep 2023 19:41 WIB   \n",
       "1  Devi Puspitasari - detikNews  Minggu, 24 Sep 2023 18:32 WIB   \n",
       "2       Eva Safitri - detikNews  Minggu, 24 Sep 2023 19:02 WIB   \n",
       "3    Afzal Nur Iman - detikNews  Minggu, 24 Sep 2023 16:57 WIB   \n",
       "4       Eva Safitri - detikNews  Minggu, 24 Sep 2023 17:42 WIB   \n",
       "\n",
       "                                             content  \\\n",
       "0  Informasi berikut ini tidak ditujukan untuk me...   \n",
       "1  Polisi masih menyelidiki kasus ibu bernama Gra...   \n",
       "2  Partai Solidaritas Indonesia (PSI) mengungkap ...   \n",
       "3  Polisi saat ini tengah memeriksa sopir dan ker...   \n",
       "4  Mencuat kabar putra bungsu Presiden Joko Widod...   \n",
       "\n",
       "                                                link  \n",
       "0  https://news.detik.com/berita/d-6948368/pria-d...  \n",
       "1  https://news.detik.com/berita/d-6948286/kabar-...  \n",
       "2  https://news.detik.com/pemilu/d-6948333/psi-ge...  \n",
       "3  https://news.detik.com/berita/d-6948188/polisi...  \n",
       "4  https://news.detik.com/pemilu/d-6948243/grace-...  "
      ]
     },
     "execution_count": 5,
     "metadata": {},
     "output_type": "execute_result"
    }
   ],
   "source": [
    "data = {'title': title,\n",
    "        'author' : author,\n",
    "        'date': date,\n",
    "        'content' : content,\n",
    "        'link' : links\n",
    "        }\n",
    "\n",
    "df = pd.DataFrame(data)\n",
    "\n",
    "df.head()"
   ]
  },
  {
   "cell_type": "markdown",
   "metadata": {},
   "source": [
    "Cetak Simpan Data"
   ]
  },
  {
   "cell_type": "code",
   "execution_count": 6,
   "metadata": {},
   "outputs": [
    {
     "name": "stdout",
     "output_type": "stream",
     "text": [
      "Data has been saved to ./excel/detik_2023-09-24_23-17-36.xlsx\n"
     ]
    }
   ],
   "source": [
    "current_datetime = datetime.now().strftime(\"%Y-%m-%d_%H-%M-%S\")\n",
    "excel_file_name = f'./excel/detik_{current_datetime}.xlsx'\n",
    "df.to_excel(excel_file_name, index=False)\n",
    "\n",
    "print(f'Data has been saved to {excel_file_name}')"
   ]
  },
  {
   "cell_type": "code",
   "execution_count": null,
   "metadata": {},
   "outputs": [],
   "source": []
  }
 ],
 "metadata": {
  "kernelspec": {
   "display_name": "base",
   "language": "python",
   "name": "python3"
  },
  "language_info": {
   "codemirror_mode": {
    "name": "ipython",
    "version": 3
   },
   "file_extension": ".py",
   "mimetype": "text/x-python",
   "name": "python",
   "nbconvert_exporter": "python",
   "pygments_lexer": "ipython3",
   "version": "3.11.4"
  },
  "orig_nbformat": 4
 },
 "nbformat": 4,
 "nbformat_minor": 2
}
