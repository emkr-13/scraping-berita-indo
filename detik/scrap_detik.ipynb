{
 "cells": [
  {
   "cell_type": "markdown",
   "metadata": {},
   "source": [
    "## Scraping Detik"
   ]
  },
  {
   "cell_type": "code",
   "execution_count": 13,
   "metadata": {},
   "outputs": [],
   "source": [
    "from bs4 import BeautifulSoup\n",
    "import requests\n",
    "import pandas as pd\n",
    "from datetime import datetime"
   ]
  },
  {
   "cell_type": "code",
   "execution_count": 14,
   "metadata": {},
   "outputs": [
    {
     "data": {
      "text/plain": [
       "<Response [200]>"
      ]
     },
     "execution_count": 14,
     "metadata": {},
     "output_type": "execute_result"
    }
   ],
   "source": [
    "url = \"https://news.detik.com/index\"\n",
    "response = requests.get(url)\n",
    "response\n"
   ]
  },
  {
   "cell_type": "code",
   "execution_count": 15,
   "metadata": {},
   "outputs": [
    {
     "name": "stdout",
     "output_type": "stream",
     "text": [
      "['https://news.detik.com/internasional/d-6948861/geger-bom-era-perang-dunia-ii-ditemukan-di-singapura', 'https://news.detik.com/detiknews/d-6948859/siskaeee-ngaku-deg-degan-diperiksa-perdana-terkait-film-porno-di-jaksel', 'https://news.detik.com/detiknews/d-6948857/bejatnya-6-pemuda-bengkulu-perkosa-teman-sendiri-di-hutan-kota', 'https://news.detik.com/berita/d-6948850/kpk-cecar-istri-mertua-andhi-pramono-soal-aset-hingga-aliran-duit-gratifikasi', 'https://news.detik.com/berita/d-6948848/syarief-hasan-gelar-pengobatan-gratis-dan-senam-massal-di-cianjur', 'https://news.detik.com/berita/d-6948846/cerita-andy-terkena-macet-30-menit-di-tb-simatupang-arah-condet-pagi-ini', 'https://news.detik.com/detiknews/d-6948823/siskaeee-penuhi-panggilan-polisi-soal-film-porno-ini-penampilannya', 'https://20.detik.com/detikupdate/20230925-230925053/ngeri-jasad-wanita-ditemukan-di-rahang-buaya-di-florida', 'https://news.detik.com/berita/d-6948814/perjalanan-krl-bogor-jakarta-kota-terhambat-pagi-ini-kci-minta-maaf', 'https://news.detik.com/detiknews/d-6948807/misteri-perkara-sepele-pemicu-bule-amerika-tusuk-mertua-di-banjar', 'https://20.detik.com/detikupdate/20230925-230925055/kebakaran-pabrik-cokelat-di-tangerang-12-unit-mobil-damkar-dikerahkan', 'https://news.detik.com/detiknews/d-6948802/siskaeee-diperiksa-polisi-soal-film-porno-di-jaksel-hari-ini', 'https://news.detik.com/internasional/d-6948797/tegang-nelayan-filipina-dikejar-kapal-china-di-laut-china-selatan', 'https://news.detik.com/foto-news/d-6948772/melihat-pameran-foto-selayang-minang', 'https://news.detik.com/kolom/d-6948787/duet-anies-muhaimin-dwi-tunggal-pemimpin-kolaboratif-dan-semangat-perubahan', 'https://news.detik.com/berita/d-6948780/apakah-janji-politik-bisa-digugat-ke-pengadilan', 'https://news.detik.com/pemilu/d-6948771/psi-gelar-kopdarnas-bahas-kaesang-jadi-ketum-hari-ini', 'https://news.detik.com/berita/d-6948763/pabrik-cokelat-di-tangerang-kebakaran', 'https://news.detik.com/pemilu/d-6948756/pan-soal-rencana-ijtima-ulama-pa-212-dukungan-ulama-tak-tunggal', 'https://news.detik.com/foto-news/d-6948552/melihat-perawatan-rutin-kereta-api-di-depo-lokomotif-balapan-solo', 'https://20.detik.com/detikupdate/20230925-230925051/bom-bunuh-diri-meledak-di-somalia-18-orang-tewas', 'https://news.detik.com/pemilu/d-6948746/habiburokhman-prabowo-dan-koalisi-akan-bahas-usul-khofifah-ketua-timses', 'https://news.detik.com/pemilu/d-6948744/kilas-balik-giring-bicara-kembalikan-partai-usai-muncul-isu-kaesang-ketum', 'https://news.detik.com/berita/d-6948743/lalin-lenteng-agung-arah-pasar-minggu-jaksel-macet-pagi-ini', 'https://news.detik.com/pemilu/d-6948723/bawaslu-sosialisasi-larangan-asn-like-comment-dan-share-medsos-capres', 'https://news.detik.com/foto-news/d-6948852/komunitas-bajaj-jakarta-utara-deklarasi-dukung-ganjar', 'https://news.detik.com/berita/d-6948716/senin-pagi-lalin-kramat-jati-arah-cililitan-macet', 'https://news.detik.com/pemilu/d-6948714/jubir-psi-apapun-posisinya-kaesang-akan-bawa-kemajuan', 'https://news.detik.com/foto-news/d-6948548/intip-keseruan-balap-gledekan-nusantara-di-kendal', 'https://news.detik.com/pemilu/d-6948703/anies-dan-cak-imin-bicara-perubahan-di-makassar-ini-katanya', 'https://news.detik.com/berita/d-6948678/senin-pagi-lalin-di-tol-tangerang-arah-jakarta-macet-di-sejumlah-titik', 'https://20.detik.com/detikupdate/20230925-230925048/heboh-video-curhatan-tki-disekap-diborgol-di-kamboja', 'https://news.detik.com/detiknews/d-6948512/kecelakaan-truk-maut-exit-tol-bawen-semarang-hingga-konser-smtown-di-jakarta', 'https://news.detik.com/pemilu/d-6948671/pks-kritik-larangan-asn-like-share-medsos-capres-niat-baik-tapi-jadi-kaku', 'https://news.detik.com/berita/d-6948670/lalin-di-tol-japek-arah-jakarta-macet-ini-titik-titiknya', 'https://news.detik.com/pemilu/d-6948666/mencuat-nama-khofifah-di-bursa-calon-ketua-timses-prabowo', 'https://news.detik.com/detiknews/d-6948663/kecelakaan-beruntun-3-kendaraan-terjadi-di-km-40-tol-jagorawi', 'https://news.detik.com/berita/d-6948655/permendikbudristek-diharapkan-beri-rasa-aman-dari-kekerasan-di-sekolah', 'https://news.detik.com/pemilu/d-6948653/pa-212-siapkan-ijtima-ulama-ppp-singgung-kekalahan-di-pilpres-2019', 'https://news.detik.com/berita/d-6948651/perintah-kapolri-usut-tuntas-kasus-tewasnya-walpri-kapolda-kaltara', 'https://news.detik.com/berita/d-6948650/hari-tani-nasional-stafsus-menaker-bicara-soal-kesejahteraan-petani', 'https://news.detik.com/berita/d-6948649/gempa-m-42-terjadi-di-kabupaten-bandung', 'https://news.detik.com/detiknews/d-6948643/kiki-ucup-aulia-si-pencuri-perhatian-di-pestapora', 'https://news.detik.com/pemilu/d-6948637/kala-ridwan-kamil-ke-eropa-di-tengah-isu-bursa-cawapres-ganjar', 'https://news.detik.com/berita/d-6948630/proses-hukum-menanti-lettu-aap-soal-dugaan-kekerasan-seks-ke-bawahan', 'https://20.detik.com/detikupdate/20230925-230925046/ragam-respons-elite-pdip-soal-langkah-politik-kaesang-gabung-psi-', 'https://news.detik.com/pemilu/d-6948625/khofifah-dilirik-jadi-ketua-timses-prabowo-pkb-buka-suara', 'https://news.detik.com/pemilu/d-6948607/asn-dilarang-like-share-medsos-capres-legislator-jangan-tebang-pilih', 'https://20.detik.com/detikupdate/20230925-230925043/kelompok-bersenjata-serang-desa-di-kosovo-1-polisi-tewas-', 'https://news.detik.com/berita/d-6948602/gempa-m-41-guncang-sabang-aceh', 'https://news.detik.com/pemilu/d-6948596/mahfud-soal-gugatan-usia-cawapres-putusan-mk-bukan-yang-tak-disenangi', 'https://news.detik.com/berita/d-6948592/kapolresta-tangerang-jenguk-4-korban-luka-akibat-bentrokan-di-pasar-kuta-bumi', 'https://news.detik.com/internasional/d-6948587/kebakaran-tambang-batu-bara-di-guizhou-china-16-orang-tewas', 'https://news.detik.com/berita/d-6948580/bentrokan-di-pasar-kuta-bumi-tangerang-4-orang-terluka', 'https://20.detik.com/detikupdate/20230924-230924096/pns-dilarang-like-comment-hingga-follow-akun-kampanye', 'https://news.detik.com/berita/d-6948569/media-officer-madura-united-dikeroyok-otk-usai-laga-lawan-pss', 'https://news.detik.com/pemilu/d-6948566/jadi-cawapres-terkuat-ganjar-mahfud-biar-berproses-sajalah', 'https://news.detik.com/berita/d-6948556/tentang-hari-kesadaran-ataksia-internasional-25-september-2023', 'https://news.detik.com/pemilu/d-6948543/kata-ketua-kpu-soal-usulan-pilkada-dipercepat-jadi-september-2024', 'https://news.detik.com/berita/d-6948539/menanti-uji-coba-kereta-cepat-whoosh-tahap-dua']\n"
     ]
    }
   ],
   "source": [
    "links=[]\n",
    "# jumlah Page yang diambil \n",
    "jumlah_index = 3\n",
    "\n",
    "for index in range(jumlah_index):\n",
    "    url = f\"https://news.detik.com/indeks/{index+1}\"  \n",
    "    # print(url)\n",
    "    response = requests.get(url)\n",
    "    soup = BeautifulSoup(response.text, \"html.parser\")\n",
    "    articles = soup.find_all('article', {\"class\": \"list-content__item\"})\n",
    "    \n",
    "    for article in articles:\n",
    "        link = article.find('a')['href']\n",
    "        links.append(link)\n",
    "    \n",
    "print(links)"
   ]
  },
  {
   "cell_type": "code",
   "execution_count": 16,
   "metadata": {},
   "outputs": [],
   "source": [
    "title = []\n",
    "author = []\n",
    "date = []\n",
    "content = []\n",
    "\n",
    "for link in links:\n",
    "    url = link\n",
    "    response = requests.get(url)\n",
    "    soup = BeautifulSoup(response.text, \"html.parser\")\n",
    "    \n",
    "    title_elem = soup.find('h1', {\"class\": \"detail__title\"})\n",
    "    if title_elem:\n",
    "        title_text = title_elem.text.strip()\n",
    "    else:\n",
    "        title_text = \"Title not found\"\n",
    "    title.append(title_text)\n",
    "    \n",
    "\n",
    "    author_elem = soup.find('div', {\"class\": \"detail__author\"})\n",
    "    if author_elem:\n",
    "        author_text = author_elem.get_text()\n",
    "        author_text = author_text.split('-')[0].strip()\n",
    "    else:\n",
    "        author_text = \"Author not found\"\n",
    "    author.append(author_text)\n",
    "    \n",
    "\n",
    "    date_elem = soup.find('div', {\"class\": \"detail__date\"})\n",
    "    if date_elem:\n",
    "        date_text = date_elem.text.strip()\n",
    "        \n",
    "    else:\n",
    "        date_text = \"Date not found\"\n",
    "    date.append(date_text)\n",
    "    \n",
    "    body_elem = soup.find('div', {\"class\": \"detail__body\"})\n",
    "    \n",
    "    if body_elem:\n",
    "        content_elem = body_elem.find_all('p')\n",
    "        content_text = \"\"\n",
    "        for p in content_elem:\n",
    "            content_text += p.text.strip() + \"\\n\"\n",
    "        \n",
    "        if content_text.strip():\n",
    "            content.append(content_text)\n",
    "        else:\n",
    "            content.append(\"Content not found\")\n",
    "    else:\n",
    "        content.append(\"Content not found\")\n",
    "    \n",
    "    "
   ]
  },
  {
   "cell_type": "code",
   "execution_count": 17,
   "metadata": {},
   "outputs": [
    {
     "data": {
      "text/html": [
       "<div>\n",
       "<style scoped>\n",
       "    .dataframe tbody tr th:only-of-type {\n",
       "        vertical-align: middle;\n",
       "    }\n",
       "\n",
       "    .dataframe tbody tr th {\n",
       "        vertical-align: top;\n",
       "    }\n",
       "\n",
       "    .dataframe thead th {\n",
       "        text-align: right;\n",
       "    }\n",
       "</style>\n",
       "<table border=\"1\" class=\"dataframe\">\n",
       "  <thead>\n",
       "    <tr style=\"text-align: right;\">\n",
       "      <th></th>\n",
       "      <th>title</th>\n",
       "      <th>author</th>\n",
       "      <th>date</th>\n",
       "      <th>content</th>\n",
       "      <th>link</th>\n",
       "    </tr>\n",
       "  </thead>\n",
       "  <tbody>\n",
       "    <tr>\n",
       "      <th>0</th>\n",
       "      <td>Geger Bom Era Perang Dunia II Ditemukan di Sin...</td>\n",
       "      <td>Novi Christiastuti</td>\n",
       "      <td>Senin, 25 Sep 2023 10:19 WIB</td>\n",
       "      <td>Sebuah bom seberat 100 kilogram bekas Perang D...</td>\n",
       "      <td>https://news.detik.com/internasional/d-6948861...</td>\n",
       "    </tr>\n",
       "    <tr>\n",
       "      <th>1</th>\n",
       "      <td>Siskaeee Ngaku Deg-degan Diperiksa Perdana Ter...</td>\n",
       "      <td>Wildan Noviansah</td>\n",
       "      <td>Senin, 25 Sep 2023 10:17 WIB</td>\n",
       "      <td>Selebgram Siskaeee akhirnya memenuhi undangan ...</td>\n",
       "      <td>https://news.detik.com/detiknews/d-6948859/sis...</td>\n",
       "    </tr>\n",
       "    <tr>\n",
       "      <th>2</th>\n",
       "      <td>Bejatnya 6 Pemuda Bengkulu Perkosa Teman Sendi...</td>\n",
       "      <td>Tim detikSumbagsel</td>\n",
       "      <td>Senin, 25 Sep 2023 10:17 WIB</td>\n",
       "      <td>Gadis berusia 17 tahun di Bengkulu Selatan dip...</td>\n",
       "      <td>https://news.detik.com/detiknews/d-6948857/bej...</td>\n",
       "    </tr>\n",
       "    <tr>\n",
       "      <th>3</th>\n",
       "      <td>KPK Cecar Istri-Mertua Andhi Pramono soal Aset...</td>\n",
       "      <td>Yogi Ernes</td>\n",
       "      <td>Senin, 25 Sep 2023 10:16 WIB</td>\n",
       "      <td>KPK memeriksa sejumlah saksi terkait kasus gra...</td>\n",
       "      <td>https://news.detik.com/berita/d-6948850/kpk-ce...</td>\n",
       "    </tr>\n",
       "    <tr>\n",
       "      <th>4</th>\n",
       "      <td>Syarief Hasan Gelar Pengobatan Gratis dan Sena...</td>\n",
       "      <td>Hana Nushratu</td>\n",
       "      <td>Senin, 25 Sep 2023 10:14 WIB</td>\n",
       "      <td>Wakil Ketua MPR RI Sjarifuddin Hasan (Syarief ...</td>\n",
       "      <td>https://news.detik.com/berita/d-6948848/syarie...</td>\n",
       "    </tr>\n",
       "  </tbody>\n",
       "</table>\n",
       "</div>"
      ],
      "text/plain": [
       "                                               title              author  \\\n",
       "0  Geger Bom Era Perang Dunia II Ditemukan di Sin...  Novi Christiastuti   \n",
       "1  Siskaeee Ngaku Deg-degan Diperiksa Perdana Ter...    Wildan Noviansah   \n",
       "2  Bejatnya 6 Pemuda Bengkulu Perkosa Teman Sendi...  Tim detikSumbagsel   \n",
       "3  KPK Cecar Istri-Mertua Andhi Pramono soal Aset...          Yogi Ernes   \n",
       "4  Syarief Hasan Gelar Pengobatan Gratis dan Sena...       Hana Nushratu   \n",
       "\n",
       "                           date  \\\n",
       "0  Senin, 25 Sep 2023 10:19 WIB   \n",
       "1  Senin, 25 Sep 2023 10:17 WIB   \n",
       "2  Senin, 25 Sep 2023 10:17 WIB   \n",
       "3  Senin, 25 Sep 2023 10:16 WIB   \n",
       "4  Senin, 25 Sep 2023 10:14 WIB   \n",
       "\n",
       "                                             content  \\\n",
       "0  Sebuah bom seberat 100 kilogram bekas Perang D...   \n",
       "1  Selebgram Siskaeee akhirnya memenuhi undangan ...   \n",
       "2  Gadis berusia 17 tahun di Bengkulu Selatan dip...   \n",
       "3  KPK memeriksa sejumlah saksi terkait kasus gra...   \n",
       "4  Wakil Ketua MPR RI Sjarifuddin Hasan (Syarief ...   \n",
       "\n",
       "                                                link  \n",
       "0  https://news.detik.com/internasional/d-6948861...  \n",
       "1  https://news.detik.com/detiknews/d-6948859/sis...  \n",
       "2  https://news.detik.com/detiknews/d-6948857/bej...  \n",
       "3  https://news.detik.com/berita/d-6948850/kpk-ce...  \n",
       "4  https://news.detik.com/berita/d-6948848/syarie...  "
      ]
     },
     "execution_count": 17,
     "metadata": {},
     "output_type": "execute_result"
    }
   ],
   "source": [
    "data = {'title': title,\n",
    "        'author' : author,\n",
    "        'date': date,\n",
    "        'content' : content,\n",
    "        'link' : links\n",
    "        }\n",
    "\n",
    "df = pd.DataFrame(data)\n",
    "\n",
    "df.head()"
   ]
  },
  {
   "cell_type": "markdown",
   "metadata": {},
   "source": [
    "Cetak Simpan Data"
   ]
  },
  {
   "cell_type": "code",
   "execution_count": 18,
   "metadata": {},
   "outputs": [
    {
     "name": "stdout",
     "output_type": "stream",
     "text": [
      "Data has been saved to ./excel/detik_2023-09-25_10-25-09.xlsx\n"
     ]
    }
   ],
   "source": [
    "current_datetime = datetime.now().strftime(\"%Y-%m-%d_%H-%M-%S\")\n",
    "excel_file_name = f'./excel/detik_{current_datetime}.xlsx'\n",
    "df.to_excel(excel_file_name, index=False)\n",
    "\n",
    "print(f'Data has been saved to {excel_file_name}')"
   ]
  },
  {
   "cell_type": "code",
   "execution_count": 19,
   "metadata": {},
   "outputs": [
    {
     "name": "stdout",
     "output_type": "stream",
     "text": [
      "Wildan Noviansah\n"
     ]
    }
   ],
   "source": [
    "url = f\"https://news.detik.com/detiknews/d-6948823/siskaeee-penuhi-panggilan-polisi-soal-film-porno-ini-penampilannya\"  \n",
    "# print(url)\n",
    "response = requests.get(url)\n",
    "soup = BeautifulSoup(response.text, \"html.parser\")\n",
    "title_elem = soup.find('div', {\"class\": \"detail__author\"})\n",
    "author_text = title_elem.get_text()\n",
    "author_name = author_text.split('-')[0].strip()\n",
    "print(author_name)"
   ]
  },
  {
   "cell_type": "code",
   "execution_count": null,
   "metadata": {},
   "outputs": [],
   "source": []
  }
 ],
 "metadata": {
  "kernelspec": {
   "display_name": "base",
   "language": "python",
   "name": "python3"
  },
  "language_info": {
   "codemirror_mode": {
    "name": "ipython",
    "version": 3
   },
   "file_extension": ".py",
   "mimetype": "text/x-python",
   "name": "python",
   "nbconvert_exporter": "python",
   "pygments_lexer": "ipython3",
   "version": "3.11.4"
  },
  "orig_nbformat": 4
 },
 "nbformat": 4,
 "nbformat_minor": 2
}
