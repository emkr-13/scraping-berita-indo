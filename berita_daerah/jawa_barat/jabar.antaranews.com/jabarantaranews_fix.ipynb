{
 "cells": [
  {
   "cell_type": "code",
   "execution_count": 1,
   "metadata": {},
   "outputs": [],
   "source": [
    "import requests\n",
    "from bs4 import BeautifulSoup\n",
    "import datetime as dt\n",
    "import time\n",
    "from datetime import datetime\n",
    "from decouple import config\n",
    "from concurrent.futures import ThreadPoolExecutor\n",
    "import concurrent.futures"
   ]
  },
  {
   "cell_type": "code",
   "execution_count": 2,
   "metadata": {},
   "outputs": [],
   "source": [
    "def scrape_links_news(yesterday,date, keywords,page_number):\n",
    "    # date = dt.datetime.strptime(date, \"%Y-%m-%d\")\n",
    "    # formatted_date = date.strftime(\"%d-%m-%Y\")\n",
    "    # print(formatted_date)\n",
    "\n",
    "    # onedaybefore = date - dt.timedelta(days=1)\n",
    "    # onedayafter_str = onedaybefore.strftime(\"%d-%m-%Y\")\n",
    "    # print(onedayafter_str)\n",
    "\n",
    "    headers = {\n",
    "        'User-Agent': 'Mozilla/5.0 (Windows NT 10.0; Win64; x64) AppleWebKit/537.36 (KHTML, like Gecko) Chrome/117.0.0.0 Safari/537.36'\n",
    "    }\n",
    "    url = f\"https://jabar.antaranews.com/search?q={keywords}&startDate={yesterday}&endDate={date}&page={page_number}\"\n",
    "    response = requests.get(url, headers=headers)\n",
    "    soup = BeautifulSoup(response.text, \"html.parser\")\n",
    "    articles = soup.find_all('article',{\"class\": \"simple-post simple-big clearfix\"})\n",
    "\n",
    "    page_links = []\n",
    "    for article in articles:\n",
    "        link = article.find('a')['href']\n",
    "        page_links.append(link)\n",
    "    print(f\"data{page_number} and url {url}\")\n",
    "    # logger.success({\n",
    "    #     \"message\": f\"Scraped {len(page_links)} links from page {page_number} when {date}\"\n",
    "    #     })\n",
    "    \n",
    "    return page_links"
   ]
  },
  {
   "cell_type": "code",
   "execution_count": 3,
   "metadata": {},
   "outputs": [],
   "source": [
    "def scrape_link_per_day(date, keywords,max_threads=5):\n",
    "    page_number=1\n",
    "    page_links = None\n",
    "    date = dt.datetime.strptime(date, \"%Y-%m-%d\")\n",
    "    formatted_date = date.strftime(\"%d-%m-%Y\")\n",
    "    \n",
    "    yesterday = date - dt.timedelta(days=1)\n",
    "    yesterday = yesterday.strftime(\"%d-%m-%Y\")\n",
    "    \n",
    "    page_links= scrape_links_news(yesterday,formatted_date, keywords,page_number)\n",
    "\n",
    "\n",
    "    return page_links"
   ]
  },
  {
   "cell_type": "code",
   "execution_count": 4,
   "metadata": {},
   "outputs": [
    {
     "name": "stdout",
     "output_type": "stream",
     "text": [
      "data1 and url https://jabar.antaranews.com/search?q=jokowi&startDate=20-11-2023&endDate=21-11-2023&page=1\n"
     ]
    }
   ],
   "source": [
    "link=scrape_link_per_day(\"2023-11-21\",'jokowi')"
   ]
  },
  {
   "cell_type": "code",
   "execution_count": 5,
   "metadata": {},
   "outputs": [
    {
     "name": "stdout",
     "output_type": "stream",
     "text": [
      "['https://jabar.antaranews.com/berita/479715/presiden-jokowi-lepas-pengiriman-21-ton-bantuan-tahap-kedua-bagi-palestina']\n"
     ]
    }
   ],
   "source": [
    "print(link)"
   ]
  },
  {
   "cell_type": "code",
   "execution_count": 6,
   "metadata": {},
   "outputs": [],
   "source": [
    "def scrape_url(url,max_retries=2):\n",
    "    retries = 0\n",
    "    while retries < max_retries:\n",
    "            try:\n",
    "                headers = {\n",
    "                    'User-Agent': 'Mozilla/5.0 (Windows NT 10.0; Win64; x64) AppleWebKit/537.36 (KHTML, like Gecko) Chrome/117.0.0.0 Safari/537.36'\n",
    "                }\n",
    "                response = requests.get(url, headers=headers)\n",
    "                if response.status_code == 200:\n",
    "                    soup = BeautifulSoup(response.text, 'html.parser')\n",
    "\n",
    "                    # element Title \n",
    "                    title_elem = soup.find('h1',{\"class\": \"post-title\"})\n",
    "                    title_text = title_elem.text.strip() if title_elem else \"Title not found\"\n",
    "                    # element Date\n",
    "                    date_elem = soup.find('span', {\"class\": \"article-date\"})\n",
    "                    date_text = date_elem.text.strip() if date_elem else \"Date not found\"\n",
    "                    # locale.setlocale(locale.LC_TIME, 'en_US.UTF-8')\n",
    "                    month_names_id = {\n",
    "                        'Januari': 'January',\n",
    "                        'Februari': 'February',\n",
    "                        'Maret': 'March',\n",
    "                        'April': 'April',\n",
    "                        'Mei': 'May',\n",
    "                        'Juni': 'June',\n",
    "                        'Juli': 'July',\n",
    "                        'Agustus': 'August',\n",
    "                        'September': 'September',\n",
    "                        'Oktober': 'October',\n",
    "                        'November': 'November',\n",
    "                        'Desember': 'December',\n",
    "                    }\n",
    "                    for ind, eng in month_names_id.items():\n",
    "                            date_text = date_text.replace(ind, eng)\n",
    "                    day_names_id = {\n",
    "                                    'Senin': 'Monday',\n",
    "                                    'Selasa': 'Tuesday',\n",
    "                                    'Rabu': 'Wednesday',\n",
    "                                    'Kamis': 'Thursday',\n",
    "                                    'Jumat': 'Friday',\n",
    "                                    'Sabtu': 'Saturday',\n",
    "                                    'Minggu': 'Sunday'\n",
    "                                }\n",
    "                    for ind, eng in day_names_id.items():\n",
    "                                date_text = date_text.replace(ind, eng)\n",
    "                    # locale.setlocale(locale.LC_TIME, 'id_ID')\n",
    "                    date_obj = datetime.strptime(date_text, '%A, %d %B %Y %H:%M %Z')\n",
    "                    formatted_date = date_obj.strftime('%Y-%m-%d')\n",
    "\n",
    "                    body_elem = soup.find('div', {\"class\": \"post-content clearfix\"})\n",
    "                    if body_elem:\n",
    "                        content_text = body_elem.text\n",
    "                        content_text = content_text.replace('\\n', '').replace('\\r', '').replace('\\t', '')\n",
    "                        content_text = ' '.join(content_text.split())\n",
    "                    else:\n",
    "                        content_text =\"Content not found\"\n",
    "\n",
    "                    return {\n",
    "                        'title': title_text,\n",
    "                        'date': formatted_date,\n",
    "                        'content': content_text,\n",
    "                        'link': url\n",
    "                    }\n",
    "                else:\n",
    "                    # logger.error(\n",
    "                    #     {\"message\": f\"Failed to retrieve data from {url}: Status Code {response.status_code}\"}\n",
    "                    #     )\n",
    "                    print('hellow')\n",
    "            except requests.exceptions.RequestException as e:\n",
    "                # logger.error({\n",
    "                #     \"message\":f\"Error fetching URL '{url}': {e}\"\n",
    "                # })\n",
    "                print(e)\n",
    "            except Exception as e:\n",
    "                # logger.error({\n",
    "                #     \"message\":f\"Error processing URL '{url}': {e}\"\n",
    "                # })\n",
    "                print(e)\n",
    "            retries += 1\n",
    "            if retries < max_retries:\n",
    "                # logger.info({\n",
    "                #     \"message\":f\"Retrying {url} (Attempt {retries}/{max_retries})\"\n",
    "                # })\n",
    "                print(f\"Retrying {url} (Attempt {retries}/{max_retries})\")\n",
    "                time.sleep(5)  # You can adjust the delay as needed\n",
    "    return None       \n"
   ]
  },
  {
   "cell_type": "code",
   "execution_count": 7,
   "metadata": {},
   "outputs": [],
   "source": [
    "url='https://jabar.antaranews.com/berita/479715/presiden-jokowi-lepas-pengiriman-21-ton-bantuan-tahap-kedua-bagi-palestina'\n",
    "cek=scrape_url(url)"
   ]
  },
  {
   "cell_type": "code",
   "execution_count": 8,
   "metadata": {},
   "outputs": [
    {
     "name": "stdout",
     "output_type": "stream",
     "text": [
      "{'title': 'Presiden Jokowi lepas pengiriman 21 ton bantuan tahap kedua bagi Palestina', 'date': '2023-11-20', 'content': 'Jakarta (ANTARA) - Presiden Joko Widodo melepas pengiriman bantuan kemanusiaan tahap kedua seberat 21 ton untuk warga Palestina di Jalur Gaza.“Alhamdulillah kembali lagi pada pagi hari ini kita akan mengirimkan bantuan pada saudara-saudara kita di Gaza dengan dua pesawat mengangkut 21 ton,” kata Presiden Jokowi ketika melepas pengiriman bantuan di Base Ops Pangkalan Udara (Lanud) TNI AU Halim Perdanakusuma di Jakarta, Senin.Bantuan tersebut berupa obat-obatan, perlengkapan rumah sakit, makanan, dan keperluan lainnya sesuai kebutuhan masyarakat di Gaza--yang paling terdampak konflik Israel dengan Kelompok Hamas Palestina.Lebih lanjut Presiden menyebutkan bahwa pemberian bantuan tahap kedua ini bersumber dari anggaran pemerintah melalui Lembaga Dana Kerja Sama Pembangunan Internasional (LDKPI) sebesar Rp31,9 miliar, dari perusahaan PT Paragon Technology and Innovation, serta dari sejumlah lembaga kemanusiaan di antaranya Indonesia Humanitarian Alliance, Kitabisa, dan Baznas.“Sama seperti bantuan yang pertama, pesawat nanti akan menuju ke (Bandara) Al Arish di Mesir, kemudian akan disalurkan ke Gaza,” tutur Presiden Jokowi.Pada 4 November 2023 Indonesia telah mengirim 51,5 ton bantuan berupa alat kesehatan dan makanan bagi warga Palestina di Gaza.Bantuan tersebut diserahterimakan ke Bulan Sabit Merah Mesir, kemudian diteruskan ke badan PBB untuk pengungsi Palestina (UNRWA) untuk disalurkan kepada warga yang terdampak konflik.Bantuan akan disalurkan melalui pintu Rafah di Mesir, yang berbatasan langsung dengan Gaza.Sejak Israel membombardir Gaza pada 7 Oktober 2023, lebih dari 12 ribu warga Palestina tewas, termasuk 8.300 perempuan dan anak-anak, dan lebih dari 30 ribu orang lainnya terluka.Sementara itu, jumlah kematian di Israel mencapai 1.200 jiwa.12Tampilkan Semua', 'link': 'https://jabar.antaranews.com/berita/479715/presiden-jokowi-lepas-pengiriman-21-ton-bantuan-tahap-kedua-bagi-palestina'}\n"
     ]
    }
   ],
   "source": [
    "print(cek)"
   ]
  },
  {
   "cell_type": "code",
   "execution_count": null,
   "metadata": {},
   "outputs": [],
   "source": []
  }
 ],
 "metadata": {
  "kernelspec": {
   "display_name": "base",
   "language": "python",
   "name": "python3"
  },
  "language_info": {
   "codemirror_mode": {
    "name": "ipython",
    "version": 3
   },
   "file_extension": ".py",
   "mimetype": "text/x-python",
   "name": "python",
   "nbconvert_exporter": "python",
   "pygments_lexer": "ipython3",
   "version": "3.11.4"
  }
 },
 "nbformat": 4,
 "nbformat_minor": 2
}
