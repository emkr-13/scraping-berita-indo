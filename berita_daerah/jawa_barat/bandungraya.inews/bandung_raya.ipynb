{
 "cells": [
  {
   "cell_type": "code",
   "execution_count": 1,
   "metadata": {},
   "outputs": [],
   "source": [
    "import requests\n",
    "from bs4 import BeautifulSoup\n",
    "import re\n",
    "import threading\n",
    "from datetime import datetime\n",
    "import pandas as pd\n",
    "import time\n",
    "from datetime import datetime, timedelta\n",
    "from concurrent.futures import ThreadPoolExecutor\n",
    "import concurrent.futures"
   ]
  },
  {
   "cell_type": "code",
   "execution_count": 2,
   "metadata": {},
   "outputs": [
    {
     "name": "stdout",
     "output_type": "stream",
     "text": [
      "https://bandungraya.inews.id/read/365200/217-apoteker-baru-unjani-dilantik-dan-diambil-sumpah-miliki-stra-seumur-hidup\n",
      "https://bandungraya.inews.id/read/365192/anniversary-ke-20-momogi-ajak-anak-berkreasi-kompetisi-tiktok-dance-challenge\n",
      "https://bandungraya.inews.id/read/365178/sambut-akhir-tahun-grabfood-dan-grabmart-hadirkan-diskon-besar-besaran\n",
      "https://bandungraya.inews.id/read/365172/satu-gol-nick-kuipers-pastikan-persib-bawa-pulang-tiga-poin-dari-markas-madura-united\n",
      "https://bandungraya.inews.id/read/365152/pengurus-kecamatan-kppg-se-kuningan-dilantik-cucu-waktu-memenangkan-partai-golkar-tinggal-sedikit\n",
      "https://bandungraya.inews.id/read/365068/menakar-kapasitas-kepemimpinan-kuantum-capres-dan-cawapres-2024\n",
      "https://bandungraya.inews.id/read/364988/pengamat-politik-unpad-putusan-mkmk-bisa-selamatkan-marwah-mahkamah-konstitusi\n",
      "https://bandungraya.inews.id/read/364981/sidang-suap-bandung-smart-city-ricky-gustiadi-bantah-semua-bap\n",
      "https://bandungraya.inews.id/read/364933/kutuk-agresi-israel-bupati-bandung-serukan-warganya-doakan-rakyat-palestina\n",
      "https://bandungraya.inews.id/read/364928/duh-gegara-mati-listrik-kereta-cepat-whoosh-jadi-ngaret-15-menit\n",
      "https://bandungraya.inews.id/read/364902/polisi-temukan-bercak-darah-misterius-di-mobil-tempat-penemuan-ibu-dan-anak-subang-tewas\n",
      "https://bandungraya.inews.id/read/364885/gus-yahya-larang-siapapun-bawa-nama-nu-di-pilpres-2024\n"
     ]
    }
   ],
   "source": [
    "headers = {\n",
    "        'User-Agent': 'Mozilla/5.0 (Windows NT 10.0; Win64; x64) AppleWebKit/537.36 (KHTML, like Gecko) Chrome/117.0.0.0 Safari/537.36'\n",
    "    }\n",
    "url = f\"https://bandungraya.inews.id/indeks/all/2023-11-01/0\"\n",
    "response = requests.get(url, headers=headers)\n",
    "soup = BeautifulSoup(response.text, 'html.parser')\n",
    "articles = soup.find_all('div', {\"class\": \"box-list-news\"})\n",
    "for article in articles:\n",
    "        link = article.find('a')['href']\n",
    "        print(link)"
   ]
  },
  {
   "cell_type": "code",
   "execution_count": 3,
   "metadata": {},
   "outputs": [],
   "source": [
    "def scrape_links(date,page_number):\n",
    "    format=datetime.strptime(date, \"%Y-%m-%d\")\n",
    "    formatted_date_string = format.strftime(\"%Y-%m-%d\")\n",
    "    headers = {\n",
    "        'User-Agent': 'Mozilla/5.0 (Windows NT 10.0; Win64; x64) AppleWebKit/537.36 (KHTML, like Gecko) Chrome/117.0.0.0 Safari/537.36'\n",
    "    }\n",
    "    url = f\"https://bandungraya.inews.id/indeks/all/{formatted_date_string}/{page_number}\"\n",
    "    response = requests.get(url, headers=headers)\n",
    "    soup = BeautifulSoup(response.text, 'html.parser')\n",
    "    articles = soup.find_all('div', {\"class\": \"box-list-news\"})\n",
    "    links = []\n",
    "    for article in articles:\n",
    "        link = article.find('a')['href']\n",
    "        links.append(link)\n",
    "    print(f\"Scraped {len(links)} links from page {page_number} url {url}\")\n",
    "    \n",
    "    return links"
   ]
  },
  {
   "cell_type": "code",
   "execution_count": 4,
   "metadata": {},
   "outputs": [],
   "source": [
    "def scrape_link_per_day(date, max_threads=5):\n",
    "    page_number = 0\n",
    "    page_links = []\n",
    "\n",
    "    with concurrent.futures.ThreadPoolExecutor(max_threads) as executor:\n",
    "        futures = []\n",
    "\n",
    "        while True:\n",
    "            future = executor.submit(scrape_links, date, page_number)\n",
    "            futures.append(future)\n",
    "            page_number += 12\n",
    "\n",
    "            # Break the loop if no more articles are found\n",
    "            if not future.result():\n",
    "                break\n",
    "\n",
    "        for future in concurrent.futures.as_completed(futures):\n",
    "            page_links.extend(future.result())\n",
    "\n",
    "    return page_links"
   ]
  },
  {
   "cell_type": "code",
   "execution_count": 5,
   "metadata": {},
   "outputs": [
    {
     "name": "stdout",
     "output_type": "stream",
     "text": [
      "Scraped 12 links from page 0 url https://bandungraya.inews.id/indeks/all/2023-11-01/0\n",
      "Scraped 10 links from page 12 url https://bandungraya.inews.id/indeks/all/2023-11-01/12\n",
      "Scraped 0 links from page 24 url https://bandungraya.inews.id/indeks/all/2023-11-01/24\n"
     ]
    }
   ],
   "source": [
    "link=scrape_link_per_day('2023-11-01')"
   ]
  },
  {
   "cell_type": "code",
   "execution_count": null,
   "metadata": {},
   "outputs": [],
   "source": []
  },
  {
   "cell_type": "code",
   "execution_count": 6,
   "metadata": {},
   "outputs": [],
   "source": [
    "def scrape_url(url,max_retries=2):\n",
    "    retries = 0\n",
    "    while retries < max_retries:\n",
    "            try:\n",
    "                headers = {\n",
    "                    'User-Agent': 'Mozilla/5.0 (Windows NT 10.0; Win64; x64) AppleWebKit/537.36 (KHTML, like Gecko) Chrome/117.0.0.0 Safari/537.36'\n",
    "                }\n",
    "                response = requests.get(url, headers=headers)\n",
    "                if response.status_code == 200:\n",
    "                    soup = BeautifulSoup(response.text, 'html.parser')\n",
    "                    \n",
    "                    \n",
    "                    # Judul Berita\n",
    "                    title_elem = soup.find('div', {\"class\": \"title\"})\n",
    "                    if title_elem:\n",
    "                        title_text=title_elem.find('h1')\n",
    "                        title_text = title_text.text.strip()\n",
    "                    else:\n",
    "                        title_text = \"Title not found\"  \n",
    "                    # tanggal berita\n",
    "                    date_elem = soup.find('div', {\"class\": \"date\"})\n",
    "                    # print(date_elem)\n",
    "                    if date_elem:\n",
    "                        date_text= date_elem.text.strip()\n",
    "                        date_text= date_text.replace('\\n', '').replace('\\r', '').replace('\\t', '')\n",
    "                        date_text=' '.join(date_text.split())\n",
    "                        match = re.search(r'\\b(\\d{2} \\w+ \\d{4})', date_text)\n",
    "                        if match:\n",
    "                            extracted_date_str = match.group(1)\n",
    "                        date_object = datetime.strptime(extracted_date_str, '%d %B %Y')\n",
    "                        formatted_date = date_object.strftime('%Y-%m-%d')\n",
    "                        # date_text = date_text\n",
    "                    else:\n",
    "                        date_text = \"Date not found\"\n",
    "                    #     # Content Berita\n",
    "                    body_elem = soup.find('div', {\"class\": \"caption\"})\n",
    "                        \n",
    "                    if body_elem:\n",
    "                        content_elem = body_elem.find_all('p')\n",
    "                        content_text = \"\"\n",
    "                        for p in content_elem:\n",
    "                                content_text += p.text.strip() + \"\\n\"\n",
    "                            \n",
    "                        if content_text.strip():\n",
    "                            content_text=content_text\n",
    "                            content_text = content_text.replace('\\n', '').replace('\\r', '').replace('\\t', '')\n",
    "                            content_text = ' '.join(content_text.split())\n",
    "                        else:\n",
    "                            content_text=\"Content not found\"\n",
    "                    else:\n",
    "                            content_text=\"Content not found\"\n",
    "\n",
    "                    return{\n",
    "                        'title': title_text,\n",
    "                        'date': formatted_date,\n",
    "                        'content':content_text,\n",
    "                        'link' : url}\n",
    "                elif response.status_code == 429:\n",
    "                    print(f\"Received a 429 error for {url}. Retrying in 5 seconds...\")\n",
    "                    time.sleep(5)\n",
    "                else:\n",
    "                    print(f\"Failed to retrieve data from {url}: Status Code {response.status_code}\")\n",
    "            except requests.exceptions.RequestException as e:\n",
    "                print(f\"Error fetching URL '{url}': {e}\")\n",
    "            except Exception as e:\n",
    "                print(f\"Error processing URL '{url}': {e}\")\n",
    "            retries += 1\n",
    "            if retries < max_retries:\n",
    "                print(f\"Retrying {url} (Attempt {retries}/{max_retries})\")\n",
    "                time.sleep(5)  # You can adj|ust the delay as needed\n",
    "    return None         "
   ]
  },
  {
   "cell_type": "code",
   "execution_count": 7,
   "metadata": {},
   "outputs": [],
   "source": [
    "url='https://bandungraya.inews.id/read/365200/217-apoteker-baru-unjani-dilantik-dan-diambil-sumpah-miliki-stra-seumur-hidup'\n",
    "data_inews = scrape_url(url)"
   ]
  },
  {
   "cell_type": "code",
   "execution_count": 8,
   "metadata": {},
   "outputs": [
    {
     "name": "stdout",
     "output_type": "stream",
     "text": [
      "{'title': '217 Apoteker Baru Unjani Dilantik dan Diambil Sumpah, Miliki STRA Seumur Hidup', 'date': '2023-11-01', 'content': 'CIMAHI,Inews Bandungraya.Id - Undang-Undang (UU) Nomor 17 tahun 2023 tentang Kesehatan yang disahkan tanggal 8 Agustus 2023 lalu, telah resmi diundangkan dan diberlakukan. Salah satu dampaknya adalah pemberlakuan Surat Tanda Registrasi Apoteker (STRA) “seumur hidup” bagi setiap mahasiswa Profesi Apoteker lulusan Oktober 2023.Hal tersebut disampaikan apt. Maryani, S.Farm., MKM. (Komite Farmasi Indonesia) yang mewakili Konsil Tenaga Kesehatan Indonesia (KTKI), dalam pidatonya pada pelantikan dan pengambilan sumpah lulusan Apoteker Baru Program Studi Profesi Apoteker Fakultas Farmasi Universitas Jenderal Achmad Yani (Unjani) di Convention Hall Harris Hotel Festival City Link Bandung (3/10/2023).Dijelaskannya, bagi sejawat apoteker yang telah habis masa berlaku STRA-nya dapat diperpanjang menjadi masa berlaku seumur hidup, hanya dengan mengupload paspoto formal dan STRA yang sudah habis masa berlakunya.Syarat terbitnya STRA adalah KTP, paspoto formal, ijazah profesi Apoteker dan Sertifikat Kompetensi Apoteker yang diperoleh melalui Ujian Kompetensi Nasional (Ukomnas) yang meliputi metode OSCE dan CBT.\"Untuk Surat Sumpah tidak lagi menjadi persyaratan terbitnya STRA, namun pengambilan sumpah wajib dilaksanakan, yang merupakan bagian dari acara pelantikan lulusan Apoteker baru,\" tuturnya.Pada kesempatan yang sama, Pengurus Pusat Ikatan Apoteker Indonesia (IAI) apt. Ardiansyah, S.Si., MA., hadir mewakili Ketua Umum PP IAI, apt. Noffendri S.Si., yang berhalangan hadir. Membacakan sabutan ketua umum, bahwa lulusan Apoteker saat ini dilantik mempertimbangkan dua hal, yaitu kompetensi saat menempuh pendidikan Sarjana yang dinyatakan dengan IPK.Serta Nilai Ujian Kompetensi Mahasiswa Program Studi Profesi Apoteker Indonesia (UKMPPAI) pada bulan Juli lalu (sekarang Ukomnas), yang diselenggarakan oleh IAI bekerjasama dengan Asosiasi Perguruan Tinggi Farmasi Indonesia (APTFI).IAI adalah organisasi profesi yang bertanggung jawab atas mutu layanan profesi, bersama-sama dengan perguruan tinggi menerbitkan sertifikat kompetensi dan sertifikat profesi Apoteker. Hal ini telah sesuai dengan Permendikbud Ristekdikti RI Nomor 6 tahun 2022 pasal 8 ayat a, dan pasal 13 ayat 1 point d.Dengan diberlakukannya UU no 17 2023, kedepan lulusan apoteker harus memperkuat kompetensi dengan cara mengumpulkan satuan kredit partisipasi (SKP) yang terdiri dari SKP Praktik, SKP Pembelajaran, SKP Pengabdian Masyarakat, SKP Pengembangan Ilmu dan SKP Publikasi Ilmiah, harus dilakukan dalam rangka memperoleh surat kecukupan SKP yang nanti akan diterbitkan peraturan turunannya oleh pemerintah.\"Program pengumpulan SKP ini sudah disediakan secara digital melalui aplikasi Sistem Informasi Apoteker (SIAp),\" kata Ardiansyah.Program Studi Profesi Apoteker Fakultas Farmasi Universitas Jenderal Achmad Yani pada periode semester genap tahun alademik 2022/2023 kali ini meluluskan 217 mahasiswa yang terdiri dari 176 lulus dengan pujian (cumlaude), 36 mahasiswa lulus sangat memuaskan dan 5 mahasiswa lulus memuaskan, dengan IPK tertinggi 4,00, IPK terendah 3,11, dan IPK rata-rata 3,82.Hadir dalam kegiatan tersebut Ses BPH, Iman Subagdja, MS., mewakili Ketua BPH Unjani-Yayasan Kartika Eka Paksi (YKEP), Wakil Rektor I Unjani Dr. Agus Subagyu, S.IP., M.Si., mewakili Rektor Prof. Hikmahanto Juwana, S.H., LLM., PhD. yang berhalangan hadir, Dekan Fakultas Farmasi Unjani, Dr. apt. Fahrauk Faramayuda, S.Si., M.Sc., beserta jajaran Wakil Dekan, para Kaprodi dan Sekprodi, para Anggota Senat/Guru Besar dan jajaran dosen Fakultas Farmasi, para undangan dan para orang tua apoteker baru.Sambutan penutup disampaikan Wakil Rektor I Unjani, dalam pidatonya mengungkapkan rasa bangga terhadap prestasi mahasiswa yang telah dicapai dalam Uji Kompetensi Apoteker Indonesia. Semoga keberhasilan tersebut dapat segera didharma baktikan kepada masyarakat luas.Pegang teguh etika dan sumpah profesi, jalani sesuai dengan kode etik profesi, dan junjung tinggi rasa kemanusiaan serta dapat menjaga martabat dan tradisi luhur profesi apoteker Indonesia.\"Teruslah mengupdate ilmu pengetahuan yang sejalan dengan perkembangan kemajuan ilmu pengetahuan dan teknologi bidang kesehatan, jadilah apoteker profesional dan berprestasi dalam pelayanan kesehatan masyarakat, serta jaga nama baik almamater,\" ucapnya. (*)', 'link': 'https://bandungraya.inews.id/read/365200/217-apoteker-baru-unjani-dilantik-dan-diambil-sumpah-miliki-stra-seumur-hidup'}\n"
     ]
    }
   ],
   "source": [
    "print(data_inews)"
   ]
  },
  {
   "cell_type": "code",
   "execution_count": null,
   "metadata": {},
   "outputs": [],
   "source": []
  }
 ],
 "metadata": {
  "kernelspec": {
   "display_name": "base",
   "language": "python",
   "name": "python3"
  },
  "language_info": {
   "codemirror_mode": {
    "name": "ipython",
    "version": 3
   },
   "file_extension": ".py",
   "mimetype": "text/x-python",
   "name": "python",
   "nbconvert_exporter": "python",
   "pygments_lexer": "ipython3",
   "version": "3.11.5"
  }
 },
 "nbformat": 4,
 "nbformat_minor": 2
}
