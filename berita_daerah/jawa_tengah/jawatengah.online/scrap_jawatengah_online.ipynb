{
 "cells": [
  {
   "cell_type": "code",
   "execution_count": 1,
   "metadata": {},
   "outputs": [],
   "source": [
    "from bs4 import BeautifulSoup\n",
    "import requests\n",
    "import pandas as pd\n",
    "from datetime import datetime\n",
    "import threading"
   ]
  },
  {
   "cell_type": "code",
   "execution_count": 2,
   "metadata": {},
   "outputs": [],
   "source": [
    "jumlah_index = 1\n",
    "threads_link = []\n",
    "links = []\n",
    "results = []\n",
    "threads = []"
   ]
  },
  {
   "cell_type": "code",
   "execution_count": 3,
   "metadata": {},
   "outputs": [],
   "source": [
    "def scrape_links(page_number):\n",
    "    url = f\"https://jawatengah.online/category/politik/page/{page_number}\"\n",
    "    response = requests.get(url)\n",
    "    soup = BeautifulSoup(response.text, \"html.parser\")\n",
    "    articles = soup.find_all('header',{\"class\": \"post-title entry-header\"})\n",
    "    \n",
    "    page_links = []\n",
    "    for article in articles:\n",
    "        link = article.find('a')['href']\n",
    "        link=\"https://jawatengah.online\"+link\n",
    "        page_links.append(link)\n",
    "    \n",
    "    print(f\"Scraped {len(page_links)} links from page {page_number}\")\n",
    "    return page_links"
   ]
  },
  {
   "cell_type": "code",
   "execution_count": 4,
   "metadata": {},
   "outputs": [
    {
     "name": "stdout",
     "output_type": "stream",
     "text": [
      "Scraped 21 links from page 1\n",
      "Total Links: 21\n"
     ]
    }
   ],
   "source": [
    "for page_number in range(1, jumlah_index + 1):\n",
    "    thread = threading.Thread(target=lambda p=page_number: links.extend(scrape_links(p)))\n",
    "    thread.start()\n",
    "    threads_link.append(thread)\n",
    "\n",
    "for thread in threads_link:\n",
    "    thread.join()\n",
    "print(\"Total Links:\", len(links))"
   ]
  },
  {
   "cell_type": "code",
   "execution_count": 5,
   "metadata": {},
   "outputs": [],
   "source": [
    "\n",
    "def scrape_url(url):\n",
    "    try:\n",
    "        response = requests.get(url,headers={'User-Agent': 'Chrome/117.0.0.0'})\n",
    "        if response.status_code == 200:\n",
    "            soup = BeautifulSoup(response.text, 'html.parser')        \n",
    "            # Judul Berita\n",
    "            title_elem = soup.find('h1',{\"class\": \"entry-title\"})\n",
    "            if title_elem:\n",
    "                title_text = title_elem.text.strip()\n",
    "            else:\n",
    "                title_text = \"Title not found\"\n",
    "            # Author berita\n",
    "            author_elem = soup.find('strong', {\"itemprop\": \"author\"})\n",
    "            if author_elem:\n",
    "                author_text = author_elem.find('a')\n",
    "                author_text = author_text.text\n",
    "            else:\n",
    "                author_text = \"Author not found\"     \n",
    "            # tanggal berita\n",
    "            date_elem = soup.find('div', {\"class\": \"time\"})\n",
    "            if date_elem:\n",
    "                date_text = date_elem.text.strip()\n",
    "            else:\n",
    "                date_text = \"Date not found\"\n",
    "            #     # Category berita\n",
    "            # category_elements = soup.find('ul', {\"class\": \"breadcrumb\"})\n",
    "            # if category_elements:\n",
    "            #     category_text = category_elements.find_all('li')\n",
    "            #     category_text= category_text[2].get_text()\n",
    "            # else:\n",
    "            category_text = \"Category not found\"\n",
    "            #     # Content Berita\n",
    "            body_elem = soup.find('div', {\"class\": \"post-content entry-content cf\"})\n",
    "            \n",
    "            if body_elem:\n",
    "                content_elem = body_elem.find_all('div')\n",
    "                content_text = \"\"\n",
    "                for p in content_elem:\n",
    "                    content_text += p.text.strip() + \"\\n\"\n",
    "                \n",
    "                if content_text.strip():\n",
    "                    content_text=content_text\n",
    "                else:\n",
    "                    content_text =\"Content not found\"\n",
    "            else:\n",
    "                content_text =\"Content not found\"\n",
    "\n",
    "            results.append({'title': title_text,\n",
    "                            'author' : author_text,\n",
    "                            'category':category_text,\n",
    "                            'date': date_text,\n",
    "                            'content' : content_text,\n",
    "                            'region':'jateng',\n",
    "                            'link' : url})\n",
    "        else:\n",
    "            print(f\"Failed to retrieve data from {url}\")\n",
    "\n",
    "    except requests.exceptions.RequestException as e:\n",
    "        print(f\"Error fetching URL '{url}': {e}\")\n",
    "    except Exception as e:\n",
    "        print(f\"Error processing URL '{url}': {e}\")"
   ]
  },
  {
   "cell_type": "code",
   "execution_count": 6,
   "metadata": {},
   "outputs": [
    {
     "name": "stdout",
     "output_type": "stream",
     "text": [
      "Failed to retrieve data from https://jawatengah.online/02/11/2022/anggota-dprd-jateng-sentil-ganjar-sering-absen-saat-paripurna/\n",
      "Failed to retrieve data from https://jawatengah.online/18/08/2023/dpd-golkar-jateng-ikuti-komando-ketua-umum-airlangga-dukung-prabowo-subianto-di-pilpres-2024%ef%bf%bc/\n",
      "Failed to retrieve data from https://jawatengah.online/06/09/2023/rakornas-japelidi-kuatkan-komitmen-literasi-digital/\n",
      "Failed to retrieve data from https://jawatengah.online/18/08/2023/dpd-golkar-jateng-ikuti-komando-ketua-umum-airlangga-dukung-prabowo-subianto-di-pilpres-2024%ef%bf%bc/\n",
      "Failed to retrieve data from https://jawatengah.online/04/09/2023/meriah-jalan-santai-di-sukorame-bs-ikut-serahkan-hadiah-sepeda/\n",
      "Failed to retrieve data from https://jawatengah.online/18/08/2023/pakar-minta-bawaslu-jateng-usut-kehadiran-pj-bupati-walikota-di-konsolidasi-pdip-semarang%ef%bf%bc/\n",
      "Failed to retrieve data from https://jawatengah.online/13/10/2022/kawal-pemilu-2024-ki-pusat-sampaikan-ini/\n",
      "Failed to retrieve data from https://jawatengah.online/11/10/2022/penjual-karangan-bunga-banjir-orderan-hingga-lembur-mayoritas-ucapan-hendi%ef%bf%bc/\n",
      "Failed to retrieve data from https://jawatengah.online/15/10/2022/kpu-jateng-bakal-sambangi-kantor-parpol-karena-ini%ef%bf%bc/\n",
      "Failed to retrieve data from https://jawatengah.online/18/08/2023/warga-wadas-gelar-aksi-di-gubenur-jateng-terus-suarakan-penolakan-tambang-andesit%ef%bf%bc/\n",
      "Failed to retrieve data from https://jawatengah.online/20/10/2022/forumadi-deklarasikan-dukungan-gibran-gubernur-jateng-segini-potensi-suaranya/\n",
      "Failed to retrieve data from https://jawatengah.online/28/09/2022/daerah-terpencil-karimunjawa-kekurangan-kuota-perempuan-pendaftar-panwascam/\n"
     ]
    }
   ],
   "source": [
    "for url in links:\n",
    "    thread = threading.Thread(target=scrape_url, args=(url,))\n",
    "    thread.start()\n",
    "    threads.append(thread)\n",
    "    \n",
    "for thread in threads:\n",
    "    thread.join()"
   ]
  },
  {
   "cell_type": "code",
   "execution_count": 7,
   "metadata": {},
   "outputs": [
    {
     "name": "stdout",
     "output_type": "stream",
     "text": [
      "9\n"
     ]
    },
    {
     "data": {
      "text/html": [
       "<div>\n",
       "<style scoped>\n",
       "    .dataframe tbody tr th:only-of-type {\n",
       "        vertical-align: middle;\n",
       "    }\n",
       "\n",
       "    .dataframe tbody tr th {\n",
       "        vertical-align: top;\n",
       "    }\n",
       "\n",
       "    .dataframe thead th {\n",
       "        text-align: right;\n",
       "    }\n",
       "</style>\n",
       "<table border=\"1\" class=\"dataframe\">\n",
       "  <thead>\n",
       "    <tr style=\"text-align: right;\">\n",
       "      <th></th>\n",
       "      <th>title</th>\n",
       "      <th>author</th>\n",
       "      <th>category</th>\n",
       "      <th>date</th>\n",
       "      <th>content</th>\n",
       "      <th>region</th>\n",
       "      <th>link</th>\n",
       "    </tr>\n",
       "  </thead>\n",
       "  <tbody>\n",
       "    <tr>\n",
       "      <th>0</th>\n",
       "      <td>Ketulusan Sosial Didi Kempot</td>\n",
       "      <td>Bayu Wardhana</td>\n",
       "      <td>Category not found</td>\n",
       "      <td>02/08/2020</td>\n",
       "      <td>Content not found</td>\n",
       "      <td>jateng</td>\n",
       "      <td>https://jawatengah.online/02/08/2020/ketulusan...</td>\n",
       "    </tr>\n",
       "    <tr>\n",
       "      <th>1</th>\n",
       "      <td>Kota Kudus Tempo Doeloe</td>\n",
       "      <td>JT Online</td>\n",
       "      <td>Category not found</td>\n",
       "      <td>21/01/2020</td>\n",
       "      <td>Content not found</td>\n",
       "      <td>jateng</td>\n",
       "      <td>https://jawatengah.online/21/01/2020/kota-kudu...</td>\n",
       "    </tr>\n",
       "    <tr>\n",
       "      <th>2</th>\n",
       "      <td>Pakar Minta Bawaslu Jateng Usut Kehadiran Pj B...</td>\n",
       "      <td>JT Online</td>\n",
       "      <td>Category not found</td>\n",
       "      <td>1 month ago</td>\n",
       "      <td>Content not found</td>\n",
       "      <td>jateng</td>\n",
       "      <td>https://jawatengah.online/18/08/2023/pakar-min...</td>\n",
       "    </tr>\n",
       "    <tr>\n",
       "      <th>3</th>\n",
       "      <td>Tak Hanya CCTV dan Mobile ETLE, Ditlantas Pold...</td>\n",
       "      <td>JT Online</td>\n",
       "      <td>Category not found</td>\n",
       "      <td>11/10/2022</td>\n",
       "      <td>Content not found</td>\n",
       "      <td>jateng</td>\n",
       "      <td>https://jawatengah.online/11/10/2022/tak-hanya...</td>\n",
       "    </tr>\n",
       "    <tr>\n",
       "      <th>4</th>\n",
       "      <td>Pendaftaran Panwascam Dibuka, Ini Persyaratanya</td>\n",
       "      <td>JT Online</td>\n",
       "      <td>Category not found</td>\n",
       "      <td>16/09/2022</td>\n",
       "      <td>Content not found</td>\n",
       "      <td>jateng</td>\n",
       "      <td>https://jawatengah.online/16/09/2022/pendaftar...</td>\n",
       "    </tr>\n",
       "  </tbody>\n",
       "</table>\n",
       "</div>"
      ],
      "text/plain": [
       "                                               title         author  \\\n",
       "0                       Ketulusan Sosial Didi Kempot  Bayu Wardhana   \n",
       "1                            Kota Kudus Tempo Doeloe      JT Online   \n",
       "2  Pakar Minta Bawaslu Jateng Usut Kehadiran Pj B...      JT Online   \n",
       "3  Tak Hanya CCTV dan Mobile ETLE, Ditlantas Pold...      JT Online   \n",
       "4    Pendaftaran Panwascam Dibuka, Ini Persyaratanya      JT Online   \n",
       "\n",
       "             category         date            content  region  \\\n",
       "0  Category not found   02/08/2020  Content not found  jateng   \n",
       "1  Category not found   21/01/2020  Content not found  jateng   \n",
       "2  Category not found  1 month ago  Content not found  jateng   \n",
       "3  Category not found   11/10/2022  Content not found  jateng   \n",
       "4  Category not found   16/09/2022  Content not found  jateng   \n",
       "\n",
       "                                                link  \n",
       "0  https://jawatengah.online/02/08/2020/ketulusan...  \n",
       "1  https://jawatengah.online/21/01/2020/kota-kudu...  \n",
       "2  https://jawatengah.online/18/08/2023/pakar-min...  \n",
       "3  https://jawatengah.online/11/10/2022/tak-hanya...  \n",
       "4  https://jawatengah.online/16/09/2022/pendaftar...  "
      ]
     },
     "execution_count": 7,
     "metadata": {},
     "output_type": "execute_result"
    }
   ],
   "source": [
    "df = pd.DataFrame(results)\n",
    "print(len(results))\n",
    "df.head(5)"
   ]
  },
  {
   "cell_type": "code",
   "execution_count": 8,
   "metadata": {},
   "outputs": [],
   "source": [
    "current_datetime = datetime.now().strftime(\"%Y-%m-%d_%H-%M-%S\")\n",
    "excel_file_name = f'../../tempat_hasil_daerah/jateng_online_{current_datetime}.xlsx'\n",
    "df.to_excel(excel_file_name, index=False)\n",
    "\n",
    "print(f'Data has been saved to {excel_file_name}')"
   ]
  }
 ],
 "metadata": {
  "kernelspec": {
   "display_name": "base",
   "language": "python",
   "name": "python3"
  },
  "language_info": {
   "codemirror_mode": {
    "name": "ipython",
    "version": 3
   },
   "file_extension": ".py",
   "mimetype": "text/x-python",
   "name": "python",
   "nbconvert_exporter": "python",
   "pygments_lexer": "ipython3",
   "version": "3.11.4"
  },
  "orig_nbformat": 4
 },
 "nbformat": 4,
 "nbformat_minor": 2
}
