{
 "cells": [
  {
   "cell_type": "code",
   "execution_count": 1,
   "metadata": {},
   "outputs": [],
   "source": [
    "import requests\n",
    "from bs4 import BeautifulSoup\n",
    "import re\n",
    "import threading\n",
    "from datetime import datetime\n",
    "import pandas as pd\n",
    "import time\n",
    "from datetime import datetime, timedelta\n",
    "from concurrent.futures import ThreadPoolExecutor\n",
    "import concurrent.futures"
   ]
  },
  {
   "cell_type": "code",
   "execution_count": 2,
   "metadata": {},
   "outputs": [],
   "source": [
    "def scrape_links(date,page_number):\n",
    "    format=datetime.strptime(date, \"%Y-%m-%d\")\n",
    "    formatted_date_string = format.strftime(\"%d-%m-%Y\")\n",
    "    headers = {\n",
    "        'User-Agent': 'Mozilla/5.0 (Windows NT 10.0; Win64; x64) AppleWebKit/537.36 (KHTML, like Gecko) Chrome/117.0.0.0 Safari/537.36'\n",
    "    }\n",
    "    url = f\"https://jateng.inews.id/indeks/{formatted_date_string}/{page_number}\"\n",
    "    response = requests.get(url, headers=headers)\n",
    "    soup = BeautifulSoup(response.text, 'html.parser')\n",
    "    articles = soup.find_all('li', {\"class\": \"padding-10px-all\"})\n",
    "    links = []\n",
    "    for article in articles:\n",
    "        link = article.find('a')['href']\n",
    "        links.append(link)\n",
    "    print(f\"Scraped {len(links)} links from page {page_number} url {url}\")\n",
    "    \n",
    "    return links"
   ]
  },
  {
   "cell_type": "code",
   "execution_count": 3,
   "metadata": {},
   "outputs": [],
   "source": [
    "def scrape_link_per_day(date, max_threads=5):\n",
    "    page_number = 1\n",
    "    page_links = []\n",
    "\n",
    "    with concurrent.futures.ThreadPoolExecutor(max_threads) as executor:\n",
    "        futures = []\n",
    "\n",
    "        while True:\n",
    "            future = executor.submit(scrape_links, date, page_number)\n",
    "            futures.append(future)\n",
    "            page_number += 1\n",
    "\n",
    "            # Break the loop if no more articles are found\n",
    "            if not future.result():\n",
    "                break\n",
    "\n",
    "        for future in concurrent.futures.as_completed(futures):\n",
    "            page_links.extend(future.result())\n",
    "\n",
    "    return page_links"
   ]
  },
  {
   "cell_type": "code",
   "execution_count": 4,
   "metadata": {},
   "outputs": [
    {
     "name": "stdout",
     "output_type": "stream",
     "text": [
      "Scraped 15 links from page 1 url https://jateng.inews.id/indeks/01-11-2023/1\n",
      "Scraped 12 links from page 2 url https://jateng.inews.id/indeks/01-11-2023/2\n",
      "Scraped 0 links from page 3 url https://jateng.inews.id/indeks/01-11-2023/3\n"
     ]
    }
   ],
   "source": [
    "link=scrape_link_per_day('2023-11-01')"
   ]
  },
  {
   "cell_type": "code",
   "execution_count": 5,
   "metadata": {},
   "outputs": [],
   "source": [
    "def scrape_url(url,max_retries=2):\n",
    "    retries = 0\n",
    "    while retries < max_retries:\n",
    "            try:\n",
    "                headers = {\n",
    "                    'User-Agent': 'Mozilla/5.0 (Windows NT 10.0; Win64; x64) AppleWebKit/537.36 (KHTML, like Gecko) Chrome/117.0.0.0 Safari/537.36'\n",
    "                }\n",
    "                response = requests.get(url, headers=headers)\n",
    "                if response.status_code == 200:\n",
    "                    soup = BeautifulSoup(response.text, 'html.parser')\n",
    "                    \n",
    "                    \n",
    "                    # Judul Berita\n",
    "                    title_elem = soup.find('h1', {\"style\": \"padding:0 0 10px; margin:0; font-weight:700; font-size:34px; color:#000;\"})\n",
    "                    if title_elem:\n",
    "                        title_text = title_elem.text.strip()\n",
    "                    else:\n",
    "                        title_text = \"Title not found\"  \n",
    "                    # tanggal berita\n",
    "                    date_elem = soup.find('a', {\"class\": \"author-profile\"})\n",
    "                    # print(date_elem)\n",
    "                    if date_elem:\n",
    "                        date_text= date_elem.text.strip()\n",
    "                        date_text= date_text.replace('\\n', '').replace('\\r', '').replace('\\t', '')\n",
    "                        date_text=' '.join(date_text.split())\n",
    "                        match = re.search(r'\\b(\\d{2} \\w+ \\d{4})', date_text)\n",
    "                        if match:\n",
    "                            extracted_date_str = match.group(1)\n",
    "                        date_object = datetime.strptime(extracted_date_str, '%d %B %Y')\n",
    "                        formatted_date = date_object.strftime('%Y-%m-%d')\n",
    "                        # date_text = date_text\n",
    "                    else:\n",
    "                        date_text = \"Date not found\"\n",
    "                    #     # Content Berita\n",
    "                    body_elem = soup.find('div', {\"itemprop\": \"articleBody\"})\n",
    "                        \n",
    "                    if body_elem:\n",
    "                        content_elem = body_elem.find_all('p')\n",
    "                        content_text = \"\"\n",
    "                        for p in content_elem:\n",
    "                                content_text += p.text.strip() + \"\\n\"\n",
    "                            \n",
    "                        if content_text.strip():\n",
    "                            content_text=content_text\n",
    "                            content_text = content_text.replace('\\n', '').replace('\\r', '').replace('\\t', '')\n",
    "                            content_text = ' '.join(content_text.split())\n",
    "                        else:\n",
    "                            content_text=\"Content not found\"\n",
    "                    else:\n",
    "                            content_text=\"Content not found\"\n",
    "\n",
    "                    return{\n",
    "                        'title': title_text,\n",
    "                        'date': formatted_date,\n",
    "                        'content':content_text,\n",
    "                        'link' : url}\n",
    "                elif response.status_code == 429:\n",
    "                    print(f\"Received a 429 error for {url}. Retrying in 5 seconds...\")\n",
    "                    time.sleep(5)\n",
    "                else:\n",
    "                    print(f\"Failed to retrieve data from {url}: Status Code {response.status_code}\")\n",
    "            except requests.exceptions.RequestException as e:\n",
    "                print(f\"Error fetching URL '{url}': {e}\")\n",
    "            except Exception as e:\n",
    "                print(f\"Error processing URL '{url}': {e}\")\n",
    "            retries += 1\n",
    "            if retries < max_retries:\n",
    "                print(f\"Retrying {url} (Attempt {retries}/{max_retries})\")\n",
    "                time.sleep(5)  # You can adjust the delay as needed\n",
    "    return None         "
   ]
  },
  {
   "cell_type": "code",
   "execution_count": 6,
   "metadata": {},
   "outputs": [],
   "source": [
    "url='https://jateng.inews.id/berita/4-prestasi-cemerlang-ganjar-pranowo-dalam-konservasi-lingkungan-di-jawa-tengah'\n",
    "data_inews = scrape_url(url)"
   ]
  },
  {
   "cell_type": "code",
   "execution_count": 7,
   "metadata": {},
   "outputs": [
    {
     "name": "stdout",
     "output_type": "stream",
     "text": [
      "{'title': '4 Prestasi Cemerlang Ganjar Pranowo dalam Konservasi Lingkungan di Jawa Tengah', 'date': '2023-11-01', 'content': 'JAKARTA, iNews.id - Calon presiden, Ganjar Pranowo, menonjol sebagai sosok yang sangat peduli terhadap tantangan lingkungan di Indonesia. Di tengah eskalasi permasalahan lingkungan, kepemimpinan yang memperhatikan alam semakin berharga. Tidak hanya berbicara, Capres 2024 ini telah mencapai prestasi nyata di bidang konservasi lingkungan.Ketika masih menjabat sebagai Gubernur Jateng pada 2021, Ganjar Pranowo diakui oleh Kementerian Lingkungan Hidup dan Kehutanan dengan penghargaan Green Leadership Nirwasita Tantra, sebagai bentuk penghargaan atas dedikasinya dalam mengatasi isu-isu lingkungan.Prestasi ini bukan hasil kebetulan, melainkan akumulasi program konservasi lingkungan yang sukses yang telah diterapkan oleh Ganjar Pranowo selama masa jabatannya.Ini mencerminkan komitmennya yang mendalam terhadap pelestarian lingkungan serta usahanya yang nyata dalam memastikan keberlanjutan alam dan kesejahteraan masyarakat.Berikut adalah empat prestasi Ganjar Pranowo dalam sektor lingkungan yang patut dicontohkan:Ganjar Pranowo memajukan Program Perhutanan Sosial, sebuah inisiatif progresif yang mendorong masyarakat setempat untuk mengelola lahan terlantar sebagai hutan sosial.Program ini menciptakan hubungan saling menguntungkan antara manusia dan alam, menjaga keberlanjutan hutan dan lingkungan sambil meningkatkan kesejahteraan masyarakat.Ganjar Pranowo telah berfokus pada penanganan lahan kritis dan daerah gundul dalam pelestarian lingkungan.Program Penghijauan dan Perluasan Hutan Lindungnya bertujuan untuk melindungi dan memulihkan lahan-lahan tersebut. Langkah ini berdampak positif pada lingkungan serta mendukung keanekaragaman hayati.Program Peduli Sampah adalah langkah Ganjar Pranowo untuk meningkatkan kesadaran masyarakat tentang manajemen sampah yang bijaksana. Ini mencakup praktik-praktik seperti daur ulang dan pengomposan untuk mengurangi dampak negatif sampah terhadap lingkungan.Ganjar Pranowo mendukung penggunaan energi terbarukan sebagai langkah kunci dalam pelestarian alam. Melalui Program Listrik Bersih, dia berusaha untuk mempromosikan sumber energi alternatif seperti energi surya, angin, dan air.Ini adalah langkah penting untuk mengurangi emisi karbon dan memajukan sumber daya energi yang berkelanjutan.Penghargaan Green Leadership Nirwasita Tantra 2021 adalah pengakuan yang nyata terhadap pencapaian luar biasa Ganjar Pranowo dalam menjaga alam.Program-programnya telah membantu menciptakan lingkungan yang lebih bersih, hijau, dan berkelanjutan, serta meningkatkan kualitas hidup masyarakat.Ganjar Pranowo adalah contoh inspiratif tentang bagaimana seorang pemimpin dapat memimpin dalam upaya pelestarian alam. Dia mendorong kita semua untuk bergabung dalam perjuangan mempertahankan lingkungan demi generasi mendatang.Editor : Komaruddin BagjaFollow Berita iNewsJateng di Google News', 'link': 'https://jateng.inews.id/berita/4-prestasi-cemerlang-ganjar-pranowo-dalam-konservasi-lingkungan-di-jawa-tengah'}\n"
     ]
    }
   ],
   "source": [
    "print(data_inews)"
   ]
  },
  {
   "cell_type": "code",
   "execution_count": null,
   "metadata": {},
   "outputs": [],
   "source": []
  }
 ],
 "metadata": {
  "kernelspec": {
   "display_name": "base",
   "language": "python",
   "name": "python3"
  },
  "language_info": {
   "codemirror_mode": {
    "name": "ipython",
    "version": 3
   },
   "file_extension": ".py",
   "mimetype": "text/x-python",
   "name": "python",
   "nbconvert_exporter": "python",
   "pygments_lexer": "ipython3",
   "version": "3.11.5"
  }
 },
 "nbformat": 4,
 "nbformat_minor": 2
}
