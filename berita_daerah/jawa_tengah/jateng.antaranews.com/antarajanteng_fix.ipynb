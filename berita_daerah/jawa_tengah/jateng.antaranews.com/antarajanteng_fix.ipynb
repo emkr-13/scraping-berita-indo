{
 "cells": [
  {
   "cell_type": "code",
   "execution_count": 32,
   "metadata": {},
   "outputs": [],
   "source": [
    "import requests\n",
    "from bs4 import BeautifulSoup\n",
    "import datetime as dt\n",
    "import time\n",
    "from datetime import datetime\n",
    "from decouple import config\n",
    "from concurrent.futures import ThreadPoolExecutor\n",
    "import concurrent.futures"
   ]
  },
  {
   "cell_type": "code",
   "execution_count": 33,
   "metadata": {},
   "outputs": [],
   "source": [
    "def scrape_links_news(yesterday,date, keywords):\n",
    "    headers = {\n",
    "        'User-Agent': 'Mozilla/5.0 (Windows NT 10.0; Win64; x64) AppleWebKit/537.36 (KHTML, like Gecko) Chrome/117.0.0.0 Safari/537.36'\n",
    "    }\n",
    "    url = f\"https://jateng.antaranews.com/search?q={keywords}&startDate={yesterday}&endDate={date}&submit=Submit\"\n",
    "    response = requests.get(url, headers=headers)\n",
    "    soup = BeautifulSoup(response.text, \"html.parser\")\n",
    "    articles = soup.find_all('article',{\"class\": \"simple-post simple-big clearfix\"})\n",
    "\n",
    "    page_links = []\n",
    "    for article in articles:\n",
    "        link = article.find('a')['href']\n",
    "        page_links.append(link)\n",
    "    print(f\"data{len(page_links)} and url {url}\")\n",
    "    # logger.success({\n",
    "    #     \"message\": f\"Scraped {len(page_links)} links from page {page_number} when {date}\"\n",
    "    #     })\n",
    "    \n",
    "    return page_links"
   ]
  },
  {
   "cell_type": "code",
   "execution_count": 34,
   "metadata": {},
   "outputs": [],
   "source": [
    "def scrape_link_per_day(date, keywords,max_threads=5):\n",
    "    page_links = None\n",
    "    date = dt.datetime.strptime(date, \"%Y-%m-%d\")\n",
    "    formatted_date = date.strftime(\"%d-%m-%Y\")\n",
    "    \n",
    "    yesterday = date - dt.timedelta(days=1)\n",
    "    yesterday = yesterday.strftime(\"%d-%m-%Y\")\n",
    "    \n",
    "    page_links= scrape_links_news(yesterday,formatted_date, keywords)\n",
    "\n",
    "\n",
    "    return page_links"
   ]
  },
  {
   "cell_type": "code",
   "execution_count": 35,
   "metadata": {},
   "outputs": [
    {
     "name": "stdout",
     "output_type": "stream",
     "text": [
      "data1 and url https://jateng.antaranews.com/search?q=jokowi&startDate=31-10-2023&endDate=01-11-2023&submit=Submit\n"
     ]
    }
   ],
   "source": [
    "link=scrape_link_per_day(\"2023-11-01\",'jokowi')"
   ]
  },
  {
   "cell_type": "code",
   "execution_count": 36,
   "metadata": {},
   "outputs": [
    {
     "name": "stdout",
     "output_type": "stream",
     "text": [
      "['https://jateng.antaranews.com/berita/513321/ikn-access-toll-road-work-55-percent-complete-jokowi']\n"
     ]
    }
   ],
   "source": [
    "print(link)"
   ]
  },
  {
   "cell_type": "code",
   "execution_count": 37,
   "metadata": {},
   "outputs": [],
   "source": [
    "def scrape_url(url,max_retries=2):\n",
    "    retries = 0\n",
    "    while retries < max_retries:\n",
    "            try:\n",
    "                headers = {\n",
    "                    'User-Agent': 'Mozilla/5.0 (Windows NT 10.0; Win64; x64) AppleWebKit/537.36 (KHTML, like Gecko) Chrome/117.0.0.0 Safari/537.36'\n",
    "                }\n",
    "                response = requests.get(url, headers=headers)\n",
    "                if response.status_code == 200:\n",
    "                    soup = BeautifulSoup(response.text, 'html.parser')\n",
    "\n",
    "                    # element Title \n",
    "                    title_elem = soup.find('h1',{\"class\": \"post-title\"})\n",
    "                    title_text = title_elem.text.strip() if title_elem else \"Title not found\"\n",
    "                    # element Date\n",
    "                    date_elem = soup.find('span', {\"class\": \"article-date\"})\n",
    "                    date_text = date_elem.text.strip() if date_elem else \"Date not found\"\n",
    "                    # locale.setlocale(locale.LC_TIME, 'en_US.UTF-8')\n",
    "                    month_names_id = {\n",
    "                        'Januari': 'January',\n",
    "                        'Februari': 'February',\n",
    "                        'Maret': 'March',\n",
    "                        'April': 'April',\n",
    "                        'Mei': 'May',\n",
    "                        'Juni': 'June',\n",
    "                        'Juli': 'July',\n",
    "                        'Agustus': 'August',\n",
    "                        'September': 'September',\n",
    "                        'Oktober': 'October',\n",
    "                        'November': 'November',\n",
    "                        'Desember': 'December',\n",
    "                    }\n",
    "\n",
    "                    day_names_id = {\n",
    "                        'Senin': 'Monday',\n",
    "                        'Selasa': 'Tuesday',\n",
    "                        'Rabu': 'Wednesday',\n",
    "                        'Kamis': 'Thursday',\n",
    "                        'Jumat': 'Friday',\n",
    "                        'Sabtu': 'Saturday',\n",
    "                        'Minggu': 'Sunday',\n",
    "                    }\n",
    "\n",
    "                    date_text = \"Thursday, 23 November 2023 14:07 WIB\"\n",
    "\n",
    "                    for ind, eng in month_names_id.items():\n",
    "                        date_text = date_text.replace(ind, eng)\n",
    "\n",
    "                    for ind, eng in day_names_id.items():\n",
    "                        date_text = date_text.replace(ind, eng)\n",
    "\n",
    "                    date_obj = datetime.strptime(date_text, '%A, %d %B %Y %H:%M %Z')\n",
    "                    formatted_date = date_obj.strftime('%Y-%m-%d %H:%M:%S')\n",
    "\n",
    "                    body_elem = soup.find('div', {\"itemprop\": \"articleBody\"})\n",
    "                    if body_elem:\n",
    "                        content_text = body_elem.text\n",
    "                        content_text = content_text.replace('\\n', '').replace('\\r', '').replace('\\t', '')\n",
    "                        content_text = ' '.join(content_text.split())\n",
    "                    else:\n",
    "                        content_text =\"Content not found\"\n",
    "\n",
    "                    return {\n",
    "                        'title': title_text,\n",
    "                        'date': formatted_date,\n",
    "                        'content': content_text,\n",
    "                        'link': url\n",
    "                    }\n",
    "                else:\n",
    "                    # logger.error(\n",
    "                    #     {\"message\": f\"Failed to retrieve data from {url}: Status Code {response.status_code}\"}\n",
    "                    #     )\n",
    "                    print('hellow')\n",
    "            except requests.exceptions.RequestException as e:\n",
    "                # logger.error({\n",
    "                #     \"message\":f\"Error fetching URL '{url}': {e}\"\n",
    "                # })\n",
    "                print(e)\n",
    "            except Exception as e:\n",
    "                # logger.error({\n",
    "                #     \"message\":f\"Error processing URL '{url}': {e}\"\n",
    "                # })\n",
    "                print(e)\n",
    "            retries += 1\n",
    "            if retries < max_retries:\n",
    "                # logger.info({\n",
    "                #     \"message\":f\"Retrying {url} (Attempt {retries}/{max_retries})\"\n",
    "                # })\n",
    "                print(f\"Retrying {url} (Attempt {retries}/{max_retries})\")\n",
    "                time.sleep(5)  # You can adjust the delay as needed\n",
    "    return None       \n"
   ]
  },
  {
   "cell_type": "code",
   "execution_count": 38,
   "metadata": {},
   "outputs": [],
   "source": [
    "url='https://jateng.antaranews.com/berita/515802/jelang-akhir-tugas-dedy-yon-pamitan-ke-dprd-kota-tegal'\n",
    "cek=scrape_url(url)"
   ]
  },
  {
   "cell_type": "code",
   "execution_count": 39,
   "metadata": {},
   "outputs": [
    {
     "name": "stdout",
     "output_type": "stream",
     "text": [
      "{'title': 'Jelang akhir tugas, Dedy Yon pamitan ke DPRD Kota Tegal', 'date': '2023-11-23 14:07:00', 'content': 'Tegal (ANTARA) - Menjelang berakhirnya masa jabatan Wali Kota Tegal, H. Dedy Yon Supriyono yang masa tugasnya berakhir pada 31 Desember 2023, pamitan kepada anggota DPRD Kota Tegal. Pamitan tersebut disampaikan Dedy Yon pada Rapat Paripurna DPRD Kota Tegal dengan agenda Pengumuman Pemberhentian Wali Kota Tegal dan Wakil Wali Kota Tegal Masa Jabatan 2019-2023, Kamis (23/11/2023).Wali Kota Tegal Dedy Yon dan Wakil Wali Kota Jumadi menunaikan tugas pada periode 2019-2024.Dalam kesempatan tersebut Wali Kota Tegal Dedy Yon Supriyono menyampaikan bahwa semua perjalanan memiliki batas akhir, setiap pertemuan ada perpisahan.“Batas waktu saya untuk melaksanakan pengabdian sebagai Wali Kota Tegal akan berakhir 31 Desember 2023 nanti,” ujar Wali Kota Tegal. Ia menyampaikan ucapan terima kasih kepada masyarakat Kota Tegal dan wakil rakyat yang telah memberi kepercayaan kepadanya untuk memimpin Kota Tegal selama ini.Termasuk kepada Jajaran Pemerintah Kota Tegal yang selama ini bersama-sama merumuskan program-program kerja yang baik dan menyejahterakan masyarakat Kota Tegal, meningkatkan pelayanan kepada warga Kota Tegal serta membangun dan menorehkan prestasi yang membanggakan bagi Kota Tegal. Di depan anggota DPRD Kota Tegal dan undangan, Wali Kota Tegal juga menyampaikan permohonan maaf untuk setiap kekurangan baik disengaja maupun tidak, baik dalam bentuk kebijakan, ucapan dan tingkah laku.“Sebagai manusia biasa, saya yakin dan percaya, jika tugas kami dianggap baik, maka Pemerintahan yang akan datang dapat melanjutkan pekerjaan itu hingga paripurna. Untuk setiap kekurangan baik disengaja maupun tidak, baik dalam bentuk kebijakan, ucapan dan tingkah laku, saya mohon dibukakan pintu maaf yang sebesar-besarnya. kekeliruan adalah tanda bahwa kita telah berbuat, karena hanya orang yang tidak berbuat apa-apa, tentu tidak akan pernah membuat kesalahan,” kata Dedy Yon Supriyono.Menurutnya keberhasilan pelaksanaan program pemerintah adalah dukungan semua pihak, saat ini program-program kerja Pemerintah Kota Tegal bagi warga sebagian besar sudah dilaksanakan, dan beberapa program masih dan sedang berjalan. Ia berharap penggantinya tetap dapat menjaga kerjasama yang baik dengan DPRD Kota Tegal dan program-program kerja yang masih berjalan bisa berjalan dengan baik dan selesai tepat waktu sesuai dengan rencana dan hasilnya dapat dirasakan bukan hanya di masa kepemimpinannya namun juga memberikan efek positif di masa selanjutnya. Ketua DPRD Kota Tegal Kusnendro dalam rapat Paripurna tersebut menyampaikan bahwa pengumuman pemberhentian Wali Kota dan Wakil Wali Kota masa jabatan 2019-2024 untuk memberitahukan bahwa masa jabatan Wali Kota dan Wakil Wali Kota akan berakhir pada 31 Desember 2023.Ketua DPRD menyampaikan, berdasarkan ketentuan Pasal 79 ayat (1) Undang-undang nomor 23 tahun 2014 tentang Pemerintahan Daerah sebagaimana telah diubah terakhir dengan Undang-undang nomor 11 tahun 2020 tentang Cipta Kerja, yang menyatakan bahwa pemberhentian kepala daerah dan/atau wakil kepala daerah diumumkan oleh Pimpinan DPRD dalam rapat Paripurna.Setelah melaksanakan Rapat Paripurna, kemudian pihaknya akan meneruskan dengan mengusulkan kepada Menteri Dalam Negeri melalui Gubernur sebagai wakil Pemerintah Pusat untuk mendapatkan penetapan pemberhentian Wali Kota dan Wakil Wali Kota Tegal. ***', 'link': 'https://jateng.antaranews.com/berita/515802/jelang-akhir-tugas-dedy-yon-pamitan-ke-dprd-kota-tegal'}\n"
     ]
    }
   ],
   "source": [
    "print(cek)"
   ]
  },
  {
   "cell_type": "code",
   "execution_count": null,
   "metadata": {},
   "outputs": [],
   "source": []
  }
 ],
 "metadata": {
  "kernelspec": {
   "display_name": "base",
   "language": "python",
   "name": "python3"
  },
  "language_info": {
   "codemirror_mode": {
    "name": "ipython",
    "version": 3
   },
   "file_extension": ".py",
   "mimetype": "text/x-python",
   "name": "python",
   "nbconvert_exporter": "python",
   "pygments_lexer": "ipython3",
   "version": "3.11.4"
  }
 },
 "nbformat": 4,
 "nbformat_minor": 2
}
