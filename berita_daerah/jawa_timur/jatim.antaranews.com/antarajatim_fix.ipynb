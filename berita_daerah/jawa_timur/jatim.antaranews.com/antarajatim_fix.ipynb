{
 "cells": [
  {
   "cell_type": "code",
   "execution_count": 1,
   "metadata": {},
   "outputs": [],
   "source": [
    "import requests\n",
    "from bs4 import BeautifulSoup\n",
    "import datetime as dt\n",
    "import time\n",
    "from datetime import datetime\n",
    "from decouple import config\n",
    "from concurrent.futures import ThreadPoolExecutor\n",
    "import concurrent.futures"
   ]
  },
  {
   "cell_type": "code",
   "execution_count": 4,
   "metadata": {},
   "outputs": [],
   "source": [
    "def scrape_links_news(yesterday,date, keywords,page_number):\n",
    "\n",
    "    headers = {\n",
    "        'User-Agent': 'Mozilla/5.0 (Windows NT 10.0; Win64; x64) AppleWebKit/537.36 (KHTML, like Gecko) Chrome/117.0.0.0 Safari/537.36'\n",
    "    }\n",
    "    url = f\"https://jatim.antaranews.com/search?q={keywords}&startDate={yesterday}&endDate={date}&page={page_number}\"\n",
    "    response = requests.get(url, headers=headers)\n",
    "    soup = BeautifulSoup(response.text, \"html.parser\")\n",
    "    articles = soup.find_all('article',{\"class\": \"simple-post simple-big clearfix\"})\n",
    "\n",
    "    page_links = []\n",
    "    for article in articles:\n",
    "        link = article.find('a')['href']\n",
    "        page_links.append(link)\n",
    "    print(f\"data{page_number} and url {url}\")\n",
    "    # logger.success({\n",
    "    #     \"message\": f\"Scraped {len(page_links)} links from page {page_number} when {date}\"\n",
    "    #     })\n",
    "    \n",
    "    return page_links"
   ]
  },
  {
   "cell_type": "code",
   "execution_count": 5,
   "metadata": {},
   "outputs": [],
   "source": [
    "def scrape_link_per_day(date, keywords,max_threads=5):\n",
    "    page_number=1\n",
    "    page_links = None\n",
    "    date = dt.datetime.strptime(date, \"%Y-%m-%d\")\n",
    "    formatted_date = date.strftime(\"%d-%m-%Y\")\n",
    "    \n",
    "    yesterday = date - dt.timedelta(days=1)\n",
    "    yesterday = yesterday.strftime(\"%d-%m-%Y\")\n",
    "    \n",
    "    page_links= scrape_links_news(yesterday,formatted_date, keywords,page_number)\n",
    "\n",
    "\n",
    "    return page_links"
   ]
  },
  {
   "cell_type": "code",
   "execution_count": 6,
   "metadata": {},
   "outputs": [
    {
     "name": "stdout",
     "output_type": "stream",
     "text": [
      "data1 and url https://jatim.antaranews.com/search?q=jokowi&startDate=20-11-2023&endDate=21-11-2023&page=1\n"
     ]
    }
   ],
   "source": [
    "link=scrape_link_per_day(\"2023-11-21\",'jokowi')"
   ]
  },
  {
   "cell_type": "code",
   "execution_count": 7,
   "metadata": {},
   "outputs": [
    {
     "name": "stdout",
     "output_type": "stream",
     "text": [
      "['https://jatim.antaranews.com/berita/748068/jokowi-bahas-upaya-mikta-menciptakan-perdamaian-di-palestina', 'https://jatim.antaranews.com/berita/748047/puan-tidak-bahas-politik-saat-bertemu-jokowi-di-istana', 'https://jatim.antaranews.com/berita/747981/presiden-jokowi-tegaskan-indonesia-terus-dukung-perjuangan-palestina', 'https://jatim.antaranews.com/berita/747975/jokowi-lepas-pengiriman-21-ton-bantuan-tahap-kedua-untuk-palestina', 'https://jatim.antaranews.com/berita/747972/jokowi-biden-tak-tanggapi-desakan-gencatan-senjata-di-gaza']\n"
     ]
    }
   ],
   "source": [
    "print(link)"
   ]
  },
  {
   "cell_type": "code",
   "execution_count": 8,
   "metadata": {},
   "outputs": [],
   "source": [
    "def scrape_url(url,max_retries=2):\n",
    "    retries = 0\n",
    "    while retries < max_retries:\n",
    "            try:\n",
    "                headers = {\n",
    "                    'User-Agent': 'Mozilla/5.0 (Windows NT 10.0; Win64; x64) AppleWebKit/537.36 (KHTML, like Gecko) Chrome/117.0.0.0 Safari/537.36'\n",
    "                }\n",
    "                response = requests.get(url, headers=headers)\n",
    "                if response.status_code == 200:\n",
    "                    soup = BeautifulSoup(response.text, 'html.parser')\n",
    "\n",
    "                    # element Title \n",
    "                    title_elem = soup.find('h1',{\"class\": \"post-title\"})\n",
    "                    title_text = title_elem.text.strip() if title_elem else \"Title not found\"\n",
    "                    # element Date\n",
    "                    date_elem = soup.find('span', {\"class\": \"article-date\"})\n",
    "                    date_text = date_elem.text.strip() if date_elem else \"Date not found\"\n",
    "                    # locale.setlocale(locale.LC_TIME, 'en_US.UTF-8')\n",
    "                    month_names_id = {\n",
    "                        'Januari': 'January',\n",
    "                        'Februari': 'February',\n",
    "                        'Maret': 'March',\n",
    "                        'April': 'April',\n",
    "                        'Mei': 'May',\n",
    "                        'Juni': 'June',\n",
    "                        'Juli': 'July',\n",
    "                        'Agustus': 'August',\n",
    "                        'September': 'September',\n",
    "                        'Oktober': 'October',\n",
    "                        'November': 'November',\n",
    "                        'Desember': 'December',\n",
    "                    }\n",
    "                    for ind, eng in month_names_id.items():\n",
    "                            date_text = date_text.replace(ind, eng)\n",
    "                    day_names_id = {\n",
    "                                    'Senin': 'Monday',\n",
    "                                    'Selasa': 'Tuesday',\n",
    "                                    'Rabu': 'Wednesday',\n",
    "                                    'Kamis': 'Thursday',\n",
    "                                    'Jumat': 'Friday',\n",
    "                                    'Sabtu': 'Saturday',\n",
    "                                    'Minggu': 'Sunday'\n",
    "                                }\n",
    "                    for ind, eng in day_names_id.items():\n",
    "                                date_text = date_text.replace(ind, eng)\n",
    "                    # locale.setlocale(locale.LC_TIME, 'id_ID')\n",
    "                    date_obj = datetime.strptime(date_text, '%A, %d %B %Y %H:%M %Z')\n",
    "                    formatted_date = date_obj.strftime('%Y-%m-%d')\n",
    "\n",
    "                    body_elem = soup.find('div', {\"class\": \"post-content clearfix\"})\n",
    "                    if body_elem:\n",
    "                        content_text = body_elem.text\n",
    "                        content_text = content_text.replace('\\n', '').replace('\\r', '').replace('\\t', '')\n",
    "                        content_text = ' '.join(content_text.split())\n",
    "                    else:\n",
    "                        content_text =\"Content not found\"\n",
    "\n",
    "                    return {\n",
    "                        'title': title_text,\n",
    "                        'date': formatted_date,\n",
    "                        'content': content_text,\n",
    "                        'link': url\n",
    "                    }\n",
    "                else:\n",
    "                    # logger.error(\n",
    "                    #     {\"message\": f\"Failed to retrieve data from {url}: Status Code {response.status_code}\"}\n",
    "                    #     )\n",
    "                    print('hellow')\n",
    "            except requests.exceptions.RequestException as e:\n",
    "                # logger.error({\n",
    "                #     \"message\":f\"Error fetching URL '{url}': {e}\"\n",
    "                # })\n",
    "                print(e)\n",
    "            except Exception as e:\n",
    "                # logger.error({\n",
    "                #     \"message\":f\"Error processing URL '{url}': {e}\"\n",
    "                # })\n",
    "                print(e)\n",
    "            retries += 1\n",
    "            if retries < max_retries:\n",
    "                # logger.info({\n",
    "                #     \"message\":f\"Retrying {url} (Attempt {retries}/{max_retries})\"\n",
    "                # })\n",
    "                print(f\"Retrying {url} (Attempt {retries}/{max_retries})\")\n",
    "                time.sleep(5)  # You can adjust the delay as needed\n",
    "    return None       \n"
   ]
  },
  {
   "cell_type": "code",
   "execution_count": 9,
   "metadata": {},
   "outputs": [],
   "source": [
    "url='https://jatim.antaranews.com/berita/748068/jokowi-bahas-upaya-mikta-menciptakan-perdamaian-di-palestina'\n",
    "cek=scrape_url(url)"
   ]
  },
  {
   "cell_type": "code",
   "execution_count": 10,
   "metadata": {},
   "outputs": [
    {
     "name": "stdout",
     "output_type": "stream",
     "text": [
      "{'title': 'Jokowi bahas upaya MIKTA menciptakan perdamaian di Palestina', 'date': '2023-11-20', 'content': 'Jakarta (ANTARA) - Presiden Joko Widodo membahas upaya negara-negara MIKTA (Meksiko, Indonesia, Korea Selatan, Turki dan Australia) dalam menjadi jembatan menghentikan kekerasan dan menciptakan perdamaian di Gaza, Palestina.Hal itu dilakukan Presiden Joko Widodo saat menerima sejumlah delegasi MIKTA Speakers’ Consultation ke-9 yang dipimpin Ketua DPR RI Puan Maharani, di Istana Merdeka, Jakarta, Senin, sebagaimana diutarakan Wakil Menteri Luar Negeri Pahala Mansury.“Mengingat memang bahwa salah satu yang pada saat ini menjadi agenda utama kita adalah bagaimana kita bisa melakukan reform dari berbagai organisasi multilateral untuk bisa meningkatkan efektivitas dari organisasi-organisasi multilateral dalam hal menjaga perdamaian dunia,” jelas Pahala Mansury dalam keterangan tertulis yang diterima di Jakarta, Senin..Pahala menyampaikan dalam pertemuan tersebut, Presiden Joko Widodo juga menekankan mengenai upaya setiap pihak untuk dapat memastikan masyarakat di Gaza dapat menerima bantuan yang sesuai.“Kemudian memastikan adanya bantuan yang cukup, itu bisa masuk ke dalam area atau wilayah di Gaza, sehingga betul-betul masyarakat yang ada di sana bisa mendapatkan bantuan yang sesuai,” tuturnya.Baca juga: Presiden Jokowi tegaskan Indonesia terus dukung perjuangan PalestinaPertemuan juga membahas upaya menghentikan adanya peperangan di Gaza, serta bagaimana MIKTA dapat memulai sebuah proses politik untuk bisa menghasilkan solusi jangka panjang agar Palestina dapat memperoleh haknya sebagai sebuah negara merdeka.Di samping itu, Pahala mengungkapkan selain membahas kondisi yang terjadi di Palestina, pertemuan tersebut juga membahas mengenai kerja sama ekonomi. Pahala menuturkan bahwa sebagai organisasi yang terdiri dari berbagai negara kekuatan menengah, MIKTA dinilai telah memiliki kekuatan ekonomi yang cukup besar.“Tentunya bagaimana kita bisa membangun adanya kerja sama yang lebih baik lagi, khususnya yang lebih inklusif sambil juga kita melihat bagaimana keberpihakan kepada negara-negara global south untuk bisa membangun industri dalam hal membangun hilirisasi dari kekuatan-kekuatan ekonomi yang dimiliki,” ujarnya.Mengenai perubahan iklim, Kepala Negara juga membahas terkait upaya konkret MIKTA untuk mendorong adanya transisi energi yang lebih adil dan dapat membantu negara-negara selatan global untuk dapat mengembangkan energi baru terbarukan, sebagai salah satu jawaban terhadap tantangan perubahan iklim yang ada.Sementara itu dalam keterangan terpisah, Ketua DPR RI Puan Maharani menyampaikan bahwa pertemuan MIKTA Speakers’ Consultation ke-9 yang dibuka Senin, membahas mengenai dukungan parlemen terhadap kebijakan yang dilakukan oleh pemerintah masing-masing negara MIKTA.“Sehingga apa yang sudah dilakukan oleh pemerintah, akan kita laksanakan juga melalui parlemen yang ada di MIKTA,” tutur Puan.Puan juga menyampaikan, dalam pertemuan itu Presiden menegaskan kembali komitmen Indonesia terhadap perdamaian di Palestina. “Kita bersepakat bahwa dengan adanya MIKTA ini tentu saja bisa bersuara di dunia internasional,” ujar Puan.Turut mendampingi Presiden dalam pertemuan yakni Sekretaris Kabinet Pramono Anung dan Wakil Menteri Luar Negeri Pahala Mansury.', 'link': 'https://jatim.antaranews.com/berita/748068/jokowi-bahas-upaya-mikta-menciptakan-perdamaian-di-palestina'}\n"
     ]
    }
   ],
   "source": [
    "print(cek)"
   ]
  }
 ],
 "metadata": {
  "kernelspec": {
   "display_name": "base",
   "language": "python",
   "name": "python3"
  },
  "language_info": {
   "codemirror_mode": {
    "name": "ipython",
    "version": 3
   },
   "file_extension": ".py",
   "mimetype": "text/x-python",
   "name": "python",
   "nbconvert_exporter": "python",
   "pygments_lexer": "ipython3",
   "version": "3.11.4"
  }
 },
 "nbformat": 4,
 "nbformat_minor": 2
}
