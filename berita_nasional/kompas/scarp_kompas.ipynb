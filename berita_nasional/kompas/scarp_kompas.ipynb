{
 "cells": [
  {
   "cell_type": "markdown",
   "metadata": {},
   "source": [
    "## Scraping Kompas "
   ]
  },
  {
   "cell_type": "code",
   "execution_count": 1,
   "metadata": {},
   "outputs": [],
   "source": [
    "from bs4 import BeautifulSoup\n",
    "import requests\n",
    "import pandas as pd\n",
    "from datetime import datetime"
   ]
  },
  {
   "cell_type": "code",
   "execution_count": 2,
   "metadata": {},
   "outputs": [
    {
     "data": {
      "text/plain": [
       "<Response [200]>"
      ]
     },
     "execution_count": 2,
     "metadata": {},
     "output_type": "execute_result"
    }
   ],
   "source": [
    "url = \"https://indeks.kompas.com/?site=all\"\n",
    "response = requests.get(url)\n",
    "response"
   ]
  },
  {
   "cell_type": "code",
   "execution_count": 3,
   "metadata": {},
   "outputs": [
    {
     "name": "stdout",
     "output_type": "stream",
     "text": [
      "['https://money.kompas.com/read/2023/09/25/194000226/luhut-ungkap-jokowi-sudah-capek-hadiri-forum-internasional-yang-tak-ada-hasil', 'https://travel.kompas.com/read/2023/09/25/194000427/panduan-wisata-safari-beach-jateng-di-batang', 'https://umkm.kompas.com/read/2023/09/25/193937883/tips-sukses-bisnis-pengharum-mobil-bisa-dilakukan-di-rumah', 'https://www.kompas.com/food/read/2023/09/25/193930775/resep-ceviche-rujak-ikan-khas-meksiko', 'https://www.kompas.com/hype/read/2023/09/25/193914666/lirik-dan-chord-lagu-i-get-my-beat-richard-ashcroft', 'https://biz.kompas.com/read/2023/09/25/193811828/hadapi-kenaikan-harga-mendagri-segera-gelar-gerakan-pangan-murah', 'https://megapolitan.kompas.com/read/2023/09/25/19365321/heru-budi-segera-ajukan-tarif-transjakarta-bandara-rp-5000-ke-dprd-dki', 'https://www.kompas.com/hype/read/2023/09/25/193649366/lirik-dan-chord-lagu-new-york-richard-ashcroft', 'https://megapolitan.kompas.com/read/2023/09/25/19333541/thamrin-city-kini-keramaian-yang-tak-merata-di-antara-warna-warni-pakaian', 'https://nasional.kompas.com/read/2023/09/25/19320971/bersama-sang-istri-kaesang-hadiri-kopdarnas-psi-yang-bahas-usulan', 'https://nasional.kompas.com/read/2023/09/25/19315541/kabaharkam-dan-dankor-brimob-pimpin-operasi-mantap-brata-untuk-amankan', 'https://money.kompas.com/read/2023/09/25/193008426/dukung-energi-bersih-konsorsium-pgn-jgc-osaka-gas-dan-inpez-siap', 'https://tekno.kompas.com/read/2023/09/25/19300087/di-tengah-tekanan-as-bos-huawei-mengaku-sebagai-apple-fanboy-', 'https://www.kompas.com/tren/read/2023/09/25/193000065/kementerian-pupr-buka-lowongan-3.027-formasi-pppk-2023-simak-informasinya', 'https://www.kompas.com/sports/read/2023/09/25/19300078/timnas-indonesia-vs-uzbekistan-kans-garuda-perbaiki-rekor-di-16-besar', 'https://www.kompas.com/properti/read/2023/09/25/193000321/bagaimana-bisnis-hotel-bisa-bertahan-ketika-jakarta-tak-lagi-jadi-ibu', 'https://health.kompas.com/read/23I25193000368/mengenal-apa-itu-jomo-dan-manfaatnya-untuk-kesehatan-mental', 'https://bandung.kompas.com/read/2023/09/25/192927378/waspada-kebakaran-hutan-pendakian-gunung-tangkuban-parahu-dan-burangrang', 'https://surabaya.kompas.com/read/2023/09/25/192914278/hasil-otopsi-jenazah-di-kebun-tebu-situbondo-sidik-jari-rusak', 'https://bandung.kompas.com/read/2023/09/25/192902678/anak-kos-di-cimahi-jalani-sidang-pidana-karena-buang-sampah-tak-sesuai', 'https://megapolitan.kompas.com/read/2023/09/25/19280531/polisi-telah-indetifikasi-anggota-ormas-yang-serang-lapak-pedagang-pasar', 'https://nasional.kompas.com/read/2023/09/25/19264071/polri-sita-dokumen-terkait-tppu-panji-gumilang-ada-buku-tanah-dan-perjanjian', 'https://www.kompas.com/edu/read/2023/09/25/192239971/kemendikbud-lihat-hasil-asesmen-nasional-dari-rapor-pendidikan', 'https://otomotif.kompas.com/read/2023/09/25/192200615/enggak-asal-berhenti-sopir-harus-tahu-4-jenis-rem-pada-truk', 'https://megapolitan.kompas.com/read/2023/09/25/19203401/klhk-diminta-tindak-pabrik-di-bekasi-yang-dianggap-bikin-alat-ukur', 'https://megapolitan.kompas.com/read/2023/09/25/19202781/dishub-dki-tunggu-lrt-jabodebek-beroperasi-komersil-untuk-kaji-usul', 'https://nasional.kompas.com/read/2023/09/25/19134601/kopdarnas-psi-bahas-kaesang-ketum-tak-mulai-mulai-kader-merangsek-masuk-ke', 'https://megapolitan.kompas.com/read/2023/09/25/19134651/tak-ada-tanda-penganiayaan-pada-lansia-yang-tewas-diduga-gantung-diri-di', 'https://yogyakarta.kompas.com/read/2023/09/25/191312378/website-pn-sleman-sempat-diretas-menu-tautan-internal-muncul-slot-judi', 'https://regional.kompas.com/read/2023/09/25/191248078/baru-sepekan-lengser-eks-walkot-palembang-harnojoyo-diperiksa-jaksa', 'https://nasional.kompas.com/read/2023/09/25/19113801/jokowi-bertemu-ketum-hanura-oso-di-istana-bahas-soal-politik', 'https://money.kompas.com/read/2023/09/25/191000626/warga--war-tiket-uji-coba-kereta-cepat-tak-sesulit-berburu-tiket-k-pop', 'https://tekno.kompas.com/read/2023/09/25/19100097/samsung-sudah-siapkan-galaxy-s25-ini-buktinya', 'https://travel.kompas.com/read/2023/09/25/190900427/dampak-kebakaran-bromo-kerugian-capai-rp-89-76-miliar', 'https://bandung.kompas.com/read/2023/09/25/190557778/pabrik-kemoceng-di-bandung-terbakar-karyawan-lari-berhamburan-selamatkan', 'https://www.kompas.com/food/read/2023/09/25/190500275/resep-ayam-bumbu-kemangi-aromanya-menggugah-selera', 'https://surabaya.kompas.com/read/2023/09/25/190413378/ditengok-kak-seto-siswi-sd-korban-tusuk-bakso-bercita-cita-jadi-polwan', 'https://regional.kompas.com/read/2023/09/25/19041221/jaga-ketahanan-pangan-di-semarang-mbak-ita-luncurkan-program-perdu-semerbak', 'https://megapolitan.kompas.com/read/2023/09/25/19031971/pekan-ini-polda-metro-minta-keterangan-ahli-terkait-kasus-rumah-produksi', 'https://www.kompas.com/hype/read/2023/09/25/190318466/bawa-nostalgia-di-petualangan-sherina-2-mira-lesmana-film-itu-milik']\n"
     ]
    }
   ],
   "source": [
    "links=[]\n",
    "# jumlah Page yang diambil \n",
    "jumlah_index = 1\n",
    "\n",
    "for index in range(jumlah_index):\n",
    "    url = f\"https://indeks.kompas.com/?site=all&page={index+1}\"  \n",
    "    response = requests.get(url)\n",
    "    soup = BeautifulSoup(response.text, \"html.parser\")\n",
    "    articles = soup.find_all('h3', {\"class\": \"article__title article__title--medium\"})\n",
    "    \n",
    "    for article in articles:\n",
    "        link = article.find('a')['href']\n",
    "        links.append(link)\n",
    "    \n",
    "print(links)"
   ]
  },
  {
   "cell_type": "code",
   "execution_count": 4,
   "metadata": {},
   "outputs": [],
   "source": [
    "title = []\n",
    "author = []\n",
    "date = []\n",
    "content = []\n",
    "\n",
    "for link in links:\n",
    "    url = link\n",
    "    response = requests.get(url)\n",
    "    soup = BeautifulSoup(response.text, \"html.parser\")\n",
    "    \n",
    "    title_elem = soup.find('h1', {\"class\": \"read__title\"})\n",
    "    if title_elem:\n",
    "        title_text = title_elem.text.strip()\n",
    "    else:\n",
    "        title_text = \"Title not found\"\n",
    "    title.append(title_text)\n",
    "    \n",
    "\n",
    "    author_elem = soup.find('div', {\"class\": \"credit-title-name\"})\n",
    "    if author_elem:\n",
    "        author_text = author_elem.text.strip()\n",
    "    else:\n",
    "        author_text = \"Author not found\"\n",
    "    author.append(author_text)\n",
    "    \n",
    "\n",
    "    date_elem = soup.find('div', {\"class\": \"read__time\"})\n",
    "    if date_elem:\n",
    "        date_text = date_elem.text.strip()\n",
    "    else:\n",
    "        date_text = \"Date not found\"\n",
    "    date.append(date_text)\n",
    "    \n",
    "    body_elem = soup.find('div', {\"class\": \"read__content\"})\n",
    "    \n",
    "    if body_elem:\n",
    "        content_elem = body_elem.find_all('p')\n",
    "        content_text = \"\"\n",
    "        for p in content_elem:\n",
    "            content_text += p.text.strip() + \"\\n\"\n",
    "        \n",
    "        if content_text.strip():\n",
    "            content.append(content_text)\n",
    "        else:\n",
    "            content.append(\"Content not found\")\n",
    "    else:\n",
    "        content.append(\"Content not found\")\n",
    "    \n",
    "    "
   ]
  },
  {
   "cell_type": "code",
   "execution_count": 5,
   "metadata": {},
   "outputs": [
    {
     "data": {
      "text/html": [
       "<div>\n",
       "<style scoped>\n",
       "    .dataframe tbody tr th:only-of-type {\n",
       "        vertical-align: middle;\n",
       "    }\n",
       "\n",
       "    .dataframe tbody tr th {\n",
       "        vertical-align: top;\n",
       "    }\n",
       "\n",
       "    .dataframe thead th {\n",
       "        text-align: right;\n",
       "    }\n",
       "</style>\n",
       "<table border=\"1\" class=\"dataframe\">\n",
       "  <thead>\n",
       "    <tr style=\"text-align: right;\">\n",
       "      <th></th>\n",
       "      <th>title</th>\n",
       "      <th>author</th>\n",
       "      <th>date</th>\n",
       "      <th>content</th>\n",
       "      <th>link</th>\n",
       "    </tr>\n",
       "  </thead>\n",
       "  <tbody>\n",
       "    <tr>\n",
       "      <th>0</th>\n",
       "      <td>Luhut Ungkap Jokowi Sudah Capek Hadiri Forum I...</td>\n",
       "      <td>Ade Miranti Karunia,\\nAkhdi Martin Pratama</td>\n",
       "      <td>Kompas.com - 25/09/2023, 19:40 WIB</td>\n",
       "      <td>\\nJAKARTA, KOMPAS.com - Menteri Koordinator Bi...</td>\n",
       "      <td>https://money.kompas.com/read/2023/09/25/19400...</td>\n",
       "    </tr>\n",
       "    <tr>\n",
       "      <th>1</th>\n",
       "      <td>Panduan Wisata Safari Beach Jateng di Batang</td>\n",
       "      <td>Ulfa Arieza</td>\n",
       "      <td>Kompas.com - 25/09/2023, 19:40 WIB</td>\n",
       "      <td>\\nKOMPAS.com - Safari Beach Jateng adalah sala...</td>\n",
       "      <td>https://travel.kompas.com/read/2023/09/25/1940...</td>\n",
       "    </tr>\n",
       "    <tr>\n",
       "      <th>2</th>\n",
       "      <td>Tips Sukses Bisnis Pengharum Mobil, Bisa Dilak...</td>\n",
       "      <td>Nur Wahyu Pratama,\\nBambang P. Jatmiko</td>\n",
       "      <td>Kompas.com - 25/09/2023, 19:39 WIB</td>\n",
       "      <td>\\nKompas.com – Zaman sekarang, mobil sudah men...</td>\n",
       "      <td>https://umkm.kompas.com/read/2023/09/25/193937...</td>\n",
       "    </tr>\n",
       "    <tr>\n",
       "      <th>3</th>\n",
       "      <td>Resep Ceviche, Rujak Ikan Khas Meksiko</td>\n",
       "      <td>Yuharrani Aisyah</td>\n",
       "      <td>Kompas.com - 25/09/2023, 19:39 WIB</td>\n",
       "      <td>\\nKOMPAS.com - Ceviche terbuat dari irisan ika...</td>\n",
       "      <td>https://www.kompas.com/food/read/2023/09/25/19...</td>\n",
       "    </tr>\n",
       "    <tr>\n",
       "      <th>4</th>\n",
       "      <td>Lirik dan Chord Lagu I Get My Beat - Richard A...</td>\n",
       "      <td>Ahmad Khoirul Anam,\\nRheisnayu Cyntara</td>\n",
       "      <td>Kompas.com - 25/09/2023, 19:39 WIB</td>\n",
       "      <td>JAKARTA, KOMPAS.com – Musisi asal Inggris, Ric...</td>\n",
       "      <td>https://www.kompas.com/hype/read/2023/09/25/19...</td>\n",
       "    </tr>\n",
       "  </tbody>\n",
       "</table>\n",
       "</div>"
      ],
      "text/plain": [
       "                                               title  \\\n",
       "0  Luhut Ungkap Jokowi Sudah Capek Hadiri Forum I...   \n",
       "1       Panduan Wisata Safari Beach Jateng di Batang   \n",
       "2  Tips Sukses Bisnis Pengharum Mobil, Bisa Dilak...   \n",
       "3             Resep Ceviche, Rujak Ikan Khas Meksiko   \n",
       "4  Lirik dan Chord Lagu I Get My Beat - Richard A...   \n",
       "\n",
       "                                       author  \\\n",
       "0  Ade Miranti Karunia,\\nAkhdi Martin Pratama   \n",
       "1                                 Ulfa Arieza   \n",
       "2      Nur Wahyu Pratama,\\nBambang P. Jatmiko   \n",
       "3                            Yuharrani Aisyah   \n",
       "4      Ahmad Khoirul Anam,\\nRheisnayu Cyntara   \n",
       "\n",
       "                                 date  \\\n",
       "0  Kompas.com - 25/09/2023, 19:40 WIB   \n",
       "1  Kompas.com - 25/09/2023, 19:40 WIB   \n",
       "2  Kompas.com - 25/09/2023, 19:39 WIB   \n",
       "3  Kompas.com - 25/09/2023, 19:39 WIB   \n",
       "4  Kompas.com - 25/09/2023, 19:39 WIB   \n",
       "\n",
       "                                             content  \\\n",
       "0  \\nJAKARTA, KOMPAS.com - Menteri Koordinator Bi...   \n",
       "1  \\nKOMPAS.com - Safari Beach Jateng adalah sala...   \n",
       "2  \\nKompas.com – Zaman sekarang, mobil sudah men...   \n",
       "3  \\nKOMPAS.com - Ceviche terbuat dari irisan ika...   \n",
       "4  JAKARTA, KOMPAS.com – Musisi asal Inggris, Ric...   \n",
       "\n",
       "                                                link  \n",
       "0  https://money.kompas.com/read/2023/09/25/19400...  \n",
       "1  https://travel.kompas.com/read/2023/09/25/1940...  \n",
       "2  https://umkm.kompas.com/read/2023/09/25/193937...  \n",
       "3  https://www.kompas.com/food/read/2023/09/25/19...  \n",
       "4  https://www.kompas.com/hype/read/2023/09/25/19...  "
      ]
     },
     "execution_count": 5,
     "metadata": {},
     "output_type": "execute_result"
    }
   ],
   "source": [
    "data = {'title': title,\n",
    "        'author' : author,\n",
    "        'date': date,\n",
    "        'content' : content,\n",
    "        'link' : links\n",
    "        }\n",
    "\n",
    "df = pd.DataFrame(data)\n",
    "\n",
    "df.head()"
   ]
  },
  {
   "cell_type": "markdown",
   "metadata": {},
   "source": [
    "Simpan Data "
   ]
  },
  {
   "cell_type": "code",
   "execution_count": 6,
   "metadata": {},
   "outputs": [
    {
     "name": "stdout",
     "output_type": "stream",
     "text": [
      "Data has been saved to ./excel/kompas_2023-09-25_19-41-05.xlsx\n"
     ]
    }
   ],
   "source": [
    "current_datetime = datetime.now().strftime(\"%Y-%m-%d_%H-%M-%S\")\n",
    "excel_file_name = f'./excel/kompas_{current_datetime}.xlsx'\n",
    "df.to_excel(excel_file_name, index=False)\n",
    "\n",
    "print(f'Data has been saved to {excel_file_name}')"
   ]
  }
 ],
 "metadata": {
  "kernelspec": {
   "display_name": "base",
   "language": "python",
   "name": "python3"
  },
  "language_info": {
   "codemirror_mode": {
    "name": "ipython",
    "version": 3
   },
   "file_extension": ".py",
   "mimetype": "text/x-python",
   "name": "python",
   "nbconvert_exporter": "python",
   "pygments_lexer": "ipython3",
   "version": "3.11.4"
  },
  "orig_nbformat": 4
 },
 "nbformat": 4,
 "nbformat_minor": 2
}
