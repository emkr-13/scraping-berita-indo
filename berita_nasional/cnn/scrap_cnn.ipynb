{
 "cells": [
  {
   "cell_type": "markdown",
   "metadata": {},
   "source": [
    "## Scraping CNN"
   ]
  },
  {
   "cell_type": "code",
   "execution_count": 2,
   "metadata": {},
   "outputs": [],
   "source": [
    "from bs4 import BeautifulSoup\n",
    "import requests\n",
    "import pandas as pd\n",
    "from datetime import datetime"
   ]
  },
  {
   "cell_type": "code",
   "execution_count": 3,
   "metadata": {},
   "outputs": [
    {
     "data": {
      "text/plain": [
       "<Response [200]>"
      ]
     },
     "execution_count": 3,
     "metadata": {},
     "output_type": "execute_result"
    }
   ],
   "source": [
    "url = \"https://www.cnnindonesia.com/indeks\"\n",
    "response = requests.get(url)\n",
    "response"
   ]
  },
  {
   "cell_type": "code",
   "execution_count": 29,
   "metadata": {},
   "outputs": [
    {
     "name": "stdout",
     "output_type": "stream",
     "text": [
      "Pemilu\n"
     ]
    }
   ],
   "source": [
    "# cek handling of data points\n",
    "\n",
    "url = f\"https://www.cnnindonesia.com/nasional/20230924202058-617-1003148/gelar-kopdarnas-besok-psi-bakal-bahas-usulan-kaesang-jadi-ketum\"  \n",
    "response = requests.get(url)\n",
    "soup = BeautifulSoup(response.text, \"html.parser\")\n",
    "\n",
    "# Title Berita\n",
    "# articles = soup.find('h1', {\"class\": \"mb-2 text-[28px] leading-9 text-cnn_black\"})\n",
    "# print(articles.text.strip())\n",
    "\n",
    "# author berita\n",
    "# articles = soup.find('span', {\"class\": \"text-cnn_red\"})\n",
    "# print(articles.text.strip())\n",
    "\n",
    "# date berita\n",
    "# articles = soup.find('div', {\"class\": \"text-cnn_grey text-sm mb-4\"})\n",
    "# print(articles.text.strip())\n",
    "\n",
    "# content berita\n",
    "# content=[]\n",
    "# body_elem = soup.find_all('div', {\"class\": \"detail-text text-cnn_black text-sm grow min-w-0\"})\n",
    "\n",
    "# for elem in body_elem:\n",
    "#     # Find all <p> elements within each div element\n",
    "#     content_elem = elem.find_all('p')\n",
    "#     content_text = \"\"\n",
    "#     for p in content_elem:\n",
    "#         content_text += p.text.strip() + \"\\n\"\n",
    "#     if content_text.strip():\n",
    "#         content.append(content_text)\n",
    "#     else:\n",
    "#         content.append(\"Content not found\")\n",
    "\n",
    "# print(content)\n",
    "\n",
    "# Category\n",
    "# articles = soup.find('a', {\"dtr-sec\": \"subkanal\"})\n",
    "# print(articles.text.strip())\n",
    "\n"
   ]
  },
  {
   "cell_type": "code",
   "execution_count": null,
   "metadata": {},
   "outputs": [],
   "source": [
    "# links=[]\n",
    "# # jumlah Page yang diambil \n",
    "# jumlah_index = 1\n",
    "\n",
    "# for index in range(jumlah_index):\n",
    "#     url = f\"https://www.cnnindonesia.com/indeks/2/{index+1}\"  \n",
    "#     response = requests.get(url)\n",
    "#     soup = BeautifulSoup(response.text, \"html.parser\")\n",
    "#     articles = soup.find_all('article', {\"class\": \"flex-grow\"})\n",
    "    \n",
    "#     for article in articles:\n",
    "#         link = article.find('a')['href']\n",
    "#         links.append(link)\n",
    "    \n",
    "# print(links)"
   ]
  },
  {
   "cell_type": "code",
   "execution_count": null,
   "metadata": {},
   "outputs": [],
   "source": [
    "# title = []\n",
    "# author = []\n",
    "# date = []\n",
    "# content = []\n",
    "\n",
    "# for link in links:\n",
    "#     url = link\n",
    "#     response = requests.get(url)\n",
    "#     soup = BeautifulSoup(response.text, \"html.parser\")\n",
    "    \n",
    "#     title_elem = soup.find('h1', {\"class\": \"mb-2 text-[28px] leading-9 text-cnn_black\"})\n",
    "#     if title_elem:\n",
    "#         title_text = title_elem.text.strip()\n",
    "#     else:\n",
    "#         title_text = \"Title not found\"\n",
    "#     title.append(title_text)\n",
    "    \n",
    "\n",
    "#     author_elem = soup.find('div', {\"class\": \"detail__author\"})\n",
    "#     if author_elem:\n",
    "#         author_text = author_elem.text.strip()\n",
    "#     else:\n",
    "#         author_text = \"Author not found\"\n",
    "#     author.append(author_text)\n",
    "    \n",
    "\n",
    "#     date_elem = soup.find('div', {\"class\": \"detail__date\"})\n",
    "#     if date_elem:\n",
    "#         date_text = date_elem.text.strip()\n",
    "#     else:\n",
    "#         date_text = \"Date not found\"\n",
    "#     date.append(date_text)\n",
    "    \n",
    "#     body_elem = soup.find('div', {\"class\": \"detail__body\"})\n",
    "    \n",
    "#     if body_elem:\n",
    "#         content_elem = body_elem.find_all('p')\n",
    "#         content_text = \"\"\n",
    "#         for p in content_elem:\n",
    "#             content_text += p.text.strip() + \"\\n\"\n",
    "        \n",
    "#         if content_text.strip():\n",
    "#             content.append(content_text)\n",
    "#         else:\n",
    "#             content.append(\"Content not found\")\n",
    "#     else:\n",
    "#         content.append(\"Content not found\")\n",
    "    \n",
    "    "
   ]
  },
  {
   "cell_type": "code",
   "execution_count": null,
   "metadata": {},
   "outputs": [],
   "source": [
    "# data = {'title': title,\n",
    "#         'author' : author,\n",
    "#         'date': date,\n",
    "#         'content' : content,\n",
    "#         'link' : links\n",
    "#         }\n",
    "\n",
    "# df = pd.DataFrame(data)\n",
    "\n",
    "# df.head()"
   ]
  },
  {
   "cell_type": "markdown",
   "metadata": {},
   "source": [
    "Cetak dan simpan"
   ]
  },
  {
   "cell_type": "code",
   "execution_count": null,
   "metadata": {},
   "outputs": [],
   "source": [
    "# current_datetime = datetime.now().strftime(\"%Y-%m-%d_%H-%M-%S\")\n",
    "# excel_file_name = f'./excel/cnn_{current_datetime}.xlsx'\n",
    "# df.to_excel(excel_file_name, index=False)\n",
    "\n",
    "# print(f'Data has been saved to {excel_file_name}')"
   ]
  }
 ],
 "metadata": {
  "kernelspec": {
   "display_name": "base",
   "language": "python",
   "name": "python3"
  },
  "language_info": {
   "codemirror_mode": {
    "name": "ipython",
    "version": 3
   },
   "file_extension": ".py",
   "mimetype": "text/x-python",
   "name": "python",
   "nbconvert_exporter": "python",
   "pygments_lexer": "ipython3",
   "version": "3.11.4"
  },
  "orig_nbformat": 4
 },
 "nbformat": 4,
 "nbformat_minor": 2
}
