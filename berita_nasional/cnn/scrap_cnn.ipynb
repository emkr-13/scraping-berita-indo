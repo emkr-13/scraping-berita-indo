{
 "cells": [
  {
   "cell_type": "markdown",
   "metadata": {},
   "source": [
    "## Scraping CNN"
   ]
  },
  {
   "cell_type": "code",
   "execution_count": 2,
   "metadata": {},
   "outputs": [],
   "source": [
    "from bs4 import BeautifulSoup\n",
    "import requests\n",
    "import pandas as pd\n",
    "from datetime import datetime"
   ]
  },
  {
   "cell_type": "code",
   "execution_count": 3,
   "metadata": {},
   "outputs": [
    {
     "data": {
      "text/plain": [
       "<Response [200]>"
      ]
     },
     "execution_count": 3,
     "metadata": {},
     "output_type": "execute_result"
    }
   ],
   "source": [
    "url = \"https://www.cnnindonesia.com/indeks\"\n",
    "response = requests.get(url)\n",
    "response"
   ]
  },
  {
   "cell_type": "code",
   "execution_count": 13,
   "metadata": {},
   "outputs": [
    {
     "name": "stdout",
     "output_type": "stream",
     "text": [
      "['Partai Solidaritas Indonesia (PSI) bakal membahas usulan dari kader yang meminta putra bungsu Presiden RI Joko Widodo (Jokowi), Kaesang Pangarep, menjadi ketua umum parpol tersebut.\\nSekretaris Jenderal PSI Isyana Bagoes Oka mengatakan sejak Kaesang bergabung dengan PSI, banyak aspirasi dari kader di tingkat\\xa0DPW dan DPD yang ingin putra bungsu Jokowi\\xa0itu jadi ketua umum.\\n\"Senin besok rencananya PSI akan menggelar Kopi Darat Nasional (Kopdarnas) yang mengumpulkan pengurus PSI se-Indonesia. Usulan-usulan itu akan kami diskusikan dan secara intensif dalam Kopdarnas itu,\" kata Isyana saat dihubungi, Minggu (24/9).\\nADVERTISEMENT\\nSCROLL TO CONTINUE WITH CONTENT\\n\"Mohon ditunggu saja apa rekomendasi dari kawan-kawan se-Indonesia,\" imbuh dia.\\n\\nKaesang resmi menjadi kader PSI pada Sabtu (23/9). Sejumlah petinggi PSI memberikan kartu tanda anggota secara simbolis kepada Kaesang di kediaman Presiden Jokowi di Solo, Jawa Tengah.\\nKaesang mengaku sudah meminta restu kepada ayahnya dan kakaknya, Gibran Rakabuming Raka yang kini menjabat sebagai Wali Kota Solo.\\n\"Minta restu pasti. Tapi yang namanya beliau itu pasti kan sibuk banget kan. Mento dapat lima menit,\" katanya.\\nSementara itu, ia enggan berkomentar banyak saat ditanya peluangnya menjadi ketua umum usai bergabung.\\n\\n']\n"
     ]
    }
   ],
   "source": [
    "# cek handling of data points\n",
    "url = f\"https://www.cnnindonesia.com/nasional/20230924202058-617-1003148/gelar-kopdarnas-besok-psi-bakal-bahas-usulan-kaesang-jadi-ketum\"  \n",
    "response = requests.get(url)\n",
    "soup = BeautifulSoup(response.text, \"html.parser\")\n"
   ]
  },
  {
   "cell_type": "code",
   "execution_count": 21,
   "metadata": {},
   "outputs": [
    {
     "name": "stdout",
     "output_type": "stream",
     "text": [
      "https://www.cnnindonesia.com/nasional/20230923172330-617-1002839/palagan-ganjar-prabowo-anies-di-jateng-kandang-banteng\n",
      "https://www.cnnindonesia.com/nasional/20230926153839-20-1003988/warga-rempang-soal-relokasi-kami-tetap-tolak-sejengkal-penggusuran\n",
      "https://www.cnnindonesia.com/nasional/20230927062455-617-1004185/projo-puji-kaesang-pimpin-psi-dukung-capres-inisial-p\n",
      "https://www.cnnindonesia.com/internasional/20230927070331-120-1004203/kebakaran-besar-saat-pesta-pernikahan-di-irak-100-tewas-150-terluka\n",
      "https://www.cnnindonesia.com/internasional/20230927063151-120-1004187/saudi-ngebet-punya-senjata-nuklir-sampai-presiden-icc-diburu-rusia\n",
      "https://www.cnnindonesia.com/internasional/20230926201813-106-1004125/profil-presiden-timor-leste-ramos-horta-yang-sebut-nama-jokowi-di-pbb\n",
      "https://www.cnnindonesia.com/ekonomi/20230926132555-85-1003870/ojk-targetkan-99-pltu-ikut-perdagangan-karbon-tahun-ini\n",
      "https://www.cnnindonesia.com/ekonomi/20230927063717-92-1004195/mungkinkah-china-bantu-ri-amankan-pasokan-beras\n",
      "https://www.cnnindonesia.com/ekonomi/20230926222731-95-1004151/infografis-harga-beras-kian-mahal-sepanjang-agustus-september-2023\n",
      "https://www.cnnindonesia.com/olahraga/20230927071455-178-1004212/top-3-sports-wushu-sumbang-emas-ketiga-baggott-main-90-menit\n",
      "https://www.cnnindonesia.com/olahraga/20230927065134-178-1004200/klasemen-asian-games-negara-asean-indonesia-di-puncak\n",
      "https://www.cnnindonesia.com/olahraga/20230927060713-142-1004173/timnas-indonesia-u-24-melawan-kutukan-era-baru-asian-games\n",
      "https://www.cnnindonesia.com/teknologi/20230915072357-206-999283/cerita-banjir-iklan-tak-terbendung-di-hp-xiaomi-sulitkan-orang-tua\n",
      "https://www.cnnindonesia.com/teknologi/20230927061744-199-1004184/siapkan-sunblock-berikut-daerah-terpanggang-uv-ekstrem\n",
      "https://www.cnnindonesia.com/teknologi/20230914143634-185-999059/meta-pakai-ai-sok-asik-buat-rebut-anak-muda-dari-tiktok\n",
      "https://www.cnnindonesia.com/otomotif/20230927064807-579-1004197/viral-polantas-bawa-motor-sambil-merokok-ternyata-lagi-berangkat-tugas\n",
      "https://www.cnnindonesia.com/otomotif/20230926183819-587-1004087/ekspor-mobil-indonesia-tembus-90-negara-di-dunia\n",
      "https://www.cnnindonesia.com/otomotif/20230926183221-579-1004086/mekanisme-kena-poin-tilang-sampai-sim-dicabut-polisi\n",
      "https://www.cnnindonesia.com/hiburan/20230831100613-543-992796/dramaturgi-slamet-rahardjo\n",
      "https://www.cnnindonesia.com/hiburan/20230927065032-234-1004201/dea-onlyfans-usai-bebas-seperti-terlahir-kembali\n",
      "https://www.cnnindonesia.com/hiburan/20230926193818-227-1004106/keluarga-beber-syarat-untuk-membawakan-lagu-koes-plus\n",
      "https://www.cnnindonesia.com/gaya-hidup/20230927064840-284-1004198/pasutri-wajib-tahu-ini-5-dampak-berhubungan-terlalu-sering\n",
      "https://www.cnnindonesia.com/gaya-hidup/20230801133207-255-980426/hati-hati-sindrom-nasi-goreng-keracunan-yang-bisa-berakibat-fatal\n",
      "https://www.cnnindonesia.com/gaya-hidup/20230922101631-525-1002301/ci-n-ta-rasa-william-wongso\n"
     ]
    }
   ],
   "source": [
    "\n",
    "links = []\n",
    "jumlah_index = 1\n",
    "\n",
    "for index in range(jumlah_index):\n",
    "    url = f\"https://www.cnnindonesia.com/search/?query=ganjar&page={index + 1}\"\n",
    "    response = requests.get(url)\n",
    "    soup = BeautifulSoup(response.text, \"html.parser\")\n",
    "    articles = soup.find_all('article', {\"class\": \"flex-grow\"})\n",
    "    \n",
    "    for article in articles:\n",
    "        link_element = article.find('a')\n",
    "        if link_element is not None:\n",
    "            link = link_element.get('href')\n",
    "            if link is not None:\n",
    "                # Do something with the link, e.g., append it to the links list\n",
    "                links.append(link)\n",
    "\n",
    "# Now you can work with the collected links\n",
    "for link in links:\n",
    "    print(link)"
   ]
  },
  {
   "cell_type": "code",
   "execution_count": 22,
   "metadata": {},
   "outputs": [],
   "source": [
    "# title = []\n",
    "# author = []\n",
    "# date = []\n",
    "# content = []\n",
    "\n",
    "# for link in links:\n",
    "#     url = link\n",
    "#     response = requests.get(url)\n",
    "#     soup = BeautifulSoup(response.text, \"html.parser\")\n",
    "    \n",
    "#     title_elem = soup.find('h1', {\"class\": \"mb-2 text-[28px] leading-9 text-cnn_black\"})\n",
    "#     if title_elem:\n",
    "#         title_text = title_elem.text.strip()\n",
    "#     else:\n",
    "#         title_text = \"Title not found\"\n",
    "#     title.append(title_text)\n",
    "    \n",
    "\n",
    "#     author_elem = soup.find('div', {\"class\": \"detail__author\"})\n",
    "#     if author_elem:\n",
    "#         author_text = author_elem.text.strip()\n",
    "#     else:\n",
    "#         author_text = \"Author not found\"\n",
    "#     author.append(author_text)\n",
    "    \n",
    "\n",
    "#     date_elem = soup.find('div', {\"class\": \"detail__date\"})\n",
    "#     if date_elem:\n",
    "#         date_text = date_elem.text.strip()\n",
    "#     else:\n",
    "#         date_text = \"Date not found\"\n",
    "#     date.append(date_text)\n",
    "    \n",
    "#     body_elem = soup.find('div', {\"class\": \"detail__body\"})\n",
    "    \n",
    "#     if body_elem:\n",
    "#         content_elem = body_elem.find_all('p')\n",
    "#         content_text = \"\"\n",
    "#         for p in content_elem:\n",
    "#             content_text += p.text.strip() + \"\\n\"\n",
    "        \n",
    "#         if content_text.strip():\n",
    "#             content.append(content_text)\n",
    "#         else:\n",
    "#             content.append(\"Content not found\")\n",
    "#     else:\n",
    "#         content.append(\"Content not found\")\n",
    "    \n",
    "    "
   ]
  },
  {
   "cell_type": "code",
   "execution_count": 23,
   "metadata": {},
   "outputs": [],
   "source": [
    "# data = {'title': title,\n",
    "#         'author' : author,\n",
    "#         'date': date,\n",
    "#         'content' : content,\n",
    "#         'link' : links\n",
    "#         }\n",
    "\n",
    "# df = pd.DataFrame(data)\n",
    "\n",
    "# df.head()"
   ]
  },
  {
   "cell_type": "markdown",
   "metadata": {},
   "source": [
    "Cetak dan simpan"
   ]
  },
  {
   "cell_type": "code",
   "execution_count": 24,
   "metadata": {},
   "outputs": [],
   "source": [
    "# current_datetime = datetime.now().strftime(\"%Y-%m-%d_%H-%M-%S\")\n",
    "# excel_file_name = f'./excel/cnn_{current_datetime}.xlsx'\n",
    "# df.to_excel(excel_file_name, index=False)\n",
    "\n",
    "# print(f'Data has been saved to {excel_file_name}')"
   ]
  }
 ],
 "metadata": {
  "kernelspec": {
   "display_name": "base",
   "language": "python",
   "name": "python3"
  },
  "language_info": {
   "codemirror_mode": {
    "name": "ipython",
    "version": 3
   },
   "file_extension": ".py",
   "mimetype": "text/x-python",
   "name": "python",
   "nbconvert_exporter": "python",
   "pygments_lexer": "ipython3",
   "version": "3.11.5"
  },
  "orig_nbformat": 4
 },
 "nbformat": 4,
 "nbformat_minor": 2
}
