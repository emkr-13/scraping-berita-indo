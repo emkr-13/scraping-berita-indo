{
 "cells": [
  {
   "cell_type": "markdown",
   "metadata": {},
   "source": [
    "## Scraping CNN"
   ]
  },
  {
   "cell_type": "code",
   "execution_count": 6,
   "metadata": {},
   "outputs": [],
   "source": [
    "import requests\n",
    "from bs4 import BeautifulSoup\n",
    "import re\n",
    "import threading\n",
    "from datetime import datetime\n",
    "import pandas as pd\n",
    "import time\n",
    "import concurrent.futures"
   ]
  },
  {
   "cell_type": "code",
   "execution_count": 7,
   "metadata": {},
   "outputs": [],
   "source": [
    "jumlah_index = 1\n",
    "threads_link = []\n",
    "links = []\n",
    "results = []\n",
    "lock = threading.Lock()\n"
   ]
  },
  {
   "cell_type": "code",
   "execution_count": 8,
   "metadata": {},
   "outputs": [],
   "source": [
    "def scrape_links(page_number):\n",
    "    try:\n",
    "        headers = {\n",
    "            'User-Agent': 'Chrome/118.0.0.0'\n",
    "        }\n",
    "        url = f\"https://www.cnnindonesia.com/search/?query=jokowi&page={page_number}\"\n",
    "        response = requests.get(url, headers=headers)\n",
    "        soup = BeautifulSoup(response.text, \"html.parser\")\n",
    "        div_badan = soup.find('div', {\"class\": \"flex flex-col gap-5\"})\n",
    "        if div_badan:\n",
    "            articles = div_badan.findAll('article', {\"class\": \"flex-grow\"})\n",
    "            page_links = []\n",
    "            for article in articles:\n",
    "                link = article.find('a')['href']\n",
    "                page_links.append(link)\n",
    "\n",
    "            with lock:  # Lock to protect the shared 'links' list\n",
    "                links.extend(page_links)\n",
    "\n",
    "        else:\n",
    "            print(f\"Div 'flex flex-col gap-5' not found on page {page_number}\")\n",
    "\n",
    "        print(f\"Scraped {len(page_links)} links from page {page_number}\")\n",
    "    except Exception as e:\n",
    "        print(f\"Error while scraping page {page_number}: {str(e)}\")"
   ]
  },
  {
   "cell_type": "code",
   "execution_count": 9,
   "metadata": {},
   "outputs": [
    {
     "name": "stdout",
     "output_type": "stream",
     "text": [
      "Error while scraping page 1: 'NoneType' object is not subscriptable\n",
      "Total Links: 0\n"
     ]
    }
   ],
   "source": [
    "if __name__ == \"__main__\":\n",
    "    # Create a ThreadPoolExecutor with a number of threads matching CPU cores\n",
    "    with concurrent.futures.ThreadPoolExecutor() as executor:\n",
    "        # Submit scraping tasks\n",
    "        for page_number in range(1, jumlah_index + 1):\n",
    "            executor.submit(scrape_links, page_number)\n",
    "\n",
    "    # Print the total number of links\n",
    "    print(\"Total Links:\", len(links))"
   ]
  },
  {
   "cell_type": "markdown",
   "metadata": {},
   "source": [
    "Cetak dan simpan"
   ]
  },
  {
   "cell_type": "code",
   "execution_count": 5,
   "metadata": {},
   "outputs": [],
   "source": [
    "# current_datetime = datetime.now().strftime(\"%Y-%m-%d_%H-%M-%S\")\n",
    "# excel_file_name = f'../tempat_simpan_nasional/cnn_sport_{current_datetime}.xlsx'\n",
    "# df.to_excel(excel_file_name, index=False)\n",
    "\n",
    "# print(f'Data has been saved to {excel_file_name}')"
   ]
  },
  {
   "cell_type": "code",
   "execution_count": null,
   "metadata": {},
   "outputs": [],
   "source": []
  }
 ],
 "metadata": {
  "kernelspec": {
   "display_name": "base",
   "language": "python",
   "name": "python3"
  },
  "language_info": {
   "codemirror_mode": {
    "name": "ipython",
    "version": 3
   },
   "file_extension": ".py",
   "mimetype": "text/x-python",
   "name": "python",
   "nbconvert_exporter": "python",
   "pygments_lexer": "ipython3",
   "version": "3.11.4"
  },
  "orig_nbformat": 4
 },
 "nbformat": 4,
 "nbformat_minor": 2
}
