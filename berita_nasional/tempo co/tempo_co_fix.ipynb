{
 "cells": [
  {
   "cell_type": "code",
   "execution_count": 1,
   "metadata": {},
   "outputs": [],
   "source": [
    "import requests\n",
    "from bs4 import BeautifulSoup\n",
    "import re\n",
    "import threading\n",
    "from datetime import datetime\n",
    "import pandas as pd\n",
    "import time\n",
    "from datetime import datetime, timedelta\n",
    "from concurrent.futures import ThreadPoolExecutor\n",
    "import concurrent.futures\n",
    "from urllib.parse import urlparse, parse_qs\n",
    "from datetime import datetime\n",
    "from dateutil import parser"
   ]
  },
  {
   "cell_type": "code",
   "execution_count": 2,
   "metadata": {},
   "outputs": [
    {
     "name": "stdout",
     "output_type": "stream",
     "text": [
      "https://nasional.tempo.co/read/1791540/politikus-golkar-sebut-usulan-hak-angket-masinton-hanya-gimik-politik-untuk-degradasi-prabowo-gibran\n",
      "https://nasional.tempo.co/read/1791532/ganjar-mahfud-bentuk-tim-pemenangan-muda-diketuai-pengusaha-dharmaji-suradika\n",
      "https://nasional.tempo.co/read/1791530/resmikan-rumah-sakit-dr-sadjiman-bogor-prabowo-nama-dokter-yang-selamatkan-nyawa-saya\n",
      "https://nasional.tempo.co/read/1791519/ketua-mkmk-jimly-asshiddiqie-bilang-putusan-mk-bisa-dibatalkan-ini-syaratnya\n",
      "https://nasional.tempo.co/read/1791509/ketua-prabowo-mania-08-tantang-ganjar-ungkap-aktor-pelanggaran-ham-27-juli-1996\n",
      "https://nasional.tempo.co/read/1791503/jimly-asshiddiqie-sebut-pengesahan-revisi-pkpu-tak-pengaruhi-putusan-mkmk\n",
      "https://nasional.tempo.co/read/1791497/wamendes-dilaporkan-ke-bawaslu-setelah-galang-dukungan-untuk-prabowo-gibran\n",
      "https://nasional.tempo.co/read/1791478/johnny-g-plate-merasa-dizalimi-dan-difitnah-dalam-kasus-korupsi-bts-kominfo\n",
      "https://nasional.tempo.co/read/1791471/jimly-asshiddiqie-dukung-dpr-ajukan-hak-angket-terhadap-mk\n",
      "https://nasional.tempo.co/read/1791466/apa-syarat-menjadi-panglima-tni-menurut-uu-nomor-34-tahun-2004\n",
      "https://nasional.tempo.co/read/1791459/sepekan-jabat-ksad-jenderal-agus-subiyanto-didorong-jokowi-jadi-panglima-tni\n",
      "https://nasional.tempo.co/read/1791458/johnny-g-plate-bantah-minta-jatah-bulanan-tapi\n",
      "https://nasional.tempo.co/read/1791455/komisi-1-dpr-sebut-kemungkinan-uji-kelayakan-panglima-tni-pada-pertengahan-november\n",
      "https://nasional.tempo.co/read/1791449/jimly-asshiddiqie-jelaskan-alasan-mkmk-percepatputusan-soal-dugaan-pelanggaran-etik-anwar-usman-cs\n",
      "https://nasional.tempo.co/read/1791443/hasto-pdip-anggap-penurunan-baliho-ganjar-mahfud-di-bali-bentuk-diskriminasi\n",
      "https://nasional.tempo.co/read/1791437/mkmk-dinilai-tak-bisa-batalkan-putusan-mk-soal-batas-usia-cawapres-tapi-ke-hakimnya\n",
      "https://nasional.tempo.co/read/1791427/di-sidang-pleidoi-johnny-plate-anggap-kasusnya-bermuatan-politis\n",
      "https://nasional.tempo.co/read/1791426/gibran-bilang-rosan-roeslani-akan-umumkan-struktur-tim-pemenangan-prabowo-besok\n",
      "https://nasional.tempo.co/read/1791416/mengenal-3-hak-dpr-dalam-fungsi-pengawasan-termasuk-hak-angket\n",
      "https://nasional.tempo.co/read/1791402/gibran-minta-masyarakat-solo-hati-hati-menyusul-penangkapan-terduga-teroris-untuk-gagalkan-pemilu\n",
      "https://nasional.tempo.co/read/1791389/erick-thohir-disebut-tidak-akan-masuk-dalam-tkn-prabowo-gibran\n",
      "https://nasional.tempo.co/read/1791384/ungkap-transaksi-gelap-rp-349-triliun-di-kemenkeu-mahfud-md-sempat-gaduh-di-dpr\n",
      "https://nasional.tempo.co/read/1791383/ganjar-bertanya-tanya-soal-pencopotan-balihonya-di-bali-saat-kunjungan-jokowi\n",
      "https://nasional.tempo.co/read/1791382/anang-achmad-latif-akui-terima-uang-rp-5-m-dari-proyek-bts-4g-minta-hakim-vonis-ringan\n",
      "https://nasional.tempo.co/read/1791377/baliho-ganjar-mahfud-di-bali-dicopot-politikus-pdip-tanda-tanda-pemilu-tak-akan-jurdil\n",
      "https://nasional.tempo.co/read/1791374/waketum-gerindra-sebut-putusan-mk-tak-bisa-jadi-obyek-hak-angket\n",
      "https://nasional.tempo.co/read/1791357/diperebutkan-masuk-tim-pemenangan-2-pasangan-capres-cawapres-ini-profil-khofifah-indar-parawansa\n",
      "https://nasional.tempo.co/read/1791341/wacana-pemakzulan-presiden-jokowi-begini-kilas-balik-pemakzulan-gus-dur\n",
      "https://nasional.tempo.co/read/1791355/mkmk-periksa-3-pelapor-anwar-usman-ada-eks-relawan-jokowi-presiden\n",
      "https://nasional.tempo.co/read/1791350/pelapor-punya-banyak-informasi-rahasia-mk-jimly-asshiddiqie-aurat-keluarga-dibuka-buka\n",
      "https://nasional.tempo.co/read/1791351/bendera-pdip-hingga-poster-ganjar-mahfud-diturunkan-di-bali-tb-hasanuddin-tersinggung\n",
      "https://nasional.tempo.co/read/1791349/sidang-pleidoi-eks-dirut-bakti-kominfo-sebut-johnny-plate-pengecut\n",
      "https://nasional.tempo.co/read/1791328/jokowi-undang-khusus-ridwan-kamil-ke-ikn\n",
      "https://nasional.tempo.co/read/1791319/gibran-jadi-cawapres-suara-pdip-di-jawa-tengah-bisa-terbelah\n",
      "https://nasional.tempo.co/read/1791318/satgas-pencucian-uang-dalami-transaksi-35-ton-impor-emas-batangan\n",
      "https://nasional.tempo.co/read/1791314/mkmk-diminta-bebaskan-mk-dari-nepotisme-keluarga-jokowi\n",
      "https://nasional.tempo.co/read/1791310/dicalonkan-jadi-panglima-tni-agus-subiyanto-nyatakan-siap-emban-penugasan-apa-pun\n",
      "https://nasional.tempo.co/read/1791309/jokowi-buka-suara-soal-baliho-ganjar-mahfud-dicopot-saat-kunker-ke-bali\n",
      "https://nasional.tempo.co/read/1791304/pengamat-perkirakan-khofifah-akan-gabung-di-tim-prabowo-karena-pengaruh-jokowi\n",
      "https://nasional.tempo.co/read/1791302/jokowi-sebut-agus-subiyanto-memenuhi-syarat-jadi-panglima-tni\n",
      "https://nasional.tempo.co/read/1791298/kondisi-terkini-di-pulau-rempang-warga-terus-suarakan-penolakan-proyek-strategis-nasional\n",
      "https://nasional.tempo.co/read/1791286/elite-pdip-beda-pendapat-soal-hubungan-dengan-jokowi-pengamat-sebut-koordinasi-tidak-nyambung\n",
      "https://nasional.tempo.co/read/1791277/pks-buka-opsi-pemakzulan-jokowi-begini-aturannya-menurut-undang-undang\n",
      "https://nasional.tempo.co/read/1791283/kepala-hudev-ui-jadi-tersangka-korupsi-bts-kominfo\n",
      "https://nasional.tempo.co/read/1791271/alasan-erick-thohir-dukung-prabowo-subianto-di-pilpres-2024\n",
      "https://nasional.tempo.co/read/1791269/perekat-nusantara-dan-tpdi-minta-anwar-usman-diberhentikan-dengan-tidak-hormat\n",
      "https://nasional.tempo.co/read/1791266/kapolri-kumpulkan-kapolda-dan-kapolres-se-indonesia-apel-pengamanan-pemilu-2024\n",
      "https://nasional.tempo.co/read/1791263/rumah-kertanegara-firli-bahuri-dibiayai-alex-tirta-rp-650-juta-setahun-disorot-im57-dan-saut-situmorang\n",
      "https://nasional.tempo.co/read/1791256/ketua-dkpp-sebut-anggota-komisi-ii-dpr-setuju-revisi-pkpu-nomor-19-tahun-2023\n",
      "https://nasional.tempo.co/read/1791245/politik-makan-siang-jokowi-bersama-capres-sby-pernah-buka-puasa-bersama-capres-cawapres-pemilu-2014\n",
      "https://nasional.tempo.co/read/1791238/profil-paiman-raharjo-wamendes-yang-disebut-urus-kemenangan-prabowo-gibran-pernah-jadi-tukang-sapu\n",
      "https://nasional.tempo.co/read/1791241/mkmk-akan-pulihkan-nama-baik-hakim-konstitusi-bila-tak-terbukti-melanggar-etik\n",
      "https://nasional.tempo.co/read/1791232/prediksi-pengamat-pertempuran-sengit-ganjar-vs-gibran-terjadi-di-kandang-pdip-jateng\n",
      "https://nasional.tempo.co/read/1791226/jenderal-agus-subiyanto-diusulkan-jokowi-sebagai-panglima-tni-siapa-calon-pengganti-ksad\n",
      "https://nasional.tempo.co/read/1791230/tpdi-tak-sepakat-mkmk-percepat-masa-sidang-lebih-baik-tunda-tahapan-pemilu\n",
      "https://nasional.tempo.co/read/1791229/sidang-etik-mkmk-hari-ini-periksa-3-pelapor-dan-3-hakim-mk\n",
      "https://nasional.tempo.co/read/1791219/profil-masinton-pasaribu-anggota-komisi-xi-dpr-dan-kader-pdip-yang-ajukan-hak-angket-mk\n",
      "https://nasional.tempo.co/read/1791215/jokowi-lakukan-groundbreaking-bandara-ikn-hari-ini\n",
      "https://nasional.tempo.co/read/1791206/kader-pdip-masinton-pasaribu-usulkan-hak-angket-mk-begini-syarat-dan-ketentuannya\n",
      "https://nasional.tempo.co/read/1791202/respons-jokowi-gibran-dan-kaesang-soal-keluarganya-disebut-hasto-tinggalkan-pdip\n",
      "https://nasional.tempo.co/read/1791200/mkmk-ungkap-tiga-opsi-sanksi-etik-untuk-hakim-mk-teguran-hingga-pemberhentian\n",
      "https://nasional.tempo.co/read/1791199/kemenkes-menyebut-kasus-cacar-monyet-meluas-ke-jawa-barat-dan-banten\n",
      "https://nasional.tempo.co/read/1791192/wakil-menteri-dukung-gibran-pdip-banyak-instrumen-negara-yang-sudah-gerak-senyap\n",
      "https://nasional.tempo.co/read/1791185/budi-arie-projo-yakin-prabowo-gibran-menang-satu-putaran\n",
      "https://nasional.tempo.co/read/1791177/sikapi-konflik-israel-palestina-pbnu-bakal-gelar-forum-r20\n",
      "https://nasional.tempo.co/read/1791164/sidang-etik-paman-gibran-ketua-mkmk-banyak-masalah-yang-kami-temukan\n",
      "https://nasional.tempo.co/read/1791008/asal-usul-nama-jatinangor-tak-lepas-dari-baron-baud-pemilik-perkebunan-teh\n",
      "https://nasional.tempo.co/read/1791148/jokowi-groundbreaking-proyek-dato-sri-tahir-hingga-alexander-tedja-di-ikn-hari-ini\n",
      "https://nasional.tempo.co/read/1791146/istana-ungkap-alasan-jokowi-pilih-agus-subiyanto-jadi-calon-panglima-tni\n",
      "https://nasional.tempo.co/read/1791128/dpr-dkpp-pemerintah-kpu-dan-bawaslu-setujui-revisi-pkpu-syarat-capres-cawapes-sesuai-putusan-mk\n",
      "https://nasional.tempo.co/read/1791122/sewa-rumah-firli-bahuri-di-kertanegara-dibiayai-alex-tirta-im57-kelakuan-firli-sudah-paripurna\n",
      "https://nasional.tempo.co/read/1791114/dpr-sahkan-revisi-pkpu-tentang-syarat-pencalonan-capres-cawapres-sesuaikan-putusan-mk\n"
     ]
    }
   ],
   "source": [
    "# headers = {\n",
    "#         'User-Agent': 'Mozilla/5.0 (Windows NT 10.0; Win64; x64) AppleWebKit/537.36 (KHTML, like Gecko) Chrome/117.0.0.0 Safari/537.36'\n",
    "#     }\n",
    "# url = f\"https://www.tempo.co/indeks/2023-11-01/nasional\"\n",
    "# response = requests.get(url, headers=headers)\n",
    "# soup = BeautifulSoup(response.text, 'html.parser')\n",
    "# body = soup.find('main', {\"class\": \"main-left\"})\n",
    "# articles= body.findAll('h2', {\"class\": \"title\"})\n",
    "# link=[]\n",
    "# for article in articles:\n",
    "#     link = article.find('a')['href']\n",
    "#     print(link)\n",
    "# links= cek.find_all('a')\n",
    "# all_link=[]\n",
    "# for link in links:\n",
    "#         if link and 'href' in link.attrs:\n",
    "#             link_href = link['href']\n",
    "#             all_link.append(link_href)\n"
   ]
  },
  {
   "cell_type": "code",
   "execution_count": 3,
   "metadata": {},
   "outputs": [],
   "source": [
    "def scrape_link_per_day(date):\n",
    "    headers = {\n",
    "            'User-Agent': 'Mozilla/5.0 (Windows NT 10.0; Win64; x64) AppleWebKit/537.36 (KHTML, like Gecko) Chrome/117.0.0.0 Safari/537.36'\n",
    "        }\n",
    "    url = f\"https://www.tempo.co/indeks/{date}/nasional\"\n",
    "    response = requests.get(url, headers=headers)\n",
    "    soup = BeautifulSoup(response.text, 'html.parser')\n",
    "    body = soup.find('main', {\"class\": \"main-left\"})\n",
    "    articles= body.findAll('h2', {\"class\": \"title\"})\n",
    "    page_links=[]\n",
    "    for article in articles:\n",
    "        link = article.find('a')['href']\n",
    "        page_links.append(link)\n",
    "    print(f\"Scraped {len(page_links)} links when date {date}\")\n",
    "    return page_links"
   ]
  },
  {
   "cell_type": "code",
   "execution_count": 4,
   "metadata": {},
   "outputs": [
    {
     "name": "stdout",
     "output_type": "stream",
     "text": [
      "Scraped 72 links when date 2023-11-01\n"
     ]
    }
   ],
   "source": [
    "all_link=scrape_link_per_day('2023-11-01')"
   ]
  },
  {
   "cell_type": "code",
   "execution_count": 5,
   "metadata": {},
   "outputs": [],
   "source": [
    "def scrape_url(url,max_retries=3):\n",
    "    retries = 0\n",
    "    while retries < max_retries:\n",
    "            try:\n",
    "                headers = {\n",
    "                    'User-Agent': 'Mozilla/5.0 (Windows NT 10.0; Win64; x64) AppleWebKit/537.36 (KHTML, like Gecko) Chrome/117.0.0.0 Safari/537.36'\n",
    "                }\n",
    "                response = requests.get(url, headers=headers)\n",
    "                if response.status_code == 200:\n",
    "                    soup = BeautifulSoup(response.text, 'html.parser')\n",
    "\n",
    "                    # Extract data from the web page\n",
    "                    title_elem = soup.find('h1', {\"class\": \"title margin-bottom-sm\"})\n",
    "                    title_text = title_elem.text.strip() if title_elem else \"Title not found\"\n",
    "\n",
    "                    date_elem = soup.find('p', {\"class\": \"date margin-bottom-sm\"})\n",
    "                    date_text = date_elem.text.strip() if date_elem else \"Date not found\"\n",
    "                    \n",
    "                    date_part = ' '.join(date_text.split(',')[1:]).strip()\n",
    "                    date_object = parser.parse(date_part)\n",
    "                    formatted_date = date_object.strftime('%Y-%m-%d')\n",
    "\n",
    "                    body_elem = soup.find('div', {\"class\": \"detail-konten\"})\n",
    "                    if body_elem:\n",
    "                        content_elem = body_elem.find_all('p')\n",
    "                        content_text = \"\\n\".join(p.text.strip() for p in content_elem)\n",
    "                        content_text = content_text.replace('\\n', ' ')\n",
    "                    else:\n",
    "                        content_text = \"Content not found\"\n",
    "\n",
    "                    return {\n",
    "                        'title': title_text,\n",
    "                        'date': formatted_date,\n",
    "                        'content': content_text,\n",
    "                        'link': url\n",
    "                    }\n",
    "                else:\n",
    "                    print(f\"Failed to retrieve data from {url}: Status Code {response.status_code}\")\n",
    "            except requests.exceptions.RequestException as e:\n",
    "                print(f\"Error fetching URL '{url}': {e}\")\n",
    "            except Exception as e:\n",
    "                print(f\"Error processing URL '{url}': {e}\")\n",
    "            retries += 1\n",
    "            if retries < max_retries:\n",
    "                print(f\"Retrying {url} (Attempt {retries}/{max_retries})\")\n",
    "                time.sleep(5)  # You can adjust the delay as needed\n",
    "    return None         "
   ]
  },
  {
   "cell_type": "code",
   "execution_count": 6,
   "metadata": {},
   "outputs": [],
   "source": [
    "url='https://nasional.tempo.co/read/1791540/politikus-golkar-sebut-usulan-hak-angket-masinton-hanya-gimik-politik-untuk-degradasi-prabowo-gibran'\n",
    "cek_hasil=scrape_url(url)"
   ]
  },
  {
   "cell_type": "code",
   "execution_count": 7,
   "metadata": {},
   "outputs": [
    {
     "name": "stdout",
     "output_type": "stream",
     "text": [
      "{'title': 'Politikus Golkar Sebut Usulan Hak Angket Masinton Hanya Gimik Politik untuk Degradasi Prabowo-Gibran', 'date': '2023-11-01', 'content': 'TEMPO.CO, Jakarta - Ketua Badan Pemenangan Pemilu Partai Golkar Maman Abdurahman menanggapi usulan politikus PDIP Masinton Pasaribu untuk mengusulkan hak angket DPR terhadap Mahkamah Konstitusi atau MK. Menurut Maman, usulan Masinton itu tak akan berimplikasi apa pun terhadap putusan MK soal batas usia capres-cawapres. \"Saya pikir, terus kalau pun itu terwujud ada pengusulan hak angket, terus implikasinya juga apa? Kan nggak ada juga,\" kata dia saat ditemui di Kompleks Stadion Gelora Bung Karno, Jakarta Pusat, Rabu, 1 November 2023. Baca Juga: UM Surabaya Siap Gelar Uji Publik Pasangan Prabowo-Gibran, Ini Daftar Panelisnya Sebelumnya, dalam Rapat Paripurna Masa Sidang ke-8 DPR RI, Senin, 31 Oktober 2023, Masinton menyampaikan pendapatnya agar Dewan mengajukan hak angket untuk putusan MK soal batas usia capres-cawapres. Menurut Maman, apa yang diusulkan Masinton merupakan bagian dari hak konstitusi seorang anggota dewan di parlemen. Namun, dia menilai manuver Masinton itu hanya bagian dari gimik politik untuk membangun opini publik. \"Mendegradasi imej dari pak Prabowo dan mas Gibran,\" katanya. Baca Juga: Cerita Prabowo Jenguk Luhut di Singapura: Beliau Sudah Pulih, Ingin Segera Bekerja Maman mengatakan, dalam 3 bulan ke depan semua orang akan berjoget-joget terkait dinamika politik terkini. Ihwal dinamika politik apa pun, kata Maman, akan dimainkan. \"Jadi semua yang joget pasti akan melakukannya, tarian apa juga akan dimainkan. Jadi, kami melihatnya dalam konteks itu saja. Saya pikir silakan saja, itu kan menjadi haknya sahabat saya mas Masinton,\" kata dia. Anggota Komisi VII DPR itu mengatakan, Golkar menghormati upaya Masinton. Dan upaya hak angket bagian dari dinamika politik. \"Partai Golkar dan teman-teman fraksi lainnya pada posisi yang menganggap apa yang terjadi ini, ini adalah bagian dari semua proses dinamika politik dan wajar-wajar saja,\" katanya. Maman mengatakan terlepas kencangnya isu hak angket, Partai Golkar lebih fokus pada bagaimana pemenangan Prabowo-Gibran di Pilpres 2024. \"Fokus kami satu saja, bagaimana caranya turun ke bawah menemui masyarakat menyampaikan ke masyarakat bahwa ini loh sosok seorang Prabowo dan Gibran,\" katanya. Pilihan Editor:\\xa0Jimly Asshiddiqie Dukung DPR Ajukan Hak Angket Terhadap MK', 'link': 'https://nasional.tempo.co/read/1791540/politikus-golkar-sebut-usulan-hak-angket-masinton-hanya-gimik-politik-untuk-degradasi-prabowo-gibran'}\n"
     ]
    }
   ],
   "source": [
    "print(cek_hasil)"
   ]
  },
  {
   "cell_type": "code",
   "execution_count": null,
   "metadata": {},
   "outputs": [],
   "source": []
  }
 ],
 "metadata": {
  "kernelspec": {
   "display_name": "base",
   "language": "python",
   "name": "python3"
  },
  "language_info": {
   "codemirror_mode": {
    "name": "ipython",
    "version": 3
   },
   "file_extension": ".py",
   "mimetype": "text/x-python",
   "name": "python",
   "nbconvert_exporter": "python",
   "pygments_lexer": "ipython3",
   "version": "3.11.4"
  }
 },
 "nbformat": 4,
 "nbformat_minor": 2
}
