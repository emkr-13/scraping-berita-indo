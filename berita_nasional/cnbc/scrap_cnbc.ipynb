{
 "cells": [
  {
   "cell_type": "code",
   "execution_count": 3,
   "metadata": {},
   "outputs": [],
   "source": [
    "from bs4 import BeautifulSoup\n",
    "import requests\n",
    "import pandas as pd\n",
    "from datetime import datetime"
   ]
  },
  {
   "cell_type": "code",
   "execution_count": 4,
   "metadata": {},
   "outputs": [
    {
     "data": {
      "text/plain": [
       "<Response [200]>"
      ]
     },
     "execution_count": 4,
     "metadata": {},
     "output_type": "execute_result"
    }
   ],
   "source": [
    "url = \"https://www.cnbcindonesia.com/indeks\"\n",
    "response = requests.get(url)\n",
    "response"
   ]
  },
  {
   "cell_type": "code",
   "execution_count": 5,
   "metadata": {},
   "outputs": [
    {
     "name": "stdout",
     "output_type": "stream",
     "text": [
      "['https://www.cnbcindonesia.com/news/20230925192527-4-475437/3-perusahaan-migas-kompak-mau-ganti-kontrak-kenapa', 'https://www.cnbcindonesia.com/news/20230925180613-4-475423/satgas-blbi-beraksi-di-jakarta-sita-3-properti-rp11120-m', 'https://www.cnbcindonesia.com/mymoney/20230925183919-74-475427/video-bunuh-diri-ulah-pinjol-utang-auto-lunas', 'https://www.cnbcindonesia.com/tech/20230925154238-37-475365/manusia-bisa-ngobrol-sama-ayam-berkat-ai-ini-kata-pakar', 'https://www.cnbcindonesia.com/news/20230925191146-4-475431/ada-transisi-energi-produksi-batu-bara-ri-malah-kian-nanjak', 'https://www.cnbcindonesia.com/market/20230925163426-17-475382/asuransi-jastan-tunjuk-eks-bos-bri-life-jadi-dirut', 'https://www.cnbcindonesia.com/news/20230925171004-4-475401/sstt-proyek-raksasa-ri-ini-incar-investor-baru', 'https://www.cnbcindonesia.com/news/20230925130443-8-475288/pemerintah-pembangunan-harus-sejahterakan-rakyat-lingkungan', 'https://www.cnbcindonesia.com/tech/20230925145042-37-475343/ilmuwan-temukan-laut-tersembunyi-di-antariksa-ini-lokasinya', 'https://www.cnbcindonesia.com/tech/20230925081027-38-475159/begini-penampakan-serpihan-alien-nasa-bawa-ke-bumi', 'https://www.cnbcindonesia.com/news/20230925181010-8-475422/polusi-ngebul-transportasi-hijau-transjakarta-nge-gas', 'https://www.cnbcindonesia.com/news/20230925175130-7-475415/jokowi-bikin-mulus-jalan-jalan-di-pinggir-proyek-ikn']\n"
     ]
    }
   ],
   "source": [
    "links=[]\n",
    "# jumlah Page yang diambil \n",
    "jumlah_index = 1\n",
    "\n",
    "for index in range(jumlah_index):\n",
    "    url = f\"https://www.cnbcindonesia.com/indeks/{index+1}\"  \n",
    "    response = requests.get(url)\n",
    "    soup = BeautifulSoup(response.text, \"html.parser\")\n",
    "    articles = soup.find_all('article')\n",
    "    \n",
    "    for article in articles:\n",
    "        link = article.find('a')['href']\n",
    "        links.append(link)\n",
    "    \n",
    "print(links)"
   ]
  },
  {
   "cell_type": "code",
   "execution_count": 6,
   "metadata": {},
   "outputs": [],
   "source": [
    "title = []\n",
    "author = []\n",
    "date = []\n",
    "content = []\n",
    "\n",
    "for link in links:\n",
    "    url = link\n",
    "    response = requests.get(url)\n",
    "    soup = BeautifulSoup(response.text, \"html.parser\")\n",
    "    \n",
    "    # Title Berita\n",
    "    title_elem = soup.find('h1')\n",
    "    if title_elem:\n",
    "        title_text = title_elem.text.strip()\n",
    "    else:\n",
    "        title_text = \"Title not found\"\n",
    "    title.append(title_text)\n",
    "    \n",
    "    # Author Berita\n",
    "    author_elem = soup.find('div', {\"class\": \"author\"})\n",
    "    if author_elem:\n",
    "        author_text = author_elem.get_text()\n",
    "        author_text = author_text.split('-')[1].strip()\n",
    "        author_text = author_text.split(',')[0].strip()\n",
    "    else:\n",
    "        author_text = \"Author not found\"\n",
    "    author.append(author_text)\n",
    "    \n",
    "    # Date Berita\n",
    "    date_elem = soup.find('div', {\"class\": \"date\"})\n",
    "    if date_elem:\n",
    "        date_text = date_elem.text.strip()\n",
    "    else:\n",
    "        date_text = \"Date not found\"\n",
    "    date.append(date_text)\n",
    "    \n",
    "    # Content Berita\n",
    "    body_elem = soup.find('div', {\"class\": \"detail_text\"})\n",
    "    \n",
    "    if body_elem:\n",
    "        content_elem = body_elem.find_all('p')\n",
    "        content_text = \"\"\n",
    "        for p in content_elem:\n",
    "            content_text += p.text.strip() + \"\\n\"\n",
    "        \n",
    "        if content_text.strip():\n",
    "            content.append(content_text)\n",
    "        else:\n",
    "            content.append(\"Content not found\")\n",
    "    else:\n",
    "        content.append(\"Content not found\")\n",
    "    \n",
    "    "
   ]
  },
  {
   "cell_type": "code",
   "execution_count": 12,
   "metadata": {},
   "outputs": [
    {
     "data": {
      "text/html": [
       "<div>\n",
       "<style scoped>\n",
       "    .dataframe tbody tr th:only-of-type {\n",
       "        vertical-align: middle;\n",
       "    }\n",
       "\n",
       "    .dataframe tbody tr th {\n",
       "        vertical-align: top;\n",
       "    }\n",
       "\n",
       "    .dataframe thead th {\n",
       "        text-align: right;\n",
       "    }\n",
       "</style>\n",
       "<table border=\"1\" class=\"dataframe\">\n",
       "  <thead>\n",
       "    <tr style=\"text-align: right;\">\n",
       "      <th></th>\n",
       "      <th>title</th>\n",
       "      <th>author</th>\n",
       "      <th>date</th>\n",
       "      <th>content</th>\n",
       "      <th>link</th>\n",
       "    </tr>\n",
       "  </thead>\n",
       "  <tbody>\n",
       "    <tr>\n",
       "      <th>0</th>\n",
       "      <td>3 Perusahaan Migas Kompak Mau Ganti Kontrak, K...</td>\n",
       "      <td>Firda Dwi Muliawati</td>\n",
       "      <td>25 September 2023 19:35</td>\n",
       "      <td>Jakarta, CNBC Indonesia - Kementerian Energi d...</td>\n",
       "      <td>https://www.cnbcindonesia.com/news/20230925192...</td>\n",
       "    </tr>\n",
       "    <tr>\n",
       "      <th>1</th>\n",
       "      <td>Satgas BLBI Beraksi di Jakarta, Sita 3 Propert...</td>\n",
       "      <td>Arrijal Rachman</td>\n",
       "      <td>25 September 2023 19:30</td>\n",
       "      <td>\\nJakarta, CNBC Indonesia - Satuan Tugas Penan...</td>\n",
       "      <td>https://www.cnbcindonesia.com/news/20230925180...</td>\n",
       "    </tr>\n",
       "    <tr>\n",
       "      <th>2</th>\n",
       "      <td>Video: Bunuh Diri Ulah Pinjol, Utang Auto Lunas?</td>\n",
       "      <td>CNBC Indonesia TV</td>\n",
       "      <td>25 September 2023 19:20</td>\n",
       "      <td>Jakarta, CNBC Indonesia- Utang pinjaman online...</td>\n",
       "      <td>https://www.cnbcindonesia.com/mymoney/20230925...</td>\n",
       "    </tr>\n",
       "    <tr>\n",
       "      <th>3</th>\n",
       "      <td>Manusia Bisa Ngobrol sama Ayam Berkat AI, Ini ...</td>\n",
       "      <td>Novina Putri Bestari</td>\n",
       "      <td>25 September 2023 19:20</td>\n",
       "      <td>Jakarta, CNBC Indonesia - Teknologi kecerdasan...</td>\n",
       "      <td>https://www.cnbcindonesia.com/tech/20230925154...</td>\n",
       "    </tr>\n",
       "    <tr>\n",
       "      <th>4</th>\n",
       "      <td>Ada Transisi Energi, Produksi Batu Bara RI Mal...</td>\n",
       "      <td>Verda Nano Setiawan</td>\n",
       "      <td>25 September 2023 19:15</td>\n",
       "      <td>Jakarta, CNBC Indonesia - Pemerintah terus ber...</td>\n",
       "      <td>https://www.cnbcindonesia.com/news/20230925191...</td>\n",
       "    </tr>\n",
       "    <tr>\n",
       "      <th>5</th>\n",
       "      <td>Asuransi Jastan Tunjuk Eks Bos BRI Life Jadi D...</td>\n",
       "      <td>Mentari Puspadini</td>\n",
       "      <td>25 September 2023 19:10</td>\n",
       "      <td>Jakarta, CNBC Indonesia - PT Asuransi Jasa Tan...</td>\n",
       "      <td>https://www.cnbcindonesia.com/market/202309251...</td>\n",
       "    </tr>\n",
       "    <tr>\n",
       "      <th>6</th>\n",
       "      <td>Sstt.. Proyek Raksasa RI Ini Incar Investor Baru</td>\n",
       "      <td>Verda Nano Setiawan</td>\n",
       "      <td>25 September 2023 19:00</td>\n",
       "      <td>Jakarta, CNBC Indonesia - Kementerian Energi d...</td>\n",
       "      <td>https://www.cnbcindonesia.com/news/20230925171...</td>\n",
       "    </tr>\n",
       "    <tr>\n",
       "      <th>7</th>\n",
       "      <td>Pemerintah: Pembangunan Harus Sejahterakan Rak...</td>\n",
       "      <td>CNBC Indonesia TV</td>\n",
       "      <td>25 September 2023 18:55</td>\n",
       "      <td>Jakarta, CNBC Indonesia- CNBC Indonesia mengge...</td>\n",
       "      <td>https://www.cnbcindonesia.com/news/20230925130...</td>\n",
       "    </tr>\n",
       "    <tr>\n",
       "      <th>8</th>\n",
       "      <td>Ilmuwan Temukan Laut Tersembunyi di Antariksa,...</td>\n",
       "      <td>Novina Putri Bestari</td>\n",
       "      <td>25 September 2023 18:50</td>\n",
       "      <td>Jakarta, CNBC Indonesia - Jejak lautan tersemb...</td>\n",
       "      <td>https://www.cnbcindonesia.com/tech/20230925145...</td>\n",
       "    </tr>\n",
       "    <tr>\n",
       "      <th>9</th>\n",
       "      <td>Begini Penampakan Serpihan Alien, NASA Bawa ke...</td>\n",
       "      <td>AP Photo</td>\n",
       "      <td>25 September 2023 18:50</td>\n",
       "      <td>Content not found</td>\n",
       "      <td>https://www.cnbcindonesia.com/tech/20230925081...</td>\n",
       "    </tr>\n",
       "  </tbody>\n",
       "</table>\n",
       "</div>"
      ],
      "text/plain": [
       "                                               title                author  \\\n",
       "0  3 Perusahaan Migas Kompak Mau Ganti Kontrak, K...   Firda Dwi Muliawati   \n",
       "1  Satgas BLBI Beraksi di Jakarta, Sita 3 Propert...       Arrijal Rachman   \n",
       "2   Video: Bunuh Diri Ulah Pinjol, Utang Auto Lunas?     CNBC Indonesia TV   \n",
       "3  Manusia Bisa Ngobrol sama Ayam Berkat AI, Ini ...  Novina Putri Bestari   \n",
       "4  Ada Transisi Energi, Produksi Batu Bara RI Mal...   Verda Nano Setiawan   \n",
       "5  Asuransi Jastan Tunjuk Eks Bos BRI Life Jadi D...     Mentari Puspadini   \n",
       "6   Sstt.. Proyek Raksasa RI Ini Incar Investor Baru   Verda Nano Setiawan   \n",
       "7  Pemerintah: Pembangunan Harus Sejahterakan Rak...     CNBC Indonesia TV   \n",
       "8  Ilmuwan Temukan Laut Tersembunyi di Antariksa,...  Novina Putri Bestari   \n",
       "9  Begini Penampakan Serpihan Alien, NASA Bawa ke...              AP Photo   \n",
       "\n",
       "                      date                                            content  \\\n",
       "0  25 September 2023 19:35  Jakarta, CNBC Indonesia - Kementerian Energi d...   \n",
       "1  25 September 2023 19:30  \\nJakarta, CNBC Indonesia - Satuan Tugas Penan...   \n",
       "2  25 September 2023 19:20  Jakarta, CNBC Indonesia- Utang pinjaman online...   \n",
       "3  25 September 2023 19:20  Jakarta, CNBC Indonesia - Teknologi kecerdasan...   \n",
       "4  25 September 2023 19:15  Jakarta, CNBC Indonesia - Pemerintah terus ber...   \n",
       "5  25 September 2023 19:10  Jakarta, CNBC Indonesia - PT Asuransi Jasa Tan...   \n",
       "6  25 September 2023 19:00  Jakarta, CNBC Indonesia - Kementerian Energi d...   \n",
       "7  25 September 2023 18:55  Jakarta, CNBC Indonesia- CNBC Indonesia mengge...   \n",
       "8  25 September 2023 18:50  Jakarta, CNBC Indonesia - Jejak lautan tersemb...   \n",
       "9  25 September 2023 18:50                                  Content not found   \n",
       "\n",
       "                                                link  \n",
       "0  https://www.cnbcindonesia.com/news/20230925192...  \n",
       "1  https://www.cnbcindonesia.com/news/20230925180...  \n",
       "2  https://www.cnbcindonesia.com/mymoney/20230925...  \n",
       "3  https://www.cnbcindonesia.com/tech/20230925154...  \n",
       "4  https://www.cnbcindonesia.com/news/20230925191...  \n",
       "5  https://www.cnbcindonesia.com/market/202309251...  \n",
       "6  https://www.cnbcindonesia.com/news/20230925171...  \n",
       "7  https://www.cnbcindonesia.com/news/20230925130...  \n",
       "8  https://www.cnbcindonesia.com/tech/20230925145...  \n",
       "9  https://www.cnbcindonesia.com/tech/20230925081...  "
      ]
     },
     "execution_count": 12,
     "metadata": {},
     "output_type": "execute_result"
    }
   ],
   "source": [
    "data = {'title': title,\n",
    "        'author' : author,\n",
    "        'date': date,\n",
    "        'content' : content,\n",
    "        'link' : links\n",
    "        }\n",
    "\n",
    "df = pd.DataFrame(data)\n",
    "\n",
    "df.head(10)"
   ]
  },
  {
   "cell_type": "markdown",
   "metadata": {},
   "source": [
    "Save File"
   ]
  },
  {
   "cell_type": "code",
   "execution_count": 13,
   "metadata": {},
   "outputs": [
    {
     "name": "stdout",
     "output_type": "stream",
     "text": [
      "Data has been saved to ./excel/cnbc_2023-09-25_19-39-39.xlsx\n"
     ]
    }
   ],
   "source": [
    "current_datetime = datetime.now().strftime(\"%Y-%m-%d_%H-%M-%S\")\n",
    "excel_file_name = f'../tempat_simpan_nasional/cnbc_{current_datetime}.xlsx'\n",
    "df.to_excel(excel_file_name, index=False)\n",
    "\n",
    "print(f'Data has been saved to {excel_file_name}')"
   ]
  }
 ],
 "metadata": {
  "kernelspec": {
   "display_name": "base",
   "language": "python",
   "name": "python3"
  },
  "language_info": {
   "codemirror_mode": {
    "name": "ipython",
    "version": 3
   },
   "file_extension": ".py",
   "mimetype": "text/x-python",
   "name": "python",
   "nbconvert_exporter": "python",
   "pygments_lexer": "ipython3",
   "version": "3.11.4"
  },
  "orig_nbformat": 4
 },
 "nbformat": 4,
 "nbformat_minor": 2
}
