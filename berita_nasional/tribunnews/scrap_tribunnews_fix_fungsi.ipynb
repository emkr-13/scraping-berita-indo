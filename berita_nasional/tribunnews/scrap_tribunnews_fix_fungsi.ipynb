{
 "cells": [
  {
   "cell_type": "markdown",
   "metadata": {},
   "source": [
    "# Scrapping Tribunnews "
   ]
  },
  {
   "cell_type": "code",
   "execution_count": 1,
   "metadata": {},
   "outputs": [],
   "source": [
    "import requests\n",
    "from bs4 import BeautifulSoup\n",
    "import re\n",
    "import threading\n",
    "from datetime import datetime\n",
    "import pandas as pd\n",
    "import time\n",
    "from datetime import datetime, timedelta\n",
    "from concurrent.futures import ThreadPoolExecutor\n",
    "import concurrent.futures"
   ]
  },
  {
   "cell_type": "code",
   "execution_count": 2,
   "metadata": {},
   "outputs": [],
   "source": [
    "data = {\n",
    "    \"keywords\": \"prabowo\",\n",
    "    \"since_time\": \"2023-01-01\",\n",
    "    \"until_time\": \"2023-11-10\"\n",
    "}"
   ]
  },
  {
   "cell_type": "code",
   "execution_count": 3,
   "metadata": {},
   "outputs": [],
   "source": [
    "\n",
    "def scrape_link_per_day_worker(date, page_number):\n",
    "    headers = {\n",
    "        'User-Agent': 'Mozilla/5.0 (Windows NT 10.0; Win64; x64) AppleWebKit/537.36 (KHTML, like Gecko) Chrome/117.0.0.0 Safari/537.36'\n",
    "    }\n",
    "    url = f\"https://www.tribunnews.com/index-news?date={date}&page={page_number}\"\n",
    "    response = requests.get(url, headers=headers)\n",
    "    soup = BeautifulSoup(response.text, 'html.parser')\n",
    "    body = soup.find('ul', {\"class\": \"lsi\"})\n",
    "    articles = body.find_all('li', {\"class\": \"ptb15\"})\n",
    "\n",
    "    page_links = []\n",
    "\n",
    "    for article in articles:\n",
    "        header = article.find('h3', {\"class\": \"f16 fbo\"})\n",
    "        if header:\n",
    "            link = header.find('a')\n",
    "            if link and 'href' in link.attrs:\n",
    "                link_href = link['href']\n",
    "                page_links.append(link_href)\n",
    "                \n",
    "    print(f\"Scraped {len(page_links)} links from page {page_number}\")\n",
    "\n",
    "    return page_links"
   ]
  },
  {
   "cell_type": "code",
   "execution_count": 4,
   "metadata": {},
   "outputs": [],
   "source": [
    "def scrape_links(date, page_number):\n",
    "    current_date = datetime.strptime(date, \"%Y-%m-%d\").strftime(\"%Y-%-m-%-d\")\n",
    "    headers = {\n",
    "        'User-Agent': 'Mozilla/5.0 (Windows NT 10.0; Win64; x64) AppleWebKit/537.36 (KHTML, like Gecko) Chrome/117.0.0.0 Safari/537.36'\n",
    "    }\n",
    "\n",
    "    url = f\"https://www.tribunnews.com/index-news?date={current_date}&page={page_number}\"\n",
    "    response = requests.get(url, headers=headers)\n",
    "    soup = BeautifulSoup(response.text, 'html.parser')\n",
    "    body = soup.find('ul', {\"class\": \"lsi\"})\n",
    "    articles = body.find_all('li', {\"class\": \"ptb15\"})\n",
    "    \n",
    "    links = []\n",
    "    for article in articles:\n",
    "        header = article.find('h3', {\"class\": \"f16 fbo\"})\n",
    "        if header:\n",
    "            link = header.find('a')\n",
    "            if link and 'href' in link.attrs:\n",
    "                link_href = link['href']\n",
    "                links.append(link_href)\n",
    "                \n",
    "    print(f\"Scraped {len(links)} links from page {page_number}\")\n",
    "\n",
    "    return links\n"
   ]
  },
  {
   "cell_type": "code",
   "execution_count": 5,
   "metadata": {},
   "outputs": [],
   "source": [
    "def scrape_link_per_day(date, max_threads=5):\n",
    "    page_number = 1\n",
    "    page_links = []\n",
    "\n",
    "    with concurrent.futures.ThreadPoolExecutor(max_threads) as executor:\n",
    "        futures = []\n",
    "\n",
    "        while True:\n",
    "            future = executor.submit(scrape_links, date, page_number)\n",
    "            futures.append(future)\n",
    "            page_number += 1\n",
    "\n",
    "            # Break the loop if no more articles are found\n",
    "            if not future.result():\n",
    "                break\n",
    "\n",
    "        for future in concurrent.futures.as_completed(futures):\n",
    "            page_links.extend(future.result())\n",
    "\n",
    "    return page_links"
   ]
  },
  {
   "cell_type": "code",
   "execution_count": 6,
   "metadata": {},
   "outputs": [
    {
     "name": "stdout",
     "output_type": "stream",
     "text": [
      "Scraped 20 links from page 1\n",
      "Scraped 20 links from page 2\n",
      "Scraped 20 links from page 3\n",
      "Scraped 20 links from page 4\n",
      "Scraped 20 links from page 5\n",
      "Scraped 20 links from page 6\n",
      "Scraped 20 links from page 7\n",
      "Scraped 20 links from page 8\n",
      "Scraped 20 links from page 9\n",
      "Scraped 20 links from page 10\n",
      "Scraped 20 links from page 11\n",
      "Scraped 20 links from page 12\n",
      "Scraped 20 links from page 13\n",
      "Scraped 20 links from page 14\n",
      "Scraped 20 links from page 15\n",
      "Scraped 20 links from page 16\n",
      "Scraped 13 links from page 17\n",
      "Scraped 0 links from page 18\n"
     ]
    }
   ],
   "source": [
    "link=scrape_link_per_day(data[\"since_time\"])"
   ]
  },
  {
   "cell_type": "code",
   "execution_count": 7,
   "metadata": {},
   "outputs": [
    {
     "name": "stdout",
     "output_type": "stream",
     "text": [
      "['https://www.tribunnews.com/mata-lokal-memilih/2023/01/01/ganjar-erick-dinilai-mirip-seperti-jokowi-di-2014-yang-muncul-dengan-segudang-prestasi', 'https://www.tribunnews.com/seleb/2023/01/01/agensi-mengonfirmasi-shindong-super-junior-pacaran-dengan-non-selebriti', 'https://www.tribunnews.com/pendidikan/2023/01/01/kunci-jawaban-bahasa-indonesia-kelas-10-halaman-237-penggunaan-kata-ganti-pada-teks-biografi', 'https://www.tribunnews.com/sport/2023/01/01/jadwal-motogp-2023-mulai-bulan-maret-di-portugal-motogp-mandalika-bulan-oktober', 'https://www.tribunnews.com/superskor/2023/01/01/rekor-pertemuan-timnas-indonesia-vs-filipina-garuda-pernah-bantai-12-0-the-azkals', 'https://www.tribunnews.com/metropolitan/2023/01/01/pelaku-penculik-bocah-di-gunung-sahari-merupakan-residivis-pencabulan-dan-pernah-dipenjara-7-tahun', 'https://www.tribunnews.com/regional/2023/01/01/pamit-beli-petasan-2-bocah-laki-laki-ditemukan-tewas-di-kubangan-galian-proyek-tol-cijago-depok', 'https://www.tribunnews.com/sport/2023/01/01/stefan-bradl-bicara-soal-peluang-marc-marquez-di-kejuaraan-dunia-motogp-2023', 'https://www.tribunnews.com/bisnis/2023/01/01/usai-merugi-39-triliun-dolar-as-pasar-saham-di-china-diproyeksikan-rebound-pada-2023', 'https://www.tribunnews.com/nasional/2023/01/01/gelombang-tinggi-di-laut-panglima-tni-perintahkan-jajaran-tetap-siaga-sar-dan-tanggap-darurat', 'https://www.tribunnews.com/tribunners/2023/01/01/situs-goa-liang-bangkai-salah-satu-pesona-geopark-meratus', 'https://www.tribunnews.com/bisnis/2023/01/01/perjalanan-kereta-api-terganggu-banjir-semarang-kai-kembalikan-biaya-tiket-yang-lakukan-pembatalan', 'https://www.tribunnews.com/internasional/2023/01/01/korea-utara-akan-kembangkan-rudal-balistik-antar-benua-saingi-as-dan-korea-selatan', 'https://www.tribunnews.com/superskor/2023/01/01/habis-cody-gakpo-terbitlah-sofyan-amrabat-agresifitas-transfer-liverpool-di-musim-dingin', 'https://www.tribunnews.com/parapuan/2023/01/01/tayang-januari-2023-di-bioskop-simak-deretan-film-horor-indonesia-yang-siap-menghantuimu', 'https://www.tribunnews.com/regional/2023/01/01/imbas-banjir-di-semarang-waktu-tempuh-naik-kereta-dari-surabaya-ke-jakarta-tembus-22-jam', 'https://www.tribunnews.com/seleb/2023/01/01/sinopsis-film-cj7-kisah-kehidupan-manusia-dan-alien-tayang-malam-ini-di-trans-tv', 'https://www.tribunnews.com/metropolitan/2023/01/01/polres-metro-jakarta-pusat-naikan-status-kasus-penculikan-bocah-di-gunung-sahari-ke-penyidikan', 'https://www.tribunnews.com/bisnis/2023/01/01/kai-akibat-banjir-di-semarang-12-perjalanan-kereta-api-telat-berangkat-dari-jakarta', 'https://www.tribunnews.com/superskor/2023/01/01/timnas-indonesia-gelar-latihan-di-malam-tahun-baru', 'https://www.tribunnews.com/regional/2023/01/01/ini-alat-yang-dipakai-pelaku-untuk-mutilasi-wanita-di-bekasi-hingga-soal-identitas-terduga-korban', 'https://www.tribunnews.com/nasional/2023/01/01/cuaca-besok-bmkg-21-wilayah-berpotensi-hujan-dan-angin-kencang-2-januari-2023', 'https://www.tribunnews.com/sport/2023/01/01/malaysia-open-2023-ambisi-lee-zii-jia-rengkuh-trofi-juara-demi-patahkan-puasa-gelar', 'https://www.tribunnews.com/kilas-kementerian/2023/01/01/hnw-sistem-pemilu-terbuka-lebih-sesuai-dengan-konstitusi-dan-putusan-mk-sebelumnya', 'https://www.tribunnews.com/nasional/2023/01/01/bantuan-kartu-prakerja-lanjut-di-2023-rp-42-juta-per-penerima', 'https://www.tribunnews.com/lifestyle/2023/01/01/selain-anti-aging-retinol-mampu-tingkatkan-produksi-kolagen', 'https://www.tribunnews.com/seleb/2023/01/01/indra-bekti-akan-dirawat-20-hari-ke-depan-aldilla-jelita-buka-penggalangan-dana-biaya-sangat-besar', 'https://www.tribunnews.com/seleb/2023/01/01/resmi-berpacaran-dengan-iu-lee-jong-suk-akui-sudah-suka-sejak-lama', 'https://www.tribunnews.com/pendidikan/2023/01/01/kunci-jawaban-prakarya-kelas-8-halaman-116-semester-2-lembar-kerja-5-pengolahan-serelia-dan-umbi', 'https://www.tribunnews.com/nasional/2023/01/01/ronny-talapessy-hanya-tertawa-tanggapi-klaim-ferdy-sambo-jadi-yang-pertama-bongkar-kasus-brigadir-j', 'https://www.tribunnews.com/lifestyle/2023/01/01/ramalan-zodiak-cinta-senin-2-januari-2023-virgo-salah-paham-sagittarius-tenang-hadapi-masalah', 'https://www.tribunnews.com/regional/2023/01/01/banjir-di-stasiun-tawang-masih-ditangani-sejumlah-perjalanan-kereta-dialihkan-ke-jalur-selatan', 'https://www.tribunnews.com/bisnis/2023/01/01/hari-ini-penumpang-tiba-di-stasiun-pasar-senen-mencapai-12500-orang', 'https://www.tribunnews.com/seleb/2023/01/01/gisel-pajang-foto-serunya-liburan-bersama-gading-marten-dan-gempi-ucap-mau-nangis-apa-yan-terjadi', 'https://www.tribunnews.com/nasional/2023/01/01/lowongan-kerja-pt-lrt-jakarta-untuk-lulusan-s1-ini-syaratnya', 'https://www.tribunnews.com/superskor/2023/01/01/ilija-spasojevic-semua-pemain-harus-siap-bikin-gol-bukan-hanya-striker', 'https://www.tribunnews.com/bisnis/2023/01/01/penyidikan-tindak-pidana-sektor-jasa-keuangan-hanya-dapat-dilakukan-ojk-ini-kata-pengamat', 'https://www.tribunnews.com/superskor/2023/01/01/efek-cristiano-ronaldo-suporter-al-nassr-berbondong-bondong-beli-jersey-nomor-7', 'https://www.tribunnews.com/mata-lokal-memilih/2023/01/01/megawati-akan-umumkan-capres-pdip-pengamat-sulit-menebak-antara-puan-maharani-dan-ganjar-pranowo', 'https://www.tribunnews.com/seleb/2023/01/01/yg-entertainment-rilis-video-baby-monster-lisa-dan-jennie-blackpink-beri-komentar', 'https://www.tribunnews.com/internasional/2023/01/01/serangan-rudal-rusia-di-kyiv-ukraina-menewaskan-satu-orang', 'https://www.tribunnews.com/lifestyle/2023/01/01/ramalan-zodiak-karier-hari-ini-minggu-1-januari-2023-gemini-dapat-untung-taurus-lakukan-kesalahan', 'https://www.tribunnews.com/superskor/2023/01/01/jadwal-filipina-vs-timnas-indonesia-piala-aff-2022-shin-tae-yong-punya-2-opsi-pengganti-jordi-amat', 'https://www.tribunnews.com/lifestyle/2023/01/01/30-link-twibbon-tahun-baru-2023-dilengkapi-cara-buat-dan-share-di-medsos', 'https://www.tribunnews.com/bisnis/2023/01/01/lifting-akhir-2022-pertamina-hulu-mahakam-tembus-230-ribu-barel', 'https://www.tribunnews.com/internasional/2023/01/01/yesus-ich-liebe-dich-kata-kata-terakhir-paus-benedictus-xvi-sebelum-tutup-usia', 'https://www.tribunnews.com/bisnis/2023/01/01/tarif-listrik-nonsubsidi-periode-januari-hingga-maret-2023-tetap', 'https://www.tribunnews.com/sport/2023/01/01/5-pemain-andalan-jakarta-bhayangkara-presisi-di-proliga-2023-ada-nizar-anggota-polisi-dominan', 'https://www.tribunnews.com/superskor/2023/01/01/jadwal-siaran-langsung-filipina-vs-timnas-indonesia-di-piala-aff-2022-live-rcti', 'https://www.tribunnews.com/seleb/2023/01/01/jadwal-acara-tv-minggu-1-januari-2023-ada-smtown-live-2023-smcu-palace-di-trans-tv', 'https://www.tribunnews.com/nasional/2023/01/01/kemendagri-imbau-masyarakat-tidak-euforia-pasca-dicabutnya-ppkm', 'https://www.tribunnews.com/seleb/2023/01/01/indra-bekti-alami-kemunduran-memori-sering-membahas-masa-lampau-ingat-momen-mesra-bareng-istri', 'https://www.tribunnews.com/bisnis/2023/01/01/promo-alfamart-dan-indomaret-hari-ini-minggu-1-januari-2023-diskon-spesial-tahun-baru', 'https://www.tribunnews.com/bisnis/2023/01/01/petani-di-kabupaten-madiun-minta-ketua-kpk-ikut-mengawal-kebijakan-pengembangan-komoditas-porang', 'https://www.tribunnews.com/metropolitan/2023/01/01/misteri-sosok-wanita-korban-mutilasi-di-bekasi-motif-pembunuhan-hingga-update-penyelidikan-polisi', 'https://www.tribunnews.com/nasional/2023/01/01/perayaan-pergantian-tahun-2022-2023-di-empat-kota-besar-di-indonesia', 'https://www.tribunnews.com/seleb/2023/01/01/rizky-billar-tak-mau-paksakan-diri-balik-ke-televisi-di-tahun-2023', 'https://www.tribunnews.com/seleb/2023/01/01/populer-seleb-indra-bekti-alami-short-memory-hingga-lupa-nama-anak-lee-jong-suk-dan-iu-pacaran', 'https://www.tribunnews.com/nasional/2023/01/01/50-ucapan-selamat-tahun-baru-2023-dalam-bahasa-indonesia-dan-inggris-cocok-dibagikan-di-medsos', 'https://www.tribunnews.com/nasional/2023/01/01/peringatan-dini-gelombang-tinggi-bmkg-minggu-1-januari-2023-perairan-selatan-kupang-capai-6-meter', 'https://www.tribunnews.com/e-sport/2023/01/01/live-streaming-m4-world-championship-hari-pertama-dimulai-jam-1400-wib-onic-esports-vs-todak', 'https://www.tribunnews.com/internasional/2023/01/01/rayakan-tahun-baru-2023-vladimir-putin-beri-medali-ke-pasukan-rusia-yang-berperang-di-ukraina', 'https://www.tribunnews.com/superskor/2023/01/01/kalahkan-haaland-lewandowski-mbappe-jadi-pencetak-gol-terbanyak-di-tahun-2022', 'https://www.tribunnews.com/bisnis/2023/01/01/jual-rokok-batangan-masuk-revisi-pp-1092012-dinilai-bikin-sulit-usaha-pertembakauan', 'https://www.tribunnews.com/metropolitan/2023/01/01/polda-metro-jaya-tunggu-hasil-tes-dna-pastikan-identitas-wanita-korban-mutilasi-di-bekasi', 'https://www.tribunnews.com/bisnis/2023/01/01/ihsg-sentuh-rekor-7318-di-2022-bisa-lebih-tinggi-lagi-di-2023', 'https://www.tribunnews.com/seleb/2023/01/01/biaya-pengobatan-indra-bekti-mahal-aldilla-jelita-mengaku-berat-hingga-lakukan-penggalangan-dana', 'https://www.tribunnews.com/superskor/2023/01/01/pelatih-arema-fc-tanggapi-rumor-abel-camara-hengkang-javier-roca-evaluasi-baru-dilakukan-2-januari', 'https://www.tribunnews.com/sport/2023/01/01/niat-hati-pamer-mobil-baru-kencan-pertama-francesco-bagnaia-berujung-kecelakaan', 'https://www.tribunnews.com/metropolitan/2023/01/01/viral-wahana-tornado-dufan-berhenti-mendadak-bikin-pengunjung-panik-pengelola-ungkap-penyebabnya', 'https://www.tribunnews.com/seleb/2023/01/01/berkarya-bikin-musik-jadi-cara-kunto-aji-healing', 'https://www.tribunnews.com/bisnis/2023/01/01/dalam-sepekan-rupiah-menguat-016-persen-ihsg-ikutan-naik-ke-6850', 'https://www.tribunnews.com/superskor/2023/01/01/harapan-pelatih-persib-di-tahun-2023-luis-milla-teruskan-tren-positif-pada-putaran-kedua-liga-1', 'https://www.tribunnews.com/seleb/2023/01/01/syahnaz-sadiqah-beberkan-kondisi-mami-popon-sebelum-meninggal-dunia-sempat-lama-dirawat-di-icu', 'https://www.tribunnews.com/sport/2023/01/01/motogp-2023-jadi-momen-yang-pas-bagi-alex-marquez-asapi-marc-marquez', 'https://www.tribunnews.com/seleb/2023/01/01/nenek-raffi-ahmad-mami-popon-minta-dimakamkan-di-bandung-lokasi-sudah-disiapkan', 'https://www.tribunnews.com/seleb/2023/01/01/penglihatan-indra-bekti-buram-rasakan-pusing-setelah-4-hari-dirawat-di-rumah-sakit', 'https://www.tribunnews.com/mata-lokal-memilih/2023/01/01/pan-tolak-wacana-sistem-proporsional-tertutup-minta-mk-konsisten-dengan-putusan-sebelumnya', 'https://www.tribunnews.com/regional/2023/01/01/tahun-baru-2023-sejumlah-lokasi-di-jawa-tengah-dilanda-banjir', 'https://www.tribunnews.com/seleb/2023/01/01/kondisi-terakhir-mami-popon-nenek-raffi-ahmad-sebelum-meninggal-dunia-alami-pendarahan-di-paru-paru', 'https://www.tribunnews.com/seleb/2023/01/01/winter-aespa-ulang-tahun-ke-22-pada-hari-ini-member-aespa-kompak-buat-instagram-story', 'https://www.tribunnews.com/superskor/2023/01/01/nadeo-argawinata-timnas-indonesia-carter-pesawat-sangat-bagus-untuk-kondisi-para-pemain', 'https://www.tribunnews.com/sport/2023/01/01/awali-2023-sebagai-ranking-1-dunia-fajarrian-fokus-siapkan-mental-di-tengah-persaingan-ketat', 'https://www.tribunnews.com/corona/2023/01/01/presiden-xi-jinping-pengendalian-covid-19-di-china-memasuki-tahap-baru', 'https://www.tribunnews.com/bisnis/2023/01/01/stasiun-di-semarang-kebanjiran-5-ka-putuskan-lewat-jalur-selatan', 'https://www.tribunnews.com/metropolitan/2023/01/01/stasiun-tawang-semarang-terendam-banjir-penumpang-di-pasar-senen-menumpuk-imbas-keterlambatan-ka', 'https://www.tribunnews.com/superskor/2023/01/01/demam-cristiano-ronaldo-fans-al-nassr-soraki-nama-cr7-sambil-teriak-siu-di-markas-lawan', 'https://www.tribunnews.com/superskor/2023/01/01/rekap-bursa-transfer-2023-man-city-boyong-wonderkid-suarez-ke-gremio-al-nassr-bidik-2-bintang', 'https://www.tribunnews.com/seleb/2023/01/01/daftar-dan-sinopsis-film-spesial-tahun-baru-2023-wedding-proposal-di-rcti-dan-cj-7-di-trans-tv', 'https://www.tribunnews.com/internasional/2023/01/01/media-china-sebut-tes-covid-19-pelancong-dari-china-di-inggris-diskriminatif', 'https://www.tribunnews.com/regional/2023/01/01/fakta-pria-terduga-pelaku-mutilasi-wanita-di-bekasi-berusaha-kabur-hingga-sempat-dilaporkan-hilang', 'https://www.tribunnews.com/sport/2023/01/01/fajarrian-sebut-2022-jadi-tahun-terbaik-rengkuh-ranking-satu-dunia-untuk-pertama-kalinya', 'https://www.tribunnews.com/nasional/2023/01/01/pemkot-semarang-koordinasi-dengan-bbws-tutup-tanggul-jebol-di-kali-plumbon', 'https://www.tribunnews.com/nasional/2023/01/01/tni-al-kerahkan-kapal-rumah-sakit-evakuasi-ratusan-warga-pulau-bawean-yang-terdampak-cuaca-buruk', 'https://www.tribunnews.com/bisnis/2023/01/01/intip-3-entrepreneur-muda-pemenang-pengusaha-muda-brilian-2022', 'https://www.tribunnews.com/superskor/2023/01/01/piala-aff-2022-pernah-bertanding-di-markas-filipina-kiper-timnas-indonesia-rasakan-nostalgia', 'https://www.tribunnews.com/sport/2023/01/01/wajah-baru-di-awal-tahun-2023-tiba-di-garasi-honda-selamat-datang-joan-mir', 'https://www.tribunnews.com/seleb/2023/01/01/link-nonton-drama-korea-alchemy-of-souls-season-2-episode-8-jang-uk-melamar-bu-yeon', 'https://www.tribunnews.com/superskor/2023/01/01/media-thailand-soroti-permintaan-maaf-iwan-bule-seusai-penyerangan-bus-skuad-gajah-perang', 'https://www.tribunnews.com/seleb/2023/01/01/agensi-benarkan-lee-jong-suk-dan-iu-berpacaran-penggemar-langsung-baper', 'https://www.tribunnews.com/bisnis/2023/01/01/agen-wisata-kebanjiran-pesanan-liburan-ke-jepang-program-spesial-langsung-disiapkan-untuk-awal-2023', 'https://www.tribunnews.com/regional/2023/01/01/fakta-fakta-banjir-kepung-kota-semarang-disebut-paling-parah-stasiun-hingga-simpang-lima-terendam', 'https://www.tribunnews.com/seleb/2023/01/01/akun-youtube-miliknya-sempat-berganti-nama-jadi-tesla-elon-musk-peretasnya-ini-kata-raditya-dika', 'https://www.tribunnews.com/nasional/2023/01/01/mendagri-minta-kepala-daerah-tetap-imbau-masyarakat-waspada-penyebaran-covid-19-meski-ppkm-dicabut', 'https://www.tribunnews.com/regional/2023/01/01/stok-pangan-korban-gempa-cianjur-mulai-menipis-bumn-asuransi-ini-langsung-kirim-bantuan', 'https://www.tribunnews.com/regional/2023/01/01/bpbd-laporkan-wilayah-di-jateng-yang-tergenang-banjir-tegal-pekalongan-kendal-hingga-grobogan', 'https://www.tribunnews.com/bisnis/2023/01/01/bank-sentral-jepang-naikkan-perkiraan-inflasi-mendekati-target-2-persen-pada-2023', 'https://www.tribunnews.com/superskor/2023/01/01/prediksi-skor-tottenham-vs-aston-villa-liga-inggris-unggul-h2h-the-lilywhites-dijagokan-menang', 'https://www.tribunnews.com/seleb/2023/01/01/sinopsis-alchemy-of-souls-season-2-episode-7-kondisi-seo-yul-kritis-bu-yeon-teringat-masa-lalu', 'https://www.tribunnews.com/seleb/2023/01/01/pasca-operasi-indra-bekti-jadi-kerap-ngelantur-ingat-pekerjaan-hingga-masa-lalu-saat-masih-kecil', 'https://www.tribunnews.com/otomotif/2023/01/01/jangan-lengah-hal-ini-bisa-ganggu-mengemudi-saat-di-jalan-tol', 'https://www.tribunnews.com/sport/2023/01/01/daftar-pemain-proliga-2023-putri-yolana-betha-dan-hany-budiarti-perkuat-gresik-petrokimia', 'https://www.tribunnews.com/internasional/2023/01/01/pemakaman-paus-emeritus-benediktus-xvi-digelar-5-januari-2023-di-lapangan-santo-petrus', 'https://www.tribunnews.com/nasional/2023/01/01/jokowi-ajak-masyarakat-menyongsong-harapan-tantangan-dan-peluang-baru-di-tahun-2023', 'https://www.tribunnews.com/sport/2023/01/01/malaysia-open-2023-jadi-panggung-terakhir-goh-liu-ying-akui-tak-pasang-target-khusus', 'https://www.tribunnews.com/new-economy/2023/01/01/hartanya-hilang-rp-3107-triliun-setelah-caplok-twitter-elon-musk-akan-akuisisi-medsos-lainnya', 'https://www.tribunnews.com/regional/2023/01/01/8-muda-mudi-di-banjarbaru-pesta-miras-jelang-pergantian-tahun-diamankan-polisi', 'https://www.tribunnews.com/superskor/2023/01/01/3-jadwal-tunda-liga-1-2022-digelar-9-11-januari-psis-vs-bhayangkara-fc-hingga-persib-vs-persija', 'https://www.tribunnews.com/nasional/2023/01/01/alumni-atma-jaya-jakarta-pertumbuhan-ekonomi-bangkit-tapi-penegakan-ham-masih-jalan-di-tempat', 'https://www.tribunnews.com/bisnis/2023/01/01/who-desak-china-perbarui-data-terkait-kasus-infeksi-covid-19-secara-real-time', 'https://www.tribunnews.com/sport/2023/01/01/fajarrian-abaikan-status-ranking-1-dunia-saat-tatap-kualifikasi-olimpiade-paris-2024', 'https://www.tribunnews.com/sport/2023/01/01/skuad-tim-voli-putri-gresik-petrokimia-diperkenalkan-dipatok-target-juara-proliga-2023', 'https://www.tribunnews.com/nasional/2023/01/01/stasiun-tawang-semarang-terendam-banjir-penumpang-di-pasar-senen-menumpuk-imbas-kereta-terlambat', 'https://www.tribunnews.com/nasional/2023/01/01/prakiraan-cuaca-33-kota-di-indonesia-senin-2-januari-2023-surabaya-cerah-kupang-hujan', 'https://www.tribunnews.com/seleb/2023/01/01/marshel-widianto-sebut-2022-tahun-terberat-sampai-takut-berharap-di-2023-bisa-kuat-jalani-hidup', 'https://www.tribunnews.com/metropolitan/2023/01/01/awal-2023-sejumlah-wilayah-di-jakarta-utara-dilanda-banjir', 'https://www.tribunnews.com/pendidikan/2023/01/01/kunci-jawaban-pkn-kelas-7-halaman-153-154-semester-2-tabel-63-sekilas-pahlawan-nasional', 'https://www.tribunnews.com/regional/2023/01/01/malam-tahun-baru-2-mahasiswa-di-semarang-tewas-tersengat-listrik-saat-lintasi-banjir-sempat-teriak', 'https://www.tribunnews.com/seleb/2023/01/01/akui-aktor-kesayangan-audi-marissa-ikhlas-lee-jong-suk-pacaran-dengan-iu', 'https://www.tribunnews.com/superskor/2023/01/01/akhiri-2022-dengan-juara-piala-dunia-lionel-messi-tulis-resolusi-besar-tahun-2023', 'https://www.tribunnews.com/techno/2023/01/01/update-harga-iphone-terbaru-januari-2023-iphone-14-turun-harga', 'https://www.tribunnews.com/pertamina/2023/01/01/banjir-melanda-semarang-pertamina-salurkan-bantuan-bright-gas-dan-sembako-ke-posko-utama', 'https://www.tribunnews.com/seleb/2023/01/01/aldilla-jelita-sebut-penyebab-indra-bekti-pusing-saat-tidur-tak-bisa-santai-masih-mikir-pekerjaan', 'https://www.tribunnews.com/sport/2023/01/01/juara-all-japan-kento-momota-usung-misi-kebangkitan-tatap-turnamen-tahun-2023', 'https://www.tribunnews.com/superskor/2023/01/01/nadeo-argawinata-bertekad-bawa-indonesia-raih-kemenangan-saat-hadapi-filipina', 'https://www.tribunnews.com/superskor/2023/01/01/piala-aff-2022-filipina-bermain-di-kandang-sendiri-josep-ferre-yakin-kalahkan-timnas-indonesia', 'https://www.tribunnews.com/bisnis/2023/01/01/maroko-akan-berlakukan-pembatasan-terhadap-turis-asal-china-di-tengah-lonjakan-kasus-covid-19', 'https://www.tribunnews.com/pendidikan/2023/01/01/kunci-jawaban-pkn-kelas-7-halaman-150-151-semester-2-aktivitas-63', 'https://www.tribunnews.com/bisnis/2023/01/01/kai-berikan-pengembalian-tiket-hingga-100-persen-bagi-penumpang-terdampak-banjir-stasiun-tawang', 'https://www.tribunnews.com/nasional/2023/01/01/daftar-hari-penting-selama-januari-2023-ada-peringatan-hari-tritura-hingga-tahun-baru-imlek', 'https://www.tribunnews.com/superskor/2023/01/01/jumpa-myanmar-timnas-vietnam-di-ambang-rekor-fenomenal-dalam-sejarah-piala-aff', 'https://www.tribunnews.com/seleb/2023/01/01/chord-gitar-the-second-you-sleep-saybia-i-say-to-watch-you-fade-away', 'https://www.tribunnews.com/pendidikan/2023/01/01/kunci-jawaban-matematika-kelas-8-halaman-103-semester-2-garis-singgung-lingkaran', 'https://www.tribunnews.com/otomotif/2023/01/01/honda-berencana-kembangkan-sepeda-motor-balap-bertenaga-listrik', 'https://www.tribunnews.com/superskor/2023/01/01/transfer-liga-1-ze-valente-satu-langkah-lagi-menuju-persebaya-tinggalkan-pss-sleman', 'https://www.tribunnews.com/seleb/2023/01/01/kondisi-lemah-mami-popon-ingin-lihat-rumah-baru-raffi-ahmad-sebelum-meninggal-diantar-pakai-mobil', 'https://www.tribunnews.com/nasional/2023/01/01/jadwal-puasa-ayyamul-bidh-januari-2023-ini-bacaan-niatnya', 'https://www.tribunnews.com/nasional/2023/01/01/fraksi-pks-nilai-kehadiran-perppu-cipta-kerja-adalah-bencana-undang-undang', 'https://www.tribunnews.com/corona/2023/01/01/ahli-epidemiolog-sebut-indonesia-punya-banyak-pr-soal-penerapan-protokol-kesehatan-usai-ppkm-dicabut', 'https://www.tribunnews.com/regional/2023/01/01/banjir-semarang-perjalanan-kereta-api-dibatalkan-rendam-puluhan-rumah-hingga-dua-mahasiswa-tewas', 'https://www.tribunnews.com/mata-lokal-memilih/2023/01/01/soal-pdip-umumkan-capres-di-2023-pengamat-ada-2-variabel-antara-ganjar-pranowo-dan-puan-maharani', 'https://www.tribunnews.com/sport/2023/01/01/menanti-aksi-anak-asuh-nova-widianto-di-malaysia-open-2023-yang-tak-sabar-unjuk-gigi', 'https://www.tribunnews.com/superskor/2023/01/01/garuda-unggul-kualitas-harga-pasar-skuad-timnas-indonesia-2x-lipat-lebih-mahal-ketimbang-filipina', 'https://www.tribunnews.com/internasional/2023/01/01/paus-emeritus-benediktus-xvi-wafat-presiden-jokowi-sampaikan-ucapan-duka-cita', 'https://www.tribunnews.com/mpr-ri/2023/01/01/perpu-cipta-kerja-wakil-ketua-mpr-kemunduran-demokrasi-dan-melemahnya-institusi-negara', 'https://www.tribunnews.com/superskor/2023/01/01/jadwal-krusial-manchester-city-di-liga-inggris-januari-bak-ujian-vital-konsistensi-the-citizens', 'https://www.tribunnews.com/superskor/2023/01/01/jadwal-putaran-kedua-liga-1-20222023-laga-persib-bandung-vs-persija-digelar-11-januari', 'https://www.tribunnews.com/nasional/2023/01/01/daftar-ump-2023-di-38-provinsi-yang-berlaku-mulai-1-januari-2023', 'https://www.tribunnews.com/internasional/2023/01/01/sma-di-texas-yang-semua-muridnya-adalah-ibu-remaja', 'https://www.tribunnews.com/seleb/2023/01/01/lirik-romanji-lagu-phantom-wayv-like-a-phantom-that-be-pulling-my-strings', 'https://www.tribunnews.com/bisnis/2023/01/01/presiden-kspi-said-iqbal-perppu-uu-cipta-kerja-tidak-sesuai-harapan-buruh', 'https://www.tribunnews.com/superskor/2023/01/01/odegaard-cosplay-fabregas-arsenal-kecipratan-untung-dari-kebijakan-transfer-real-madrid', 'https://www.tribunnews.com/seleb/2023/01/01/diantar-amy-qanita-mami-popon-pandangi-rumah-baru-raffi-ahmad-sebelum-meninggal', 'https://www.tribunnews.com/nasional/2023/01/01/besok-ricky-rizal-dan-kuat-maruf-akan-hadirkan-ahli-meringankan-dalam-sidang-tewasnya-brigadir-j', 'https://www.tribunnews.com/superskor/2023/01/01/pele-meninggal-dunia-sang-ibu-yang-berusia-100-tahun-malah-tak-tahu-menahu', 'https://www.tribunnews.com/bisnis/2023/01/01/goldman-sachs-tahun-ini-negara-maju-dan-berkembang-masih-akan-dihantui-inflasi', 'https://www.tribunnews.com/nasional/2023/01/01/pengamat-politik-adi-prayitno-sebut-ada-2-variabel-dalam-tentukan-calon-presiden-dari-pdip', 'https://www.tribunnews.com/mata-lokal-memilih/2023/01/01/pengamat-sebut-erick-thohir-sosok-cawapres-yang-punya-magnet-elektoral-tinggi', 'https://www.tribunnews.com/superskor/2023/01/01/sumardji-larang-keras-para-pemain-timnas-indonesia-eksis-di-sosial-media', 'https://www.tribunnews.com/metropolitan/2023/01/01/polisi-akhirnya-terbitkan-status-dpo-dan-sebar-foto-pelaku-penculik-bocah-di-gunung-sahari-jakpus', 'https://www.tribunnews.com/nasional/2023/01/01/pt-kai-batalkan-4-perjalanan-kereta-api-imbas-banjir-di-stasiun-tawang-semarang', 'https://www.tribunnews.com/seleb/2023/01/01/aldilla-jelita-berusaha-tegar-dampingi-suami-sedih-saat-indra-bekti-sempat-lupa-nama-anak-anaknya', 'https://www.tribunnews.com/superskor/2023/01/01/sumardji-beberkan-cara-khusus-untuk-tempa-mental-para-pemain-timnas-indonesia', 'https://www.tribunnews.com/seleb/2023/01/01/aldilla-jelita-buka-donasi-untuk-biaya-rumah-sakit-indra-bekti-beberapa-rekan-artis-beri-bantuan', 'https://www.tribunnews.com/sport/2023/01/01/malaysia-open-2023-pernah-di-jegal-fajarrian-ganda-putra-malaysia-ini-ingin-revans', 'https://www.tribunnews.com/superskor/2023/01/01/kiper-timnas-nadeo-argawinata-sebut-long-ball-pemain-filipina-berbahaya', 'https://www.tribunnews.com/regional/2023/01/01/10-perjalanan-ka-dialihkan-lewat-jalur-selatan-imbas-stasiun-tawang-tergenang-berikut-rinciannya', 'https://www.tribunnews.com/internasional/2023/01/01/ketauan-intip-wanita-seorang-pria-dilarang-masuk-toilet-mcdonalds-di-seluruh-inggris', 'https://www.tribunnews.com/pendidikan/2023/01/01/kunci-jawaban-bahasa-indonesia-kelas-10-halaman-236-menganalisis-kaidah-kebahasaan-teks-biografi', 'https://www.tribunnews.com/nasional/2023/01/01/keberangkatan-kereta-di-stasiun-pasar-senen-terlambat-hingga-7-jam-penumpang-boleh-refund-tiket', 'https://www.tribunnews.com/nasional/2023/01/01/partai-buruh-soroti-outsourcing-dalam-perppu-cipta-kerja', 'https://www.tribunnews.com/seleb/2023/01/01/chord-gitar-dan-lirik-lagu-i-wanna-be-yours-arctic-monkeys', 'https://www.tribunnews.com/seleb/2023/01/01/kondisi-terkini-indra-bekti-sudah-bisa-gerakkan-kaki-dan-tangan-namun-pengelihatan-agak-buram', 'https://www.tribunnews.com/pendidikan/2023/01/01/kunci-jawaban-matematika-kelas-8-halaman-110-semester-2-garis-singgung-persekutuan-lingkaran', 'https://www.tribunnews.com/nasional/2023/01/01/besok-kubu-ricky-rizal-dan-kuat-maruf-bakal-hadirkan-saksi-meringankan-dalam-persidangan', 'https://www.tribunnews.com/bisnis/2023/01/01/hadapi-cuaca-ekstrem-angkasa-pura-ii-lakukan-pengetatan-prosedur-terbang', 'https://www.tribunnews.com/kalbe-health-corner/2023/01/01/post-holiday-syndrome-atasi-dengan-konsumsi-vitamin-d-ini', 'https://www.tribunnews.com/superskor/2023/01/01/live-streaming-tottenham-vs-aston-villa-liga-inggris-jam-2130-wib-tonton-di-sini', 'https://www.tribunnews.com/nasional/2023/01/01/dituduh-korupsi-dana-hibah-16-mts-ketua-dprd-kabupaten-tangerang-polisikan-seorang-berinisial-hm', 'https://www.tribunnews.com/superskor/2023/01/01/pelatih-timnas-filipina-siapkan-strategi-jitu-saat-hadapi-indonesia', 'https://www.tribunnews.com/superskor/2023/01/01/prediksi-susunan-pemain-filipina-vs-timnas-indonesia-piala-aff-2022-edo-spaso-tumpuan', 'https://www.tribunnews.com/superskor/2023/01/01/sorotan-liga-italia-pekan-16-juventus-on-fire-kesempatan-inter-milan-patahkan-kesaktian-napoli', 'https://www.tribunnews.com/superskor/2023/01/01/josep-ferre-filipina-akan-curi-pengalaman-di-laga-kontra-indonesia', 'https://www.tribunnews.com/kesehatan/2023/01/01/imbas-melonjaknya-inflasi-harga-obat-di-pasar-amerika-serikat-naik-mulai-hari-ini', 'https://www.tribunnews.com/nasional/2023/01/01/dukung-pemerintah-cabut-ppkm-ketua-mpr-pandemi-covid-19-terkendali', 'https://www.tribunnews.com/nasional/2023/01/01/lpoi-di-bawah-kepemimpinan-kh-said-aqil-siroj-bentuk-asosiasi-media-muslim-indonesia', 'https://www.tribunnews.com/bisnis/2023/01/01/daftar-terbaru-harga-rokok-per-1-januari-2023-cukai-naik-10-persen', 'https://www.tribunnews.com/nasional/2023/01/01/kejaksaan-agung-telah-amankan-173-buronan-sepanjang-2022-mayoritas-perkara-korupsi', 'https://www.tribunnews.com/nasional/2023/01/01/sepanjang-2022-kejaksaan-agung-selesaikan-124-laporan-soal-mafia-tanah', 'https://www.tribunnews.com/superskor/2023/01/01/timnas-kamboja-berpeluang-menang-lawan-thailand-di-partai-pamungkas-grup-piala-aff-2022', 'https://www.tribunnews.com/regional/2023/01/01/pesta-malam-pergantian-tahun-berubah-petaka-jari-wakil-bupati-kaur-bengkulu-putus-terbakar-petasan', 'https://www.tribunnews.com/superskor/2023/01/01/stephen-shrock-terakhir-bersama-timnas-filipina-usai-jamu-indonesia', 'https://www.tribunnews.com/corona/2023/01/01/breaking-news-update-covid-19-per-1-januari-2023-bertambah-366-kasus-baru', 'https://www.tribunnews.com/superskor/2023/01/01/filipina-vs-timnas-indonesia-piala-aff-2022-shin-tae-yong-skuad-garuda-dihadapkan-2-pilihan', 'https://www.tribunnews.com/nasional/2023/01/01/pbb-sahkan-resolusi-pro-palestina-bksap-dpr-ingatkan-implementasi-nyata-dan-standar-ganda-barat', 'https://www.tribunnews.com/pendidikan/2023/01/01/kunci-jawaban-sejarah-indonesia-kelas-11-semester-2-halaman-71-drama-akhir-sang-tirani', 'https://www.tribunnews.com/superskor/2023/01/01/filipina-vs-timnas-indonesia-piala-aff-2022-bermain-di-rumput-sintesis-shin-tae-yong-waswas', 'https://www.tribunnews.com/superskor/2023/01/01/filipina-vs-indonesia-ricky-kambuaya-kami-sudah-siap-100-persen', 'https://www.tribunnews.com/nasional/2023/01/01/peringatan-dini-bmkg-senin-2-januari-2023-waspada-19-wilayah-hujan-lebat-disertai-angin-kencang', 'https://www.tribunnews.com/internasional/2023/01/01/vladimir-putin-ukraina-hanyalah-alat-negara-barat-untuk-hancurkan-rusia', 'https://www.tribunnews.com/superskor/2023/01/01/shin-tae-yong-minta-pemain-tak-lengah-hadapi-filipina-filipina-terbiasa-main-di-rumput-sintetis', 'https://www.tribunnews.com/bisnis/2023/01/01/harga-minyak-dunia-turun-terus-ekonom-sebut-pemerintah-punya-ruang-turunkan-harga-bbm-subsidi', 'https://www.tribunnews.com/superskor/2023/01/01/rekap-transfer-liga-1-tim-papan-bawah-barito-putera-persik-bersih-bersih-pemain', 'https://www.tribunnews.com/bisnis/2023/01/01/simak-aksi-korporasi-bri-di-tahun-2022-dari-terbitkan-green-bond-hingga-sebar-dividen-interim', 'https://www.tribunnews.com/internasional/2023/01/01/ahli-onkologi-dari-belanda-temukan-organ-baru-pada-tubuh-manusia', 'https://www.tribunnews.com/bisnis/2023/01/01/penumpang-pesawat-di-20-bandara-indonesia-melonjak-saat-nataru-ap-ii-layani-hingga-62-juta-orang', 'https://www.tribunnews.com/nasional/2023/01/01/ketua-fraksi-pks-dpr-sampaikan-catatan-kritis-jalannya-pemerintahan-sepanjang-2022', 'https://www.tribunnews.com/bisnis/2023/01/01/ojk-diminta-siapkan-regulasi-yang-kuat-saat-jadi-lembaga-tunggal-penyidikan-pidana-jasa-keuangan', 'https://www.tribunnews.com/pendidikan/2023/01/01/kunci-jawaban-sejarah-indonesia-kelas-11-semester-2-halaman-60-apa-itu-seikeirei', 'https://www.tribunnews.com/superskor/2023/01/01/shin-tae-yong-sangat-berharap-indonesia-bisa-keluar-sebagai-juara-grup-a', 'https://www.tribunnews.com/internasional/2023/01/01/paus-fransiskus-dan-para-pemimpin-dunia-beri-penghormatan-untuk-mantan-paus-benediktus-xvi', 'https://www.tribunnews.com/metropolitan/2023/01/01/ungu-jadi-warna-pilihan-hidupkan-suasana-pesta-pergantian-tahun', 'https://www.tribunnews.com/mpr-ri/2023/01/01/apresiasi-presiden-jokowi-mencabut-ppkm-yandri-susanto-semangat-baru-masyarakat-untuk-produktif', 'https://www.tribunnews.com/pendidikan/2023/01/01/kunci-jawaban-bahasa-indonesia-kelas-10-halaman-234-mengubah-cara-penggambaran-watak-tokoh', 'https://www.tribunnews.com/pendidikan/2023/01/01/kunci-jawaban-matematika-kelas-7-halaman-333-334-semester-2-beserta-pembahasan-uji-kompetensi-9', 'https://www.tribunnews.com/lifestyle/2023/01/01/ramalan-zodiak-keuangan-senin-2-januari-2023-taurus-harus-menahan-diri-virgo-kehilangan-uang', 'https://www.tribunnews.com/superskor/2023/01/01/inilah-markas-arema-fc-arungi-putaran-kedua-liga-1-20222023', 'https://www.tribunnews.com/superskor/2023/01/01/harapan-michael-krmencik-dan-para-pemain-persija-di-tahun-2023', 'https://www.tribunnews.com/nasional/2023/01/01/mendagri-minta-kepala-daerah-terus-perhatikan-dan-beri-perlindungan-komunitas-rentan-covid-19', 'https://www.tribunnews.com/seleb/2023/01/01/dari-sahabat-jadi-pacar-begini-perasaan-iu-tentang-lee-jong-suk', 'https://www.tribunnews.com/seleb/2023/01/01/firasat-raffi-ahmad-sebelum-sang-nenek-mami-popon-meninggal-minta-amy-qanita-tak-pergi', 'https://www.tribunnews.com/bisnis/2023/01/01/dalam-tiga-hari-jasa-marga-catat-489-ribu-kendaraan-meninggalkan-jabotabek', 'https://www.tribunnews.com/seleb/2023/01/01/gemar-berburu-piringan-hitam-musisi-lawas-jaz-hayat-senang-dapat-lagu-kupu-kupu-malam-titiek-puspa', 'https://www.tribunnews.com/nasional/2023/01/01/ziarah-ke-makam-fatmawati-wakil-ketua-mpr-ri-wajar-sebagai-bangsa-memuliakan-pemimpin-perempuan', 'https://www.tribunnews.com/nasional/2023/01/01/pemkot-semarang-minta-kementerian-pupr-segera-normalisasi-sungai-plumbon', 'https://www.tribunnews.com/nasional/2023/01/01/tolak-proporsional-tertutup-wakil-ketua-mpr-rakyat-yang-harus-menentukan-wakilnya', 'https://www.tribunnews.com/internasional/2023/01/01/rudal-rusia-hancurkan-kiev-saat-malam-tahun-baru-2023-zelensky-tidak-ada-kata-maaf-untuk-putin', 'https://www.tribunnews.com/pendidikan/2023/01/01/kunci-jawaban-matematika-kelas-7-halaman-331-332-semester-2-beserta-pembahasan-uji-kompetensi-9', 'https://www.tribunnews.com/seleb/2023/01/01/rekomendasi-tayangan-prime-video-januari-2023-ranah-3-warna-the-rig-hingga-hunters-season-2', 'https://www.tribunnews.com/regional/2023/01/01/pt-kai-minta-maaf-akibat-keterlambatan-kereta-imbas-banjir-stasiun-tawang-semarang', 'https://www.tribunnews.com/superskor/2023/01/01/shin-tae-yong-ingin-pemain-timnas-indonesia-bisa-cetak-banyak-gol', 'https://www.tribunnews.com/internasional/2023/01/01/covid-di-china-rumah-sakit-kewalahan-berapa-sebenarnya-jumlah-kasus-dan-kematian', 'https://www.tribunnews.com/nasional/2023/01/01/kepala-daerah-diminta-tetap-alokasikan-apbd-untuk-penanganan-dan-pengendalian-covid-19', 'https://www.tribunnews.com/internasional/2023/01/01/pagar-perbatasan-sasar-migran-ilegal-gajah-dan-satwa-liar-lain-jadi-korban', 'https://www.tribunnews.com/metropolitan/2023/01/01/tulang-wanita-korban-mutilasi-di-bekasi-bergerigi-polisi-beberkan-fakta-pemeriksaan-dokter-forensik', 'https://www.tribunnews.com/lifestyle/2023/01/01/bacaan-niat-serta-doa-puasa-senin-kamis-dilengkapi-dengan-tulisan-arab-latin-dan-artinya', 'https://www.tribunnews.com/regional/2023/01/01/kronologi-wakil-bupati-kaur-terkena-ledakan-kembang-api-tahun-baru-jari-tangan-luka-parah', 'https://www.tribunnews.com/nasional/2023/01/01/polisi-ungkap-awal-penemuan-identitas-iwan-sumarno-alias-jacky-sang-penculik-bocah-di-gunung-sahari', 'https://www.tribunnews.com/nasional/2023/01/01/kejaksaan-agung-selamatkan-keuangan-negara-rp37-triliun-pada-2022-berikut-rinciannya', 'https://www.tribunnews.com/nasional/2023/01/01/pakar-hukum-penerbitan-perppu-cipta-kerja-tidak-sesuai-aturan-yang-berlaku-secara-hukum-tata-negara', 'https://www.tribunnews.com/nasional/2023/01/01/perjalanan-ka-terlambat-akibat-banjir-di-semarang-kai-minta-maaf-dan-berikan-makanan-ke-penumpang', 'https://www.tribunnews.com/tribunners/2023/01/01/era-kebangkitan-turki-usmani-dan-kejayaan-islam-global', 'https://www.tribunnews.com/internasional/2023/01/01/rusia-beri-potongan-pajak-bagi-tentara-yang-berperang-di-ukraina', 'https://www.tribunnews.com/nasional/2023/01/01/cuaca-ekstrem-besok-senin-2-januari-2023-19-wilayah-potensi-hujan-lebat-petir-angin-kencang', 'https://www.tribunnews.com/superskor/2023/01/01/live-streaming-liga-inggris-nottingham-forest-vs-chelsea-jam-2330-wib-cek-link-di-sini', 'https://www.tribunnews.com/superskor/2023/01/01/tinggalkani-barito-putera-ambrizal-umanilo-kembali-berlabuh-ke-borneo-fc', 'https://www.tribunnews.com/nasional/2023/01/01/pakar-hukum-tata-negara-ungkap-2-dampak-diberlakukannya-perppu-cipta-kerja', 'https://www.tribunnews.com/regional/2023/01/01/wakil-bupati-kaur-terkena-ledakan-petasan-tahun-baru-2023-jari-tangan-luka-serius-jalani-operasi', 'https://www.tribunnews.com/regional/2023/01/01/viral-penculikan-anjing-dengan-cara-diseret-di-medan-lbh-psi-dampingi-pemilik-hewan-lapor-polisi', 'https://www.tribunnews.com/superskor/2023/01/01/stephen-shrock-janji-bakal-menampilkan-permainan-terbaiknya-saat-filipina-jamu-indonesia', 'https://www.tribunnews.com/nasional/2023/01/01/kelompok-aktivis-nilai-reformasi-telah-berubah-jadi-deformasi', 'https://www.tribunnews.com/tribunners/2023/01/01/bunga-citra-lestari-bawakan-sembilan-lagu-hibur-penonton-di-kelapa-gading-saat-pergantian-tahun', 'https://www.tribunnews.com/superskor/2023/01/01/hasil-pertandingan-liga-inggris-brighton-vs-arsenal-skor-2-4-the-gunners-semakin-kokoh-di-puncak', 'https://www.tribunnews.com/superskor/2023/01/01/klasemen-dan-top-skor-liga-spanyol-barcelona-kembali-memimpin-real-madrid-menempel-ketat', 'https://www.tribunnews.com/nasional/2023/01/01/pln-pastikan-seluruh-personel-siap-siaga-hadapi-cuaca-ekstrem-tetap-bekerja-walau-hari-libur', 'https://www.tribunnews.com/internasional/2023/01/01/xi-jinping-ucapkan-selamat-tahun-baru-kepada-putin', 'https://www.tribunnews.com/superskor/2023/01/01/liga-spanyol-xavi-kecewa-barcelona-imbang-1-1-lawan-espanyol-tapi-tak-mau-salahkan-soal-wasit', 'https://www.tribunnews.com/superskor/2023/01/01/hasil-babak-pertama-brighton-vs-arsenal-di-liga-inggris-saka-odegaard-bawa-the-gunners-unggul-0-2', 'https://www.tribunnews.com/metropolitan/2023/01/01/perayaan-malam-pergantian-tahun-baru-2023-di-mh-thamrin-jakarta-berjalan-meriah', 'https://www.tribunnews.com/regional/2023/01/01/merayakan-tahun-baru-2023-dari-ka-sembrani-yang-tertahan-dua-jam-akibat-banjir-di-semarang', 'https://www.tribunnews.com/superskor/2023/01/01/wasit-mateu-lahoz-bikin-kontroversi-lagi-barcelona-di-liga-spanyol-jadi-korban-15-kartu-keluar', 'https://www.tribunnews.com/superskor/2023/01/01/hasil-liga-inggris-manchester-city-vs-everton-the-citizens-tutup-tahun-dengan-imbang-1-1', 'https://www.tribunnews.com/nasional/2023/01/01/pantau-perayaan-tahun-baru-kapolri-pastikan-situasi-di-indonesia-aman-terkendali', 'https://www.tribunnews.com/superskor/2023/01/01/jadwal-bola-malam-ini-1-januari-2023-tottenham-vs-aston-villa-chelsea-dan-psg-tandang-live-sctv', 'https://www.tribunnews.com/superskor/2023/01/01/hasil-lengkap-bola-semalam-arsenal-makin-sangar-barca-tertahan-man-city-habis-bensin', 'https://www.tribunnews.com/internasional/2023/01/01/gelombang-ke-8-covid-19-di-jepang-persentase-lansia-yang-dirawat-di-rumah-sakit-tinggi', 'https://www.tribunnews.com/superskor/2023/01/01/ragam-suara-netizen-cibir-haaland-gegara-lolos-dari-hadiah-kartu-merah-liverpool-ikut-terseret', 'https://www.tribunnews.com/superskor/2023/01/01/rekap-hasil-bola-tadi-malam-barcelona-dan-man-city-imbang-mu-dan-arsenal-menang-apik', 'https://www.tribunnews.com/internasional/2023/01/01/kementerian-pertahanan-jepang-ajukan-ruu-perizinan-nasionalisasi-industri-pertahanan', 'https://www.tribunnews.com/metropolitan/2023/01/01/tekan-angka-kejahatan-polda-metro-jaya-dirikan-posko-tambah-kamera-cctv-di-lingkungan-warga', 'https://www.tribunnews.com/bisnis/2023/01/01/pln-siap-siaga-hadapi-cuaca-ekstrem-tetap-bekerja-walau-hari-libur', 'https://www.tribunnews.com/metropolitan/2023/01/01/pria-25-tahun-tewas-jadi-korban-begal-di-kawasan-kebayoran-lama-jaksel-motornya-raib', 'https://www.tribunnews.com/internasional/2023/01/01/benekditus-xvi-satu-satunya-paus-yang-mengundurkan-diri-berikut-riwayat-hidupnya', 'https://www.tribunnews.com/superskor/2023/01/01/arsenal-makin-jauhi-man-city-di-klasemen-liga-inggris-legenda-the-gunners-ini-bukan-kebetulan', 'https://www.tribunnews.com/superskor/2023/01/01/martin-odegaard-kian-memukau-bersama-arsenal-arsene-wenger-sampai-kesengsem', 'https://www.tribunnews.com/superskor/2023/01/01/hasil-liga-inggris-tadi-malam-arsenal-meledak-arteta-tak-punya-waktu-urusi-dapur-manchester-city', 'https://www.tribunnews.com/superskor/2023/01/01/pep-guardiola-menyesal-manchester-city-gagal-raih-poin-penuh-saat-lawan-everton-mereka-bermain-baik', 'https://www.tribunnews.com/metropolitan/2023/01/01/aipda-ambarita-dijanjikan-kapolda-metro-jaya-kembali-patroli-aiptu-jacklyn-chopper-balik-ke-reserse', 'https://www.tribunnews.com/metropolitan/2023/01/01/rayakan-malam-tahun-baru-2023-lebih-dari-30000-orang-memadati-wilayah-jakarta-pusat', 'https://www.tribunnews.com/superskor/2023/01/01/erik-ten-hag-ogah-komentari-transfer-ronaldo-ke-al-nassr-mari-berbicara-tentang-masa-depan', 'https://www.tribunnews.com/superskor/2023/01/01/klasemen-dan-top-skor-liga-inggris-arsenal-kian-tak-terkejar-mu-masuk-empat-besar-geser-tottenham', 'https://www.tribunnews.com/metropolitan/2023/01/01/pria-misterius-tewas-dan-dibuang-dari-sepeda-motor-di-cempaka-putih-ada-dus-luka-tusuk', 'https://www.tribunnews.com/metropolitan/2023/01/01/bmkg-tebar-30-ton-garam-cegah-hujan-lebat-di-jabodetabek-pada-malam-tahun-baru-2023', 'https://www.tribunnews.com/e-sport/2023/01/01/jadwal-m4-world-championship-hari-ini-minggu-1-januari-onic-esports-lawan-wakil-malaysia', 'https://www.tribunnews.com/seleb/2023/01/01/aldilla-jelita-kabarkan-indra-bekti-masih-kritis-kondisi-masih-belum-stabil-tapi-sudah-merespon', 'https://www.tribunnews.com/bisnis/2023/01/01/harga-bbm-pertamina-hari-ini-minggu-1-januari-2023-pertalite-pertamax-pertamina-dex', 'https://www.tribunnews.com/sport/2023/01/01/jadwal-proliga-2023-bandung-dan-harga-tiket-gresik-petrokimia-vs-bjb-tandamata-pembuka-live-moji', 'https://www.tribunnews.com/seleb/2023/01/01/harapan-rizky-billar-di-awal-2003-kesalahannya-tahun-lalu-bisa-dimaafkan', 'https://www.tribunnews.com/superskor/2023/01/01/memuji-mikel-arteta-hapus-predikat-medioker-arsenal-lewat-atribut-pemain-muda', 'https://www.tribunnews.com/mata-lokal-memilih/2023/01/01/ruang-demokrasi-dalam-pembangunan-negara-harus-terus-dirawat-jelang-pemilu-2024', 'https://www.tribunnews.com/metropolitan/2023/01/01/prakiraan-cuaca-jabodetabek-hari-ini-minggu-1-desember-2022-jakbar-hujan-petir', 'https://www.tribunnews.com/seleb/2023/01/01/tahun-2023-adipati-dolken-berharap-bisa-jadi-sutradara-film', 'https://www.tribunnews.com/regional/2023/01/01/populer-regional-istri-polisi-cerita-suaminya-direbut-adik-sendiri-ibunda-norma-risma-diusir', 'https://www.tribunnews.com/internasional/2023/01/01/elon-musk-jadi-orang-pertama-di-dunia-yang-kehilangan-200-miliar-dolar-as', 'https://www.tribunnews.com/internasional/2023/01/01/ledakan-restoran-di-kota-aydin-turki-menewaskan-7-korban-10-orang-termasuk-pekerja-restoran-ditahan', 'https://www.tribunnews.com/metropolitan/2023/01/01/wahana-tornado-dunia-fantasi-macet-saat-melayani-pengunjung-berikut-pernyataan-manajemen', 'https://www.tribunnews.com/superskor/2023/01/01/habis-bensin-di-awal-tahun-2023-ac-milan-dipaksa-berburu-ban-serep-rafael-leao', 'https://www.tribunnews.com/nasional/2023/01/01/jokowi-mengenang-masa-masa-sulit-pencapaian-tahun-2022-pandemi-bencana-alam-hingga-suksesnya-g20', 'https://www.tribunnews.com/bisnis/2023/01/01/ihsg-selama-2022-kurang-greget-hanya-naik-409-persen-menkeu-pasar-modal-dapat-ujian-berat', 'https://www.tribunnews.com/superskor/2023/01/01/eddie-nketiah-menjadi-mesin-gol-arsenal-lewat-cara-yang-sederhana', 'https://www.tribunnews.com/superskor/2023/01/01/sorotan-hasil-liga-inggris-pamer-skill-kolong-odegaard-ogah-arogan-dan-pakai-ilmu-padi', 'https://www.tribunnews.com/metropolitan/2023/01/01/pelaku-mutilasi-di-bekasi-berusaha-kabur-bersama-wanita-lain-korban-ditemukan-di-dala-kontainer', 'https://www.tribunnews.com/nasional/2023/01/01/epidemiolog-selama-covid-19-masih-pandemi-layanan-kesehatan-tidak-layak-dibebankan-pada-masyarakat', 'https://www.tribunnews.com/superskor/2023/01/01/live-streaming-lens-vs-psg-liga-prancis-kick-off-pukul-0245-wib-tonton-di-sini', 'https://www.tribunnews.com/superskor/2023/01/01/live-streaming-lens-vs-psg-di-liga-prancis-jam-0245-wib-tonton-vidio-di-sini', 'https://www.tribunnews.com/regional/2023/01/01/profil-bupati-pangandaran-jeje-wiradinata-dilaporkan-ke-polisi-buntut-larang-warung-remang-remang', 'https://www.tribunnews.com/lifestyle/2023/01/01/ramalan-zodiak-karier-senin-2-januari-2023-aries-lakukan-kesalahan-scorpio-dapat-pujian', 'https://www.tribunnews.com/nasional/2023/01/01/partai-buruh-tolak-pasal-tentang-upah-minimum-di-perppu-cipta-kerja', 'https://www.tribunnews.com/nasional/2023/01/01/perppu-cipta-kerja-terbit-wakil-sekjen-partai-demokrat-nilai-pemerintah-mengangkangi-putusan-mk', 'https://www.tribunnews.com/superskor/2023/01/01/filipina-manfaatkan-keunggulan-adaptasi-di-rumput-sintetis-saat-jamu-indonesia', 'https://www.tribunnews.com/superskor/2023/01/01/jadwal-live-rcti-filipina-vs-timnas-indonesia-piala-aff-2022-senin-2-januari-2023', 'https://www.tribunnews.com/regional/2023/01/01/kapal-terbalik-di-perairan-seget-papua-barat-9-orang-selamat-satu-korban-masih-dalam-pencarian', 'https://www.tribunnews.com/superskor/2023/01/01/jadwal-lengkap-persija-putaran-kedua-liga-1-2022-tantang-persib-bandung-di-laga-pembuka', 'https://www.tribunnews.com/pendidikan/2023/01/01/kunci-jawaban-matematika-kelas-8-halaman-113-semester-2-uji-kompetensi-7-lingkaran', 'https://www.tribunnews.com/superskor/2023/01/01/bukti-tagar-percaya-proses-inilah-klasemen-liga-inggris-sejak-pertama-kali-arteta-latih-arsenal', 'https://www.tribunnews.com/nasional/2023/01/01/berkat-ganjar-penerimaan-zakat-baznas-naik-dari-rp-110-juta-jadi-rp-78-miliar', 'https://www.tribunnews.com/regional/2023/01/01/bawa-10-wisatawan-sebuah-mobil-mundur-saat-menanjak-hingga-terperosok-masuk-jurang-di-bogor', 'https://www.tribunnews.com/internasional/2023/01/01/kim-jong-un-korea-utara-siap-melipat-gandakan-senjata-nuklir-icbm-pada-2023', 'https://www.tribunnews.com/otomotif/2023/01/01/genjot-pendapatan-pada-awal-2023-tesla-perpanjang-penawaran-insentif-khusus-pembeli-di-china', 'https://www.tribunnews.com/parapuan/2023/01/01/cara-hemat-perempuan-belanja-bulanan-untuk-keluarga-lakukan-perencanaan', 'https://www.tribunnews.com/pendidikan/2023/01/01/adopsi-kurikulum-merdeka-belajar-bsi-explore-2023-ajak-mahasiswa-perkuat-wawasan-kebangsaan', 'https://www.tribunnews.com/sport/2023/01/01/jadwal-malaysia-open-2023-ahsanhendra-ditantang-wakil-china-di-babak-pertama', 'https://www.tribunnews.com/nasional/2023/01/01/sepanjang-2022-kejaksaan-agung-amankan-25-jaksa-lakukan-penyalahgunaan-kewenangan-bermain-proyek']\n"
     ]
    }
   ],
   "source": [
    "print(link)"
   ]
  },
  {
   "cell_type": "code",
   "execution_count": 8,
   "metadata": {},
   "outputs": [],
   "source": [
    "results=[]"
   ]
  },
  {
   "cell_type": "code",
   "execution_count": 9,
   "metadata": {},
   "outputs": [],
   "source": [
    "def scrape_url(url,max_retries=2):\n",
    "    retries = 0\n",
    "    while retries < max_retries:\n",
    "            try:\n",
    "                headers = {\n",
    "                    'User-Agent': 'Mozilla/5.0 (Windows NT 10.0; Win64; x64) AppleWebKit/537.36 (KHTML, like Gecko) Chrome/117.0.0.0 Safari/537.36'\n",
    "                }\n",
    "                response = requests.get(url, headers=headers)\n",
    "                if response.status_code == 200:\n",
    "                    soup = BeautifulSoup(response.text, 'html.parser')\n",
    "                    \n",
    "                    \n",
    "                    # Judul Berita\n",
    "                    title_elem = soup.find('h1', {\"id\": \"arttitle\"})\n",
    "                    if title_elem:\n",
    "                        title_text = title_elem.text.strip()\n",
    "                    else:\n",
    "                        title_text = \"Title not found\"   \n",
    "                    # tanggal berita\n",
    "                    date_elem = soup.find('time', {\"class\": \"grey\"})\n",
    "                    if date_elem:\n",
    "                        date_text = date_elem.text.strip()\n",
    "                    else:\n",
    "                        date_text = \"Date not found\"\n",
    "                    #     # Content Berita\n",
    "                    body_elem = soup.find('div', {\"class\": \"side-article txt-article multi-fontsize\"})\n",
    "                    \n",
    "                    if body_elem:\n",
    "                        content_elem = body_elem.find_all('p')\n",
    "                        content_text = \"\"\n",
    "                        for p in content_elem:\n",
    "                            content_text += p.text.strip() + \"\\n\"\n",
    "                        \n",
    "                        if content_text.strip():\n",
    "                            content_text=content_text\n",
    "                        else:\n",
    "                            content_text =\"Content not found\"\n",
    "                    else:\n",
    "                        content_text =\"Content not found\"\n",
    "\n",
    "                    return{\n",
    "                        'title': title_text,\n",
    "                        'date': date_text,\n",
    "                        'content':content_text,\n",
    "                        'link' : url}\n",
    "                elif response.status_code == 429:\n",
    "                    print(f\"Received a 429 error for {url}. Retrying in 5 seconds...\")\n",
    "                    time.sleep(5)\n",
    "                else:\n",
    "                    print(f\"Failed to retrieve data from {url}: Status Code {response.status_code}\")\n",
    "            except requests.exceptions.RequestException as e:\n",
    "                print(f\"Error fetching URL '{url}': {e}\")\n",
    "            except Exception as e:\n",
    "                print(f\"Error processing URL '{url}': {e}\")\n",
    "            retries += 1\n",
    "            if retries < max_retries:\n",
    "                print(f\"Retrying {url} (Attempt {retries}/{max_retries})\")\n",
    "                time.sleep(5)  # You can adjust the delay as needed\n",
    "    return None         "
   ]
  },
  {
   "cell_type": "code",
   "execution_count": 10,
   "metadata": {},
   "outputs": [
    {
     "name": "stdout",
     "output_type": "stream",
     "text": [
      "prabowo\n",
      "News does not contain the specified keywords and will not be inserted into the database. URL: https://www.tribunnews.com/mata-lokal-memilih/2023/01/01/ganjar-erick-dinilai-mirip-seperti-jokowi-di-2014-yang-muncul-dengan-segudang-prestasi\n",
      "prabowo\n",
      "News does not contain the specified keywords and will not be inserted into the database. URL: https://www.tribunnews.com/seleb/2023/01/01/agensi-mengonfirmasi-shindong-super-junior-pacaran-dengan-non-selebriti\n",
      "prabowo\n",
      "News does not contain the specified keywords and will not be inserted into the database. URL: https://www.tribunnews.com/pendidikan/2023/01/01/kunci-jawaban-bahasa-indonesia-kelas-10-halaman-237-penggunaan-kata-ganti-pada-teks-biografi\n",
      "prabowo\n",
      "News does not contain the specified keywords and will not be inserted into the database. URL: https://www.tribunnews.com/sport/2023/01/01/jadwal-motogp-2023-mulai-bulan-maret-di-portugal-motogp-mandalika-bulan-oktober\n",
      "prabowo\n",
      "News does not contain the specified keywords and will not be inserted into the database. URL: https://www.tribunnews.com/superskor/2023/01/01/rekor-pertemuan-timnas-indonesia-vs-filipina-garuda-pernah-bantai-12-0-the-azkals\n",
      "prabowo\n",
      "News does not contain the specified keywords and will not be inserted into the database. URL: https://www.tribunnews.com/metropolitan/2023/01/01/pelaku-penculik-bocah-di-gunung-sahari-merupakan-residivis-pencabulan-dan-pernah-dipenjara-7-tahun\n",
      "prabowo\n",
      "News does not contain the specified keywords and will not be inserted into the database. URL: https://www.tribunnews.com/regional/2023/01/01/pamit-beli-petasan-2-bocah-laki-laki-ditemukan-tewas-di-kubangan-galian-proyek-tol-cijago-depok\n",
      "prabowo\n",
      "News does not contain the specified keywords and will not be inserted into the database. URL: https://www.tribunnews.com/sport/2023/01/01/stefan-bradl-bicara-soal-peluang-marc-marquez-di-kejuaraan-dunia-motogp-2023\n",
      "prabowo\n",
      "News does not contain the specified keywords and will not be inserted into the database. URL: https://www.tribunnews.com/bisnis/2023/01/01/usai-merugi-39-triliun-dolar-as-pasar-saham-di-china-diproyeksikan-rebound-pada-2023\n",
      "prabowo\n",
      "News does not contain the specified keywords and will not be inserted into the database. URL: https://www.tribunnews.com/nasional/2023/01/01/gelombang-tinggi-di-laut-panglima-tni-perintahkan-jajaran-tetap-siaga-sar-dan-tanggap-darurat\n",
      "prabowo\n",
      "News does not contain the specified keywords and will not be inserted into the database. URL: https://www.tribunnews.com/tribunners/2023/01/01/situs-goa-liang-bangkai-salah-satu-pesona-geopark-meratus\n",
      "prabowo\n",
      "News does not contain the specified keywords and will not be inserted into the database. URL: https://www.tribunnews.com/bisnis/2023/01/01/perjalanan-kereta-api-terganggu-banjir-semarang-kai-kembalikan-biaya-tiket-yang-lakukan-pembatalan\n",
      "prabowo\n",
      "News does not contain the specified keywords and will not be inserted into the database. URL: https://www.tribunnews.com/internasional/2023/01/01/korea-utara-akan-kembangkan-rudal-balistik-antar-benua-saingi-as-dan-korea-selatan\n",
      "prabowo\n",
      "News does not contain the specified keywords and will not be inserted into the database. URL: https://www.tribunnews.com/superskor/2023/01/01/habis-cody-gakpo-terbitlah-sofyan-amrabat-agresifitas-transfer-liverpool-di-musim-dingin\n",
      "prabowo\n",
      "News does not contain the specified keywords and will not be inserted into the database. URL: https://www.tribunnews.com/parapuan/2023/01/01/tayang-januari-2023-di-bioskop-simak-deretan-film-horor-indonesia-yang-siap-menghantuimu\n",
      "prabowo\n",
      "News does not contain the specified keywords and will not be inserted into the database. URL: https://www.tribunnews.com/regional/2023/01/01/imbas-banjir-di-semarang-waktu-tempuh-naik-kereta-dari-surabaya-ke-jakarta-tembus-22-jam\n",
      "prabowo\n",
      "News does not contain the specified keywords and will not be inserted into the database. URL: https://www.tribunnews.com/seleb/2023/01/01/sinopsis-film-cj7-kisah-kehidupan-manusia-dan-alien-tayang-malam-ini-di-trans-tv\n",
      "prabowo\n",
      "News does not contain the specified keywords and will not be inserted into the database. URL: https://www.tribunnews.com/metropolitan/2023/01/01/polres-metro-jakarta-pusat-naikan-status-kasus-penculikan-bocah-di-gunung-sahari-ke-penyidikan\n",
      "prabowo\n",
      "News does not contain the specified keywords and will not be inserted into the database. URL: https://www.tribunnews.com/bisnis/2023/01/01/kai-akibat-banjir-di-semarang-12-perjalanan-kereta-api-telat-berangkat-dari-jakarta\n",
      "prabowo\n",
      "News does not contain the specified keywords and will not be inserted into the database. URL: https://www.tribunnews.com/superskor/2023/01/01/timnas-indonesia-gelar-latihan-di-malam-tahun-baru\n",
      "prabowo\n",
      "News does not contain the specified keywords and will not be inserted into the database. URL: https://www.tribunnews.com/regional/2023/01/01/ini-alat-yang-dipakai-pelaku-untuk-mutilasi-wanita-di-bekasi-hingga-soal-identitas-terduga-korban\n",
      "prabowo\n",
      "News does not contain the specified keywords and will not be inserted into the database. URL: https://www.tribunnews.com/nasional/2023/01/01/cuaca-besok-bmkg-21-wilayah-berpotensi-hujan-dan-angin-kencang-2-januari-2023\n",
      "prabowo\n",
      "News does not contain the specified keywords and will not be inserted into the database. URL: https://www.tribunnews.com/sport/2023/01/01/malaysia-open-2023-ambisi-lee-zii-jia-rengkuh-trofi-juara-demi-patahkan-puasa-gelar\n",
      "prabowo\n",
      "News does not contain the specified keywords and will not be inserted into the database. URL: https://www.tribunnews.com/kilas-kementerian/2023/01/01/hnw-sistem-pemilu-terbuka-lebih-sesuai-dengan-konstitusi-dan-putusan-mk-sebelumnya\n",
      "prabowo\n",
      "News does not contain the specified keywords and will not be inserted into the database. URL: https://www.tribunnews.com/nasional/2023/01/01/bantuan-kartu-prakerja-lanjut-di-2023-rp-42-juta-per-penerima\n",
      "prabowo\n",
      "News does not contain the specified keywords and will not be inserted into the database. URL: https://www.tribunnews.com/lifestyle/2023/01/01/selain-anti-aging-retinol-mampu-tingkatkan-produksi-kolagen\n",
      "prabowo\n",
      "News does not contain the specified keywords and will not be inserted into the database. URL: https://www.tribunnews.com/seleb/2023/01/01/indra-bekti-akan-dirawat-20-hari-ke-depan-aldilla-jelita-buka-penggalangan-dana-biaya-sangat-besar\n",
      "prabowo\n",
      "News does not contain the specified keywords and will not be inserted into the database. URL: https://www.tribunnews.com/seleb/2023/01/01/resmi-berpacaran-dengan-iu-lee-jong-suk-akui-sudah-suka-sejak-lama\n",
      "prabowo\n",
      "News does not contain the specified keywords and will not be inserted into the database. URL: https://www.tribunnews.com/pendidikan/2023/01/01/kunci-jawaban-prakarya-kelas-8-halaman-116-semester-2-lembar-kerja-5-pengolahan-serelia-dan-umbi\n",
      "prabowo\n",
      "News does not contain the specified keywords and will not be inserted into the database. URL: https://www.tribunnews.com/nasional/2023/01/01/ronny-talapessy-hanya-tertawa-tanggapi-klaim-ferdy-sambo-jadi-yang-pertama-bongkar-kasus-brigadir-j\n",
      "prabowo\n",
      "News does not contain the specified keywords and will not be inserted into the database. URL: https://www.tribunnews.com/lifestyle/2023/01/01/ramalan-zodiak-cinta-senin-2-januari-2023-virgo-salah-paham-sagittarius-tenang-hadapi-masalah\n"
     ]
    },
    {
     "ename": "KeyboardInterrupt",
     "evalue": "",
     "output_type": "error",
     "traceback": [
      "\u001b[0;31m---------------------------------------------------------------------------\u001b[0m",
      "\u001b[0;31mKeyboardInterrupt\u001b[0m                         Traceback (most recent call last)",
      "\u001b[1;32m/home/krisna/Crawling/crawler_berita_indo/berita_nasional/tribunnews/scrap_tribunnews_fix_fungsi.ipynb Cell 10\u001b[0m line \u001b[0;36m6\n\u001b[1;32m      <a href='vscode-notebook-cell:/home/krisna/Crawling/crawler_berita_indo/berita_nasional/tribunnews/scrap_tribunnews_fix_fungsi.ipynb#X11sZmlsZQ%3D%3D?line=2'>3</a>\u001b[0m     \u001b[39mreturn\u001b[39;00m re\u001b[39m.\u001b[39msearch(\u001b[39mr\u001b[39m\u001b[39m'\u001b[39m\u001b[39m\\\u001b[39m\u001b[39mb\u001b[39m\u001b[39m{}\u001b[39;00m\u001b[39m\\\u001b[39m\u001b[39mb\u001b[39m\u001b[39m'\u001b[39m\u001b[39m.\u001b[39mformat(re\u001b[39m.\u001b[39mescape(keyword)), text)\n\u001b[1;32m      <a href='vscode-notebook-cell:/home/krisna/Crawling/crawler_berita_indo/berita_nasional/tribunnews/scrap_tribunnews_fix_fungsi.ipynb#X11sZmlsZQ%3D%3D?line=4'>5</a>\u001b[0m \u001b[39mfor\u001b[39;00m url \u001b[39min\u001b[39;00m link:\n\u001b[0;32m----> <a href='vscode-notebook-cell:/home/krisna/Crawling/crawler_berita_indo/berita_nasional/tribunnews/scrap_tribunnews_fix_fungsi.ipynb#X11sZmlsZQ%3D%3D?line=5'>6</a>\u001b[0m     data_tribunnews \u001b[39m=\u001b[39m scrape_url(url)\n\u001b[1;32m      <a href='vscode-notebook-cell:/home/krisna/Crawling/crawler_berita_indo/berita_nasional/tribunnews/scrap_tribunnews_fix_fungsi.ipynb#X11sZmlsZQ%3D%3D?line=6'>7</a>\u001b[0m     \u001b[39mprint\u001b[39m(data[\u001b[39m\"\u001b[39m\u001b[39mkeywords\u001b[39m\u001b[39m\"\u001b[39m])\n\u001b[1;32m      <a href='vscode-notebook-cell:/home/krisna/Crawling/crawler_berita_indo/berita_nasional/tribunnews/scrap_tribunnews_fix_fungsi.ipynb#X11sZmlsZQ%3D%3D?line=8'>9</a>\u001b[0m     \u001b[39m# Assuming data_tribunnews is a dictionary with 'title', 'content', and 'link' keys\u001b[39;00m\n",
      "\u001b[1;32m/home/krisna/Crawling/crawler_berita_indo/berita_nasional/tribunnews/scrap_tribunnews_fix_fungsi.ipynb Cell 10\u001b[0m line \u001b[0;36m1\n\u001b[1;32m      <a href='vscode-notebook-cell:/home/krisna/Crawling/crawler_berita_indo/berita_nasional/tribunnews/scrap_tribunnews_fix_fungsi.ipynb#X11sZmlsZQ%3D%3D?line=7'>8</a>\u001b[0m response \u001b[39m=\u001b[39m requests\u001b[39m.\u001b[39mget(url, headers\u001b[39m=\u001b[39mheaders)\n\u001b[1;32m      <a href='vscode-notebook-cell:/home/krisna/Crawling/crawler_berita_indo/berita_nasional/tribunnews/scrap_tribunnews_fix_fungsi.ipynb#X11sZmlsZQ%3D%3D?line=8'>9</a>\u001b[0m \u001b[39mif\u001b[39;00m response\u001b[39m.\u001b[39mstatus_code \u001b[39m==\u001b[39m \u001b[39m200\u001b[39m:\n\u001b[0;32m---> <a href='vscode-notebook-cell:/home/krisna/Crawling/crawler_berita_indo/berita_nasional/tribunnews/scrap_tribunnews_fix_fungsi.ipynb#X11sZmlsZQ%3D%3D?line=9'>10</a>\u001b[0m     soup \u001b[39m=\u001b[39m BeautifulSoup(response\u001b[39m.\u001b[39mtext, \u001b[39m'\u001b[39m\u001b[39mhtml.parser\u001b[39m\u001b[39m'\u001b[39m)\n\u001b[1;32m     <a href='vscode-notebook-cell:/home/krisna/Crawling/crawler_berita_indo/berita_nasional/tribunnews/scrap_tribunnews_fix_fungsi.ipynb#X11sZmlsZQ%3D%3D?line=12'>13</a>\u001b[0m     \u001b[39m# Judul Berita\u001b[39;00m\n\u001b[1;32m     <a href='vscode-notebook-cell:/home/krisna/Crawling/crawler_berita_indo/berita_nasional/tribunnews/scrap_tribunnews_fix_fungsi.ipynb#X11sZmlsZQ%3D%3D?line=13'>14</a>\u001b[0m     title_elem \u001b[39m=\u001b[39m soup\u001b[39m.\u001b[39mfind(\u001b[39m'\u001b[39m\u001b[39mh1\u001b[39m\u001b[39m'\u001b[39m, {\u001b[39m\"\u001b[39m\u001b[39mid\u001b[39m\u001b[39m\"\u001b[39m: \u001b[39m\"\u001b[39m\u001b[39marttitle\u001b[39m\u001b[39m\"\u001b[39m})\n",
      "File \u001b[0;32m~/anaconda3/lib/python3.11/site-packages/bs4/__init__.py:335\u001b[0m, in \u001b[0;36mBeautifulSoup.__init__\u001b[0;34m(self, markup, features, builder, parse_only, from_encoding, exclude_encodings, element_classes, **kwargs)\u001b[0m\n\u001b[1;32m    333\u001b[0m \u001b[39mself\u001b[39m\u001b[39m.\u001b[39mbuilder\u001b[39m.\u001b[39minitialize_soup(\u001b[39mself\u001b[39m)\n\u001b[1;32m    334\u001b[0m \u001b[39mtry\u001b[39;00m:\n\u001b[0;32m--> 335\u001b[0m     \u001b[39mself\u001b[39m\u001b[39m.\u001b[39m_feed()\n\u001b[1;32m    336\u001b[0m     success \u001b[39m=\u001b[39m \u001b[39mTrue\u001b[39;00m\n\u001b[1;32m    337\u001b[0m     \u001b[39mbreak\u001b[39;00m\n",
      "File \u001b[0;32m~/anaconda3/lib/python3.11/site-packages/bs4/__init__.py:478\u001b[0m, in \u001b[0;36mBeautifulSoup._feed\u001b[0;34m(self)\u001b[0m\n\u001b[1;32m    475\u001b[0m \u001b[39m# Convert the document to Unicode.\u001b[39;00m\n\u001b[1;32m    476\u001b[0m \u001b[39mself\u001b[39m\u001b[39m.\u001b[39mbuilder\u001b[39m.\u001b[39mreset()\n\u001b[0;32m--> 478\u001b[0m \u001b[39mself\u001b[39m\u001b[39m.\u001b[39mbuilder\u001b[39m.\u001b[39mfeed(\u001b[39mself\u001b[39m\u001b[39m.\u001b[39mmarkup)\n\u001b[1;32m    479\u001b[0m \u001b[39m# Close out any unfinished strings and close all the open tags.\u001b[39;00m\n\u001b[1;32m    480\u001b[0m \u001b[39mself\u001b[39m\u001b[39m.\u001b[39mendData()\n",
      "File \u001b[0;32m~/anaconda3/lib/python3.11/site-packages/bs4/builder/_htmlparser.py:380\u001b[0m, in \u001b[0;36mHTMLParserTreeBuilder.feed\u001b[0;34m(self, markup)\u001b[0m\n\u001b[1;32m    378\u001b[0m parser\u001b[39m.\u001b[39msoup \u001b[39m=\u001b[39m \u001b[39mself\u001b[39m\u001b[39m.\u001b[39msoup\n\u001b[1;32m    379\u001b[0m \u001b[39mtry\u001b[39;00m:\n\u001b[0;32m--> 380\u001b[0m     parser\u001b[39m.\u001b[39mfeed(markup)\n\u001b[1;32m    381\u001b[0m \u001b[39mexcept\u001b[39;00m \u001b[39mAssertionError\u001b[39;00m \u001b[39mas\u001b[39;00m e:\n\u001b[1;32m    382\u001b[0m     \u001b[39m# html.parser raises AssertionError in rare cases to\u001b[39;00m\n\u001b[1;32m    383\u001b[0m     \u001b[39m# indicate a fatal problem with the markup, especially\u001b[39;00m\n\u001b[1;32m    384\u001b[0m     \u001b[39m# when there's an error in the doctype declaration.\u001b[39;00m\n\u001b[1;32m    385\u001b[0m     \u001b[39mraise\u001b[39;00m ParserRejectedMarkup(e)\n",
      "File \u001b[0;32m~/anaconda3/lib/python3.11/html/parser.py:110\u001b[0m, in \u001b[0;36mHTMLParser.feed\u001b[0;34m(self, data)\u001b[0m\n\u001b[1;32m    104\u001b[0m \u001b[39m\u001b[39m\u001b[39mr\u001b[39m\u001b[39m\"\"\"Feed data to the parser.\u001b[39;00m\n\u001b[1;32m    105\u001b[0m \n\u001b[1;32m    106\u001b[0m \u001b[39mCall this as often as you want, with as little or as much text\u001b[39;00m\n\u001b[1;32m    107\u001b[0m \u001b[39mas you want (may include '\\n').\u001b[39;00m\n\u001b[1;32m    108\u001b[0m \u001b[39m\"\"\"\u001b[39;00m\n\u001b[1;32m    109\u001b[0m \u001b[39mself\u001b[39m\u001b[39m.\u001b[39mrawdata \u001b[39m=\u001b[39m \u001b[39mself\u001b[39m\u001b[39m.\u001b[39mrawdata \u001b[39m+\u001b[39m data\n\u001b[0;32m--> 110\u001b[0m \u001b[39mself\u001b[39m\u001b[39m.\u001b[39mgoahead(\u001b[39m0\u001b[39m)\n",
      "File \u001b[0;32m~/anaconda3/lib/python3.11/html/parser.py:172\u001b[0m, in \u001b[0;36mHTMLParser.goahead\u001b[0;34m(self, end)\u001b[0m\n\u001b[1;32m    170\u001b[0m     k \u001b[39m=\u001b[39m \u001b[39mself\u001b[39m\u001b[39m.\u001b[39mparse_starttag(i)\n\u001b[1;32m    171\u001b[0m \u001b[39melif\u001b[39;00m startswith(\u001b[39m\"\u001b[39m\u001b[39m</\u001b[39m\u001b[39m\"\u001b[39m, i):\n\u001b[0;32m--> 172\u001b[0m     k \u001b[39m=\u001b[39m \u001b[39mself\u001b[39m\u001b[39m.\u001b[39mparse_endtag(i)\n\u001b[1;32m    173\u001b[0m \u001b[39melif\u001b[39;00m startswith(\u001b[39m\"\u001b[39m\u001b[39m<!--\u001b[39m\u001b[39m\"\u001b[39m, i):\n\u001b[1;32m    174\u001b[0m     k \u001b[39m=\u001b[39m \u001b[39mself\u001b[39m\u001b[39m.\u001b[39mparse_comment(i)\n",
      "File \u001b[0;32m~/anaconda3/lib/python3.11/html/parser.py:413\u001b[0m, in \u001b[0;36mHTMLParser.parse_endtag\u001b[0;34m(self, i)\u001b[0m\n\u001b[1;32m    410\u001b[0m         \u001b[39mself\u001b[39m\u001b[39m.\u001b[39mhandle_data(rawdata[i:gtpos])\n\u001b[1;32m    411\u001b[0m         \u001b[39mreturn\u001b[39;00m gtpos\n\u001b[0;32m--> 413\u001b[0m \u001b[39mself\u001b[39m\u001b[39m.\u001b[39mhandle_endtag(elem)\n\u001b[1;32m    414\u001b[0m \u001b[39mself\u001b[39m\u001b[39m.\u001b[39mclear_cdata_mode()\n\u001b[1;32m    415\u001b[0m \u001b[39mreturn\u001b[39;00m gtpos\n",
      "File \u001b[0;32m~/anaconda3/lib/python3.11/site-packages/bs4/builder/_htmlparser.py:176\u001b[0m, in \u001b[0;36mBeautifulSoupHTMLParser.handle_endtag\u001b[0;34m(self, name, check_already_closed)\u001b[0m\n\u001b[1;32m    174\u001b[0m     \u001b[39mself\u001b[39m\u001b[39m.\u001b[39malready_closed_empty_element\u001b[39m.\u001b[39mremove(name)\n\u001b[1;32m    175\u001b[0m \u001b[39melse\u001b[39;00m:\n\u001b[0;32m--> 176\u001b[0m     \u001b[39mself\u001b[39m\u001b[39m.\u001b[39msoup\u001b[39m.\u001b[39mhandle_endtag(name)\n",
      "File \u001b[0;32m~/anaconda3/lib/python3.11/site-packages/bs4/__init__.py:771\u001b[0m, in \u001b[0;36mBeautifulSoup.handle_endtag\u001b[0;34m(self, name, nsprefix)\u001b[0m\n\u001b[1;32m    769\u001b[0m \u001b[39m#print(\"End tag: \" + name)\u001b[39;00m\n\u001b[1;32m    770\u001b[0m \u001b[39mself\u001b[39m\u001b[39m.\u001b[39mendData()\n\u001b[0;32m--> 771\u001b[0m \u001b[39mself\u001b[39m\u001b[39m.\u001b[39m_popToTag(name, nsprefix)\n",
      "File \u001b[0;32m~/anaconda3/lib/python3.11/site-packages/bs4/__init__.py:710\u001b[0m, in \u001b[0;36mBeautifulSoup._popToTag\u001b[0;34m(self, name, nsprefix, inclusivePop)\u001b[0m\n\u001b[1;32m    707\u001b[0m most_recently_popped \u001b[39m=\u001b[39m \u001b[39mNone\u001b[39;00m\n\u001b[1;32m    709\u001b[0m stack_size \u001b[39m=\u001b[39m \u001b[39mlen\u001b[39m(\u001b[39mself\u001b[39m\u001b[39m.\u001b[39mtagStack)\n\u001b[0;32m--> 710\u001b[0m \u001b[39mfor\u001b[39;00m i \u001b[39min\u001b[39;00m \u001b[39mrange\u001b[39m(stack_size \u001b[39m-\u001b[39m \u001b[39m1\u001b[39m, \u001b[39m0\u001b[39m, \u001b[39m-\u001b[39m\u001b[39m1\u001b[39m):\n\u001b[1;32m    711\u001b[0m     \u001b[39mif\u001b[39;00m \u001b[39mnot\u001b[39;00m \u001b[39mself\u001b[39m\u001b[39m.\u001b[39mopen_tag_counter\u001b[39m.\u001b[39mget(name):\n\u001b[1;32m    712\u001b[0m         \u001b[39mbreak\u001b[39;00m\n",
      "\u001b[0;31mKeyboardInterrupt\u001b[0m: "
     ]
    }
   ],
   "source": [
    "def is_keyword_in_text(keyword, text):\n",
    "    # Case-sensitive search for whole word match\n",
    "    return re.search(r'\\b{}\\b'.format(re.escape(keyword)), text)\n",
    "\n",
    "for url in link:\n",
    "    data_tribunnews = scrape_url(url)\n",
    "    print(data[\"keywords\"])\n",
    "    \n",
    "    # Assuming data_tribunnews is a dictionary with 'title', 'content', and 'link' keys\n",
    "    title_contains_keyword = any(is_keyword_in_text(keyword, data_tribunnews['title']) for keyword in data[\"keywords\"])\n",
    "    content_contains_keyword = any(is_keyword_in_text(keyword, data_tribunnews['content']) for keyword in data[\"keywords\"])\n",
    "\n",
    "    if title_contains_keyword or content_contains_keyword:\n",
    "        print(\"Data contains keywords:\", data_tribunnews['link'])\n",
    "    else:\n",
    "        print(\"News does not contain the specified keywords and will not be inserted into the database. URL:\", data_tribunnews['link'])"
   ]
  },
  {
   "cell_type": "code",
   "execution_count": null,
   "metadata": {},
   "outputs": [],
   "source": []
  }
 ],
 "metadata": {
  "kernelspec": {
   "display_name": "base",
   "language": "python",
   "name": "python3"
  },
  "language_info": {
   "codemirror_mode": {
    "name": "ipython",
    "version": 3
   },
   "file_extension": ".py",
   "mimetype": "text/x-python",
   "name": "python",
   "nbconvert_exporter": "python",
   "pygments_lexer": "ipython3",
   "version": "3.11.4"
  }
 },
 "nbformat": 4,
 "nbformat_minor": 2
}
