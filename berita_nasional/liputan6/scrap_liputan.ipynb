{
 "cells": [
  {
   "cell_type": "markdown",
   "metadata": {},
   "source": [
    "## Scarping Liputan 6"
   ]
  },
  {
   "cell_type": "code",
   "execution_count": 1,
   "metadata": {},
   "outputs": [],
   "source": [
    "from bs4 import BeautifulSoup\n",
    "import requests\n",
    "import pandas as pd\n",
    "from datetime import datetime"
   ]
  },
  {
   "cell_type": "code",
   "execution_count": 2,
   "metadata": {},
   "outputs": [
    {
     "data": {
      "text/plain": [
       "<Response [200]>"
      ]
     },
     "execution_count": 2,
     "metadata": {},
     "output_type": "execute_result"
    }
   ],
   "source": [
    "url = \"https://www.liputan6.com/indeks\"\n",
    "response = requests.get(url)\n",
    "response"
   ]
  },
  {
   "cell_type": "code",
   "execution_count": 3,
   "metadata": {},
   "outputs": [
    {
     "name": "stdout",
     "output_type": "stream",
     "text": [
      "['https://www.liputan6.com/news/read/5407038/mayat-pemuda-terbakar-ditemukan-di-lanud-halim-perdanakusuma', 'https://www.liputan6.com/news/read/5407037/kader-psi-padati-djakarta-theater-ramai-banner-selamat-datang-kaesang-pangarep', 'https://www.liputan6.com/news/read/5407016/asn-dprd-dki-tandatangani-pakta-integritas-jaga-netralitas-pemilu-2024', 'https://www.liputan6.com/news/read/5407025/waketum-ppp-arsul-sani-masuk-daftar-7-calon-hakim-mk-yang-diuji-kelayakan-komisi-iii-dpr', 'https://www.liputan6.com/news/read/5407017/pemeran-film-porno-mengaku-hanya-dibayar-rp1-juta-sampai-rp3-juta-ini-kata-polisi', 'https://www.liputan6.com/news/read/5407002/polisi-buka-peluang-konfrontasi-tersangka-dan-pemeran-dalam-kasus-industri-film-porno', 'https://www.liputan6.com/news/read/5407000/jokowi-minta-pers-tak-bersaing-buat-berita-viral-meski-dunia-media-sedang-tak-baik-baik-saja', 'https://www.liputan6.com/news/read/5406972/dishub-dki-buka-opsi-penerapan-aturan-ganjil-genap-di-jalan-yang-dilalui-lrt-jabodebek', 'https://www.liputan6.com/news/read/5407004/dpr-dorong-pemerintah-contoh-keberhasilan-food-estate-humbang-ke-wilayah-lain', 'https://www.liputan6.com/news/read/5406985/5-pernyataan-putra-bungsu-presiden-jokowi-kaesang-pangarep-usai-resmi-gabung-dengan-psi', 'https://www.liputan6.com/news/read/5406976/mahfud-md-hasil-perjuangan-kiai-abdul-hamid-kaum-muslim-hidup-maju-di-indonesia', 'https://enamplus.liputan6.com/news/read/5406974/video-bocah-bocah-di-masjid-ditendang-di-bagian-kepala-oleh-seorang-pria', 'https://www.liputan6.com/news/read/5406966/gandeng-dukcapil-polisi-cari-2-pemeran-film-dewasa-yang-tak-ditemukan-alamatnya', 'https://www.liputan6.com/news/read/5406948/siskaeee-ngaku-film-keramat-tunggak-awalnya-bergenre-religi-karena-syuting-di-bulan-ramadhan', 'https://enamplus.liputan6.com/news/read/5406941/video-miris-orang-utan-kurus-kering-berjalan-di-area-tambang-kaltim-bersama-anaknya', 'https://www.liputan6.com/news/read/5406915/ramaikan-car-free-day-wali-kota-tarakan-langkah-positif-kurangi-polusi-udara', 'https://enamplus.liputan6.com/news/read/5406933/video-eksekusi-lahan-di-lampung-ricuh-polisi-terekam-injak-kepala-warga', 'https://www.liputan6.com/news/read/5406917/kostrad-bakal-lakukan-evaluasi-kegiatan-prajurit-pasca-kasus-asusila-lettu-aap', 'https://www.liputan6.com/news/read/5406911/temui-jokowi-di-istana-oso-presiden-tak-pernah-mengarahkan-arahkan', 'https://www.liputan6.com/news/read/5406888/wali-kota-tarakan-hadiri-kegiatan-wisata-ceria-yatim-dan-dhuafa-tahun-2023']\n"
     ]
    }
   ],
   "source": [
    "links=[]\n",
    "# jumlah Page yang diambil \n",
    "jumlah_index = 1\n",
    "\n",
    "for index in range(jumlah_index):\n",
    "    url = f\"https://www.liputan6.com/indeks?page={index+1}\"  \n",
    "    # print(url)\n",
    "    response = requests.get(url)\n",
    "    soup = BeautifulSoup(response.text, \"html.parser\")\n",
    "    articles = soup.find_all('h4', {\"articles--rows--item__title\"})\n",
    "    \n",
    "    for article in articles:\n",
    "        link = article.find('a')['href']\n",
    "        links.append(link)\n",
    "    \n",
    "print(links)"
   ]
  },
  {
   "cell_type": "code",
   "execution_count": 4,
   "metadata": {},
   "outputs": [],
   "source": [
    "title = []\n",
    "author = []\n",
    "date = []\n",
    "content = []\n",
    "\n",
    "for link in links:\n",
    "    url = link\n",
    "    response = requests.get(url)\n",
    "    soup = BeautifulSoup(response.text, \"html.parser\")\n",
    "    \n",
    "    title_elem = soup.find('h1', {\"class\": \"read-page--header--title entry-title\"})\n",
    "    if title_elem:\n",
    "        title_text = title_elem.text.strip()\n",
    "    else:\n",
    "        title_text = \"Title not found\"\n",
    "    title.append(title_text)\n",
    "    \n",
    "\n",
    "    author_elem = soup.find('span', {\"class\": \"read-page--header--author__name fn\"})\n",
    "    if author_elem:\n",
    "        author_text = author_elem.text.strip()\n",
    "    else:\n",
    "        author_text = \"Author not found\"\n",
    "    author.append(author_text)\n",
    "    \n",
    "\n",
    "    date_elem = soup.find('p', {\"class\": \"read-page--header--author__datetime-wrapper\"})\n",
    "    if date_elem:\n",
    "        date_text = date_elem.text.strip()\n",
    "    else:\n",
    "        date_text = \"Date not found\"\n",
    "    date.append(date_text)\n",
    "    \n",
    "    body_elem = soup.find('div', {\"class\": \"article-content-body__item-content\"})\n",
    "    \n",
    "    if body_elem:\n",
    "        content_elem = body_elem.find_all('p')\n",
    "        content_text = \"\"\n",
    "        for p in content_elem:\n",
    "            content_text += p.text.strip() + \"\\n\"\n",
    "        \n",
    "        if content_text.strip():\n",
    "            content.append(content_text)\n",
    "        else:\n",
    "            content.append(\"Content not found\")\n",
    "    else:\n",
    "        content.append(\"Content not found\")\n",
    "    \n",
    "    "
   ]
  },
  {
   "cell_type": "code",
   "execution_count": 5,
   "metadata": {},
   "outputs": [
    {
     "data": {
      "text/html": [
       "<div>\n",
       "<style scoped>\n",
       "    .dataframe tbody tr th:only-of-type {\n",
       "        vertical-align: middle;\n",
       "    }\n",
       "\n",
       "    .dataframe tbody tr th {\n",
       "        vertical-align: top;\n",
       "    }\n",
       "\n",
       "    .dataframe thead th {\n",
       "        text-align: right;\n",
       "    }\n",
       "</style>\n",
       "<table border=\"1\" class=\"dataframe\">\n",
       "  <thead>\n",
       "    <tr style=\"text-align: right;\">\n",
       "      <th></th>\n",
       "      <th>title</th>\n",
       "      <th>author</th>\n",
       "      <th>date</th>\n",
       "      <th>content</th>\n",
       "      <th>link</th>\n",
       "    </tr>\n",
       "  </thead>\n",
       "  <tbody>\n",
       "    <tr>\n",
       "      <th>0</th>\n",
       "      <td>Mayat Pemuda Terbakar Ditemukan di Lanud Halim...</td>\n",
       "      <td>Liputan6.com</td>\n",
       "      <td>Diperbarui 25 Sep 2023, 19:30 WIBDiterbitkan 2...</td>\n",
       "      <td>Liputan6.com, Jakarta - Mayat pemuda ditemukan...</td>\n",
       "      <td>https://www.liputan6.com/news/read/5407038/may...</td>\n",
       "    </tr>\n",
       "    <tr>\n",
       "      <th>1</th>\n",
       "      <td>Kader PSI Padati Djakarta Theater, Ramai Banne...</td>\n",
       "      <td>Nanda Perdana Putra</td>\n",
       "      <td>Diperbarui 25 Sep 2023, 19:25 WIBDiterbitkan 2...</td>\n",
       "      <td>Liputan6.com, Jakarta - Para kader Partai Soli...</td>\n",
       "      <td>https://www.liputan6.com/news/read/5407037/kad...</td>\n",
       "    </tr>\n",
       "    <tr>\n",
       "      <th>2</th>\n",
       "      <td>ASN DPRD DKI Tandatangani Pakta Integritas Jag...</td>\n",
       "      <td>Liputan6.com</td>\n",
       "      <td>Diperbarui 25 Sep 2023, 19:15 WIBDiterbitkan 2...</td>\n",
       "      <td>Liputan6.com, Jakarta - Aparatur Sipil Negara ...</td>\n",
       "      <td>https://www.liputan6.com/news/read/5407016/asn...</td>\n",
       "    </tr>\n",
       "    <tr>\n",
       "      <th>3</th>\n",
       "      <td>Waketum PPP Arsul Sani Masuk Daftar 7 Calon Ha...</td>\n",
       "      <td>Hanz Jimenez Salim</td>\n",
       "      <td>Diperbarui 25 Sep 2023, 19:11 WIBDiterbitkan 2...</td>\n",
       "      <td>Liputan6.com, Jakarta - Komisi III DPR RI meng...</td>\n",
       "      <td>https://www.liputan6.com/news/read/5407025/wak...</td>\n",
       "    </tr>\n",
       "    <tr>\n",
       "      <th>4</th>\n",
       "      <td>Pemeran Film Porno Mengaku Hanya Dibayar Rp1 J...</td>\n",
       "      <td>Ady Anugrahadi</td>\n",
       "      <td>Diperbarui 25 Sep 2023, 19:10 WIBDiterbitkan 2...</td>\n",
       "      <td>Liputan6.com, Jakarta - Sejumlah pemeran film ...</td>\n",
       "      <td>https://www.liputan6.com/news/read/5407017/pem...</td>\n",
       "    </tr>\n",
       "  </tbody>\n",
       "</table>\n",
       "</div>"
      ],
      "text/plain": [
       "                                               title               author  \\\n",
       "0  Mayat Pemuda Terbakar Ditemukan di Lanud Halim...         Liputan6.com   \n",
       "1  Kader PSI Padati Djakarta Theater, Ramai Banne...  Nanda Perdana Putra   \n",
       "2  ASN DPRD DKI Tandatangani Pakta Integritas Jag...         Liputan6.com   \n",
       "3  Waketum PPP Arsul Sani Masuk Daftar 7 Calon Ha...   Hanz Jimenez Salim   \n",
       "4  Pemeran Film Porno Mengaku Hanya Dibayar Rp1 J...       Ady Anugrahadi   \n",
       "\n",
       "                                                date  \\\n",
       "0  Diperbarui 25 Sep 2023, 19:30 WIBDiterbitkan 2...   \n",
       "1  Diperbarui 25 Sep 2023, 19:25 WIBDiterbitkan 2...   \n",
       "2  Diperbarui 25 Sep 2023, 19:15 WIBDiterbitkan 2...   \n",
       "3  Diperbarui 25 Sep 2023, 19:11 WIBDiterbitkan 2...   \n",
       "4  Diperbarui 25 Sep 2023, 19:10 WIBDiterbitkan 2...   \n",
       "\n",
       "                                             content  \\\n",
       "0  Liputan6.com, Jakarta - Mayat pemuda ditemukan...   \n",
       "1  Liputan6.com, Jakarta - Para kader Partai Soli...   \n",
       "2  Liputan6.com, Jakarta - Aparatur Sipil Negara ...   \n",
       "3  Liputan6.com, Jakarta - Komisi III DPR RI meng...   \n",
       "4  Liputan6.com, Jakarta - Sejumlah pemeran film ...   \n",
       "\n",
       "                                                link  \n",
       "0  https://www.liputan6.com/news/read/5407038/may...  \n",
       "1  https://www.liputan6.com/news/read/5407037/kad...  \n",
       "2  https://www.liputan6.com/news/read/5407016/asn...  \n",
       "3  https://www.liputan6.com/news/read/5407025/wak...  \n",
       "4  https://www.liputan6.com/news/read/5407017/pem...  "
      ]
     },
     "execution_count": 5,
     "metadata": {},
     "output_type": "execute_result"
    }
   ],
   "source": [
    "data = {'title': title,\n",
    "        'author' : author,\n",
    "        'date': date,\n",
    "        'content' : content,\n",
    "        'link' : links\n",
    "        }\n",
    "df = pd.DataFrame(data)\n",
    "\n",
    "df.head()"
   ]
  },
  {
   "cell_type": "markdown",
   "metadata": {},
   "source": [
    "Tempat Save File"
   ]
  },
  {
   "cell_type": "code",
   "execution_count": 6,
   "metadata": {},
   "outputs": [
    {
     "name": "stdout",
     "output_type": "stream",
     "text": [
      "Data has been saved to ./excel/liputan6_2023-09-25_19-43-04.xlsx\n"
     ]
    }
   ],
   "source": [
    "current_datetime = datetime.now().strftime(\"%Y-%m-%d_%H-%M-%S\")\n",
    "excel_file_name = f'./excel/liputan6_{current_datetime}.xlsx'\n",
    "df.to_excel(excel_file_name, index=False)\n",
    "\n",
    "print(f'Data has been saved to {excel_file_name}')"
   ]
  },
  {
   "cell_type": "code",
   "execution_count": 7,
   "metadata": {},
   "outputs": [
    {
     "name": "stdout",
     "output_type": "stream",
     "text": [
      "Kericuhan Pasar Kutabumi Tangerang, Polisi Minta Para Pelaku Serahkan Diri\n"
     ]
    }
   ],
   "source": [
    "# Tempat Latihan and Pengecek\n",
    "url = \"https://www.liputan6.com/news/read/5406182/kericuhan-pasar-kutabumi-tangerang-polisi-minta-para-pelaku-serahkan-diri\"\n",
    "response = requests.get(url)\n",
    "soup = BeautifulSoup(response.text, \"html.parser\")\n",
    "title_elem = soup.find('h1', {\"class\": \"read-page--header--title entry-title\"})\n",
    "print(title_elem.text)\n"
   ]
  },
  {
   "cell_type": "code",
   "execution_count": null,
   "metadata": {},
   "outputs": [],
   "source": []
  }
 ],
 "metadata": {
  "kernelspec": {
   "display_name": "base",
   "language": "python",
   "name": "python3"
  },
  "language_info": {
   "codemirror_mode": {
    "name": "ipython",
    "version": 3
   },
   "file_extension": ".py",
   "mimetype": "text/x-python",
   "name": "python",
   "nbconvert_exporter": "python",
   "pygments_lexer": "ipython3",
   "version": "3.11.4"
  },
  "orig_nbformat": 4
 },
 "nbformat": 4,
 "nbformat_minor": 2
}
