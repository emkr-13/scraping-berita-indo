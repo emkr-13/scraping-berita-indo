{
 "cells": [
  {
   "cell_type": "markdown",
   "metadata": {},
   "source": [
    "## Scarping Liputan 6"
   ]
  },
  {
   "cell_type": "code",
   "execution_count": 1,
   "metadata": {},
   "outputs": [],
   "source": [
    "from bs4 import BeautifulSoup\n",
    "import requests\n",
    "import pandas as pd\n",
    "from datetime import datetime"
   ]
  },
  {
   "cell_type": "code",
   "execution_count": 2,
   "metadata": {},
   "outputs": [
    {
     "data": {
      "text/plain": [
       "<Response [200]>"
      ]
     },
     "execution_count": 2,
     "metadata": {},
     "output_type": "execute_result"
    }
   ],
   "source": [
    "url = \"https://www.liputan6.com/indeks\"\n",
    "response = requests.get(url)\n",
    "response"
   ]
  },
  {
   "cell_type": "code",
   "execution_count": 3,
   "metadata": {},
   "outputs": [
    {
     "name": "stdout",
     "output_type": "stream",
     "text": [
      "['https://www.liputan6.com/news/read/5408486/gubernur-herman-deru-resmikan-jalan-penghubung-pali-musi-rawas-waktu-tempuh-jadi-3-jam-saja', 'https://www.liputan6.com/news/read/5408482/kapolri-copot-kapolres-dairi-imbas-kasus-penganiayaan-anggota', 'https://www.liputan6.com/news/read/5408480/polisi-dapatkan-cctv-sebelum-siswi-sd-di-jaksel-lompat-dari-lantai-4-gedung-sekolah', 'https://www.liputan6.com/news/read/5408475/5-fakta-penemuan-jasad-anak-perwira-tni-au-yang-meninggal-terbakar-di-lanud-halim', 'https://www.liputan6.com/news/read/5408463/pemohon-cabut-gugatan-uu-pemilu-soal-batas-usia-capres-cawapres-di-mk', 'https://www.liputan6.com/news/read/5408459/9-respons-pengamat-parpol-hingga-presiden-jokowi-usai-kaesang-pangarep-jadi-ketum-psi', 'https://www.liputan6.com/news/read/5408448/fakta-baru-siswi-sd-yang-meninggal-di-jaksel-korban-melompat-dari-lantai-4', 'https://www.liputan6.com/news/read/5408420/gadis-di-bawah-umur-diperkosa-pacarnya-hingga-lakukan-threesome', 'https://www.liputan6.com/news/read/5408424/pengamat-jadikan-kaesang-pengarep-ketua-umum-jalan-pintas-psi-dapat-jokowi-effect', 'https://www.liputan6.com/news/read/5408422/kemenkominfo-ajak-gen-z-terapkan-perilaku-hidup-sehat-untuk-cegah-stunting', 'https://www.liputan6.com/news/read/5408396/arsul-sani-jadi-hakim-konstitusi-ppp-belum-cari-penggantinya', 'https://www.liputan6.com/news/read/5408392/mahfud-md-mk-tidak-berwewenang-ubah-batas-usia-capres-cawapres', 'https://www.liputan6.com/news/read/5408384/bmkg-minta-warga-waspadai-gelombang-tinggi-capai-4-meter', 'https://www.liputan6.com/news/read/5407791/infografis-larangan-tiktok-shop-cs-jualan-dan-transaksi-di-indonesia', 'https://www.liputan6.com/news/read/5408370/siap-siap-pelanggan-prostitusi-anak-muncikari-mami-icha-bakal-dijerat-hukum', 'https://www.liputan6.com/news/read/5408344/polisi-periksa-8-saksi-terkait-kasus-tewasnya-anak-pamen-tni-di-lanud-halim', 'https://www.liputan6.com/news/read/5408221/top-3-news-kata-ketua-umum-psi-kaesang-pangarep-soal-bakal-capres-2024-yang-didukung-adalah', 'https://www.liputan6.com/news/read/5408182/cuaca-besok-kamis-28-september-2023-jabodetabek-pagi-hari-diprediksi-cerah', 'https://www.liputan6.com/news/read/5408305/mk-belum-agendakan-pembacaan-putusan-gugatan-batas-usia-capres-cawapres-alasannya', 'https://www.liputan6.com/news/read/5408072/cuaca-indonesia-hari-ini-rabu-27-september-2023-sebagian-besar-langit-paginya-cerah-berawan']\n"
     ]
    }
   ],
   "source": [
    "links=[]\n",
    "# jumlah Page yang diambil \n",
    "jumlah_index = 1\n",
    "\n",
    "for index in range(jumlah_index):\n",
    "    url = f\"https://www.liputan6.com/indeks?page={index+1}\"  \n",
    "    # print(url)\n",
    "    response = requests.get(url)\n",
    "    soup = BeautifulSoup(response.text, \"html.parser\")\n",
    "    articles = soup.find_all('h4', {\"articles--rows--item__title\"})\n",
    "    \n",
    "    for article in articles:\n",
    "        link = article.find('a')['href']\n",
    "        links.append(link)\n",
    "    \n",
    "print(links)"
   ]
  },
  {
   "cell_type": "code",
   "execution_count": 4,
   "metadata": {},
   "outputs": [],
   "source": [
    "title = []\n",
    "author = []\n",
    "date = []\n",
    "content = []\n",
    "\n",
    "for link in links:\n",
    "    url = link\n",
    "    response = requests.get(url)\n",
    "    soup = BeautifulSoup(response.text, \"html.parser\")\n",
    "    \n",
    "    title_elem = soup.find('h1', {\"class\": \"read-page--header--title entry-title\"})\n",
    "    if title_elem:\n",
    "        title_text = title_elem.text.strip()\n",
    "    else:\n",
    "        title_text = \"Title not found\"\n",
    "    title.append(title_text)\n",
    "    \n",
    "\n",
    "    author_elem = soup.find('span', {\"class\": \"read-page--header--author__name fn\"})\n",
    "    if author_elem:\n",
    "        author_text = author_elem.text.strip()\n",
    "    else:\n",
    "        author_text = \"Author not found\"\n",
    "    author.append(author_text)\n",
    "    \n",
    "\n",
    "    date_elem = soup.find('p', {\"class\": \"read-page--header--author__datetime-wrapper\"})\n",
    "    if date_elem:\n",
    "        date_text = date_elem.text.strip()\n",
    "    else:\n",
    "        date_text = \"Date not found\"\n",
    "    date.append(date_text)\n",
    "    \n",
    "    body_elem = soup.find('div', {\"class\": \"article-content-body__item-content\"})\n",
    "    \n",
    "    if body_elem:\n",
    "        content_elem = body_elem.find_all('p')\n",
    "        content_text = \"\"\n",
    "        for p in content_elem:\n",
    "            content_text += p.text.strip() + \"\\n\"\n",
    "        \n",
    "        if content_text.strip():\n",
    "            content.append(content_text)\n",
    "        else:\n",
    "            content.append(\"Content not found\")\n",
    "    else:\n",
    "        content.append(\"Content not found\")\n",
    "    \n",
    "    "
   ]
  },
  {
   "cell_type": "code",
   "execution_count": 5,
   "metadata": {},
   "outputs": [
    {
     "data": {
      "text/html": [
       "<div>\n",
       "<style scoped>\n",
       "    .dataframe tbody tr th:only-of-type {\n",
       "        vertical-align: middle;\n",
       "    }\n",
       "\n",
       "    .dataframe tbody tr th {\n",
       "        vertical-align: top;\n",
       "    }\n",
       "\n",
       "    .dataframe thead th {\n",
       "        text-align: right;\n",
       "    }\n",
       "</style>\n",
       "<table border=\"1\" class=\"dataframe\">\n",
       "  <thead>\n",
       "    <tr style=\"text-align: right;\">\n",
       "      <th></th>\n",
       "      <th>title</th>\n",
       "      <th>author</th>\n",
       "      <th>date</th>\n",
       "      <th>content</th>\n",
       "      <th>link</th>\n",
       "    </tr>\n",
       "  </thead>\n",
       "  <tbody>\n",
       "    <tr>\n",
       "      <th>0</th>\n",
       "      <td>Gubernur Herman Deru Resmikan Jalan Penghubung...</td>\n",
       "      <td>Gilar Ramdhani</td>\n",
       "      <td>Diperbarui 27 Sep 2023, 10:38 WIBDiterbitkan 2...</td>\n",
       "      <td>Liputan6.com, Musi Rawas Kabar gembira untuk m...</td>\n",
       "      <td>https://www.liputan6.com/news/read/5408486/gub...</td>\n",
       "    </tr>\n",
       "    <tr>\n",
       "      <th>1</th>\n",
       "      <td>Kapolri Copot Kapolres Dairi Imbas Kasus Penga...</td>\n",
       "      <td>Nanda Perdana Putra</td>\n",
       "      <td>Diperbarui 27 Sep 2023, 10:35 WIBDiterbitkan 2...</td>\n",
       "      <td>Liputan6.com, Jakarta - Kapolri Jenderal Listy...</td>\n",
       "      <td>https://www.liputan6.com/news/read/5408482/kap...</td>\n",
       "    </tr>\n",
       "    <tr>\n",
       "      <th>2</th>\n",
       "      <td>Polisi Dapatkan CCTV Sebelum Siswi SD di Jakse...</td>\n",
       "      <td>Nila Chrisna Yulika</td>\n",
       "      <td>Diperbarui 27 Sep 2023, 10:33 WIBDiterbitkan 2...</td>\n",
       "      <td>Liputan6.com, Jakarta - Polisi menemukan CCTV ...</td>\n",
       "      <td>https://www.liputan6.com/news/read/5408480/pol...</td>\n",
       "    </tr>\n",
       "    <tr>\n",
       "      <th>3</th>\n",
       "      <td>5 Fakta Penemuan Jasad Anak Perwira TNI AU yan...</td>\n",
       "      <td>Muhammad Ali</td>\n",
       "      <td>Diperbarui 27 Sep 2023, 10:31 WIBDiterbitkan 2...</td>\n",
       "      <td>Liputan6.com, Jakarta - Penemuan jenazah pemud...</td>\n",
       "      <td>https://www.liputan6.com/news/read/5408475/5-f...</td>\n",
       "    </tr>\n",
       "    <tr>\n",
       "      <th>4</th>\n",
       "      <td>Pemohon Cabut Gugatan UU Pemilu soal Batas Usi...</td>\n",
       "      <td>Nila Chrisna Yulika</td>\n",
       "      <td>Diperbarui 27 Sep 2023, 10:22 WIBDiterbitkan 2...</td>\n",
       "      <td>Liputan6.com, Jakarta - Pemohon uji materil Un...</td>\n",
       "      <td>https://www.liputan6.com/news/read/5408463/pem...</td>\n",
       "    </tr>\n",
       "  </tbody>\n",
       "</table>\n",
       "</div>"
      ],
      "text/plain": [
       "                                               title               author  \\\n",
       "0  Gubernur Herman Deru Resmikan Jalan Penghubung...       Gilar Ramdhani   \n",
       "1  Kapolri Copot Kapolres Dairi Imbas Kasus Penga...  Nanda Perdana Putra   \n",
       "2  Polisi Dapatkan CCTV Sebelum Siswi SD di Jakse...  Nila Chrisna Yulika   \n",
       "3  5 Fakta Penemuan Jasad Anak Perwira TNI AU yan...         Muhammad Ali   \n",
       "4  Pemohon Cabut Gugatan UU Pemilu soal Batas Usi...  Nila Chrisna Yulika   \n",
       "\n",
       "                                                date  \\\n",
       "0  Diperbarui 27 Sep 2023, 10:38 WIBDiterbitkan 2...   \n",
       "1  Diperbarui 27 Sep 2023, 10:35 WIBDiterbitkan 2...   \n",
       "2  Diperbarui 27 Sep 2023, 10:33 WIBDiterbitkan 2...   \n",
       "3  Diperbarui 27 Sep 2023, 10:31 WIBDiterbitkan 2...   \n",
       "4  Diperbarui 27 Sep 2023, 10:22 WIBDiterbitkan 2...   \n",
       "\n",
       "                                             content  \\\n",
       "0  Liputan6.com, Musi Rawas Kabar gembira untuk m...   \n",
       "1  Liputan6.com, Jakarta - Kapolri Jenderal Listy...   \n",
       "2  Liputan6.com, Jakarta - Polisi menemukan CCTV ...   \n",
       "3  Liputan6.com, Jakarta - Penemuan jenazah pemud...   \n",
       "4  Liputan6.com, Jakarta - Pemohon uji materil Un...   \n",
       "\n",
       "                                                link  \n",
       "0  https://www.liputan6.com/news/read/5408486/gub...  \n",
       "1  https://www.liputan6.com/news/read/5408482/kap...  \n",
       "2  https://www.liputan6.com/news/read/5408480/pol...  \n",
       "3  https://www.liputan6.com/news/read/5408475/5-f...  \n",
       "4  https://www.liputan6.com/news/read/5408463/pem...  "
      ]
     },
     "execution_count": 5,
     "metadata": {},
     "output_type": "execute_result"
    }
   ],
   "source": [
    "data = {'title': title,\n",
    "        'author' : author,\n",
    "        'date': date,\n",
    "        'content' : content,\n",
    "        'link' : links\n",
    "        }\n",
    "df = pd.DataFrame(data)\n",
    "\n",
    "df.head()"
   ]
  },
  {
   "cell_type": "markdown",
   "metadata": {},
   "source": [
    "Tempat Save File"
   ]
  },
  {
   "cell_type": "code",
   "execution_count": 6,
   "metadata": {},
   "outputs": [],
   "source": [
    "# current_datetime = datetime.now().strftime(\"%Y-%m-%d_%H-%M-%S\")\n",
    "# excel_file_name = f'./excel/liputan6_{current_datetime}.xlsx'\n",
    "# df.to_excel(excel_file_name, index=False)\n",
    "\n",
    "# print(f'Data has been saved to {excel_file_name}')"
   ]
  }
 ],
 "metadata": {
  "kernelspec": {
   "display_name": "base",
   "language": "python",
   "name": "python3"
  },
  "language_info": {
   "codemirror_mode": {
    "name": "ipython",
    "version": 3
   },
   "file_extension": ".py",
   "mimetype": "text/x-python",
   "name": "python",
   "nbconvert_exporter": "python",
   "pygments_lexer": "ipython3",
   "version": "3.11.4"
  },
  "orig_nbformat": 4
 },
 "nbformat": 4,
 "nbformat_minor": 2
}
