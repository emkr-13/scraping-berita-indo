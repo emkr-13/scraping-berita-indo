{
 "cells": [
  {
   "cell_type": "markdown",
   "metadata": {},
   "source": [
    "## Scraping antara news"
   ]
  },
  {
   "cell_type": "code",
   "execution_count": 1,
   "metadata": {},
   "outputs": [],
   "source": [
    "from bs4 import BeautifulSoup\n",
    "import requests\n",
    "import pandas as pd\n",
    "from datetime import datetime\n",
    "import threading"
   ]
  },
  {
   "cell_type": "code",
   "execution_count": 2,
   "metadata": {},
   "outputs": [],
   "source": [
    "jumlah_index = 1\n",
    "threads_link = []\n",
    "links = []\n",
    "results = []\n",
    "threads = []"
   ]
  },
  {
   "cell_type": "code",
   "execution_count": 3,
   "metadata": {},
   "outputs": [],
   "source": [
    "def scrape_links(page_number):\n",
    "    url = f\"https://www.antaranews.com/olahraga/{page_number}\"\n",
    "    response = requests.get(url)\n",
    "    soup = BeautifulSoup(response.text, \"html.parser\")\n",
    "    articles = soup.find_all('article',{\"class\": \"simple-post simple-big clearfix\"})\n",
    "    \n",
    "    page_links = []\n",
    "    for article in articles:\n",
    "        link = article.find('a')['href']\n",
    "        page_links.append(link)\n",
    "    \n",
    "    print(f\"Scraped {len(page_links)} links from page {page_number}\")\n",
    "    return page_links"
   ]
  },
  {
   "cell_type": "code",
   "execution_count": 4,
   "metadata": {},
   "outputs": [
    {
     "ename": "KeyboardInterrupt",
     "evalue": "",
     "output_type": "error",
     "traceback": [
      "\u001b[0;31m---------------------------------------------------------------------------\u001b[0m",
      "\u001b[0;31mKeyboardInterrupt\u001b[0m                         Traceback (most recent call last)",
      "\u001b[1;32m/home/krisna/Crawling/crawler_berita_indo/berita_nasional/antaranews/scrap_antaranews.ipynb Cell 5\u001b[0m line \u001b[0;36m7\n\u001b[1;32m      <a href='vscode-notebook-cell:/home/krisna/Crawling/crawler_berita_indo/berita_nasional/antaranews/scrap_antaranews.ipynb#W4sZmlsZQ%3D%3D?line=3'>4</a>\u001b[0m     threads_link\u001b[39m.\u001b[39mappend(thread)\n\u001b[1;32m      <a href='vscode-notebook-cell:/home/krisna/Crawling/crawler_berita_indo/berita_nasional/antaranews/scrap_antaranews.ipynb#W4sZmlsZQ%3D%3D?line=5'>6</a>\u001b[0m \u001b[39mfor\u001b[39;00m thread \u001b[39min\u001b[39;00m threads_link:\n\u001b[0;32m----> <a href='vscode-notebook-cell:/home/krisna/Crawling/crawler_berita_indo/berita_nasional/antaranews/scrap_antaranews.ipynb#W4sZmlsZQ%3D%3D?line=6'>7</a>\u001b[0m     thread\u001b[39m.\u001b[39mjoin()\n\u001b[1;32m      <a href='vscode-notebook-cell:/home/krisna/Crawling/crawler_berita_indo/berita_nasional/antaranews/scrap_antaranews.ipynb#W4sZmlsZQ%3D%3D?line=7'>8</a>\u001b[0m \u001b[39mprint\u001b[39m(\u001b[39m\"\u001b[39m\u001b[39mTotal Links:\u001b[39m\u001b[39m\"\u001b[39m, \u001b[39mlen\u001b[39m(links))\n",
      "File \u001b[0;32m~/anaconda3/lib/python3.11/threading.py:1112\u001b[0m, in \u001b[0;36mThread.join\u001b[0;34m(self, timeout)\u001b[0m\n\u001b[1;32m   1109\u001b[0m     \u001b[39mraise\u001b[39;00m \u001b[39mRuntimeError\u001b[39;00m(\u001b[39m\"\u001b[39m\u001b[39mcannot join current thread\u001b[39m\u001b[39m\"\u001b[39m)\n\u001b[1;32m   1111\u001b[0m \u001b[39mif\u001b[39;00m timeout \u001b[39mis\u001b[39;00m \u001b[39mNone\u001b[39;00m:\n\u001b[0;32m-> 1112\u001b[0m     \u001b[39mself\u001b[39m\u001b[39m.\u001b[39m_wait_for_tstate_lock()\n\u001b[1;32m   1113\u001b[0m \u001b[39melse\u001b[39;00m:\n\u001b[1;32m   1114\u001b[0m     \u001b[39m# the behavior of a negative timeout isn't documented, but\u001b[39;00m\n\u001b[1;32m   1115\u001b[0m     \u001b[39m# historically .join(timeout=x) for x<0 has acted as if timeout=0\u001b[39;00m\n\u001b[1;32m   1116\u001b[0m     \u001b[39mself\u001b[39m\u001b[39m.\u001b[39m_wait_for_tstate_lock(timeout\u001b[39m=\u001b[39m\u001b[39mmax\u001b[39m(timeout, \u001b[39m0\u001b[39m))\n",
      "File \u001b[0;32m~/anaconda3/lib/python3.11/threading.py:1132\u001b[0m, in \u001b[0;36mThread._wait_for_tstate_lock\u001b[0;34m(self, block, timeout)\u001b[0m\n\u001b[1;32m   1129\u001b[0m     \u001b[39mreturn\u001b[39;00m\n\u001b[1;32m   1131\u001b[0m \u001b[39mtry\u001b[39;00m:\n\u001b[0;32m-> 1132\u001b[0m     \u001b[39mif\u001b[39;00m lock\u001b[39m.\u001b[39macquire(block, timeout):\n\u001b[1;32m   1133\u001b[0m         lock\u001b[39m.\u001b[39mrelease()\n\u001b[1;32m   1134\u001b[0m         \u001b[39mself\u001b[39m\u001b[39m.\u001b[39m_stop()\n",
      "\u001b[0;31mKeyboardInterrupt\u001b[0m: "
     ]
    }
   ],
   "source": [
    "for page_number in range(1, jumlah_index + 1):\n",
    "    thread = threading.Thread(target=lambda p=page_number: links.extend(scrape_links(p)))\n",
    "    thread.start()\n",
    "    threads_link.append(thread)\n",
    "\n",
    "for thread in threads_link:\n",
    "    thread.join()\n",
    "print(\"Total Links:\", len(links))"
   ]
  },
  {
   "cell_type": "code",
   "execution_count": null,
   "metadata": {},
   "outputs": [],
   "source": [
    "def scrape_url(url):\n",
    "    try:\n",
    "        headers = {\n",
    "        'User-Agent': 'Mozilla/5.0 (Windows NT 10.0; Win64; x64) AppleWebKit/537.36 (KHTML, like Gecko) Chrome/117.0.0.0 Safari/537.36'\n",
    "        }\n",
    "        response = requests.get(url,headers=headers)\n",
    "        if response.status_code == 200:\n",
    "            soup = BeautifulSoup(response.text, 'html.parser')        \n",
    "            # Judul Berita\n",
    "            title_elem = soup.find('h1',{\"class\": \"post-title\"})\n",
    "            if title_elem:\n",
    "                title_text = title_elem.text\n",
    "            else:\n",
    "                title_text = \"Title not found\"\n",
    "            # Author berita\n",
    "            author_elem = soup.find('div', {\"class\": \"tags-wrapper\"})\n",
    "            if author_elem:\n",
    "                author_text = author_elem.find('span')\n",
    "                author_text = author_text.text.split(':')[1]\n",
    "            else:\n",
    "                author_text = \"Author not found\"     \n",
    "            # tanggal berita\n",
    "            date_elem = soup.find('span', {\"class\": \"article-date\"})\n",
    "            if date_elem:\n",
    "                date_text = date_elem.text.strip()\n",
    "            else:\n",
    "                date_text = \"Date not found\"\n",
    "                # Category berita\n",
    "            category_elements = soup.find('ul', {\"class\": \"breadcrumb\"})\n",
    "            if category_elements:\n",
    "                category_text = category_elements.find_all('li')\n",
    "                category_text= category_text[2].get_text()\n",
    "            else:\n",
    "                category_text = \"Category not found\"\n",
    "            #     # Content Berita\n",
    "            body_elem = soup.find('div', {\"class\": \"post-content clearfix\"})\n",
    "            if body_elem:\n",
    "                 content_text = body_elem.text\n",
    "            else:\n",
    "                content_text =\"Content not found\"\n",
    "\n",
    "            results.append({'title': title_text,\n",
    "                            'author' : author_text,\n",
    "                            'category':category_text,\n",
    "                            'date': date_text,\n",
    "                            'content' : content_text,\n",
    "                            'link' : url})\n",
    "        else:\n",
    "            print(f\"Failed to retrieve data from {url}\")\n",
    "\n",
    "    except requests.exceptions.RequestException as e:\n",
    "        print(f\"Error fetching URL '{url}': {e}\")\n",
    "    except Exception as e:\n",
    "        print(f\"Error processing URL '{url}': {e}\")"
   ]
  },
  {
   "cell_type": "code",
   "execution_count": null,
   "metadata": {},
   "outputs": [
    {
     "name": "stdout",
     "output_type": "stream",
     "text": [
      "Error processing URL 'https://www.antaranews.com/berita/3788034/garuda-dan-baladewa-kunci-gelar-liga-sofbol-indonesia-2023': 'NoneType' object has no attribute 'text'\n",
      "Error processing URL 'https://www.antaranews.com/berita/3788640/sebanyak-79-tim-akan-bersaing-dalam-kejurnas-voli-pantai-2023': 'NoneType' object has no attribute 'text'\n",
      "Error processing URL 'https://www.antaranews.com/berita/3788613/pelatih-nilai-bagas-fikri-belum-tampil-optimal-pada-final-denmark-open': 'NoneType' object has no attribute 'text'\n",
      "Error processing URL 'https://www.antaranews.com/berita/3788265/avila-bahar-optimistis-raih-hasil-memuaskan-di-seri-pamungkas-issom-2023': 'NoneType' object has no attribute 'text'\n",
      "Error processing URL 'https://www.antaranews.com/berita/3788646/pb-wi-berharap-akan-ada-gelaran-imag-edisi-kedua-untuk-bina-atlet': 'NoneType' object has no attribute 'text'\n",
      "Error processing URL 'https://www.antaranews.com/berita/3788409/ketua-panpel-bni-indonesia-masters-2023-persaingannya-lebih-sengit': 'NoneType' object has no attribute 'text'\n",
      "Error processing URL 'https://www.antaranews.com/berita/3788379/gubernur-jatim-ajak-masyarakat-sukseskan-turnamen-indonesia-masters': 'NoneType' object has no attribute 'text'\n",
      "Error processing URL 'https://www.antaranews.com/berita/3788562/klasemen-medali-asian-para-games-indonesia-naik-ke-peringkat-ketujuh': 'NoneType' object has no attribute 'text'\n",
      "Error processing URL 'https://www.antaranews.com/berita/3788637/tim-putra-dan-putri-dki-jakarta-petik-kemenangan-di-kejurnas-bola-voli': 'NoneType' object has no attribute 'text'\n",
      "Error processing URL 'https://www.antaranews.com/berita/3788490/para-balap-sepeda-indonesia-raih-satu-perak-dan-dua-perunggu-apg-china': 'NoneType' object has no attribute 'text'\n",
      "Error processing URL 'https://www.antaranews.com/berita/3788406/mendorong-tumbuhnya-ekonomi-kreatif-melalui-turnamen-esports': 'NoneType' object has no attribute 'text'\n",
      "Error processing URL 'https://www.antaranews.com/berita/3788415/rifky-raih-emas-kedua-indonesia-sekaligus-pecahkan-rekor-asia': 'NoneType' object has no attribute 'text'\n"
     ]
    }
   ],
   "source": [
    "for url in links:\n",
    "    thread = threading.Thread(target=scrape_url, args=(url,))\n",
    "    thread.start()\n",
    "    threads.append(thread)\n",
    "    \n",
    "for thread in threads:\n",
    "    thread.join()"
   ]
  },
  {
   "cell_type": "code",
   "execution_count": null,
   "metadata": {},
   "outputs": [
    {
     "name": "stdout",
     "output_type": "stream",
     "text": [
      "hasil data scrapping 3\n"
     ]
    },
    {
     "data": {
      "text/html": [
       "<div>\n",
       "<style scoped>\n",
       "    .dataframe tbody tr th:only-of-type {\n",
       "        vertical-align: middle;\n",
       "    }\n",
       "\n",
       "    .dataframe tbody tr th {\n",
       "        vertical-align: top;\n",
       "    }\n",
       "\n",
       "    .dataframe thead th {\n",
       "        text-align: right;\n",
       "    }\n",
       "</style>\n",
       "<table border=\"1\" class=\"dataframe\">\n",
       "  <thead>\n",
       "    <tr style=\"text-align: right;\">\n",
       "      <th></th>\n",
       "      <th>title</th>\n",
       "      <th>author</th>\n",
       "      <th>category</th>\n",
       "      <th>date</th>\n",
       "      <th>content</th>\n",
       "      <th>link</th>\n",
       "    </tr>\n",
       "  </thead>\n",
       "  <tbody>\n",
       "    <tr>\n",
       "      <th>0</th>\n",
       "      <td>Pelari Saptoyogo sabet medali emas pertama unt...</td>\n",
       "      <td>Author not found</td>\n",
       "      <td>Category not found</td>\n",
       "      <td>Selasa, 24 Oktober 2023 07:58 WIB</td>\n",
       "      <td>Content not found</td>\n",
       "      <td>https://www.antaranews.com/foto/3788712/pelari...</td>\n",
       "    </tr>\n",
       "    <tr>\n",
       "      <th>1</th>\n",
       "      <td>Maulana Rifky Yavianda raih emas Asian Para Games</td>\n",
       "      <td>Author not found</td>\n",
       "      <td>Category not found</td>\n",
       "      <td>Senin, 23 Oktober 2023 23:01 WIB</td>\n",
       "      <td>Content not found</td>\n",
       "      <td>https://www.antaranews.com/foto/3788598/maulan...</td>\n",
       "    </tr>\n",
       "    <tr>\n",
       "      <th>2</th>\n",
       "      <td>Pelari Saptoyogo sumbang emas pertama Asian Pa...</td>\n",
       "      <td>Author not found</td>\n",
       "      <td>Category not found</td>\n",
       "      <td>Senin, 23 Oktober 2023 21:23 WIB</td>\n",
       "      <td>\\n\\n \\n\\n\\n\\n\\n\\n\\n\\n\\n\\n\\t\\t\\t\\t\\t\\t\\t\\tANTAR...</td>\n",
       "      <td>https://www.antaranews.com/video/3788427/pelar...</td>\n",
       "    </tr>\n",
       "  </tbody>\n",
       "</table>\n",
       "</div>"
      ],
      "text/plain": [
       "                                               title            author  \\\n",
       "0  Pelari Saptoyogo sabet medali emas pertama unt...  Author not found   \n",
       "1  Maulana Rifky Yavianda raih emas Asian Para Games  Author not found   \n",
       "2  Pelari Saptoyogo sumbang emas pertama Asian Pa...  Author not found   \n",
       "\n",
       "             category                               date  \\\n",
       "0  Category not found  Selasa, 24 Oktober 2023 07:58 WIB   \n",
       "1  Category not found   Senin, 23 Oktober 2023 23:01 WIB   \n",
       "2  Category not found   Senin, 23 Oktober 2023 21:23 WIB   \n",
       "\n",
       "                                             content  \\\n",
       "0                                  Content not found   \n",
       "1                                  Content not found   \n",
       "2  \\n\\n \\n\\n\\n\\n\\n\\n\\n\\n\\n\\n\\t\\t\\t\\t\\t\\t\\t\\tANTAR...   \n",
       "\n",
       "                                                link  \n",
       "0  https://www.antaranews.com/foto/3788712/pelari...  \n",
       "1  https://www.antaranews.com/foto/3788598/maulan...  \n",
       "2  https://www.antaranews.com/video/3788427/pelar...  "
      ]
     },
     "execution_count": 7,
     "metadata": {},
     "output_type": "execute_result"
    }
   ],
   "source": [
    "df = pd.DataFrame(results)\n",
    "print(\"hasil data scrapping\",len(results))\n",
    "df.head(100)"
   ]
  },
  {
   "cell_type": "markdown",
   "metadata": {},
   "source": [
    "Tempat Simpan Save"
   ]
  },
  {
   "cell_type": "code",
   "execution_count": null,
   "metadata": {},
   "outputs": [],
   "source": [
    "# current_datetime = datetime.now().strftime(\"%Y-%m-%d_%H-%M-%S\")\n",
    "# excel_file_name = f'../tempat_simpan_nasional/antaranews_{current_datetime}.xlsx'\n",
    "# df.to_excel(excel_file_name, index=False)\n",
    "\n",
    "# print(f'Data has been saved to {excel_file_name}')"
   ]
  }
 ],
 "metadata": {
  "kernelspec": {
   "display_name": "base",
   "language": "python",
   "name": "python3"
  },
  "language_info": {
   "codemirror_mode": {
    "name": "ipython",
    "version": 3
   },
   "file_extension": ".py",
   "mimetype": "text/x-python",
   "name": "python",
   "nbconvert_exporter": "python",
   "pygments_lexer": "ipython3",
   "version": "3.11.5"
  },
  "orig_nbformat": 4
 },
 "nbformat": 4,
 "nbformat_minor": 2
}
