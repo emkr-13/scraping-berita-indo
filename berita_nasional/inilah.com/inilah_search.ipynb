{
 "cells": [
  {
   "cell_type": "code",
   "execution_count": 52,
   "metadata": {},
   "outputs": [],
   "source": [
    "from bs4 import BeautifulSoup\n",
    "import requests\n",
    "import pandas as pd\n",
    "from datetime import datetime\n",
    "import threading\n",
    "import re"
   ]
  },
  {
   "cell_type": "code",
   "execution_count": 53,
   "metadata": {},
   "outputs": [],
   "source": [
    "jumlah_index = 1\n",
    "threads_link = []\n",
    "links = []\n",
    "results = []\n",
    "threads = []\n",
    "keywords='anies'"
   ]
  },
  {
   "cell_type": "code",
   "execution_count": 54,
   "metadata": {},
   "outputs": [],
   "source": [
    "def scrape_links(keywords):\n",
    "    headers = {\n",
    "        'User-Agent': 'Mozilla/5.0 (Windows NT 10.0; Win64; x64) AppleWebKit/537.36 (KHTML, like Gecko) Chrome/117.0.0.0 Safari/537.36'\n",
    "        }\n",
    "    url = f\"https://inilah.com/search?q={keywords}\"\n",
    "    print(url)\n",
    "    response = requests.get(url,headers=headers)\n",
    "    # print(response)\n",
    "    soup = BeautifulSoup(response.text, \"html.parser\")\n",
    "    # articles = soup.find_all('div', {\"class\": \"MuiGrid-root\"})\n",
    "    articles = soup.find_all('h6')\n",
    "    # print(articles)   \n",
    "    page_links = []\n",
    "    # for article in articles:\n",
    "    #     link = article.find('a')['href']\n",
    "    #     page_links.append(link)\n",
    "    \n",
    "    print(f\"Scraped {len(page_links)} links from page {keywords}\")\n",
    "    return page_links"
   ]
  },
  {
   "cell_type": "code",
   "execution_count": 55,
   "metadata": {},
   "outputs": [
    {
     "name": "stdout",
     "output_type": "stream",
     "text": [
      "https://inilah.com/search?q=anies\n",
      "Scraped 0 links from page anies\n"
     ]
    }
   ],
   "source": [
    "links=scrape_links(keywords)\n",
    "# print(\"Total Links:\", len(links))"
   ]
  },
  {
   "cell_type": "code",
   "execution_count": null,
   "metadata": {},
   "outputs": [],
   "source": []
  }
 ],
 "metadata": {
  "kernelspec": {
   "display_name": "base",
   "language": "python",
   "name": "python3"
  },
  "language_info": {
   "codemirror_mode": {
    "name": "ipython",
    "version": 3
   },
   "file_extension": ".py",
   "mimetype": "text/x-python",
   "name": "python",
   "nbconvert_exporter": "python",
   "pygments_lexer": "ipython3",
   "version": "3.11.4"
  },
  "orig_nbformat": 4
 },
 "nbformat": 4,
 "nbformat_minor": 2
}
