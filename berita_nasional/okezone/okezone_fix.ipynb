{
 "cells": [
  {
   "cell_type": "code",
   "execution_count": 19,
   "metadata": {},
   "outputs": [],
   "source": [
    "import requests\n",
    "from bs4 import BeautifulSoup\n",
    "import re\n",
    "import threading\n",
    "from datetime import datetime\n",
    "import pandas as pd\n",
    "import time\n",
    "from datetime import datetime, timedelta\n",
    "from concurrent.futures import ThreadPoolExecutor\n",
    "import concurrent.futures\n",
    "from urllib.parse import urlparse, parse_qs"
   ]
  },
  {
   "cell_type": "code",
   "execution_count": 20,
   "metadata": {},
   "outputs": [],
   "source": [
    "data = {\n",
    "    \"keywords\": \"anies\",\n",
    "    \"since_time\": \"2023-09-01\",\n",
    "    \"until_time\": \"2023-11-10\"\n",
    "}"
   ]
  },
  {
   "cell_type": "code",
   "execution_count": 21,
   "metadata": {},
   "outputs": [
    {
     "name": "stdout",
     "output_type": "stream",
     "text": [
      "2023-09-01\n"
     ]
    }
   ],
   "source": [
    "# input_date_str = datetime.strftime(data['since_time'], \"%Y-%m-%d\")\n",
    "input_date_str=data['since_time']\n",
    "print(input_date_str)\n",
    "# headers = {\n",
    "#         'User-Agent': 'Mozilla/5.0 (Windows NT 10.0; Win64; x64) AppleWebKit/537.36 (KHTML, like Gecko) Chrome/117.0.0.0 Safari/537.36'\n",
    "#     }\n",
    "# url = f\"https://index.okezone.com/bydate/channel/2023/09/01/1\"\n",
    "# response = requests.get(url, headers=headers)\n",
    "# soup = BeautifulSoup(response.text, 'html.parser')\n",
    "# response = requests.get(url, headers=headers)\n",
    "# soup = BeautifulSoup(response.text, 'html.parser')\n",
    "# articles = soup.find_all('h4', {\"class\": \"f17\"})\n",
    "# for article in articles:\n",
    "#     link = article.find('a')['href']\n",
    "#     print(link)"
   ]
  },
  {
   "cell_type": "code",
   "execution_count": 22,
   "metadata": {},
   "outputs": [],
   "source": [
    "headers = {\n",
    "        'User-Agent': 'Mozilla/5.0 (Windows NT 10.0; Win64; x64) AppleWebKit/537.36 (KHTML, like Gecko) Chrome/117.0.0.0 Safari/537.36'\n",
    "    }\n",
    "url = f\"https://index.okezone.com/bydate/channel/2023/09/01/1\"\n",
    "response = requests.get(url, headers=headers)\n",
    "soup = BeautifulSoup(response.text, 'html.parser')\n",
    "# print(soup)\n",
    "cek = soup.find('div', {\"class\": \"time r1 fl bg1 b1\"})\n",
    "links=cek.find_all('a')\n",
    "all_link=[]\n",
    "for link in links:\n",
    "        if link and 'href' in link.attrs:\n",
    "            link_href = link['href']\n",
    "            all_link.append(link_href)\n",
    "link=all_link[-1]\n",
    "# print(link)\n",
    "parsed_url = urlparse(link)\n",
    "# print(parsed_url)\n",
    "number = parsed_url.path.split(\"/\")[-2]\n",
    "# print(number)"
   ]
  },
  {
   "cell_type": "code",
   "execution_count": 23,
   "metadata": {},
   "outputs": [],
   "source": [
    "def scrape_links(date, page_number):\n",
    "    input_date_str = datetime.strftime(date, \"%Y-%m-%d\")\n",
    "    headers = {\n",
    "        'User-Agent': 'Mozilla/5.0 (Windows NT 10.0; Win64; x64) AppleWebKit/537.36 (KHTML, like Gecko) Chrome/117.0.0.0 Safari/537.36'\n",
    "    }\n",
    "    url = f\"https://index.sindonews.com/index/5/{page_number}?t={input_date_str}\"\n",
    "    response = requests.get(url, headers=headers)\n",
    "    soup = BeautifulSoup(response.text, 'html.parser')\n",
    "    articles = soup.find_all('div', {\"class\": \"indeks-title\"})\n",
    "    \n",
    "    links = []\n",
    "    for article in articles:\n",
    "        link = article.find('a')['href']\n",
    "        links.append(link)\n",
    "        \n",
    "    print(f\"Scraped {len(links)} links from page {page_number} url {url}\")\n",
    "    return links"
   ]
  },
  {
   "cell_type": "code",
   "execution_count": 24,
   "metadata": {},
   "outputs": [],
   "source": [
    "\n",
    "def scrape_link_per_day(date, max_threads=5):\n",
    "    headers = {\n",
    "        'User-Agent': 'Mozilla/5.0 (Windows NT 10.0; Win64; x64) AppleWebKit/537.36 (KHTML, like Gecko) Chrome/117.0.0.0 Safari/537.36'\n",
    "    }\n",
    "    current_date = datetime.strptime(date, \"%Y-%m-%d\")\n",
    "    url = f\"https://index.sindonews.com/index/5/0?t={current_date}\"\n",
    "    response = requests.get(url + \"1\", headers=headers)\n",
    "    soup = BeautifulSoup(response.text, 'html.parser')\n",
    "    cek = soup.find('div', {\"class\": \"pagination\"})\n",
    "    links = cek.find_all('a')\n",
    "    all_link = [link['href'] for link in links if link and 'href' in link.attrs]\n",
    "\n",
    "    if not all_link:\n",
    "        return []\n",
    "\n",
    "    last_link = all_link[-1]\n",
    "\n",
    "    # Extract the \"page\" parameter value from the last link\n",
    "    parsed_url = urlparse(last_link)\n",
    "    page_value = parsed_url.path.split(\"/\")[-2]\n",
    "    print(page_value)\n",
    "    # Check if page_value is an integer\n",
    "    try:\n",
    "        page_number = int(page_value)\n",
    "    except (TypeError, ValueError):\n",
    "        page_number = 0\n",
    "\n",
    "    page_links = []\n",
    "\n",
    "    with concurrent.futures.ThreadPoolExecutor(max_threads) as executor:\n",
    "        # Use list comprehension to submit tasks to the thread pool\n",
    "        futures = [executor.submit(scrape_links, current_date, index) for index in range(0, page_number + 20, 20)]\n",
    "\n",
    "        # Collect results from completed futures\n",
    "        for future in concurrent.futures.as_completed(futures):\n",
    "            page_links.extend(future.result())\n",
    "\n",
    "    return page_links"
   ]
  },
  {
   "cell_type": "code",
   "execution_count": 25,
   "metadata": {},
   "outputs": [
    {
     "name": "stdout",
     "output_type": "stream",
     "text": [
      "0\n",
      "Scraped 20 links from page 0 url https://index.sindonews.com/index/5/0?t=2023-11-02\n"
     ]
    },
    {
     "data": {
      "text/plain": [
       "['https://nasional.sindonews.com/read/1241963/14/persiapan-operasi-lilin-2023-korlantas-polri-cek-jalur-tol-semarang-surabaya-1698941504',\n",
       " 'https://nasional.sindonews.com/read/1241921/13/hakim-wahiduddin-adams-diperiksa-secara-khusus-oleh-mkmk-ini-alasannya-1698937888',\n",
       " 'https://nasional.sindonews.com/read/1241919/94/dukung-petani-berbasis-ebt-kilang-pertamina-internasional-resmikan-program-desa-energi-berdikari-kalijaran-1698937901',\n",
       " 'https://nasional.sindonews.com/read/1241909/12/besok-ziarah-ke-makam-bung-karno-di-blitar-mahfud-md-tak-ada-persiapan-khusus-1698937911',\n",
       " 'https://nasional.sindonews.com/read/1241897/12/ganjar-mahfud-bersama-tpn-bahas-isu-strategis-persiapkan-debat-pilpres-2024-1698934301',\n",
       " 'https://nasional.sindonews.com/read/1241889/15/muhammadiyah-salurkan-bantuan-rp13-miliar-untuk-palestina-1698934274',\n",
       " 'https://nasional.sindonews.com/read/1241863/12/mahfud-susul-ganjar-cek-kesiapan-debat-capres-cawapres-1698934281',\n",
       " 'https://nasional.sindonews.com/read/1241855/13/jimly-cs-diharapkan-beri-sanksi-keras-ke-anwar-usman-1698934307',\n",
       " 'https://nasional.sindonews.com/read/1241849/12/ht-hadiri-media-briefing-tpn-ganjar-mahfud-1698930707',\n",
       " 'https://nasional.sindonews.com/read/1241823/12/tpn-gp-gelar-media-briefing-dihadiri-ganjar-hingga-yenny-wahid-1698930672',\n",
       " 'https://nasional.sindonews.com/read/1241831/14/pekan-depan-pimpinan-dpr-tindak-lanjuti-surpres-calon-panglima-tni-1698930669',\n",
       " 'https://nasional.sindonews.com/read/1241815/13/gugatan-praperadilan-karen-agustiawan-ditolak-kpk-lanjutkan-penyidikan-kasus-korupsi-lbg-1698930712',\n",
       " 'https://nasional.sindonews.com/read/1241761/94/presiden-jokowi-groundbreaking-kantor-bpjs-ketenagakerjaan-di-ikn-angkat-filosofi-rumah-untuk-semua-1698927100',\n",
       " 'https://nasional.sindonews.com/read/1241757/12/jelang-pileg-2024-rpa-partai-perindo-gelar-bimtek-1698923484',\n",
       " 'https://nasional.sindonews.com/read/1241767/12/putusan-mk-soal-usia-capres-cawapres-menyuburkan-nepotisme-1698927100',\n",
       " 'https://nasional.sindonews.com/read/1241759/12/ganjar-prioritaskan-sektor-pendidikan-untuk-manfaatkan-bonus-demografi-1698923486',\n",
       " 'https://nasional.sindonews.com/read/1241741/13/panji-gumilang-miliki-5-identitas-lain-dari-abu-totok-hingga-syamsu-alam-1698923500',\n",
       " 'https://nasional.sindonews.com/read/1241739/13/polri-sebut-panji-gumilang-pinjam-rp73-miliar-pakai-nama-yayasan-untuk-kepentingan-pribadi-1698923497',\n",
       " 'https://nasional.sindonews.com/read/1241727/12/pilpres-2024-yusuf-lakaseng-ungkap-tiga-isu-menarik-bagi-anak-muda-1698923508',\n",
       " 'https://nasional.sindonews.com/read/1241721/12/besok-ganjar-mahfud-ditemani-megawati-nyekar-ke-makam-bung-karno-1698923460']"
      ]
     },
     "execution_count": 25,
     "metadata": {},
     "output_type": "execute_result"
    }
   ],
   "source": [
    "scrape_link_per_day('2023-11-02')"
   ]
  },
  {
   "cell_type": "code",
   "execution_count": null,
   "metadata": {},
   "outputs": [],
   "source": []
  }
 ],
 "metadata": {
  "kernelspec": {
   "display_name": "base",
   "language": "python",
   "name": "python3"
  },
  "language_info": {
   "codemirror_mode": {
    "name": "ipython",
    "version": 3
   },
   "file_extension": ".py",
   "mimetype": "text/x-python",
   "name": "python",
   "nbconvert_exporter": "python",
   "pygments_lexer": "ipython3",
   "version": "3.11.4"
  }
 },
 "nbformat": 4,
 "nbformat_minor": 2
}
