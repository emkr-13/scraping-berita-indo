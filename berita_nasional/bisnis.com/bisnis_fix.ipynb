{
 "cells": [
  {
   "cell_type": "code",
   "execution_count": 39,
   "metadata": {},
   "outputs": [],
   "source": [
    "import requests\n",
    "from bs4 import BeautifulSoup\n",
    "import re\n",
    "import threading\n",
    "from datetime import datetime\n",
    "import pandas as pd\n",
    "import time\n",
    "from datetime import datetime, timedelta\n",
    "from concurrent.futures import ThreadPoolExecutor\n",
    "import concurrent.futures\n",
    "from dateutil import parser"
   ]
  },
  {
   "cell_type": "code",
   "execution_count": 40,
   "metadata": {},
   "outputs": [
    {
     "name": "stdout",
     "output_type": "stream",
     "text": [
      "https://finansial.bisnis.com/read/20231101/11/1710296/sri-mulyani-wanti-wanti-dampak-pelemahan-rupiah-ke-neraca-keuangan-perusahaan\n",
      "https://ekonomi.bisnis.com/read/20231101/257/1710261/kemenperin-sebut-industri-manufaktur-tertekan-imbas-hgbt-tak-berjalan-lancar\n",
      "https://market.bisnis.com/read/20231101/7/1710221/laju-saham-transportasi-idxtrans-melandai-apa-sebabnya\n",
      "https://semarang.bisnis.com/read/20231101/535/1710300/hingga-september-75952-wisatawan-mancanegara-pelesir-ke-diy\n",
      "https://ekonomi.bisnis.com/read/20231101/44/1710286/skk-migas-pembeli-gas-blok-masela-sudah-oversubscribed\n",
      "https://finansial.bisnis.com/read/20231101/563/1710298/fenomena-teman-pinjam-akun-pinjol-begini-kata-ojk\n",
      "https://ekonomi.bisnis.com/read/20231101/257/1710262/cukai-tinggi-produksi-industri-rokok-diramal-turun-10\n",
      "https://www.bisnis.com/read/20231101/638/1710274/mahfud-md-ogah-tanggapi-pencopotan-baliho-kampanye-di-bali\n",
      "https://ekonomi.bisnis.com/read/20231101/47/1710301/alam-sutera-tawarkan-hunian-mewah-klaster-gramecy-termurah-rp16-miliar\n",
      "https://market.bisnis.com/read/20231101/192/1710293/di-balik-siasat-erick-thohir-dorong-wijaya-karya-raih-pmn-rp4-triliun\n",
      "https://ekonomi.bisnis.com/read/20231101/45/1710285/sempat-mangkrak-proyek-jalan-tol-terpanjang-di-bali-ditender-ulang\n",
      "https://finansial.bisnis.com/read/20231101/90/1710297/laba-bank-mega-tembus-rp279-triliun-pada-kuartal-iii2023-tumbuh-568\n",
      "https://ekonomi.bisnis.com/read/20231101/98/1710267/kabut-asap-bikin-jumlah-penumpang-pesawat-merosot-september-2023\n",
      "https://surabaya.bisnis.com/read/20231101/531/1710287/ajinomoto-mengkonversi-energi-batu-bara-ke-biomassa-pada-steam-boiler\n",
      "https://kabar24.bisnis.com/read/20231101/15/1710290/arsjad-rasjid-jawab-isu-sri-mulyani-dan-erick-thohir-gabung-tpn-ganjar-mahfud\n"
     ]
    }
   ],
   "source": [
    "headers = {\n",
    "    'User-Agent': 'Mozilla/5.0 (Windows NT 10.0; Win64; x64) AppleWebKit/537.36 (KHTML, like Gecko) Chrome/117.0.0.0 Safari/537.36'\n",
    "}\n",
    "\n",
    "url = \"https://www.bisnis.com/index/page/?c=0&d=2023-11-01&per_page=2\"\n",
    "response = requests.get(url, headers=headers)\n",
    "soup = BeautifulSoup(response.text, 'html.parser')\n",
    "\n",
    "body = soup.find('ul', {\"class\": \"list-news indeks-new\"})\n",
    "\n",
    "if body is not None:\n",
    "    articles = body.find_all('li')\n",
    "\n",
    "    for article in articles:\n",
    "        link_tag = article.find('a')\n",
    "        \n",
    "        # Check if the 'a' tag is found\n",
    "        if link_tag is not None:\n",
    "            link = link_tag.get('href')\n",
    "            \n",
    "            # Check if the 'href' attribute is present\n",
    "            if link is not None:\n",
    "                print(link)"
   ]
  },
  {
   "cell_type": "code",
   "execution_count": 41,
   "metadata": {},
   "outputs": [],
   "source": [
    "def scrape_links(date,page_number):\n",
    "    format=datetime.strptime(date, \"%Y-%m-%d\")\n",
    "# print(format)\n",
    "    formatted_date_string = format.strftime(\"%Y-%m-%d\")\n",
    "    headers = {\n",
    "        'User-Agent': 'Mozilla/5.0 (Windows NT 10.0; Win64; x64) AppleWebKit/537.36 (KHTML, like Gecko) Chrome/117.0.0.0 Safari/537.36'\n",
    "    }\n",
    "    url = f\"https://www.bisnis.com/index/page/?c=0&d={formatted_date_string}&per_page={page_number}\"\n",
    "    response = requests.get(url, headers=headers)\n",
    "    soup = BeautifulSoup(response.text, 'html.parser')\n",
    "    body = soup.find('ul', {\"class\": \"list-news indeks-new\"})\n",
    "    links=[]\n",
    "    if body is not None:\n",
    "        articles = body.find_all('li')\n",
    "\n",
    "        for article in articles:\n",
    "            link_tag = article.find('a')\n",
    "            \n",
    "            # Check if the 'a' tag is found\n",
    "            if link_tag is not None:\n",
    "                link = link_tag.get('href')\n",
    "                \n",
    "                # Check if the 'href' attribute is present\n",
    "                if link is not None:\n",
    "                    links.append(link)\n",
    "    print(f\"Scraped {len(links)} links from page {page_number} url {url}\")\n",
    "    \n",
    "    return links"
   ]
  },
  {
   "cell_type": "code",
   "execution_count": 42,
   "metadata": {},
   "outputs": [],
   "source": [
    "def scrape_link_per_day(date, max_threads=5):\n",
    "    page_number = 1\n",
    "    page_links = []\n",
    "\n",
    "    with concurrent.futures.ThreadPoolExecutor(max_threads) as executor:\n",
    "        futures = []\n",
    "\n",
    "        while True:\n",
    "            future = executor.submit(scrape_links, date, page_number)\n",
    "            futures.append(future)\n",
    "            page_number += 1\n",
    "\n",
    "            # Break the loop if no more articles are found\n",
    "            if not future.result():\n",
    "                break\n",
    "\n",
    "        for future in concurrent.futures.as_completed(futures):\n",
    "            page_links.extend(future.result())\n",
    "\n",
    "    return page_links"
   ]
  },
  {
   "cell_type": "code",
   "execution_count": 43,
   "metadata": {},
   "outputs": [
    {
     "name": "stdout",
     "output_type": "stream",
     "text": [
      "Scraped 15 links from page 1 url https://www.bisnis.com/index/page/?c=0&d=2023-11-01&per_page=1\n",
      "Scraped 15 links from page 2 url https://www.bisnis.com/index/page/?c=0&d=2023-11-01&per_page=2\n",
      "Scraped 15 links from page 3 url https://www.bisnis.com/index/page/?c=0&d=2023-11-01&per_page=3\n",
      "Scraped 15 links from page 4 url https://www.bisnis.com/index/page/?c=0&d=2023-11-01&per_page=4\n",
      "Scraped 15 links from page 5 url https://www.bisnis.com/index/page/?c=0&d=2023-11-01&per_page=5\n",
      "Scraped 15 links from page 6 url https://www.bisnis.com/index/page/?c=0&d=2023-11-01&per_page=6\n",
      "Scraped 15 links from page 7 url https://www.bisnis.com/index/page/?c=0&d=2023-11-01&per_page=7\n",
      "Scraped 15 links from page 8 url https://www.bisnis.com/index/page/?c=0&d=2023-11-01&per_page=8\n",
      "Scraped 15 links from page 9 url https://www.bisnis.com/index/page/?c=0&d=2023-11-01&per_page=9\n",
      "Scraped 15 links from page 10 url https://www.bisnis.com/index/page/?c=0&d=2023-11-01&per_page=10\n",
      "Scraped 15 links from page 11 url https://www.bisnis.com/index/page/?c=0&d=2023-11-01&per_page=11\n",
      "Scraped 15 links from page 12 url https://www.bisnis.com/index/page/?c=0&d=2023-11-01&per_page=12\n",
      "Scraped 15 links from page 13 url https://www.bisnis.com/index/page/?c=0&d=2023-11-01&per_page=13\n",
      "Scraped 15 links from page 14 url https://www.bisnis.com/index/page/?c=0&d=2023-11-01&per_page=14\n",
      "Scraped 15 links from page 15 url https://www.bisnis.com/index/page/?c=0&d=2023-11-01&per_page=15\n",
      "Scraped 15 links from page 16 url https://www.bisnis.com/index/page/?c=0&d=2023-11-01&per_page=16\n",
      "Scraped 15 links from page 17 url https://www.bisnis.com/index/page/?c=0&d=2023-11-01&per_page=17\n",
      "Scraped 15 links from page 18 url https://www.bisnis.com/index/page/?c=0&d=2023-11-01&per_page=18\n",
      "Scraped 15 links from page 19 url https://www.bisnis.com/index/page/?c=0&d=2023-11-01&per_page=19\n",
      "Scraped 15 links from page 20 url https://www.bisnis.com/index/page/?c=0&d=2023-11-01&per_page=20\n",
      "Scraped 15 links from page 21 url https://www.bisnis.com/index/page/?c=0&d=2023-11-01&per_page=21\n",
      "Scraped 15 links from page 22 url https://www.bisnis.com/index/page/?c=0&d=2023-11-01&per_page=22\n",
      "Scraped 15 links from page 23 url https://www.bisnis.com/index/page/?c=0&d=2023-11-01&per_page=23\n",
      "Scraped 15 links from page 24 url https://www.bisnis.com/index/page/?c=0&d=2023-11-01&per_page=24\n",
      "Scraped 15 links from page 25 url https://www.bisnis.com/index/page/?c=0&d=2023-11-01&per_page=25\n",
      "Scraped 15 links from page 26 url https://www.bisnis.com/index/page/?c=0&d=2023-11-01&per_page=26\n",
      "Scraped 15 links from page 27 url https://www.bisnis.com/index/page/?c=0&d=2023-11-01&per_page=27\n",
      "Scraped 5 links from page 28 url https://www.bisnis.com/index/page/?c=0&d=2023-11-01&per_page=28\n",
      "Scraped 0 links from page 29 url https://www.bisnis.com/index/page/?c=0&d=2023-11-01&per_page=29\n"
     ]
    }
   ],
   "source": [
    "link=scrape_link_per_day('2023-11-01')"
   ]
  },
  {
   "cell_type": "code",
   "execution_count": 52,
   "metadata": {},
   "outputs": [],
   "source": [
    "def scrape_url(url,max_retries=2):\n",
    "    retries = 0\n",
    "    while retries < max_retries:\n",
    "            try:\n",
    "                headers = {\n",
    "                    'User-Agent': 'Mozilla/5.0 (Windows NT 10.0; Win64; x64) AppleWebKit/537.36 (KHTML, like Gecko) Chrome/117.0.0.0 Safari/537.36'\n",
    "                }\n",
    "                response = requests.get(url, headers=headers)\n",
    "                if response.status_code == 200:\n",
    "                    soup = BeautifulSoup(response.text, 'html.parser')\n",
    "                    \n",
    "                    \n",
    "                    # Judul Berita\n",
    "                    title_elem = soup.find('h1', {\"class\": \"detailsTitleCaption\"})\n",
    "                    if title_elem:\n",
    "                        title_text = title_elem.text.strip()\n",
    "                    else:\n",
    "                        title_text = \"Title not found\"  \n",
    "                    # tanggal berita\n",
    "                    date_elem = soup.find('div', {\"class\": \"detailsAttributeDates\"})\n",
    "                    # print(date_elem)\n",
    "                    if date_elem:\n",
    "                        date_text= date_elem.text.strip()\n",
    "                        day_names_mapping = {\n",
    "                            'Senin': 'Monday',\n",
    "                            'Selasa': 'Tuesday',\n",
    "                            'Rabu': 'Wednesday',\n",
    "                            'Kamis': 'Thursday',\n",
    "                            'Jumat': 'Friday',\n",
    "                            'Sabtu': 'Saturday',\n",
    "                            'Minggu': 'Sunday'\n",
    "                        }\n",
    "\n",
    "                        # Replace the Indonesian day name with English day name\n",
    "                        for indonesian_day, english_day in day_names_mapping.items():\n",
    "                            date_text = date_text.replace(indonesian_day, english_day)\n",
    "\n",
    "                        # Convert the date string to a datetime object\n",
    "                        date_object = datetime.strptime(date_text, '%A, %d %B %Y | %H:%M')\n",
    "\n",
    "                        # Format the datetime object to the desired format\n",
    "                        formatted_date = date_object.strftime('%Y-%m-%d')\n",
    "                        # date_text = date_text\n",
    "                    else:\n",
    "                        date_text = \"Date not found\"\n",
    "                    #     # Content Berita\n",
    "                    body_elem = soup.find('article', {\"class\": \"detailsContent force-17 mt40\"})\n",
    "                        \n",
    "                    if body_elem:\n",
    "                        content_elem = body_elem.find_all('p')\n",
    "                        content_text = \"\"\n",
    "                        for p in content_elem:\n",
    "                                content_text += p.text.strip() + \"\\n\"\n",
    "                            \n",
    "                        if content_text.strip():\n",
    "                            content_text=content_text\n",
    "                            content_text = content_text.replace('\\n', '').replace('\\r', '').replace('\\t', '')\n",
    "                            content_text = ' '.join(content_text.split())\n",
    "                        else:\n",
    "                            content_text=\"Content not found\"\n",
    "                    else:\n",
    "                            content_text=\"Content not found\"\n",
    "\n",
    "                    return{\n",
    "                        'title': title_text,\n",
    "                        'date': formatted_date,\n",
    "                        'content':content_text,\n",
    "                        'link' : url}\n",
    "                elif response.status_code == 429:\n",
    "                    print(f\"Received a 429 error for {url}. Retrying in 5 seconds...\")\n",
    "                    time.sleep(5)\n",
    "                else:\n",
    "                    print(f\"Failed to retrieve data from {url}: Status Code {response.status_code}\")\n",
    "            except requests.exceptions.RequestException as e:\n",
    "                print(f\"Error fetching URL '{url}': {e}\")\n",
    "            except Exception as e:\n",
    "                print(f\"Error processing URL '{url}': {e}\")\n",
    "            retries += 1\n",
    "            if retries < max_retries:\n",
    "                print(f\"Retrying {url} (Attempt {retries}/{max_retries})\")\n",
    "                time.sleep(5)  # You can adjust the delay as needed\n",
    "    return None         "
   ]
  },
  {
   "cell_type": "code",
   "execution_count": 53,
   "metadata": {},
   "outputs": [],
   "source": [
    "url='https://ekonomi.bisnis.com/read/20231101/257/1710302/inflasi-oktober-capai-256-pengusaha-minta-pemerintah-kendalikan-pelemahan-rupiah'\n",
    "data_bisnis = scrape_url(url)"
   ]
  },
  {
   "cell_type": "code",
   "execution_count": 54,
   "metadata": {},
   "outputs": [
    {
     "data": {
      "text/plain": [
       "{'title': 'Inflasi Oktober Capai 2,56%, Pengusaha Minta Pemerintah Kendalikan Pelemahan Rupiah',\n",
       " 'date': '2023-11-01',\n",
       " 'content': 'Bisnis.com, JAKARTA - Asosiasi Pengusaha Indonesia (Apindo) meminta pemerintah untuk bertindak cepat dalam mengendalikan pelemahan rupiah guna menjaga tingkat inflasi tetap stabil.Ketua Umum Apindo, Shinta W. Kamdani berharap pemerintah dapat segera meningkatkan efektivitas instrumen-instrumen dan melakukan intervensi kebijakan atas pengendalian pelemahan rupiah.Lebih lanjut, Shinta memberikan beberapa cara yang dapat dilakukan yakni dengan stimulasi ekspor, peningkatan konsistensi implementasi kebijakan reformasi struktural iklim usaha untuk investasi asing, peningkatan fasilitasi investasi asing.Tak kalah penting, kampanye penggunaan Local Currency Settlement (LCS), dan perbaikan daya saing sektor perbankan nasional sebagai parameter suku bunga simpanan dalam mata uang asing untuk mendongkrak penempatan DHE di dalam negeri secara sukarela, dan lainnya.\"Dalam jangka pendek, di sisi pasar atau permintaan juga perlu ada pengendalian inflasi pangan pokok,\" ujarnya.Terkhusus pada harga 6 dari 9 komoditas sembako yang masih perlu diimpor untuk menciptakan ketahanan pangan. Begitupun dengan harga BBM melalui peningkatan efisiensi distribusi barang/jasa.Baca Juga\"Dan perlu juga disertai dengan perluasan subsidi pasar untuk memastikan affordability biaya hidup pokok masyarakat,\" pungkasnya.Sementara itu, dia menilai inflasi Oktober 2023 yang mencapai 2,56% secara tahunan atau year-on-year (yoy) masih dalam cakupan batas inflasi nasional.Menurutnya, angka inflasi bulan ini tidak menjadi momok besar dan tak perlu di khawatirkan karena masih dalam kondisi yang kondusif terhadap pertumbuhan.\"Dan lebih mencerminkan daya beli pasar domestik yang masih sehat atau stabil, bukan distress berlebihan terhadap daya beli masyarakat,\" kata Shinta kepada Bisnis, Rabu (1/11/2023).Kendati demikian, dia melihat adanya sinyal atas peningkatan kendala distribusi pasokan barang/jasa di pasar. Di sisi lain, terdapat indikasi import inflation atau inflasi karena fluktuasi nilai tukar terhadap komoditas pangan.Adapun, terdapat 6 dari 9 komponen sembako dan bahan bakar minyak (BBM) yang tecermin dalam biaya logistik yang mengalami inflasi karena depresiasi nilai tukar Rupiah terhadap dolar AS.\"Di mana Indonesia menjadi net importer karena pelemahan rupiah beberapa bulan terakhir,\" tuturnya.Dalam hal ini, Shinta menuturkan bahwa kunci menjaga inflasi yakni dengan mengendalikan nilai tukar rupiah sehingga peningkatan beban impor pangan, BBM, maupun bahan baku/penolong serta barang modal dapat dikendalikan.Di samping itu, menurut dia, output inflasi tidak perlu menjadi sumber kekhawatiran yang berlebihan karena angka tersebut masih mengindikasikan parameter pertumbuhan yang sehat, meskipun melambat.\"Karena tingkat persepsi beban pertumbuhannya juga meningkat karena kondisi geopolitik yang terus membebani pelemahan nilai tukar,\" terangnya.Cek Berita dan Artikel yang lain di Google News',\n",
       " 'link': 'https://ekonomi.bisnis.com/read/20231101/257/1710302/inflasi-oktober-capai-256-pengusaha-minta-pemerintah-kendalikan-pelemahan-rupiah'}"
      ]
     },
     "execution_count": 54,
     "metadata": {},
     "output_type": "execute_result"
    }
   ],
   "source": [
    "data_bisnis"
   ]
  },
  {
   "cell_type": "code",
   "execution_count": null,
   "metadata": {},
   "outputs": [],
   "source": []
  }
 ],
 "metadata": {
  "kernelspec": {
   "display_name": "base",
   "language": "python",
   "name": "python3"
  },
  "language_info": {
   "codemirror_mode": {
    "name": "ipython",
    "version": 3
   },
   "file_extension": ".py",
   "mimetype": "text/x-python",
   "name": "python",
   "nbconvert_exporter": "python",
   "pygments_lexer": "ipython3",
   "version": "3.11.4"
  }
 },
 "nbformat": 4,
 "nbformat_minor": 2
}
