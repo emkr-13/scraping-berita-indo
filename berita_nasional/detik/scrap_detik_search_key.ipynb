{
 "cells": [
  {
   "cell_type": "code",
   "execution_count": 10,
   "metadata": {},
   "outputs": [],
   "source": [
    "import requests\n",
    "from bs4 import BeautifulSoup\n",
    "import re\n",
    "import threading\n",
    "from datetime import datetime"
   ]
  },
  {
   "cell_type": "code",
   "execution_count": 11,
   "metadata": {},
   "outputs": [],
   "source": [
    "data = {\n",
    "    \"keywords\": [\"jokowi\", \"kaesang\"],\n",
    "    \"since_time\": \"2023-10-01\",\n",
    "    \"until_time\": \"2023-10-16\"\n",
    "}"
   ]
  },
  {
   "cell_type": "code",
   "execution_count": 12,
   "metadata": {},
   "outputs": [],
   "source": [
    "def cek_totalPagination(keywords, since_time, until_time):\n",
    "    headers = {\n",
    "        'User-Agent': 'Mozilla/5.0 (Windows NT 10.0; Win64; x64) AppleWebKit/537.36 (KHTML, like Gecko) Chrome/117.0.0.0 Safari/537.36'\n",
    "    }\n",
    "    # Construct the query string by joining the keywords\n",
    "    keyword_query = ' '.join(keywords)\n",
    "    since_time = datetime.strptime(since_time, \"%Y-%m-%d\").strftime(\"%d/%m/%Y\")\n",
    "    until_time = datetime.strptime(until_time, \"%Y-%m-%d\").strftime(\"%d/%m/%Y\")\n",
    "    url = f\"https://www.detik.com/search/searchall?query={keyword_query}&siteid=2&sortby=time&fromdatex={since_time}&todatex={until_time}&page=1\"\n",
    "    \n",
    "    response = requests.get(url, headers=headers) \n",
    "    soup = BeautifulSoup(response.text, \"html.parser\")\n",
    "    cek = soup.find('span', {\"class\": \"fl text\"})\n",
    "    hasil_text = cek.get_text()\n",
    "\n",
    "    # Use regular expression to extract the number\n",
    "    result = re.search(r'\\d+', hasil_text)\n",
    "    if result:\n",
    "        hasil_number = int(result.group(0))\n",
    "        hasil_divided = hasil_number / 9  # Divide the number by 9\n",
    "        rounded_result = round(hasil_divided)  # Round to the nearest whole number\n",
    "        return rounded_result\n",
    "    else:\n",
    "        return 0  # Return 0 if no number was found"
   ]
  },
  {
   "cell_type": "code",
   "execution_count": 13,
   "metadata": {},
   "outputs": [
    {
     "name": "stdout",
     "output_type": "stream",
     "text": [
      "Total results for keywords 'jokowi, kaesang': 13\n"
     ]
    }
   ],
   "source": [
    "jumlah_index = cek_totalPagination(data[\"keywords\"], data[\"since_time\"], data[\"until_time\"])\n",
    "print(f\"Total results for keywords '{', '.join(data['keywords'])}': {jumlah_index}\")"
   ]
  }
 ],
 "metadata": {
  "kernelspec": {
   "display_name": "base",
   "language": "python",
   "name": "python3"
  },
  "language_info": {
   "codemirror_mode": {
    "name": "ipython",
    "version": 3
   },
   "file_extension": ".py",
   "mimetype": "text/x-python",
   "name": "python",
   "nbconvert_exporter": "python",
   "pygments_lexer": "ipython3",
   "version": "3.11.4"
  }
 },
 "nbformat": 4,
 "nbformat_minor": 2
}
