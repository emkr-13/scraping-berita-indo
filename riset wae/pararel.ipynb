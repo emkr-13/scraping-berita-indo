{
 "cells": [
  {
   "cell_type": "code",
   "execution_count": 3,
   "metadata": {},
   "outputs": [],
   "source": [
    "# # code for loading the format for the notebook\n",
    "import os\n",
    "\n",
    "# # path : store the current path to convert back to it later\n",
    "# path = os.getcwd()\n",
    "# os.chdir(os.path.join('..', 'notebook_format'))\n",
    "\n",
    "# from formats import load_style\n",
    "# load_style(plot_style=False)"
   ]
  },
  {
   "cell_type": "code",
   "execution_count": 4,
   "metadata": {},
   "outputs": [],
   "source": [
    "# os.chdir(path)\n",
    "\n",
    "# # 1. magic to print version\n",
    "# # 2. magic so that the notebook will reload external python modules\n",
    "# %load_ext watermark\n",
    "# %load_ext autoreload\n",
    "# %autoreload 2\n",
    "\n",
    "import math\n",
    "import time\n",
    "import logging\n",
    "import requests\n",
    "import threading\n",
    "import multiprocessing\n",
    "import concurrent.futures\n",
    "from joblib import Parallel, delayed\n",
    "\n",
    "# %watermark -a 'Ethen' -d -t -v -p joblib,requests"
   ]
  },
  {
   "cell_type": "code",
   "execution_count": 5,
   "metadata": {},
   "outputs": [],
   "source": [
    "def sleeper(n_time):\n",
    "    name = threading.current_thread().name\n",
    "    print('I am {}. Going to sleep for {} seconds'.format(name, n_time))\n",
    "    time.sleep(n_time)\n",
    "    print('{} has woken up from sleep'.format(name))"
   ]
  },
  {
   "cell_type": "code",
   "execution_count": 6,
   "metadata": {},
   "outputs": [
    {
     "name": "stdout",
     "output_type": "stream",
     "text": [
      "I am thread1. Going to sleep for 2 seconds\n"
     ]
    },
    {
     "name": "stdout",
     "output_type": "stream",
     "text": [
      "thread1 has woken up from sleep\n"
     ]
    }
   ],
   "source": [
    "# we call .start to start executing the function from the thread\n",
    "n_time = 2\n",
    "thread = threading.Thread(target = sleeper, name = 'thread1', args = (n_time,))\n",
    "thread.start()"
   ]
  },
  {
   "cell_type": "code",
   "execution_count": 7,
   "metadata": {},
   "outputs": [
    {
     "name": "stdout",
     "output_type": "stream",
     "text": [
      "I am thread2. Going to sleep for 2 seconds\n",
      "\n",
      "hello\n"
     ]
    },
    {
     "name": "stdout",
     "output_type": "stream",
     "text": [
      "thread2 has woken up from sleep\n"
     ]
    }
   ],
   "source": [
    "# hello is printed \"before\" the wake up message from the function\n",
    "thread = threading.Thread(target = sleeper, name = 'thread2', args = (n_time,))\n",
    "thread.start()\n",
    "\n",
    "print()\n",
    "print('hello')"
   ]
  },
  {
   "cell_type": "code",
   "execution_count": 8,
   "metadata": {},
   "outputs": [
    {
     "name": "stdout",
     "output_type": "stream",
     "text": [
      "I am thread3. Going to sleep for 2 seconds\n",
      "thread3 has woken up from sleep\n",
      "\n",
      "hello\n"
     ]
    }
   ],
   "source": [
    "# hello is printed \"after\" the wake up message from the function\n",
    "thread = threading.Thread(target = sleeper, name = 'thread3', args = (n_time,))\n",
    "thread.start()\n",
    "thread.join()\n",
    "\n",
    "print()\n",
    "print('hello')"
   ]
  },
  {
   "cell_type": "code",
   "execution_count": 9,
   "metadata": {},
   "outputs": [
    {
     "name": "stdout",
     "output_type": "stream",
     "text": [
      "I am thread0. Going to sleep for 2 seconds\n",
      "I am thread1. Going to sleep for 2 seconds\n",
      "I am thread2. Going to sleep for 2 seconds\n",
      "I am thread3. Going to sleep for 2 seconds\n",
      "I am thread4. Going to sleep for 2 seconds\n",
      "thread0 has woken up from sleep\n",
      "thread1 has woken up from sleep\n",
      "thread3 has woken up from sleep\n",
      "thread4 has woken up from sleep\n",
      "thread2 has woken up from sleep\n",
      "\n",
      "Elapse time:  2.003207206726074\n"
     ]
    }
   ],
   "source": [
    "n_time = 2\n",
    "n_threads = 5\n",
    "start = time.time()\n",
    "\n",
    "# create n_threads number of threads and store them in a list\n",
    "threads = []\n",
    "for i in range(n_threads):\n",
    "    name = 'thread{}'.format(i)\n",
    "    thread = threading.Thread(target = sleeper, name = name, args = (n_time,))\n",
    "    threads.append(thread)\n",
    "    # we can start the thread while we're creating it, or move\n",
    "    # this to its own loop (as shown below)\n",
    "    thread.start()\n",
    "\n",
    "# we could instead start the thread in a separate loop\n",
    "# for thread in threads:\n",
    "#     thread.start()\n",
    "\n",
    "# ensure all threads have finished before executing main program\n",
    "for thread in threads:\n",
    "    thread.join()\n",
    "\n",
    "elapse = time.time() - start\n",
    "print()\n",
    "print('Elapse time: ', elapse)"
   ]
  },
  {
   "cell_type": "code",
   "execution_count": 10,
   "metadata": {},
   "outputs": [
    {
     "name": "stdout",
     "output_type": "stream",
     "text": [
      "112272535095293 is prime: True\n",
      "112582705942171 is prime: True\n",
      "112272535095293 is prime: True\n",
      "115280095190773 is prime: True\n",
      "115797848077099 is prime: True\n",
      "1099726899285419 is prime: False\n"
     ]
    }
   ],
   "source": [
    "# example from the documentation page\n",
    "# https://docs.python.org/3/library/concurrent.futures.html#processpoolexecutor-example\n",
    "def is_prime(n):\n",
    "    \"\"\"\n",
    "    References\n",
    "    ----------\n",
    "    https://math.stackexchange.com/questions/1343171/why-only-square-root-approach-to-check-number-is-prime\n",
    "    \"\"\"\n",
    "    if n % 2 == 0:\n",
    "        return False\n",
    "\n",
    "    sqrt_n = int(math.floor(math.sqrt(n)))\n",
    "    for i in range(3, sqrt_n + 1, 2):\n",
    "        if n % i == 0:\n",
    "            return False\n",
    "\n",
    "    return True\n",
    "\n",
    "\n",
    "PRIMES = [\n",
    "    112272535095293,\n",
    "    112582705942171,\n",
    "    112272535095293,\n",
    "    115280095190773,\n",
    "    115797848077099,\n",
    "    1099726899285419]\n",
    "\n",
    "with concurrent.futures.ProcessPoolExecutor() as executor:\n",
    "    for number, prime in zip(PRIMES, executor.map(is_prime, PRIMES)):\n",
    "        print('{} is prime: {}'.format(number, prime))"
   ]
  },
  {
   "cell_type": "code",
   "execution_count": 11,
   "metadata": {},
   "outputs": [],
   "source": [
    "def only_sleep():\n",
    "    \"\"\"Wait for a timer to expire\"\"\"\n",
    "    process_name = multiprocessing.current_process().name\n",
    "    thread_name = threading.current_thread().name\n",
    "    print('Process Name: {}, Thread Name: {}'.format(\n",
    "        process_name, thread_name))\n",
    "    \n",
    "    time.sleep(4)\n",
    "\n",
    "\n",
    "def crunch_numbers():\n",
    "    \"\"\"Do some computations \"\"\"\n",
    "    process_name = multiprocessing.current_process().name\n",
    "    thread_name = threading.current_thread().name\n",
    "    print('Process Name: {}, Thread Name: {}'.format(\n",
    "        process_name, thread_name))\n",
    "\n",
    "    x = 0\n",
    "    while x < 10000000:\n",
    "        x += 1\n",
    "\n",
    "\n",
    "def experiment(target, n_workers):\n",
    "    \"\"\"\n",
    "    run the target function serially, using threads,\n",
    "    using process and output the run time\n",
    "    \"\"\"\n",
    "    # Run tasks serially\n",
    "    start_time = time.time()\n",
    "    for _ in range(n_workers):\n",
    "        target()\n",
    "    \n",
    "    end_time = time.time()\n",
    "    print(\"Serial time=\", end_time - start_time)\n",
    "    print()\n",
    "\n",
    "    # Run tasks using processes\n",
    "    start_time = time.time()\n",
    "    processes = [multiprocessing.Process(target = target) for _ in range(n_workers)]\n",
    "    for process in processes:\n",
    "        process.start()\n",
    "\n",
    "    for process in processes:\n",
    "        process.join()\n",
    "\n",
    "    end_time = time.time()\n",
    "    print(\"Parallel time=\", end_time - start_time)\n",
    "    print()\n",
    "\n",
    "    # Run tasks using threads\n",
    "    start_time = time.time()\n",
    "    threads = [threading.Thread(target = target) for _ in range(n_workers)]\n",
    "    for thread in threads:\n",
    "        thread.start()\n",
    "\n",
    "    for thread in threads:\n",
    "        thread.join()\n",
    "\n",
    "    end_time = time.time()\n",
    "    print(\"Threads time=\", end_time - start_time)"
   ]
  },
  {
   "cell_type": "code",
   "execution_count": 13,
   "metadata": {},
   "outputs": [
    {
     "name": "stdout",
     "output_type": "stream",
     "text": [
      "Process Name: MainProcess, Thread Name: MainThread\n",
      "Process Name: MainProcess, Thread Name: MainThread\n",
      "Process Name: MainProcess, Thread Name: MainThread\n",
      "Process Name: MainProcess, Thread Name: MainThread\n",
      "Process Name: MainProcess, Thread Name: MainThread\n",
      "Process Name: MainProcess, Thread Name: MainThread\n",
      "Process Name: MainProcess, Thread Name: MainThread\n",
      "Process Name: MainProcess, Thread Name: MainThread\n",
      "Serial time= 32.00231456756592\n",
      "\n",
      "Process Name: Process-13, Thread Name: MainThread\n",
      "Process Name: Process-14, Thread Name: MainThread\n",
      "Process Name: Process-15, Thread Name: MainThread\n",
      "Process Name: Process-16, Thread Name: MainThread\n",
      "Process Name: Process-17, Thread Name: MainThread\n",
      "Process Name: Process-18, Thread Name: MainThread\n",
      "Process Name: Process-19, Thread Name: MainThread\n",
      "Process Name: Process-20, Thread Name: MainThread\n",
      "Parallel time= 4.079246997833252\n",
      "\n",
      "Process Name: MainProcess, Thread Name: Thread-9 (only_sleep)\n",
      "Process Name: MainProcess, Thread Name: Thread-10 (only_sleep)\n",
      "Process Name: MainProcess, Thread Name: Thread-11 (only_sleep)\n",
      "Process Name: MainProcess, Thread Name: Thread-12 (only_sleep)\n",
      "Process Name: MainProcess, Thread Name: Thread-13 (only_sleep)\n",
      "Process Name: MainProcess, Thread Name: Thread-14 (only_sleep)\n",
      "Process Name: MainProcess, Thread Name: Thread-15 (only_sleep)\n",
      "Process Name: MainProcess, Thread Name: Thread-16 (only_sleep)\n",
      "Threads time= 4.002326011657715\n"
     ]
    }
   ],
   "source": [
    "n_workers = 8\n",
    "experiment(target = only_sleep, n_workers = n_workers)"
   ]
  },
  {
   "cell_type": "code",
   "execution_count": 14,
   "metadata": {},
   "outputs": [
    {
     "name": "stdout",
     "output_type": "stream",
     "text": [
      "Process Name: MainProcess, Thread Name: MainThread\n",
      "Process Name: MainProcess, Thread Name: MainThread\n",
      "Process Name: MainProcess, Thread Name: MainThread\n",
      "Process Name: MainProcess, Thread Name: MainThread\n",
      "Process Name: MainProcess, Thread Name: MainThread\n",
      "Process Name: MainProcess, Thread Name: MainThread\n",
      "Process Name: MainProcess, Thread Name: MainThread\n",
      "Process Name: MainProcess, Thread Name: MainThread\n",
      "Serial time= 2.924499750137329\n",
      "\n",
      "Process Name: Process-21, Thread Name: MainThread\n",
      "Process Name: Process-22, Thread Name: MainThreadProcess Name: Process-23, Thread Name: MainThread\n",
      "\n",
      "Process Name: Process-24, Thread Name: MainThread\n",
      "Process Name: Process-25, Thread Name: MainThreadProcess Name: Process-26, Thread Name: MainThread\n",
      "Process Name: Process-28, Thread Name: MainThread\n",
      "Process Name: Process-27, Thread Name: MainThread\n",
      "\n",
      "Parallel time= 0.5270814895629883\n",
      "\n",
      "Process Name: MainProcess, Thread Name: Thread-17 (crunch_numbers)\n",
      "Process Name: MainProcess, Thread Name: Thread-18 (crunch_numbers)\n",
      "Process Name: MainProcess, Thread Name: Thread-19 (crunch_numbers)\n",
      "Process Name: MainProcess, Thread Name: Thread-20 (crunch_numbers)\n",
      "Process Name: MainProcess, Thread Name: Thread-21 (crunch_numbers)\n",
      "Process Name: MainProcess, Thread Name: Thread-22 (crunch_numbers)\n",
      "Process Name: MainProcess, Thread Name: Thread-23 (crunch_numbers)\n",
      "Process Name: MainProcess, Thread Name: Thread-24 (crunch_numbers)\n",
      "Threads time= 1.6928043365478516\n"
     ]
    }
   ],
   "source": [
    "n_workers = 8\n",
    "experiment(target = crunch_numbers, n_workers = n_workers)"
   ]
  },
  {
   "cell_type": "code",
   "execution_count": null,
   "metadata": {},
   "outputs": [],
   "source": []
  }
 ],
 "metadata": {
  "kernelspec": {
   "display_name": "base",
   "language": "python",
   "name": "python3"
  },
  "language_info": {
   "codemirror_mode": {
    "name": "ipython",
    "version": 3
   },
   "file_extension": ".py",
   "mimetype": "text/x-python",
   "name": "python",
   "nbconvert_exporter": "python",
   "pygments_lexer": "ipython3",
   "version": "3.11.5"
  }
 },
 "nbformat": 4,
 "nbformat_minor": 2
}
