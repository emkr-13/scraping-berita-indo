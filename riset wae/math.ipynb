{
 "cells": [
  {
   "cell_type": "code",
   "execution_count": 15,
   "metadata": {},
   "outputs": [],
   "source": [
    "\n",
    "import requests\n",
    "from bs4 import BeautifulSoup\n",
    "import concurrent.futures\n",
    "\n",
    "## Example list of urls to scrape\n",
    "list_of_urls = [\n",
    "            'http://quotes.toscrape.com/page/1/',\n",
    "            'http://quotes.toscrape.com/page/2/',\n",
    "            'http://quotes.toscrape.com/page/3/',\n",
    "            'http://quotes.toscrape.com/page/4/',\n",
    "            'http://quotes.toscrape.com/page/5/',\n",
    "            ]\n",
    "\n",
    "output_data_list = []\n",
    "\n",
    "def scrape_page(url):\n",
    "    try:\n",
    "        response = requests.get(url)\n",
    "        if response.status_code == 200:\n",
    "            soup = BeautifulSoup(response.text, \"html.parser\")\n",
    "            title = soup.find('h1').text\n",
    "            \n",
    "            ## add scraped data to \"output_data_list\" list\n",
    "            output_data_list.append({\n",
    "                'title': title,\n",
    "            })\n",
    "            \n",
    "    except Exception as e:\n",
    "        print('Error', e)\n",
    "        \n",
    "        \n"
   ]
  },
  {
   "cell_type": "code",
   "execution_count": 19,
   "metadata": {},
   "outputs": [
    {
     "name": "stdout",
     "output_type": "stream",
     "text": [
      "[{'title': '\\nQuotes to Scrape\\n'}, {'title': '\\nQuotes to Scrape\\n'}, {'title': '\\nQuotes to Scrape\\n'}, {'title': '\\nQuotes to Scrape\\n'}, {'title': '\\nQuotes to Scrape\\n'}, {'title': '\\nQuotes to Scrape\\n'}, {'title': '\\nQuotes to Scrape\\n'}, {'title': '\\nQuotes to Scrape\\n'}, {'title': '\\nQuotes to Scrape\\n'}, {'title': '\\nQuotes to Scrape\\n'}, {'title': '\\nQuotes to Scrape\\n'}, {'title': '\\nQuotes to Scrape\\n'}, {'title': '\\nQuotes to Scrape\\n'}, {'title': '\\nQuotes to Scrape\\n'}, {'title': '\\nQuotes to Scrape\\n'}, {'title': '\\nQuotes to Scrape\\n'}, {'title': '\\nQuotes to Scrape\\n'}, {'title': '\\nQuotes to Scrape\\n'}, {'title': '\\nQuotes to Scrape\\n'}, {'title': '\\nQuotes to Scrape\\n'}]\n"
     ]
    }
   ],
   "source": [
    "with concurrent.futures.ThreadPoolExecutor(max_workers=900) as executor:\n",
    "    executor.map(scrape_page, list_of_urls)\n",
    "    \n",
    "print(output_data_list)\n"
   ]
  },
  {
   "cell_type": "code",
   "execution_count": 23,
   "metadata": {},
   "outputs": [],
   "source": [
    "from multiprocess import Process"
   ]
  },
  {
   "cell_type": "code",
   "execution_count": 25,
   "metadata": {},
   "outputs": [
    {
     "name": "stdout",
     "output_type": "stream",
     "text": [
      "nthreads=8\n",
      "ncores=4\n",
      "nthreads_per_core=2\n",
      "nthreads_available=8\n",
      "ncores_available=4\n"
     ]
    }
   ],
   "source": [
    "import multiprocessing as mp\n",
    "import os\n",
    "import psutil\n",
    "\n",
    "nthreads = psutil.cpu_count(logical=True)\n",
    "ncores = psutil.cpu_count(logical=False)\n",
    "nthreads_per_core = nthreads // ncores\n",
    "nthreads_available = len(os.sched_getaffinity(0))\n",
    "ncores_available = nthreads_available // nthreads_per_core\n",
    "\n",
    "assert nthreads == os.cpu_count()\n",
    "assert nthreads == mp.cpu_count()\n",
    "\n",
    "print(f'{nthreads=}')\n",
    "print(f'{ncores=}')\n",
    "print(f'{nthreads_per_core=}')\n",
    "print(f'{nthreads_available=}')\n",
    "print(f'{ncores_available=}')"
   ]
  },
  {
   "cell_type": "code",
   "execution_count": null,
   "metadata": {},
   "outputs": [],
   "source": []
  }
 ],
 "metadata": {
  "kernelspec": {
   "display_name": "base",
   "language": "python",
   "name": "python3"
  },
  "language_info": {
   "codemirror_mode": {
    "name": "ipython",
    "version": 3
   },
   "file_extension": ".py",
   "mimetype": "text/x-python",
   "name": "python",
   "nbconvert_exporter": "python",
   "pygments_lexer": "ipython3",
   "version": "3.11.4"
  }
 },
 "nbformat": 4,
 "nbformat_minor": 2
}
