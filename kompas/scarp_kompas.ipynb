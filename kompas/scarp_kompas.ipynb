{
 "cells": [
  {
   "cell_type": "markdown",
   "metadata": {},
   "source": [
    "## Scraping Kompas "
   ]
  },
  {
   "cell_type": "code",
   "execution_count": 16,
   "metadata": {},
   "outputs": [],
   "source": [
    "from bs4 import BeautifulSoup\n",
    "import requests\n",
    "import pandas as pd\n",
    "from datetime import datetime"
   ]
  },
  {
   "cell_type": "code",
   "execution_count": 17,
   "metadata": {},
   "outputs": [
    {
     "data": {
      "text/plain": [
       "<Response [200]>"
      ]
     },
     "execution_count": 17,
     "metadata": {},
     "output_type": "execute_result"
    }
   ],
   "source": [
    "url = \"https://indeks.kompas.com/?site=all\"\n",
    "response = requests.get(url)\n",
    "response"
   ]
  },
  {
   "cell_type": "code",
   "execution_count": 18,
   "metadata": {},
   "outputs": [
    {
     "name": "stdout",
     "output_type": "stream",
     "text": [
      "['https://regional.kompas.com/read/2023/09/24/231252078/lantik-tiga-pj-bupati-pj-gubernur-jateng-sampaikan-pesan-ini', 'https://regional.kompas.com/read/2023/09/24/231201278/mengenal-tradisi-sekaten-di-keraton-surakarta', 'https://www.kompas.com/sports/read/2023/09/24/22573948/alasan-messi-bikin-tato-logo-barcelona-di-kakinya', 'https://surabaya.kompas.com/read/2023/09/24/224931978/nama-khofifah-masuk-daftar-ketua-tim-sukses-prabowo', 'https://www.kompas.com/edu/read/2023/09/24/223715271/cek-20-lowongan-dosen-cpns-2023-di-ipdn-banyak-jurusan', 'https://edukasi.kompas.com/read/2023/09/24/223130771/hari-tani-nasional-24-september-ini-sejarah-dan-latar-belakangnya', 'https://www.kompas.com/sports/read/2023/09/24/22221898/semarang-10k-usung-tema-step-up-your-limit-total-hadiah-ratusan-juta', 'https://megapolitan.kompas.com/read/2023/09/24/22141891/4-motor-hilang-dalam-3-bulan-di-mampang-dicuri-karena-tak-pakai-kunci', 'https://regional.kompas.com/read/2023/09/24/221412878/kapal-kargo-terbakar-di-perairan-lampung-26-awak-dievakuasi', 'https://bola.kompas.com/read/2023/09/24/22105248/hasil-chelsea-vs-aston-villa-10-pemain-the-blues-tumbang-di-kandang', 'https://yogyakarta.kompas.com/read/2023/09/24/221038678/sekaten-hajad-dalem-keraton-yogyakarta-di-bulan-mulud', 'https://bola.kompas.com/read/2023/09/24/22055708/hasil-arsenal-vs-tottenham-saling-balas-gol-derbi-london-tuntas-2-2', 'https://money.kompas.com/read/2023/09/24/121023026/disebut-jebakan-china-berapa-bunga-utang-kereta-cepat', 'https://www.kompas.com/sports/read/2023/09/24/22002288/hasil-liverpool-vs-west-ham-menang-3-1-the-reds-tempel-man-city', 'https://www.kompas.com/edu/read/2023/09/24/215807071/cek-jalur-masuk-sma-kolese-loyola-dan-syarat-daftarnya', 'https://www.kompas.com/hype/read/2023/09/24/214635466/pedangdut-nassar-bikin-heboh-penonton-panjat-tiang-panggung', 'https://nasional.kompas.com/read/2023/09/24/21395241/konflik-agraria-era-jokowi-kpa-29-warga-tewas-perjuangkan-hak-atas-tanah', 'https://money.kompas.com/read/2023/09/24/104156026/stasiun-kereta-cepat-dikritik-jauh-dari-pusat-kota-di-negara-lain-bagaimana', 'https://edukasi.kompas.com/read/2023/09/24/213042071/geothermal-sumber-energi-terbarukan-dan-ramah-lingkungan', 'https://www.kompas.com/tren/read/2023/09/24/213000765/20-kutipan-inspiratif-malala-yousafzai-tokoh-penerima-nobel-perdamaian', 'https://money.kompas.com/read/2023/09/24/213000726/sidak-bandara-kertajati-kemenaker-cegah-keberangkatan-32-calon-pekerja-migran', 'https://www.kompas.com/global/read/2023/09/24/212700970/investigasi-ungkap-sejumlah-pekerja-migran-justru-jadi-korban-eksploitasi', 'https://makassar.kompas.com/read/2023/09/24/212649378/anies-baswedan-soroti-lemahnya-kepastian-hukum-di-indonesia', 'https://travel.kompas.com/read/2023/09/24/211840227/harga-tiket-motogp-mandalika-2023-paling-mahal-rp-15-juta', 'https://money.kompas.com/read/2023/09/24/211612426/simak-formasi-syarat-dan-cara-daftar-cpns-kejaksaan-ri-2023', 'https://money.kompas.com/read/2023/09/24/211000126/genjot-produktivitas-pupuk-indonesia-dorong-petani-manfaatkan-program-makmur', 'https://bandung.kompas.com/read/2023/09/24/210841078/sebelum-aniaya-mertua-hingga-tewas-wna-di-banjar-sempat-dilaporkan-karena', 'https://www.kompas.com/food/read/2023/09/24/210500475/4-khasiat-biji-nangka-dapat-kurangi-kadar-kolesterol', 'https://travel.kompas.com/read/2023/09/24/210100627/rute-ke-museum-petilasan-mbah-maridjan-bisa-dilalui-sepeda-motor', 'https://lifestyle.kompas.com/read/2023/09/24/210100320/cerita-elizabeth-francis-wanita-tertua-ke-2-di-as-berumur-114-tahun', 'https://www.kompas.com/properti/read/2023/09/24/210000021/siap-siap-bandara-vvip-di-ikn-mulai-dibangun-1-november', 'https://regional.kompas.com/read/2023/09/24/210000178/ayah-kandung-di-lampung-timur-tega-cabuli-anak-saat-istri-pergi-belanja', 'https://www.kompas.com/tren/read/2023/09/24/210000965/studi-baru--berangkat-tidur-antara-pukul-10-sampai-11-malam-bisa', 'https://bola.kompas.com/read/2023/09/24/20594288/hasil-liga-1-persija-jakarta-vs-bali-united-laga-imbang-1-1', 'https://www.kompas.com/edu/read/2023/09/24/205325971/mengenal-pola-asuh-otoritatif-dan-4-hal-yang-perlu-dilakukan-orangtua', 'https://bola.kompas.com/read/2023/09/24/20522448/babak-pertama-arsenal-vs-tottenham-diwarnai-gol-bunuh-diri-skor-1-1', 'https://www.kompas.com/sports/read/2023/09/24/20450878/sepak-bola-asian-games-timnas-u24-indonesia-lolos-16-besar-jumpa', 'https://bandung.kompas.com/read/2023/09/24/203907778/669-warga-bandung-barat-terkena-ispa-dampak-kebakaran-tpa-sarimukti-selama', 'https://www.kompas.com/edu/read/2023/09/24/203114671/ingin-masuk-ptn-2024-cek-20-prodi-terketat-snbp-2023', 'https://www.kompas.com/tren/read/2023/09/24/203000565/apa-penyebab-rem-blong-dan-bagaimana-cara-mengatasinya-ini-penjelasan-ahli']\n"
     ]
    }
   ],
   "source": [
    "links=[]\n",
    "# jumlah Page yang diambil \n",
    "jumlah_index = 1\n",
    "\n",
    "for index in range(jumlah_index):\n",
    "    url = f\"https://indeks.kompas.com/?site=all&page={index+1}\"  \n",
    "    response = requests.get(url)\n",
    "    soup = BeautifulSoup(response.text, \"html.parser\")\n",
    "    articles = soup.find_all('h3', {\"class\": \"article__title article__title--medium\"})\n",
    "    \n",
    "    for article in articles:\n",
    "        link = article.find('a')['href']\n",
    "        links.append(link)\n",
    "    \n",
    "print(links)"
   ]
  },
  {
   "cell_type": "code",
   "execution_count": 19,
   "metadata": {},
   "outputs": [],
   "source": [
    "title = []\n",
    "author = []\n",
    "date = []\n",
    "content = []\n",
    "\n",
    "for link in links:\n",
    "    url = link\n",
    "    response = requests.get(url)\n",
    "    soup = BeautifulSoup(response.text, \"html.parser\")\n",
    "    \n",
    "    title_elem = soup.find('h1', {\"class\": \"read__title\"})\n",
    "    if title_elem:\n",
    "        title_text = title_elem.text.strip()\n",
    "    else:\n",
    "        title_text = \"Title not found\"\n",
    "    title.append(title_text)\n",
    "    \n",
    "\n",
    "    author_elem = soup.find('div', {\"class\": \"credit-title-name\"})\n",
    "    if author_elem:\n",
    "        author_text = author_elem.text.strip()\n",
    "    else:\n",
    "        author_text = \"Author not found\"\n",
    "    author.append(author_text)\n",
    "    \n",
    "\n",
    "    date_elem = soup.find('div', {\"class\": \"read__time\"})\n",
    "    if date_elem:\n",
    "        date_text = date_elem.text.strip()\n",
    "    else:\n",
    "        date_text = \"Date not found\"\n",
    "    date.append(date_text)\n",
    "    \n",
    "    body_elem = soup.find('div', {\"class\": \"read__content\"})\n",
    "    \n",
    "    if body_elem:\n",
    "        content_elem = body_elem.find_all('p')\n",
    "        content_text = \"\"\n",
    "        for p in content_elem:\n",
    "            content_text += p.text.strip() + \"\\n\"\n",
    "        \n",
    "        if content_text.strip():\n",
    "            content.append(content_text)\n",
    "        else:\n",
    "            content.append(\"Content not found\")\n",
    "    else:\n",
    "        content.append(\"Content not found\")\n",
    "    \n",
    "    "
   ]
  },
  {
   "cell_type": "code",
   "execution_count": 20,
   "metadata": {},
   "outputs": [
    {
     "data": {
      "text/html": [
       "<div>\n",
       "<style scoped>\n",
       "    .dataframe tbody tr th:only-of-type {\n",
       "        vertical-align: middle;\n",
       "    }\n",
       "\n",
       "    .dataframe tbody tr th {\n",
       "        vertical-align: top;\n",
       "    }\n",
       "\n",
       "    .dataframe thead th {\n",
       "        text-align: right;\n",
       "    }\n",
       "</style>\n",
       "<table border=\"1\" class=\"dataframe\">\n",
       "  <thead>\n",
       "    <tr style=\"text-align: right;\">\n",
       "      <th></th>\n",
       "      <th>title</th>\n",
       "      <th>author</th>\n",
       "      <th>date</th>\n",
       "      <th>content</th>\n",
       "      <th>link</th>\n",
       "    </tr>\n",
       "  </thead>\n",
       "  <tbody>\n",
       "    <tr>\n",
       "      <th>0</th>\n",
       "      <td>Lantik Tiga Pj Bupati, Pj Gubernur Jateng Samp...</td>\n",
       "      <td>Titis Anis Fauziyah,\\nDita Angga Rusiana</td>\n",
       "      <td>Kompas.com - 24/09/2023, 23:12 WIB</td>\n",
       "      <td>SEMARANG, KOMPAS.com - Penjabat (Pj) Gubernur ...</td>\n",
       "      <td>https://regional.kompas.com/read/2023/09/24/23...</td>\n",
       "    </tr>\n",
       "    <tr>\n",
       "      <th>1</th>\n",
       "      <td>Mengenal Tradisi Sekaten di Keraton Surakarta</td>\n",
       "      <td>Puspasari Setyaningrum</td>\n",
       "      <td>Kompas.com - 24/09/2023, 23:12 WIB</td>\n",
       "      <td>\\nKOMPAS.com - Sekaten merupakan salah satu tr...</td>\n",
       "      <td>https://regional.kompas.com/read/2023/09/24/23...</td>\n",
       "    </tr>\n",
       "    <tr>\n",
       "      <th>2</th>\n",
       "      <td>Alasan Messi Bikin Tato Logo Barcelona di Kakinya</td>\n",
       "      <td>Ervan Yudhi Tri Atmoko</td>\n",
       "      <td>Kompas.com - 24/09/2023, 22:57 WIB</td>\n",
       "      <td>\\nKOMPAS.com - Lionel Messi memiliki tato logo...</td>\n",
       "      <td>https://www.kompas.com/sports/read/2023/09/24/...</td>\n",
       "    </tr>\n",
       "    <tr>\n",
       "      <th>3</th>\n",
       "      <td>Nama Khofifah Masuk Daftar Ketua Tim Sukses Pr...</td>\n",
       "      <td>Achmad Faizal,\\nDita Angga Rusiana</td>\n",
       "      <td>Kompas.com - 24/09/2023, 22:49 WIB</td>\n",
       "      <td>SURABAYA, KOMPAS.com - Nama Gubernur Jawa Timu...</td>\n",
       "      <td>https://surabaya.kompas.com/read/2023/09/24/22...</td>\n",
       "    </tr>\n",
       "    <tr>\n",
       "      <th>4</th>\n",
       "      <td>Cek 20 Lowongan Dosen CPNS 2023 di IPDN, Banya...</td>\n",
       "      <td>Sandra Desi Caesaria,\\nAlbertus Adit</td>\n",
       "      <td>Kompas.com - 24/09/2023, 22:37 WIB</td>\n",
       "      <td>\\nKOMPAS.com - Kementerian Dalam Negeri atau K...</td>\n",
       "      <td>https://www.kompas.com/edu/read/2023/09/24/223...</td>\n",
       "    </tr>\n",
       "  </tbody>\n",
       "</table>\n",
       "</div>"
      ],
      "text/plain": [
       "                                               title  \\\n",
       "0  Lantik Tiga Pj Bupati, Pj Gubernur Jateng Samp...   \n",
       "1      Mengenal Tradisi Sekaten di Keraton Surakarta   \n",
       "2  Alasan Messi Bikin Tato Logo Barcelona di Kakinya   \n",
       "3  Nama Khofifah Masuk Daftar Ketua Tim Sukses Pr...   \n",
       "4  Cek 20 Lowongan Dosen CPNS 2023 di IPDN, Banya...   \n",
       "\n",
       "                                     author  \\\n",
       "0  Titis Anis Fauziyah,\\nDita Angga Rusiana   \n",
       "1                    Puspasari Setyaningrum   \n",
       "2                    Ervan Yudhi Tri Atmoko   \n",
       "3        Achmad Faizal,\\nDita Angga Rusiana   \n",
       "4      Sandra Desi Caesaria,\\nAlbertus Adit   \n",
       "\n",
       "                                 date  \\\n",
       "0  Kompas.com - 24/09/2023, 23:12 WIB   \n",
       "1  Kompas.com - 24/09/2023, 23:12 WIB   \n",
       "2  Kompas.com - 24/09/2023, 22:57 WIB   \n",
       "3  Kompas.com - 24/09/2023, 22:49 WIB   \n",
       "4  Kompas.com - 24/09/2023, 22:37 WIB   \n",
       "\n",
       "                                             content  \\\n",
       "0  SEMARANG, KOMPAS.com - Penjabat (Pj) Gubernur ...   \n",
       "1  \\nKOMPAS.com - Sekaten merupakan salah satu tr...   \n",
       "2  \\nKOMPAS.com - Lionel Messi memiliki tato logo...   \n",
       "3  SURABAYA, KOMPAS.com - Nama Gubernur Jawa Timu...   \n",
       "4  \\nKOMPAS.com - Kementerian Dalam Negeri atau K...   \n",
       "\n",
       "                                                link  \n",
       "0  https://regional.kompas.com/read/2023/09/24/23...  \n",
       "1  https://regional.kompas.com/read/2023/09/24/23...  \n",
       "2  https://www.kompas.com/sports/read/2023/09/24/...  \n",
       "3  https://surabaya.kompas.com/read/2023/09/24/22...  \n",
       "4  https://www.kompas.com/edu/read/2023/09/24/223...  "
      ]
     },
     "execution_count": 20,
     "metadata": {},
     "output_type": "execute_result"
    }
   ],
   "source": [
    "data = {'title': title,\n",
    "        'author' : author,\n",
    "        'date': date,\n",
    "        'content' : content,\n",
    "        'link' : links\n",
    "        }\n",
    "\n",
    "df = pd.DataFrame(data)\n",
    "\n",
    "df.head()"
   ]
  },
  {
   "cell_type": "markdown",
   "metadata": {},
   "source": [
    "Simpan Data "
   ]
  },
  {
   "cell_type": "code",
   "execution_count": 21,
   "metadata": {},
   "outputs": [
    {
     "name": "stdout",
     "output_type": "stream",
     "text": [
      "Data has been saved to ./excel/kompas_2023-09-24_23-18-21.xlsx\n"
     ]
    }
   ],
   "source": [
    "current_datetime = datetime.now().strftime(\"%Y-%m-%d_%H-%M-%S\")\n",
    "excel_file_name = f'./excel/kompas_{current_datetime}.xlsx'\n",
    "df.to_excel(excel_file_name, index=False)\n",
    "\n",
    "print(f'Data has been saved to {excel_file_name}')"
   ]
  }
 ],
 "metadata": {
  "kernelspec": {
   "display_name": "base",
   "language": "python",
   "name": "python3"
  },
  "language_info": {
   "codemirror_mode": {
    "name": "ipython",
    "version": 3
   },
   "file_extension": ".py",
   "mimetype": "text/x-python",
   "name": "python",
   "nbconvert_exporter": "python",
   "pygments_lexer": "ipython3",
   "version": "3.11.4"
  },
  "orig_nbformat": 4
 },
 "nbformat": 4,
 "nbformat_minor": 2
}
