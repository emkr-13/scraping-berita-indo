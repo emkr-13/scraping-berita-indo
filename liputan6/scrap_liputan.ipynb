{
 "cells": [
  {
   "cell_type": "markdown",
   "metadata": {},
   "source": [
    "## Scarping Liputan 6"
   ]
  },
  {
   "cell_type": "code",
   "execution_count": 28,
   "metadata": {},
   "outputs": [],
   "source": [
    "from bs4 import BeautifulSoup\n",
    "import requests\n",
    "import pandas as pd\n",
    "from datetime import datetime"
   ]
  },
  {
   "cell_type": "code",
   "execution_count": 29,
   "metadata": {},
   "outputs": [
    {
     "data": {
      "text/plain": [
       "<Response [200]>"
      ]
     },
     "execution_count": 29,
     "metadata": {},
     "output_type": "execute_result"
    }
   ],
   "source": [
    "url = \"https://www.liputan6.com/indeks\"\n",
    "response = requests.get(url)\n",
    "response"
   ]
  },
  {
   "cell_type": "code",
   "execution_count": 30,
   "metadata": {},
   "outputs": [
    {
     "name": "stdout",
     "output_type": "stream",
     "text": [
      "https://www.liputan6.com/indeks?page=1\n",
      "https://www.liputan6.com/indeks?page=2\n",
      "https://www.liputan6.com/indeks?page=3\n",
      "https://www.liputan6.com/indeks?page=4\n",
      "https://www.liputan6.com/indeks?page=5\n",
      "https://www.liputan6.com/indeks?page=6\n",
      "https://www.liputan6.com/indeks?page=7\n",
      "https://www.liputan6.com/indeks?page=8\n",
      "https://www.liputan6.com/indeks?page=9\n",
      "https://www.liputan6.com/indeks?page=10\n",
      "['https://www.liputan6.com/news/read/5406379/kaesang-dikabarkan-jadi-ketua-umum-psi-bisa-dicap-proses-kaderisasi-partainya-tidak-jelas', 'https://www.liputan6.com/news/read/5406349/kualitas-udara-jakarta-peringkat-ke-6-terburuk-di-dunia-senin-pagi-25-september-2023', 'https://www.liputan6.com/news/read/5406288/lima-lokasi-sim-keliling-di-jakarta-senin-25-september-2023', 'https://www.liputan6.com/news/read/5406279/siskaeee-diperiksa-penyidik-polda-metro-jaya-hari-ini-terkait-film-porno', 'https://www.liputan6.com/news/read/5406266/kongres-pwi-xxv-diharapkan-jauh-dari-politik-transaksional', 'https://www.liputan6.com/news/read/5406206/sayangkan-kericuhan-di-pasar-kutabumi-tangerang-pj-bupati-harusnya-kedepankan-sisi-humanis', 'https://www.liputan6.com/news/read/5406169/diduga-hendak-tawuran-12-remaja-bersajam-diciduk-polisi-di-jakbar', 'https://www.liputan6.com/news/read/5406162/ini-strategi-prabowo-atasi-masalah-air-bersih-dan-pupuk', 'https://www.liputan6.com/news/read/5406199/presiden-jokowi-dijadwalkan-buka-kongres-xxv-pwi-pusat-di-istana-negara']\n"
     ]
    }
   ],
   "source": [
    "links=[]\n",
    "# jumlah Page yang diambil \n",
    "jumlah_index = 10\n",
    "\n",
    "for index in range(jumlah_index):\n",
    "    url = f\"https://www.liputan6.com/indeks?page={index+1}\"  \n",
    "    # print(url)\n",
    "    response = requests.get(url)\n",
    "    soup = BeautifulSoup(response.text, \"html.parser\")\n",
    "    articles = soup.find_all('h4', {\"articles--rows--item__title\"})\n",
    "    \n",
    "    for article in articles:\n",
    "        link = article.find('a')['href']\n",
    "        links.append(link)\n",
    "    \n",
    "print(links)"
   ]
  },
  {
   "cell_type": "code",
   "execution_count": 31,
   "metadata": {},
   "outputs": [],
   "source": [
    "title = []\n",
    "author = []\n",
    "date = []\n",
    "content = []\n",
    "\n",
    "for link in links:\n",
    "    url = link\n",
    "    response = requests.get(url)\n",
    "    soup = BeautifulSoup(response.text, \"html.parser\")\n",
    "    \n",
    "    title_elem = soup.find('h1', {\"class\": \"read-page--header--title entry-title\"})\n",
    "    if title_elem:\n",
    "        title_text = title_elem.text.strip()\n",
    "    else:\n",
    "        title_text = \"Title not found\"\n",
    "    title.append(title_text)\n",
    "    \n",
    "\n",
    "    author_elem = soup.find('span', {\"class\": \"read-page--header--author__name fn\"})\n",
    "    if author_elem:\n",
    "        author_text = author_elem.text.strip()\n",
    "    else:\n",
    "        author_text = \"Author not found\"\n",
    "    author.append(author_text)\n",
    "    \n",
    "\n",
    "    date_elem = soup.find('p', {\"class\": \"read-page--header--author__datetime-wrapper\"})\n",
    "    if date_elem:\n",
    "        date_text = date_elem.text.strip()\n",
    "    else:\n",
    "        date_text = \"Date not found\"\n",
    "    date.append(date_text)\n",
    "    \n",
    "    body_elem = soup.find('div', {\"class\": \"article-content-body__item-content\"})\n",
    "    \n",
    "    if body_elem:\n",
    "        content_elem = body_elem.find_all('p')\n",
    "        content_text = \"\"\n",
    "        for p in content_elem:\n",
    "            content_text += p.text.strip() + \"\\n\"\n",
    "        \n",
    "        if content_text.strip():\n",
    "            content.append(content_text)\n",
    "        else:\n",
    "            content.append(\"Content not found\")\n",
    "    else:\n",
    "        content.append(\"Content not found\")\n",
    "    \n",
    "    "
   ]
  },
  {
   "cell_type": "code",
   "execution_count": 32,
   "metadata": {},
   "outputs": [
    {
     "data": {
      "text/html": [
       "<div>\n",
       "<style scoped>\n",
       "    .dataframe tbody tr th:only-of-type {\n",
       "        vertical-align: middle;\n",
       "    }\n",
       "\n",
       "    .dataframe tbody tr th {\n",
       "        vertical-align: top;\n",
       "    }\n",
       "\n",
       "    .dataframe thead th {\n",
       "        text-align: right;\n",
       "    }\n",
       "</style>\n",
       "<table border=\"1\" class=\"dataframe\">\n",
       "  <thead>\n",
       "    <tr style=\"text-align: right;\">\n",
       "      <th></th>\n",
       "      <th>title</th>\n",
       "      <th>author</th>\n",
       "      <th>date</th>\n",
       "      <th>content</th>\n",
       "      <th>link</th>\n",
       "    </tr>\n",
       "  </thead>\n",
       "  <tbody>\n",
       "    <tr>\n",
       "      <th>0</th>\n",
       "      <td>Kaesang Dikabarkan Jadi Ketua Umum PSI, Bisa D...</td>\n",
       "      <td>Putu Merta Surya Putra</td>\n",
       "      <td>Diperbarui 25 Sep 2023, 09:45 WIBDiterbitkan 2...</td>\n",
       "      <td>Liputan6.com, Jakarta Bergabungnya putra Presi...</td>\n",
       "      <td>https://www.liputan6.com/news/read/5406379/kae...</td>\n",
       "    </tr>\n",
       "    <tr>\n",
       "      <th>1</th>\n",
       "      <td>Kualitas Udara Jakarta Peringkat ke-6 Terburuk...</td>\n",
       "      <td>Nafiysul Qodar</td>\n",
       "      <td>Diperbarui 25 Sep 2023, 09:01 WIBDiterbitkan 2...</td>\n",
       "      <td>Liputan6.com, Jakarta - Kualitas udara di Jaka...</td>\n",
       "      <td>https://www.liputan6.com/news/read/5406349/kua...</td>\n",
       "    </tr>\n",
       "    <tr>\n",
       "      <th>2</th>\n",
       "      <td>Lima Lokasi SIM Keliling di Jakarta Senin 25 S...</td>\n",
       "      <td>Aries Setiawan</td>\n",
       "      <td>Diperbarui 25 Sep 2023, 07:00 WIBDiterbitkan 2...</td>\n",
       "      <td>Liputan6.com, Jakarta Direktorat Lalu Lintas (...</td>\n",
       "      <td>https://www.liputan6.com/news/read/5406288/lim...</td>\n",
       "    </tr>\n",
       "    <tr>\n",
       "      <th>3</th>\n",
       "      <td>Siskaeee Diperiksa Penyidik Polda Metro Jaya H...</td>\n",
       "      <td>Aries Setiawan</td>\n",
       "      <td>Diperbarui 25 Sep 2023, 06:20 WIBDiterbitkan 2...</td>\n",
       "      <td>Liputan6.com, Jakarta Selebgram Siskaeee akan ...</td>\n",
       "      <td>https://www.liputan6.com/news/read/5406279/sis...</td>\n",
       "    </tr>\n",
       "    <tr>\n",
       "      <th>4</th>\n",
       "      <td>Kongres PWI XXV Diharapkan Jauh dari Politik T...</td>\n",
       "      <td>Aries Setiawan</td>\n",
       "      <td>Diperbarui 25 Sep 2023, 05:45 WIBDiterbitkan 2...</td>\n",
       "      <td>Liputan6.com, Jakarta Ketua Dewan Kehormatan P...</td>\n",
       "      <td>https://www.liputan6.com/news/read/5406266/kon...</td>\n",
       "    </tr>\n",
       "  </tbody>\n",
       "</table>\n",
       "</div>"
      ],
      "text/plain": [
       "                                               title                  author  \\\n",
       "0  Kaesang Dikabarkan Jadi Ketua Umum PSI, Bisa D...  Putu Merta Surya Putra   \n",
       "1  Kualitas Udara Jakarta Peringkat ke-6 Terburuk...          Nafiysul Qodar   \n",
       "2  Lima Lokasi SIM Keliling di Jakarta Senin 25 S...          Aries Setiawan   \n",
       "3  Siskaeee Diperiksa Penyidik Polda Metro Jaya H...          Aries Setiawan   \n",
       "4  Kongres PWI XXV Diharapkan Jauh dari Politik T...          Aries Setiawan   \n",
       "\n",
       "                                                date  \\\n",
       "0  Diperbarui 25 Sep 2023, 09:45 WIBDiterbitkan 2...   \n",
       "1  Diperbarui 25 Sep 2023, 09:01 WIBDiterbitkan 2...   \n",
       "2  Diperbarui 25 Sep 2023, 07:00 WIBDiterbitkan 2...   \n",
       "3  Diperbarui 25 Sep 2023, 06:20 WIBDiterbitkan 2...   \n",
       "4  Diperbarui 25 Sep 2023, 05:45 WIBDiterbitkan 2...   \n",
       "\n",
       "                                             content  \\\n",
       "0  Liputan6.com, Jakarta Bergabungnya putra Presi...   \n",
       "1  Liputan6.com, Jakarta - Kualitas udara di Jaka...   \n",
       "2  Liputan6.com, Jakarta Direktorat Lalu Lintas (...   \n",
       "3  Liputan6.com, Jakarta Selebgram Siskaeee akan ...   \n",
       "4  Liputan6.com, Jakarta Ketua Dewan Kehormatan P...   \n",
       "\n",
       "                                                link  \n",
       "0  https://www.liputan6.com/news/read/5406379/kae...  \n",
       "1  https://www.liputan6.com/news/read/5406349/kua...  \n",
       "2  https://www.liputan6.com/news/read/5406288/lim...  \n",
       "3  https://www.liputan6.com/news/read/5406279/sis...  \n",
       "4  https://www.liputan6.com/news/read/5406266/kon...  "
      ]
     },
     "execution_count": 32,
     "metadata": {},
     "output_type": "execute_result"
    }
   ],
   "source": [
    "data = {'title': title,\n",
    "        'author' : author,\n",
    "        'date': date,\n",
    "        'content' : content,\n",
    "        'link' : links\n",
    "        }\n",
    "df = pd.DataFrame(data)\n",
    "\n",
    "df.head()"
   ]
  },
  {
   "cell_type": "markdown",
   "metadata": {},
   "source": [
    "Tempat Save File"
   ]
  },
  {
   "cell_type": "code",
   "execution_count": 33,
   "metadata": {},
   "outputs": [
    {
     "name": "stdout",
     "output_type": "stream",
     "text": [
      "Data has been saved to ./excel/liputan6_2023-09-25_09-47-58.xlsx\n"
     ]
    }
   ],
   "source": [
    "current_datetime = datetime.now().strftime(\"%Y-%m-%d_%H-%M-%S\")\n",
    "excel_file_name = f'./excel/liputan6_{current_datetime}.xlsx'\n",
    "df.to_excel(excel_file_name, index=False)\n",
    "\n",
    "print(f'Data has been saved to {excel_file_name}')"
   ]
  },
  {
   "cell_type": "code",
   "execution_count": 34,
   "metadata": {},
   "outputs": [
    {
     "name": "stdout",
     "output_type": "stream",
     "text": [
      "Kericuhan Pasar Kutabumi Tangerang, Polisi Minta Para Pelaku Serahkan Diri\n"
     ]
    }
   ],
   "source": [
    "# Tempat Latihan and Pengecek\n",
    "url = \"https://www.liputan6.com/news/read/5406182/kericuhan-pasar-kutabumi-tangerang-polisi-minta-para-pelaku-serahkan-diri\"\n",
    "response = requests.get(url)\n",
    "soup = BeautifulSoup(response.text, \"html.parser\")\n",
    "title_elem = soup.find('h1', {\"class\": \"read-page--header--title entry-title\"})\n",
    "print(title_elem.text)\n"
   ]
  },
  {
   "cell_type": "code",
   "execution_count": null,
   "metadata": {},
   "outputs": [],
   "source": []
  }
 ],
 "metadata": {
  "kernelspec": {
   "display_name": "base",
   "language": "python",
   "name": "python3"
  },
  "language_info": {
   "codemirror_mode": {
    "name": "ipython",
    "version": 3
   },
   "file_extension": ".py",
   "mimetype": "text/x-python",
   "name": "python",
   "nbconvert_exporter": "python",
   "pygments_lexer": "ipython3",
   "version": "3.11.4"
  },
  "orig_nbformat": 4
 },
 "nbformat": 4,
 "nbformat_minor": 2
}
