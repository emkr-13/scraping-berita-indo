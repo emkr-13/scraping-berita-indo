{
 "cells": [
  {
   "cell_type": "markdown",
   "metadata": {},
   "source": [
    "## Scarping Liputan 6"
   ]
  },
  {
   "cell_type": "code",
   "execution_count": 10,
   "metadata": {},
   "outputs": [],
   "source": [
    "from bs4 import BeautifulSoup\n",
    "import requests\n",
    "import pandas as pd\n",
    "from datetime import datetime"
   ]
  },
  {
   "cell_type": "code",
   "execution_count": 11,
   "metadata": {},
   "outputs": [
    {
     "data": {
      "text/plain": [
       "<Response [200]>"
      ]
     },
     "execution_count": 11,
     "metadata": {},
     "output_type": "execute_result"
    }
   ],
   "source": [
    "url = \"https://www.liputan6.com/indeks\"\n",
    "response = requests.get(url)\n",
    "response"
   ]
  },
  {
   "cell_type": "code",
   "execution_count": 12,
   "metadata": {},
   "outputs": [
    {
     "name": "stdout",
     "output_type": "stream",
     "text": [
      "['https://www.liputan6.com/news/read/5406182/kericuhan-pasar-kutabumi-tangerang-polisi-minta-para-pelaku-serahkan-diri', 'https://www.liputan6.com/news/read/5406186/tokoh-senior-ppp-berkumpul-mardiono-diapresiasi-karena-hidupkan-semangat-para-kader', 'https://www.liputan6.com/news/read/5406159/anies-baswedan-bicara-peran-pkk-dalam-penanganan-stunting-di-unhas-makassar', 'https://www.liputan6.com/news/read/5406153/kericuhan-terjadi-di-pasar-kutabumi-tangerang-barang-dan-uang-pedagang-dijarah', 'https://www.liputan6.com/news/read/5406137/gubernur-al-haris-terima-kasih-mendag-sudah-datang-ke-jambi-masyarakat-senang', 'https://www.liputan6.com/news/read/5406122/asap-misterius-keluar-dari-kotak-suara-saat-pilkades-kabupaten-tangerang', 'https://www.liputan6.com/news/read/5406132/polda-metro-jaya-bongkar-prostitusi-anak-tarif-rp15-juta-hingga-rp8-juta-per-jam', 'https://www.liputan6.com/news/read/5406127/psi-gelar-kopdarnas-bahas-aspirasi-kaesang-pangarep-jadi-ketua-umum-senin-25-september-2023', 'https://www.liputan6.com/news/read/5406112/mendag-zulhas-apresiasi-peran-mta-yang-terus-bantu-pemerintah', 'https://www.liputan6.com/news/read/5406110/kasus-industri-film-porno-selebgram-siskaeee-diperiksa-besok-senin-25-september', 'https://www.liputan6.com/news/read/5406099/tidak-ingin-kasus-ferdy-sambo-terulang-propam-polri-ikut-usut-kematian-walpri-kapolda-kaltara', 'https://www.liputan6.com/news/read/5406179/bpkh-raih-penghargaan-bergengsi-top-50-kartini-humas-indonesia', 'https://www.liputan6.com/news/read/5406054/polisi-pastikan-korban-tewas-dalam-kecelakaan-di-exit-tol-bawen-ada-3-orang', 'https://www.liputan6.com/news/read/5406036/dlh-dki-jakarta-klaim-emisi-karbon-turun-8647-ton-pada-hari-ozon-sedunia', 'https://www.liputan6.com/news/read/5406026/peringati-hari-tani-nasional-jokowi-apresiasi-kerja-keras-petani-hadapi-kemarau-dan-el-nino', 'https://www.liputan6.com/news/read/5406010/tni-polri-tangkap-anggota-kkb-dan-sita-3-senjata-rakitan-di-bintuni-papua-barat', 'https://www.liputan6.com/news/read/5406006/kpk-yakin-eks-dirut-pertamina-karen-agustiawan-lakukan-korupsi-pengadaan-gas-alam-cair', 'https://www.liputan6.com/news/read/5406008/ketum-pan-zulkifli-hasan-dan-desy-ratnasari-bagikan-beras-gratis-di-solo', 'https://www.liputan6.com/news/read/5406100/ganjar-siap-beri-solusi-soal-jualan-online-yang-digadang-matikan-pembeli-pasar-tradisional', 'https://www.liputan6.com/news/read/5405980/bp-batam-ungkap-keuntungan-yang-didapat-masyarakat-terkait-investasi-di-pulau-rempang']\n"
     ]
    }
   ],
   "source": [
    "links=[]\n",
    "# jumlah Page yang diambil \n",
    "jumlah_index = 1\n",
    "\n",
    "for index in range(jumlah_index):\n",
    "    url = f\"https://www.liputan6.com/indeks?page={index+1}\"  \n",
    "    response = requests.get(url)\n",
    "    soup = BeautifulSoup(response.text, \"html.parser\")\n",
    "    articles = soup.find_all('h4', {\"articles--rows--item__title\"})\n",
    "    \n",
    "    for article in articles:\n",
    "        link = article.find('a')['href']\n",
    "        links.append(link)\n",
    "    \n",
    "print(links)"
   ]
  },
  {
   "cell_type": "code",
   "execution_count": 13,
   "metadata": {},
   "outputs": [],
   "source": [
    "title = []\n",
    "author = []\n",
    "date = []\n",
    "content = []\n",
    "\n",
    "for link in links:\n",
    "    url = link\n",
    "    response = requests.get(url)\n",
    "    soup = BeautifulSoup(response.text, \"html.parser\")\n",
    "    \n",
    "    title_elem = soup.find('h1', {\"class\": \"article-header__title\"})\n",
    "    if title_elem:\n",
    "        title_text = title_elem.text.strip()\n",
    "    else:\n",
    "        title_text = \"Title not found\"\n",
    "    title.append(title_text)\n",
    "    \n",
    "\n",
    "    author_elem = soup.find('span', {\"class\": \"read-page--header--author__name fn\"})\n",
    "    if author_elem:\n",
    "        author_text = author_elem.text.strip()\n",
    "    else:\n",
    "        author_text = \"Author not found\"\n",
    "    author.append(author_text)\n",
    "    \n",
    "\n",
    "    date_elem = soup.find('p', {\"class\": \"read-page--header--author__datetime-wrapper\"})\n",
    "    if date_elem:\n",
    "        date_text = date_elem.text.strip()\n",
    "    else:\n",
    "        date_text = \"Date not found\"\n",
    "    date.append(date_text)\n",
    "    \n",
    "    body_elem = soup.find('div', {\"class\": \"article-content-body__item-content\"})\n",
    "    \n",
    "    if body_elem:\n",
    "        content_elem = body_elem.find_all('p')\n",
    "        content_text = \"\"\n",
    "        for p in content_elem:\n",
    "            content_text += p.text.strip() + \"\\n\"\n",
    "        \n",
    "        if content_text.strip():\n",
    "            content.append(content_text)\n",
    "        else:\n",
    "            content.append(\"Content not found\")\n",
    "    else:\n",
    "        content.append(\"Content not found\")\n",
    "    \n",
    "    "
   ]
  },
  {
   "cell_type": "code",
   "execution_count": 14,
   "metadata": {},
   "outputs": [
    {
     "data": {
      "text/html": [
       "<div>\n",
       "<style scoped>\n",
       "    .dataframe tbody tr th:only-of-type {\n",
       "        vertical-align: middle;\n",
       "    }\n",
       "\n",
       "    .dataframe tbody tr th {\n",
       "        vertical-align: top;\n",
       "    }\n",
       "\n",
       "    .dataframe thead th {\n",
       "        text-align: right;\n",
       "    }\n",
       "</style>\n",
       "<table border=\"1\" class=\"dataframe\">\n",
       "  <thead>\n",
       "    <tr style=\"text-align: right;\">\n",
       "      <th></th>\n",
       "      <th>title</th>\n",
       "      <th>author</th>\n",
       "      <th>date</th>\n",
       "      <th>content</th>\n",
       "      <th>link</th>\n",
       "    </tr>\n",
       "  </thead>\n",
       "  <tbody>\n",
       "    <tr>\n",
       "      <th>0</th>\n",
       "      <td>Title not found</td>\n",
       "      <td>Pramita Tristiawati</td>\n",
       "      <td>Diperbarui 24 Sep 2023, 23:00 WIBDiterbitkan 2...</td>\n",
       "      <td>Liputan6.com, Jakarta - Aparat Kepolisian memi...</td>\n",
       "      <td>https://www.liputan6.com/news/read/5406182/ker...</td>\n",
       "    </tr>\n",
       "    <tr>\n",
       "      <th>1</th>\n",
       "      <td>Title not found</td>\n",
       "      <td>Liputan6.com</td>\n",
       "      <td>Diperbarui 24 Sep 2023, 22:00 WIBDiterbitkan 2...</td>\n",
       "      <td>Liputan6.com, Jakarta - Plt Ketua Umum Partai ...</td>\n",
       "      <td>https://www.liputan6.com/news/read/5406186/tok...</td>\n",
       "    </tr>\n",
       "    <tr>\n",
       "      <th>2</th>\n",
       "      <td>Title not found</td>\n",
       "      <td>Liputan6.com</td>\n",
       "      <td>Diperbarui 24 Sep 2023, 21:00 WIBDiterbitkan 2...</td>\n",
       "      <td>Liputan6.com, Jakarta - Bakal calon Presiden (...</td>\n",
       "      <td>https://www.liputan6.com/news/read/5406159/ani...</td>\n",
       "    </tr>\n",
       "    <tr>\n",
       "      <th>3</th>\n",
       "      <td>Title not found</td>\n",
       "      <td>Pramita Tristiawati</td>\n",
       "      <td>Diperbarui 24 Sep 2023, 20:38 WIBDiterbitkan 2...</td>\n",
       "      <td>Liputan6.com, Jakarta Sebuah video yang memper...</td>\n",
       "      <td>https://www.liputan6.com/news/read/5406153/ker...</td>\n",
       "    </tr>\n",
       "    <tr>\n",
       "      <th>4</th>\n",
       "      <td>Title not found</td>\n",
       "      <td>Elza Hayarana Sahira</td>\n",
       "      <td>Diperbarui 24 Sep 2023, 20:09 WIBDiterbitkan 2...</td>\n",
       "      <td>Liputan6.com, Jakarta - Gubernur Jambi Al Harr...</td>\n",
       "      <td>https://www.liputan6.com/news/read/5406137/gub...</td>\n",
       "    </tr>\n",
       "  </tbody>\n",
       "</table>\n",
       "</div>"
      ],
      "text/plain": [
       "             title                author  \\\n",
       "0  Title not found   Pramita Tristiawati   \n",
       "1  Title not found          Liputan6.com   \n",
       "2  Title not found          Liputan6.com   \n",
       "3  Title not found   Pramita Tristiawati   \n",
       "4  Title not found  Elza Hayarana Sahira   \n",
       "\n",
       "                                                date  \\\n",
       "0  Diperbarui 24 Sep 2023, 23:00 WIBDiterbitkan 2...   \n",
       "1  Diperbarui 24 Sep 2023, 22:00 WIBDiterbitkan 2...   \n",
       "2  Diperbarui 24 Sep 2023, 21:00 WIBDiterbitkan 2...   \n",
       "3  Diperbarui 24 Sep 2023, 20:38 WIBDiterbitkan 2...   \n",
       "4  Diperbarui 24 Sep 2023, 20:09 WIBDiterbitkan 2...   \n",
       "\n",
       "                                             content  \\\n",
       "0  Liputan6.com, Jakarta - Aparat Kepolisian memi...   \n",
       "1  Liputan6.com, Jakarta - Plt Ketua Umum Partai ...   \n",
       "2  Liputan6.com, Jakarta - Bakal calon Presiden (...   \n",
       "3  Liputan6.com, Jakarta Sebuah video yang memper...   \n",
       "4  Liputan6.com, Jakarta - Gubernur Jambi Al Harr...   \n",
       "\n",
       "                                                link  \n",
       "0  https://www.liputan6.com/news/read/5406182/ker...  \n",
       "1  https://www.liputan6.com/news/read/5406186/tok...  \n",
       "2  https://www.liputan6.com/news/read/5406159/ani...  \n",
       "3  https://www.liputan6.com/news/read/5406153/ker...  \n",
       "4  https://www.liputan6.com/news/read/5406137/gub...  "
      ]
     },
     "execution_count": 14,
     "metadata": {},
     "output_type": "execute_result"
    }
   ],
   "source": [
    "data = {'title': title,\n",
    "        'author' : author,\n",
    "        'date': date,\n",
    "        'content' : content,\n",
    "        'link' : links\n",
    "        }\n",
    "df = pd.DataFrame(data)\n",
    "\n",
    "df.head()"
   ]
  },
  {
   "cell_type": "markdown",
   "metadata": {},
   "source": [
    "Tempat Save File"
   ]
  },
  {
   "cell_type": "code",
   "execution_count": 15,
   "metadata": {},
   "outputs": [
    {
     "name": "stdout",
     "output_type": "stream",
     "text": [
      "Data has been saved to ./excel/liputan6_2023-09-24_23-46-55.xlsx\n"
     ]
    }
   ],
   "source": [
    "current_datetime = datetime.now().strftime(\"%Y-%m-%d_%H-%M-%S\")\n",
    "excel_file_name = f'./excel/liputan6_{current_datetime}.xlsx'\n",
    "df.to_excel(excel_file_name, index=False)\n",
    "\n",
    "print(f'Data has been saved to {excel_file_name}')"
   ]
  }
 ],
 "metadata": {
  "kernelspec": {
   "display_name": "base",
   "language": "python",
   "name": "python3"
  },
  "language_info": {
   "codemirror_mode": {
    "name": "ipython",
    "version": 3
   },
   "file_extension": ".py",
   "mimetype": "text/x-python",
   "name": "python",
   "nbconvert_exporter": "python",
   "pygments_lexer": "ipython3",
   "version": "3.11.4"
  },
  "orig_nbformat": 4
 },
 "nbformat": 4,
 "nbformat_minor": 2
}
