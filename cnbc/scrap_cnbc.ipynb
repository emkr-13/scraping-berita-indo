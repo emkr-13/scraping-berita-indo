{
 "cells": [
  {
   "cell_type": "code",
   "execution_count": 8,
   "metadata": {},
   "outputs": [],
   "source": [
    "from bs4 import BeautifulSoup\n",
    "import requests\n",
    "import pandas as pd\n",
    "from datetime import datetime"
   ]
  },
  {
   "cell_type": "code",
   "execution_count": 9,
   "metadata": {},
   "outputs": [
    {
     "data": {
      "text/plain": [
       "<Response [200]>"
      ]
     },
     "execution_count": 9,
     "metadata": {},
     "output_type": "execute_result"
    }
   ],
   "source": [
    "url = \"https://www.cnbcindonesia.com/indeks\"\n",
    "response = requests.get(url)\n",
    "response"
   ]
  },
  {
   "cell_type": "code",
   "execution_count": 10,
   "metadata": {},
   "outputs": [
    {
     "name": "stdout",
     "output_type": "stream",
     "text": [
      "['https://www.cnbcindonesia.com/news/20230924184706-4-475109/kota-hantu-china-bikin-pening-ada-72-juta-rumah-tak-laku', 'https://www.cnbcindonesia.com/research/20230924170221-128-475085/pak-jokowi-pasti-lega-akhirnya-ri-dapat-kabar-baik', 'https://www.cnbcindonesia.com/news/20230924172929-4-475090/tiba-tiba-filipina-mengutuk-kelakuan-china-ada-apa', 'https://www.cnbcindonesia.com/lifestyle/20230924135844-36-475069/daftar-kekayaan-5-pemilik-klub-inggris-siapa-paling-tajir', 'https://www.cnbcindonesia.com/tech/20230924140836-37-475070/joe-biden-bayar-rp598t-matikan-chip-china-ini-alasannya', 'https://www.cnbcindonesia.com/entrepreneur/20230924164618-25-475084/bocah-ini-punya-harta-rp75-miliar-berkat-sengatan-tawon', 'https://www.cnbcindonesia.com/news/20230924182853-4-475108/tegang-sama-korut-korsel-siapkan-parade-militer-gede-gedean', 'https://www.cnbcindonesia.com/tech/20230924163925-37-475083/bahaya-mikroplastik-masuk-jantung-dan-otak-lewat-air-minum', 'https://www.cnbcindonesia.com/news/20230924161355-4-475081/jreng-tokoh-nu-ini-disebut-bakal-ketuai-timses-prabowo', 'https://www.cnbcindonesia.com/entrepreneur/20230924194914-25-475111/transaksi-bazar-umkm-pln-bersama-bumn-tembus-rp-23-m', 'https://www.cnbcindonesia.com/research/20230924153926-128-475077/bikin-sport-jantung-harga-minyak-dari-rekor-mendadak-longsor', 'https://www.cnbcindonesia.com/news/20230924192612-4-475110/wali-kota-medan-ajak-muhammadiyah-dukung-pesta-demokrasi']\n"
     ]
    }
   ],
   "source": [
    "links=[]\n",
    "# jumlah Page yang diambil \n",
    "jumlah_index = 1\n",
    "\n",
    "for index in range(jumlah_index):\n",
    "    url = f\"https://www.cnbcindonesia.com/indeks/{index+1}\"  \n",
    "    response = requests.get(url)\n",
    "    soup = BeautifulSoup(response.text, \"html.parser\")\n",
    "    articles = soup.find_all('article')\n",
    "    \n",
    "    for article in articles:\n",
    "        link = article.find('a')['href']\n",
    "        links.append(link)\n",
    "    \n",
    "print(links)"
   ]
  },
  {
   "cell_type": "code",
   "execution_count": 11,
   "metadata": {},
   "outputs": [],
   "source": [
    "title = []\n",
    "author = []\n",
    "date = []\n",
    "content = []\n",
    "\n",
    "for link in links:\n",
    "    url = link\n",
    "    response = requests.get(url)\n",
    "    soup = BeautifulSoup(response.text, \"html.parser\")\n",
    "    \n",
    "    # cek = soup.find('h1', {\"class\": \"jdl\"})\n",
    "    title_elem = soup.find('h1')\n",
    "    if title_elem:\n",
    "        title_text = title_elem.text.strip()\n",
    "    else:\n",
    "        title_text = \"Title not found\"\n",
    "    title.append(title_text)\n",
    "    \n",
    "\n",
    "    author_elem = soup.find('div', {\"class\": \"author\"})\n",
    "    if author_elem:\n",
    "        author_text = author_elem.text.strip()\n",
    "    else:\n",
    "        author_text = \"Author not found\"\n",
    "    author.append(author_text)\n",
    "    \n",
    "\n",
    "    date_elem = soup.find('div', {\"class\": \"date\"})\n",
    "    if date_elem:\n",
    "        date_text = date_elem.text.strip()\n",
    "    else:\n",
    "        date_text = \"Date not found\"\n",
    "    date.append(date_text)\n",
    "    \n",
    "    body_elem = soup.find('div', {\"class\": \"detail_text\"})\n",
    "    \n",
    "    if body_elem:\n",
    "        content_elem = body_elem.find_all('p')\n",
    "        content_text = \"\"\n",
    "        for p in content_elem:\n",
    "            content_text += p.text.strip() + \"\\n\"\n",
    "        \n",
    "        if content_text.strip():\n",
    "            content.append(content_text)\n",
    "        else:\n",
    "            content.append(\"Content not found\")\n",
    "    else:\n",
    "        content.append(\"Content not found\")\n",
    "    \n",
    "    "
   ]
  },
  {
   "cell_type": "code",
   "execution_count": 12,
   "metadata": {},
   "outputs": [
    {
     "data": {
      "text/html": [
       "<div>\n",
       "<style scoped>\n",
       "    .dataframe tbody tr th:only-of-type {\n",
       "        vertical-align: middle;\n",
       "    }\n",
       "\n",
       "    .dataframe tbody tr th {\n",
       "        vertical-align: top;\n",
       "    }\n",
       "\n",
       "    .dataframe thead th {\n",
       "        text-align: right;\n",
       "    }\n",
       "</style>\n",
       "<table border=\"1\" class=\"dataframe\">\n",
       "  <thead>\n",
       "    <tr style=\"text-align: right;\">\n",
       "      <th></th>\n",
       "      <th>title</th>\n",
       "      <th>author</th>\n",
       "      <th>date</th>\n",
       "      <th>content</th>\n",
       "      <th>link</th>\n",
       "    </tr>\n",
       "  </thead>\n",
       "  <tbody>\n",
       "    <tr>\n",
       "      <th>0</th>\n",
       "      <td>'Kota Hantu' China Bikin Pening, Ada 7,2 Juta ...</td>\n",
       "      <td>News - Tommy Sorongan, CNBC Indonesia</td>\n",
       "      <td>24 September 2023 22:00</td>\n",
       "      <td>Jakarta, CNBC Indonesia - Sejumlah proyek prop...</td>\n",
       "      <td>https://www.cnbcindonesia.com/news/20230924184...</td>\n",
       "    </tr>\n",
       "    <tr>\n",
       "      <th>1</th>\n",
       "      <td>Pak Jokowi Pasti Lega, Akhirnya RI Dapat Kabar...</td>\n",
       "      <td>Research - Tim Riset, CNBC Indonesia</td>\n",
       "      <td>24 September 2023 21:45</td>\n",
       "      <td>Jakarta, CNBC Indonesia - Ada kabar baik untuk...</td>\n",
       "      <td>https://www.cnbcindonesia.com/research/2023092...</td>\n",
       "    </tr>\n",
       "    <tr>\n",
       "      <th>2</th>\n",
       "      <td>Tiba-tiba Filipina Mengutuk Kelakuan China, Ad...</td>\n",
       "      <td>News - Martya Rizky, CNBC Indonesia</td>\n",
       "      <td>24 September 2023 21:30</td>\n",
       "      <td>Jakarta, CNBC Indonesia - Filipina menuduh pen...</td>\n",
       "      <td>https://www.cnbcindonesia.com/news/20230924172...</td>\n",
       "    </tr>\n",
       "    <tr>\n",
       "      <th>3</th>\n",
       "      <td>Daftar Kekayaan 5 Pemilik Klub Inggris, Siapa ...</td>\n",
       "      <td>Lifestyle - Ilham Restu, CNBC Indonesia</td>\n",
       "      <td>24 September 2023 21:15</td>\n",
       "      <td>Jakarta, CNBC Indonesia - Selain olahraga, sep...</td>\n",
       "      <td>https://www.cnbcindonesia.com/lifestyle/202309...</td>\n",
       "    </tr>\n",
       "    <tr>\n",
       "      <th>4</th>\n",
       "      <td>Joe Biden Bayar Rp598T Matikan Chip China, Ini...</td>\n",
       "      <td>Tech - Arrijal Rachman, CNBC Indonesia</td>\n",
       "      <td>24 September 2023 21:00</td>\n",
       "      <td>Jakarta, CNBC Indonesia - Pemerintah Amerika S...</td>\n",
       "      <td>https://www.cnbcindonesia.com/tech/20230924140...</td>\n",
       "    </tr>\n",
       "  </tbody>\n",
       "</table>\n",
       "</div>"
      ],
      "text/plain": [
       "                                               title  \\\n",
       "0  'Kota Hantu' China Bikin Pening, Ada 7,2 Juta ...   \n",
       "1  Pak Jokowi Pasti Lega, Akhirnya RI Dapat Kabar...   \n",
       "2  Tiba-tiba Filipina Mengutuk Kelakuan China, Ad...   \n",
       "3  Daftar Kekayaan 5 Pemilik Klub Inggris, Siapa ...   \n",
       "4  Joe Biden Bayar Rp598T Matikan Chip China, Ini...   \n",
       "\n",
       "                                    author                     date  \\\n",
       "0    News - Tommy Sorongan, CNBC Indonesia  24 September 2023 22:00   \n",
       "1     Research - Tim Riset, CNBC Indonesia  24 September 2023 21:45   \n",
       "2      News - Martya Rizky, CNBC Indonesia  24 September 2023 21:30   \n",
       "3  Lifestyle - Ilham Restu, CNBC Indonesia  24 September 2023 21:15   \n",
       "4   Tech - Arrijal Rachman, CNBC Indonesia  24 September 2023 21:00   \n",
       "\n",
       "                                             content  \\\n",
       "0  Jakarta, CNBC Indonesia - Sejumlah proyek prop...   \n",
       "1  Jakarta, CNBC Indonesia - Ada kabar baik untuk...   \n",
       "2  Jakarta, CNBC Indonesia - Filipina menuduh pen...   \n",
       "3  Jakarta, CNBC Indonesia - Selain olahraga, sep...   \n",
       "4  Jakarta, CNBC Indonesia - Pemerintah Amerika S...   \n",
       "\n",
       "                                                link  \n",
       "0  https://www.cnbcindonesia.com/news/20230924184...  \n",
       "1  https://www.cnbcindonesia.com/research/2023092...  \n",
       "2  https://www.cnbcindonesia.com/news/20230924172...  \n",
       "3  https://www.cnbcindonesia.com/lifestyle/202309...  \n",
       "4  https://www.cnbcindonesia.com/tech/20230924140...  "
      ]
     },
     "execution_count": 12,
     "metadata": {},
     "output_type": "execute_result"
    }
   ],
   "source": [
    "data = {'title': title,\n",
    "        'author' : author,\n",
    "        'date': date,\n",
    "        'content' : content,\n",
    "        'link' : links\n",
    "        }\n",
    "\n",
    "df = pd.DataFrame(data)\n",
    "\n",
    "df.head()"
   ]
  },
  {
   "cell_type": "markdown",
   "metadata": {},
   "source": [
    "Save File"
   ]
  },
  {
   "cell_type": "code",
   "execution_count": 13,
   "metadata": {},
   "outputs": [
    {
     "name": "stdout",
     "output_type": "stream",
     "text": [
      "Data has been saved to ./excel/cnbc_2023-09-25_00-10-21.xlsx\n"
     ]
    }
   ],
   "source": [
    "current_datetime = datetime.now().strftime(\"%Y-%m-%d_%H-%M-%S\")\n",
    "excel_file_name = f'./excel/cnbc_{current_datetime}.xlsx'\n",
    "df.to_excel(excel_file_name, index=False)\n",
    "\n",
    "print(f'Data has been saved to {excel_file_name}')"
   ]
  }
 ],
 "metadata": {
  "kernelspec": {
   "display_name": "base",
   "language": "python",
   "name": "python3"
  },
  "language_info": {
   "codemirror_mode": {
    "name": "ipython",
    "version": 3
   },
   "file_extension": ".py",
   "mimetype": "text/x-python",
   "name": "python",
   "nbconvert_exporter": "python",
   "pygments_lexer": "ipython3",
   "version": "3.11.4"
  },
  "orig_nbformat": 4
 },
 "nbformat": 4,
 "nbformat_minor": 2
}
