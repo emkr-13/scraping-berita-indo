{
 "cells": [
  {
   "cell_type": "markdown",
   "metadata": {},
   "source": [
    "## Scraping CNN"
   ]
  },
  {
   "cell_type": "code",
   "execution_count": 1,
   "metadata": {},
   "outputs": [],
   "source": [
    "from bs4 import BeautifulSoup\n",
    "import requests\n",
    "import pandas as pd\n",
    "from datetime import datetime"
   ]
  },
  {
   "cell_type": "code",
   "execution_count": 5,
   "metadata": {},
   "outputs": [
    {
     "data": {
      "text/plain": [
       "<Response [200]>"
      ]
     },
     "execution_count": 5,
     "metadata": {},
     "output_type": "execute_result"
    }
   ],
   "source": [
    "url = \"https://www.cnnindonesia.com/indeks\"\n",
    "response = requests.get(url)\n",
    "response"
   ]
  },
  {
   "cell_type": "code",
   "execution_count": 6,
   "metadata": {},
   "outputs": [
    {
     "name": "stdout",
     "output_type": "stream",
     "text": [
      "['https://www.cnnindonesia.com/nasional/20230924202058-617-1003148/gelar-kopdarnas-besok-psi-bakal-bahas-usulan-kaesang-jadi-ketum', 'https://www.cnnindonesia.com/nasional/20230924191040-12-1003138/polisi-ungkap-sopir-truk-kecelakaan-tol-bawen-hanya-punya-sim-a', 'https://www.cnnindonesia.com/nasional/20230924190643-617-1003136/kotak-suara-pilkades-tangerang-keluar-asap-4-surat-suara-terbakar', 'https://www.cnnindonesia.com/internasional/20230924182740-134-1003133/epidemi-kasus-penembakan-massal-as-akhirnya-punya-kantor-pencegahan', 'https://www.cnnindonesia.com/internasional/20230924195022-106-1003145/filipina-tuding-tiongkok-pasang-penghalang-terapung-di-wilayah-lcs', 'https://www.cnnindonesia.com/internasional/20230924193526-127-1003142/bom-bunuh-diri-di-pos-pemeriksaan-somalia-21-orang-tewas', 'https://www.cnnindonesia.com/ekonomi/20230924122654-92-1003003/pendaftaran-naik-kereta-cepat-gratis-dibuka-lagi-ini-caranya', 'https://www.cnnindonesia.com/ekonomi/20230924103601-92-1002983/bukaka-copot-sofiah-balfas-buntut-jadi-tersangka-korupsi-tol-mbz', 'https://www.cnnindonesia.com/ekonomi/20230924101125-625-1002966/kepala-bpip-monitoring-distribusi-btu-pendidikan-pancasila-di-entikong', 'https://www.cnnindonesia.com/olahraga/20230924222415-142-1003157/klasemen-akhir-peringkat-tiga-terbaik-sepak-bola-asian-games-2023', 'https://www.cnnindonesia.com/olahraga/20230924214725-142-1003155/hasil-liga-inggris-duel-sengit-arsenal-vs-tottenham-imbang-2-2', 'https://www.cnnindonesia.com/olahraga/20230924215154-142-1003156/hasil-liga-inggris-liverpool-menang-3-1-chelsea-kalah-lagi', 'https://www.cnnindonesia.com/teknologi/20230914181748-192-999169/beda-angka-pemblokiran-judi-online-di-era-plate-mahfud-dan-budi-arie', 'https://www.cnnindonesia.com/teknologi/20230923101810-203-1002726/video-kuburan-bocah-1000-tahun-ditemukan-di-proyek-pipa-gas', 'https://www.cnnindonesia.com/teknologi/20230922125205-199-1002396/kisah-haru-buaya-selamatkan-anjing-dari-kejaran-kawanan-anjing-lain', 'https://www.cnnindonesia.com/otomotif/20230922121951-606-1002387/infografis-update-daftar-33-motor-listrik-subsidi-rp7-juta', 'https://www.cnnindonesia.com/otomotif/20230922154221-579-1002521/aturan-tak-bawa-bukti-uji-emisi-saat-perpanjang-stnk-sedang-digodok', 'https://www.cnnindonesia.com/otomotif/20230915160801-600-1000385/cara-cek-kiprok-sepeda-motor-rusak-tanpa-avometer', 'https://www.cnnindonesia.com/hiburan/20230831100613-543-992796/dramaturgi-slamet-rahardjo', 'https://www.cnnindonesia.com/hiburan/20230924205301-227-1003150/dilarang-bawakan-lagu-koes-plus-band-t-koes-buka-suara', 'https://www.cnnindonesia.com/hiburan/20230922234522-220-1002668/review-film-sleep--2023-', 'https://www.cnnindonesia.com/gaya-hidup/20230923212658-277-1002887/satu-sudut-kamar-kos-di-rumah-mertua', 'https://www.cnnindonesia.com/gaya-hidup/20230924165020-255-1003099/derita-satu-keluarga-di-cianjur-idap-parkinson-sejak-kecil', 'https://www.cnnindonesia.com/gaya-hidup/20230922101631-525-1002301/ci-n-ta-rasa-william-wongso', 'https://www.cnnindonesia.com/hiburan/20230922142242-220-1002453/song-kang-ho-bocorkan-rahasia-bolak-balik-direkrut-sutradara-cobweb', 'https://www.cnnindonesia.com/internasional/20230924225750-134-1003160/30-pria-bersenjata-dikepung-usai-satu-polisi-tewas-di-kosovo', 'https://www.cnnindonesia.com/olahraga/20230924223600-142-1003158/daftar-tim-negara-lolos-16-besar-asian-games-3-wakil-asean-melaju', 'https://www.cnnindonesia.com/olahraga/20230924222415-142-1003157/klasemen-akhir-peringkat-tiga-terbaik-sepak-bola-asian-games-2023', 'https://www.cnnindonesia.com/nasional/20230924154220-20-1003090/dlh-dki-klaim-emisi-karbon-turun-8647-ton-di-hari-ozon-sedunia', 'https://www.cnnindonesia.com/olahraga/20230924214725-142-1003155/hasil-liga-inggris-duel-sengit-arsenal-vs-tottenham-imbang-2-2', 'https://www.cnnindonesia.com/olahraga/20230924215154-142-1003156/hasil-liga-inggris-liverpool-menang-3-1-chelsea-kalah-lagi', 'https://www.cnnindonesia.com/olahraga/20230924211957-142-1003154/hasil-asian-games-dibantai-arab-saudi-vietnam-gagal-lolos-16-besar', 'https://www.cnnindonesia.com/nasional/20230924202058-617-1003148/gelar-kopdarnas-besok-psi-bakal-bahas-usulan-kaesang-jadi-ketum', 'https://www.cnnindonesia.com/hiburan/20230924205301-227-1003150/dilarang-bawakan-lagu-koes-plus-band-t-koes-buka-suara']\n"
     ]
    }
   ],
   "source": [
    "links=[]\n",
    "# jumlah Page yang diambil \n",
    "jumlah_index = 1\n",
    "\n",
    "for index in range(jumlah_index):\n",
    "    url = f\"https://www.cnnindonesia.com/indeks/2/{index+1}\"  \n",
    "    response = requests.get(url)\n",
    "    soup = BeautifulSoup(response.text, \"html.parser\")\n",
    "    articles = soup.find_all('article', {\"class\": \"flex-grow\"})\n",
    "    \n",
    "    for article in articles:\n",
    "        link = article.find('a')['href']\n",
    "        links.append(link)\n",
    "    \n",
    "print(links)"
   ]
  },
  {
   "cell_type": "code",
   "execution_count": null,
   "metadata": {},
   "outputs": [],
   "source": [
    "title = []\n",
    "author = []\n",
    "date = []\n",
    "content = []\n",
    "\n",
    "for link in links:\n",
    "    url = link\n",
    "    response = requests.get(url)\n",
    "    soup = BeautifulSoup(response.text, \"html.parser\")\n",
    "    \n",
    "    title_elem = soup.find('h1', {\"class\": \"mb-2 text-[28px] leading-9 text-cnn_black\"})\n",
    "    if title_elem:\n",
    "        title_text = title_elem.text.strip()\n",
    "    else:\n",
    "        title_text = \"Title not found\"\n",
    "    title.append(title_text)\n",
    "    \n",
    "\n",
    "    author_elem = soup.find('div', {\"class\": \"detail__author\"})\n",
    "    if author_elem:\n",
    "        author_text = author_elem.text.strip()\n",
    "    else:\n",
    "        author_text = \"Author not found\"\n",
    "    author.append(author_text)\n",
    "    \n",
    "\n",
    "    date_elem = soup.find('div', {\"class\": \"detail__date\"})\n",
    "    if date_elem:\n",
    "        date_text = date_elem.text.strip()\n",
    "    else:\n",
    "        date_text = \"Date not found\"\n",
    "    date.append(date_text)\n",
    "    \n",
    "    body_elem = soup.find('div', {\"class\": \"detail__body\"})\n",
    "    \n",
    "    if body_elem:\n",
    "        content_elem = body_elem.find_all('p')\n",
    "        content_text = \"\"\n",
    "        for p in content_elem:\n",
    "            content_text += p.text.strip() + \"\\n\"\n",
    "        \n",
    "        if content_text.strip():\n",
    "            content.append(content_text)\n",
    "        else:\n",
    "            content.append(\"Content not found\")\n",
    "    else:\n",
    "        content.append(\"Content not found\")\n",
    "    \n",
    "    "
   ]
  },
  {
   "cell_type": "code",
   "execution_count": null,
   "metadata": {},
   "outputs": [],
   "source": [
    "data = {'title': title,\n",
    "        'author' : author,\n",
    "        'date': date,\n",
    "        'content' : content,\n",
    "        'link' : links\n",
    "        }\n",
    "\n",
    "df = pd.DataFrame(data)\n",
    "\n",
    "df.head()"
   ]
  },
  {
   "cell_type": "markdown",
   "metadata": {},
   "source": [
    "Cetak dan simpan"
   ]
  },
  {
   "cell_type": "code",
   "execution_count": null,
   "metadata": {},
   "outputs": [],
   "source": [
    "current_datetime = datetime.now().strftime(\"%Y-%m-%d_%H-%M-%S\")\n",
    "excel_file_name = f'./excel/cnn_{current_datetime}.xlsx'\n",
    "df.to_excel(excel_file_name, index=False)\n",
    "\n",
    "print(f'Data has been saved to {excel_file_name}')"
   ]
  }
 ],
 "metadata": {
  "kernelspec": {
   "display_name": "base",
   "language": "python",
   "name": "python3"
  },
  "language_info": {
   "codemirror_mode": {
    "name": "ipython",
    "version": 3
   },
   "file_extension": ".py",
   "mimetype": "text/x-python",
   "name": "python",
   "nbconvert_exporter": "python",
   "pygments_lexer": "ipython3",
   "version": "3.11.4"
  },
  "orig_nbformat": 4
 },
 "nbformat": 4,
 "nbformat_minor": 2
}
